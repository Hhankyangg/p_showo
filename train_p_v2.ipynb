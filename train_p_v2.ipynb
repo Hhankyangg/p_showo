{
 "cells": [
  {
   "cell_type": "code",
   "execution_count": 1,
   "metadata": {},
   "outputs": [
    {
     "name": "stdout",
     "output_type": "stream",
     "text": [
      "True\n"
     ]
    }
   ],
   "source": [
    "import torch\n",
    "print(torch.cuda.is_available())"
   ]
  },
  {
   "cell_type": "code",
   "execution_count": 1,
   "metadata": {},
   "outputs": [
    {
     "name": "stderr",
     "output_type": "stream",
     "text": [
      "/home/hpyky/miniconda3/envs/showo/lib/python3.10/site-packages/tqdm/auto.py:21: TqdmWarning: IProgress not found. Please update jupyter and ipywidgets. See https://ipywidgets.readthedocs.io/en/stable/user_install.html\n",
      "  from .autonotebook import tqdm as notebook_tqdm\n"
     ]
    },
    {
     "name": "stdout",
     "output_type": "stream",
     "text": [
      "[2025-02-23 16:30:35,825] [INFO] [real_accelerator.py:203:get_accelerator] Setting ds_accelerator to cuda (auto detect)\n"
     ]
    },
    {
     "name": "stderr",
     "output_type": "stream",
     "text": [
      "/home/hpyky/miniconda3/envs/showo/compiler_compat/ld: cannot find -laio: No such file or directory\n",
      "collect2: error: ld returned 1 exit status\n"
     ]
    },
    {
     "name": "stdout",
     "output_type": "stream",
     "text": [
      "\u001b[93m [WARNING] \u001b[0m async_io requires the dev libaio .so object and headers but these were not found.\n",
      "\u001b[93m [WARNING] \u001b[0m async_io: please install the libaio-dev package with apt\n",
      "\u001b[93m [WARNING] \u001b[0m If libaio is already installed (perhaps from source), try setting the CFLAGS and LDFLAGS environment variables to where it can be found.\n",
      "\u001b[93m [WARNING] \u001b[0m Please specify the CUTLASS repo directory as environment variable $CUTLASS_PATH\n",
      "\u001b[93m [WARNING] \u001b[0m sparse_attn requires a torch version >= 1.5 and < 2.0 but detected 2.2\n",
      "\u001b[93m [WARNING] \u001b[0m using untested triton version (2.2.0), only 1.0.0 is known to be compatible\n"
     ]
    }
   ],
   "source": [
    "from pdata import PersonalizedMMUDataset, PersonalizedT2IDataset, get_personalized_mmu_dataloader, get_personalized_t2i_dataloader\n",
    "from lightning.pytorch.utilities import CombinedLoader\n",
    "\n",
    "import torch\n",
    "from torch.utils.data import Dataset, DataLoader\n",
    "import torch.nn.functional as F\n",
    "import torch.nn as nn\n",
    "import numpy as np\n",
    "from tqdm import tqdm\n",
    "from PIL import Image\n",
    "\n",
    "from models import Showo, MAGVITv2, get_mask_chedule\n",
    "from training.prompting_utils import UniversalPrompting, create_attention_mask_predict_next, create_attention_mask_for_mmu\n",
    "from training.utils import get_config, flatten_omega_conf, mask_or_random_replace_tokens, AverageMeter\n",
    "from transformers import AutoTokenizer\n",
    "from models.clip_encoder import CLIPVisionTower\n",
    "from transformers import CLIPImageProcessor\n",
    "from llava.llava import conversation as conversation_lib\n",
    "\n",
    "conversation_lib.default_conversation = conversation_lib.conv_templates[\"phi1.5\"]\n",
    "\n",
    "import os\n",
    "from omegaconf import DictConfig, ListConfig, OmegaConf\n",
    "config = OmegaConf.load('configs/showo_demo.yaml')\n",
    "# device setup\n",
    "device = torch.device(\"cuda:7\")"
   ]
  },
  {
   "cell_type": "code",
   "execution_count": 3,
   "metadata": {},
   "outputs": [
    {
     "name": "stdout",
     "output_type": "stream",
     "text": [
      "Working with z of shape (1, 13, 16, 16) = 3328 dimensions.\n",
      "Look-up free quantizer with codebook size: 8192\n"
     ]
    },
    {
     "name": "stderr",
     "output_type": "stream",
     "text": [
      "The config attributes {'mask_token_id': 58497} were passed to Showo, but are not expected and will be ignored. Please verify your config.json configuration file.\n"
     ]
    },
    {
     "name": "stdout",
     "output_type": "stream",
     "text": [
      "attention implementation:  sdpa\n"
     ]
    },
    {
     "name": "stderr",
     "output_type": "stream",
     "text": [
      "/home/hpyky/Show-o/models/modeling_showo.py:49: FutureWarning: Accessing config attribute `w_clip_vit` directly via 'Showo' object attribute is deprecated. Please access 'w_clip_vit' over 'Showo's config object instead, e.g. 'unet.config.w_clip_vit'.\n",
      "  if self.w_clip_vit:\n"
     ]
    }
   ],
   "source": [
    "# show o tokenizer setup and adding special tokens to universal prompting\n",
    "# llm model : 'microsoft/phi-1_5'\n",
    "tokenizer = AutoTokenizer.from_pretrained(config.model.showo.llm_model_path, padding_side =\"left\")\n",
    "uni_prompting = UniversalPrompting(tokenizer, max_text_len=config.dataset.preprocessing.max_seq_length,\n",
    "                                       special_tokens=(\"<|soi|>\", \"<|eoi|>\", \"<|sov|>\", \"<|eov|>\", \"<|t2i|>\", \"<|mmu|>\", \"<|t2v|>\", \"<|v2v|>\", \"<|lvg|>\"),\n",
    "                                       ignore_id=-100, cond_dropout_prob=config.training.cond_dropout_prob)\n",
    "\n",
    "# setting up the magvit-v2, for t2i\n",
    "vq_model = MAGVITv2.from_pretrained(config.model.vq_model.vq_model_name).to(device)\n",
    "# vq_model.requires_grad_(False)\n",
    "# vq_model.eval()\n",
    "\n",
    "# setting up vision tower: clip-vit only for mmu\n",
    "# vision_tower_name =config.clip_path\n",
    "# vision_tower = CLIPVisionTower(vision_tower_name).to(device)\n",
    "# clip_image_processor = CLIPImageProcessor.from_pretrained(vision_tower_name)\n",
    "\n",
    "# setting up the showo model \n",
    "model = Showo.from_pretrained(config.model.showo.pretrained_model_path).to(device)\n",
    "# model.eval()\n",
    "\n",
    "# setting up the parameters\n",
    "temperature = 1  # 1.0 = no change, < 1.0 = less random, > 1.0 = more random, in predictions\n",
    "top_k = 1  # retain only the top_k most likely tokens, clamp others to have 0 probability\n",
    "# LLAVA_SYSTEM_PROMPT = \"A chat between a curious user and an artificial intelligence assistant. \" \\\n",
    "#                 \"The assistant gives helpful, detailed, and polite answers to the user's questions.\"\n",
    "# LLAVA_SYSTEM_PROMPT_LEN = 28"
   ]
  },
  {
   "cell_type": "code",
   "execution_count": 4,
   "metadata": {},
   "outputs": [
    {
     "data": {
      "text/plain": [
       "torch.Size([58498])"
      ]
     },
     "execution_count": 4,
     "metadata": {},
     "output_type": "execute_result"
    }
   ],
   "source": [
    "# print(model.showo.get_input_embeddings())\n",
    "model.showo.get_input_embeddings().num_embeddings\n",
    "model.showo.get_input_embeddings().num_embeddings - len(tokenizer)\n",
    "model.showo.get_input_embeddings().weight.data.shape\n",
    "model.showo.lm_head.weight.shape\n",
    "model.showo.lm_head.bias.shape"
   ]
  },
  {
   "cell_type": "code",
   "execution_count": 5,
   "metadata": {},
   "outputs": [],
   "source": [
    "data_root = \"/home/hpyky/full_mcdata\"\n",
    "concept = \"dunpai\""
   ]
  },
  {
   "cell_type": "code",
   "execution_count": 6,
   "metadata": {},
   "outputs": [
    {
     "name": "stdout",
     "output_type": "stream",
     "text": [
      "新 token ID: [50305, 50306, 50307, 50308, 50309, 50310, 50311, 50312, 50313, 50314, 50315, 50316, 50317, 50318, 50319, 50320, 50321]\n",
      "新增文本 token ID: [50305, 50306, 50307, 50308, 50309, 50310, 50311, 50312, 50313, 50314, 50315, 50316, 50317, 50318, 50319, 50320, 50321]\n",
      "Concept Token '<dunpai>' 的新 ID: 50305\n",
      "嵌入层大小: torch.Size([58515, 2048])\n",
      "index_no_updates 中 False 的位置: tensor([50305, 50306, 50307, 50308, 50309, 50310, 50311, 50312, 50313, 50314,\n",
      "        50315, 50316, 50317, 50318, 50319, 50320, 50321])\n",
      "index_no_updates 中 True 的数量: tensor(58498)\n"
     ]
    }
   ],
   "source": [
    "nums_new_token_i = 16\n",
    "\n",
    "#################################\n",
    "new_tokens = [f\"<{concept}>\"] + [f\"<token_{i}>\" for i in range(nums_new_token_i)]\n",
    "num_new_tokens = len(new_tokens)  # 17\n",
    "\n",
    "# 已知的原始参数\n",
    "# 文本 token 数量（ID 0-50304）\n",
    "original_text_vocab_size = len(tokenizer)  \n",
    "# Image token 数量（原 ID 50305-58497）\n",
    "original_image_vocab_size = model.showo.get_input_embeddings().num_embeddings - len(tokenizer)\n",
    "\n",
    "original_total_vocab = original_text_vocab_size + original_image_vocab_size  # 58498\n",
    "\n",
    "# 新的参数\n",
    "new_text_vocab_size = original_text_vocab_size + num_new_tokens  # 50305 + 17 = 50322\n",
    "new_total_vocab = original_total_vocab + num_new_tokens          # 58498 + 17 = 58515\n",
    "\n",
    "# ------------------------------\n",
    "# Step 1: 修改 Tokenizer 的词汇表\n",
    "# ------------------------------\n",
    "\n",
    "# 添加新 token 到 50305-50321 的位置\n",
    "num_new_tokens = tokenizer.add_tokens(new_tokens)\n",
    "new_token_ids = tokenizer.convert_tokens_to_ids(new_tokens)\n",
    "print(\"新 token ID:\", new_token_ids)  # 应输出 50305-50321\n",
    "\n",
    "# ------------------------------\n",
    "# Step 2: 调整模型的权重\n",
    "# ------------------------------\n",
    "with torch.no_grad():\n",
    "    # 获取嵌入层权重\n",
    "    embeddings = model.showo.get_input_embeddings().weight.data\n",
    "    \n",
    "    # 扩展嵌入层（58498 -> 58515）\n",
    "    model.showo.resize_token_embeddings(new_total_vocab)\n",
    "    # new_embeddings = model.showo.get_input_embeddings().weight.data\n",
    "\n",
    "    # 将原 Image Token 权重后移 17 位\n",
    "    original_image_weights = embeddings[original_text_vocab_size:original_total_vocab].clone()\n",
    "    model.showo.get_input_embeddings().weight.data[new_text_vocab_size:new_total_vocab] = original_image_weights\n",
    "    \n",
    "    # 初始化新 token 的权重（用原文本最后 17 个 token）\n",
    "    # new_text_weights = embeddings[original_text_vocab_size - num_new_tokens : original_text_vocab_size].clone()\n",
    "    # model.showo.get_input_embeddings().weight.data[original_text_vocab_size : new_text_vocab_size] = new_text_weights\n",
    "    # print(model.showo.lm_head.weight.data.shape[1])\n",
    "    # 处理 lm_head（假设与嵌入层共享权重）\n",
    "    if model.showo.lm_head.weight.data.shape[0] == new_total_vocab:\n",
    "        # 扩展 lm_head 权重\n",
    "        lm_head = model.showo.lm_head\n",
    "        new_lm_head = torch.nn.Linear(\n",
    "            lm_head.in_features, \n",
    "            new_total_vocab, \n",
    "            bias=hasattr(lm_head, 'bias')\n",
    "        )\n",
    "        new_lm_head.weight.data = lm_head.weight.data.clone()\n",
    "        new_lm_head.weight.data[new_text_vocab_size:new_total_vocab] = lm_head.weight.data[original_text_vocab_size:original_total_vocab]\n",
    "        # new_lm_head.weight.data[original_text_vocab_size:new_text_vocab_size] = lm_head.weight.data[original_text_vocab_size - num_new_tokens : original_text_vocab_size]\n",
    "        if hasattr(lm_head, 'bias'):\n",
    "            new_lm_head.bias.data = lm_head.bias.data.clone()\n",
    "            new_lm_head.bias.data[new_text_vocab_size:new_total_vocab] = lm_head.bias.data[original_text_vocab_size:original_total_vocab]\n",
    "            # new_lm_head.bias.data[original_text_vocab_size:new_text_vocab_size] = lm_head.bias.data[original_text_vocab_size - num_new_tokens : original_text_vocab_size]\n",
    "        \n",
    "        model.showo.lm_head = new_lm_head\n",
    "    else:\n",
    "        raise ValueError(\"lm_head weights do not match the input embeddings!\")\n",
    "\n",
    "index_no_updates = torch.ones((new_total_vocab,), dtype=torch.bool)\n",
    "index_no_updates[new_token_ids] = False\n",
    "# ------------------------------\n",
    "# 验证\n",
    "# ------------------------------\n",
    "# 检查新 token 的 ID\n",
    "print(\"新增文本 token ID:\", [tokenizer.convert_tokens_to_ids(t) for t in new_tokens])  # 应输出 50305-50321\n",
    "\n",
    "# 检查一个原 Image Token 的新 ID\n",
    "sample_image_token = tokenizer.convert_ids_to_tokens(original_text_vocab_size)  # 原 ID 50305\n",
    "print(f\"Concept Token '{sample_image_token}' 的新 ID:\", tokenizer.convert_tokens_to_ids(sample_image_token))  # 应输出 50322\n",
    "\n",
    "# 检查嵌入层形状\n",
    "print(\"嵌入层大小:\", model.showo.get_input_embeddings().weight.shape)  # 应显示 torch.Size([58515, 2048])\n",
    "\n",
    "# 检查 index_no_updates 中 True 的位置和数量，True 应该是 new token ids\n",
    "print(\"index_no_updates 中 False 的位置:\", torch.nonzero(~index_no_updates).squeeze())  # 应输出 50305-50321\n",
    "print(\"index_no_updates 中 True 的数量:\", torch.sum(index_no_updates))  # 应输出 58498\n",
    "\n",
    "with torch.no_grad():\n",
    "    orig_embeds = model.showo.get_input_embeddings().weight.data.clone()\n",
    "    orig_lm_head_weight = model.showo.lm_head.weight.data.clone()\n",
    "    orig_lm_head_bias = model.showo.lm_head.bias.data.clone()"
   ]
  },
  {
   "cell_type": "code",
   "execution_count": 7,
   "metadata": {},
   "outputs": [],
   "source": [
    "concept_embeds = model.showo.get_input_embeddings().weight.data[new_token_ids]\n",
    "concept_lm_nead_wight = model.showo.lm_head.weight.data[new_token_ids]\n",
    "concept_lm_nead_bias = model.showo.lm_head.bias.data[new_token_ids]"
   ]
  },
  {
   "cell_type": "code",
   "execution_count": 8,
   "metadata": {},
   "outputs": [
    {
     "data": {
      "text/plain": [
       "(torch.Size([17, 2048]), torch.Size([17, 2048]), torch.Size([17]))"
      ]
     },
     "execution_count": 8,
     "metadata": {},
     "output_type": "execute_result"
    }
   ],
   "source": [
    "concept_embeds.shape, concept_lm_nead_wight.shape, concept_lm_nead_bias.shape"
   ]
  },
  {
   "cell_type": "code",
   "execution_count": 9,
   "metadata": {},
   "outputs": [
    {
     "data": {
      "text/plain": [
       "{'<|soi|>': tensor([50296]),\n",
       " '<|eoi|>': tensor([50297]),\n",
       " '<|sov|>': tensor([50298]),\n",
       " '<|eov|>': tensor([50299]),\n",
       " '<|t2i|>': tensor([50300]),\n",
       " '<|mmu|>': tensor([50301]),\n",
       " '<|t2v|>': tensor([50302]),\n",
       " '<|v2v|>': tensor([50303]),\n",
       " '<|lvg|>': tensor([50304]),\n",
       " '<|sot|>': tensor([50256]),\n",
       " '<|eot|>': tensor([50256]),\n",
       " '<|pad|>': tensor([50295])}"
      ]
     },
     "execution_count": 9,
     "metadata": {},
     "output_type": "execute_result"
    }
   ],
   "source": [
    "uni_prompting.sptids_dict"
   ]
  },
  {
   "cell_type": "code",
   "execution_count": 10,
   "metadata": {},
   "outputs": [
    {
     "name": "stdout",
     "output_type": "stream",
     "text": [
      "showo.model.embed_tokens.weight requires_grad\n",
      "showo.lm_head.weight requires_grad\n",
      "showo.lm_head.bias requires_grad\n"
     ]
    }
   ],
   "source": [
    "vq_model.requires_grad_ = False\n",
    "vq_model.eval()\n",
    "model.train()\n",
    "for names, p in model.named_parameters():\n",
    "    if \"embed_tokens\" not in names and \"lm_head\" not in names:\n",
    "        p.requires_grad = False\n",
    "    else:\n",
    "        p.requires_grad = True\n",
    "\n",
    "trainable_params = [model.showo.get_input_embeddings().weight, model.showo.lm_head.weight, model.showo.lm_head.bias]\n",
    "optimizer = torch.optim.AdamW(\n",
    "            trainable_params, # for optimize the embeddings and the head\n",
    "            lr=1e-2,\n",
    "            betas=(0.9, 0.999),\n",
    "            weight_decay=1e-2,\n",
    "            eps=1e-08,\n",
    "        )\n",
    "for names, p in model.named_parameters():\n",
    "    if p.requires_grad:\n",
    "        print(f\"{names} requires_grad\") # embed_token, lm_head会更新"
   ]
  },
  {
   "cell_type": "code",
   "execution_count": 11,
   "metadata": {},
   "outputs": [],
   "source": [
    "model.config.mask_token_id = model.showo.get_input_embeddings().num_embeddings - 1\n",
    "model.mask_token_id = model.showo.get_input_embeddings().num_embeddings - 1"
   ]
  },
  {
   "cell_type": "code",
   "execution_count": 12,
   "metadata": {},
   "outputs": [],
   "source": [
    "mask_schedule = get_mask_chedule(config.training.get(\"mask_schedule\", \"cosine\"))\n",
    "mask_id = model.mask_token_id\n",
    "mask_dtype = model.showo.model.embed_tokens.weight.dtype"
   ]
  },
  {
   "cell_type": "code",
   "execution_count": 13,
   "metadata": {},
   "outputs": [
    {
     "name": "stdout",
     "output_type": "stream",
     "text": [
      "Formatting llava instruction data\n"
     ]
    }
   ],
   "source": [
    "\n",
    "# t2i_dataset = PersonalizedT2IDataset(data_root, concept)\n",
    "# t2i_dataloader = DataLoader(t2i_dataset, batch_size=5, shuffle=True, num_workers=10, pin_memory=True)\n",
    "\n",
    "mmu_dataloader = get_personalized_mmu_dataloader(data_root, concept, tokenizer, batch_size=5, num_workers=0, max_length=128)\n",
    "t2i_dataloader = get_personalized_t2i_dataloader(data_root, concept, tokenizer, batch_size=2, num_workers=0, max_length=128)\n",
    "\n",
    "\n",
    "iterables = {\n",
    "    'mmu_flow': mmu_dataloader,\n",
    "    't2i_flow': t2i_dataloader\n",
    "}\n",
    "\n",
    "\n",
    "combined_dataloader = CombinedLoader(iterables, mode=\"max_size_cycle\")\n",
    "\n",
    "# Before adding the new tokens, the vocab size is 58498\n",
    "# vocab size = 58498 = 50295  llm vocabsize\n",
    "#                    + 10     <|soi|> <|eoi|> <|sov|> <|eov|> <|t2i|> <|mmu|> <|t2v|> <|v2v|> <|lvg|> <|pad|>\n",
    "#                    + 8192   vq model codebook size\n",
    "#                    + 1      mask token (token id == 58497)\n",
    "from typing import Union\n",
    "\n",
    "\n",
    "uni_prompting.sptids_dict\n",
    "# {'<|soi|>': tensor([50296]),\n",
    "#  '<|eoi|>': tensor([50297]),\n",
    "#  '<|sov|>': tensor([50298]),\n",
    "#  '<|eov|>': tensor([50299]),\n",
    "#  '<|t2i|>': tensor([50300]),\n",
    "#  '<|mmu|>': tensor([50301]),\n",
    "#  '<|t2v|>': tensor([50302]),\n",
    "#  '<|v2v|>': tensor([50303]),\n",
    "#  '<|lvg|>': tensor([50304]),\n",
    "#  '<|sot|>': tensor([50256]),\n",
    "#  '<|eot|>': tensor([50256]),\n",
    "#  '<|pad|>': tensor([50295])}\n",
    "\n",
    "# uni_prompting.text_tokenizer == tokenizer\n",
    "def prepare_inputs_and_labels(\n",
    "        pixel_values_or_image_ids: Union[torch.FloatTensor, torch.LongTensor],\n",
    "        texts: Union[str, str],\n",
    "        min_masking_rate: float = 0.0,\n",
    "        is_train: bool = True,\n",
    "):\n",
    "\n",
    "    image_tokens = vq_model.get_code(pixel_values_or_image_ids)\n",
    "    image_tokens = image_tokens + len(uni_prompting.text_tokenizer)\n",
    "\n",
    "    # create MLM mask and labels\n",
    "    input_ids, labels, loss_weight, mask_prob = mask_or_random_replace_tokens(\n",
    "        image_tokens,\n",
    "        mask_id,\n",
    "        config,\n",
    "        mask_schedule=mask_schedule,\n",
    "        is_train=is_train,\n",
    "    )\n",
    "    input_ids, masks, labels = uni_prompting((texts, input_ids, labels), 't2i')\n",
    "\n",
    "    return input_ids, labels, mask_prob, image_tokens"
   ]
  },
  {
   "cell_type": "code",
   "execution_count": 27,
   "metadata": {},
   "outputs": [],
   "source": [
    "list_combined_dataloader = list(combined_dataloader)\n",
    "# one_batch_mmu = list_combined_dataloader[0][0]['mmu_flow']\n",
    "one_batch_t2i = list_combined_dataloader[0][0]['t2i_flow']\n",
    "\n",
    "# one_batch_mmu = next(iter(mmu_dataloader))"
   ]
  },
  {
   "cell_type": "code",
   "execution_count": 30,
   "metadata": {},
   "outputs": [
    {
     "data": {
      "text/plain": [
       "{'conditions': ['<dunpai> is <token_0><token_1><token_2><token_3><token_4><token_5><token_6><token_7><token_8><token_9><token_10><token_11><token_12><token_13><token_14><token_15>.\\nA photo of <dunpai>.',\n",
       "  '<dunpai> is <token_0><token_1><token_2><token_3><token_4><token_5><token_6><token_7><token_8><token_9><token_10><token_11><token_12><token_13><token_14><token_15>.\\nA photo of <dunpai>.'],\n",
       " 'images': tensor([[[[-0.9922, -0.9922, -0.9922,  ..., -0.4039, -0.3255, -0.3725],\n",
       "           [-0.9922, -0.9922, -0.9922,  ..., -0.3961, -0.3333, -0.3647],\n",
       "           [-0.9922, -0.9922, -0.9922,  ..., -0.3725, -0.3725, -0.3647],\n",
       "           ...,\n",
       "           [ 0.0118,  0.0039,  0.0196,  ...,  0.0510,  0.0510,  0.0431],\n",
       "           [-0.0353, -0.0118,  0.0196,  ...,  0.0510,  0.0510,  0.0431],\n",
       "           [-0.1686, -0.1059, -0.0510,  ...,  0.0510,  0.0510,  0.0431]],\n",
       " \n",
       "          [[-0.9922, -0.9922, -0.9922,  ..., -0.5608, -0.4510, -0.5373],\n",
       "           [-0.9922, -0.9922, -0.9922,  ..., -0.5529, -0.4510, -0.5373],\n",
       "           [-0.9922, -0.9922, -0.9922,  ..., -0.5373, -0.4980, -0.5686],\n",
       "           ...,\n",
       "           [-0.1373, -0.1451, -0.1529,  ..., -0.0980, -0.0980, -0.1059],\n",
       "           [-0.2000, -0.1608, -0.1529,  ..., -0.0980, -0.0980, -0.1059],\n",
       "           [-0.3333, -0.2627, -0.2235,  ..., -0.0980, -0.0980, -0.1059]],\n",
       " \n",
       "          [[-0.9922, -0.9922, -0.9922,  ..., -0.7804, -0.5686, -0.6863],\n",
       "           [-0.9922, -0.9922, -0.9922,  ..., -0.7647, -0.5765, -0.6863],\n",
       "           [-0.9922, -0.9922, -0.9922,  ..., -0.7333, -0.6314, -0.7098],\n",
       "           ...,\n",
       "           [-0.3255, -0.3255, -0.3255,  ..., -0.2784, -0.2784, -0.2863],\n",
       "           [-0.3804, -0.3412, -0.3255,  ..., -0.2784, -0.2784, -0.2863],\n",
       "           [-0.5137, -0.4588, -0.4118,  ..., -0.2784, -0.2784, -0.2863]]],\n",
       " \n",
       " \n",
       "         [[[-0.9843, -0.9843, -0.9843,  ...,  0.0118, -0.0667,  0.0118],\n",
       "           [-0.9765, -0.9843, -0.9843,  ..., -1.0000, -1.0000, -1.0000],\n",
       "           [-0.9843, -0.9843, -0.9843,  ..., -1.0000, -1.0000, -1.0000],\n",
       "           ...,\n",
       "           [-0.9765, -0.9608, -0.9608,  ..., -1.0000, -1.0000, -1.0000],\n",
       "           [-0.9765, -0.9765, -0.9765,  ...,  0.0745,  0.0588,  0.0745],\n",
       "           [-0.9451, -0.9294, -0.9294,  ...,  0.3412,  0.3333,  0.4588]],\n",
       " \n",
       "          [[-0.9843, -0.9843, -0.9843,  ...,  0.0824, -0.0118,  0.0667],\n",
       "           [-0.9765, -0.9843, -0.9843,  ..., -1.0000, -1.0000, -1.0000],\n",
       "           [-0.9765, -0.9765, -0.9765,  ..., -1.0000, -1.0000, -1.0000],\n",
       "           ...,\n",
       "           [-0.9529, -0.9373, -0.9294,  ..., -1.0000, -1.0000, -1.0000],\n",
       "           [-0.9451, -0.9451, -0.9451,  ...,  0.1765,  0.1529,  0.1686],\n",
       "           [-0.9137, -0.8980, -0.8980,  ...,  0.5451,  0.5137,  0.6392]],\n",
       " \n",
       "          [[-0.9765, -0.9765, -0.9765,  ...,  0.1843,  0.0980,  0.1765],\n",
       "           [-0.9608, -0.9686, -0.9686,  ..., -1.0000, -1.0000, -1.0000],\n",
       "           [-0.9608, -0.9608, -0.9529,  ..., -1.0000, -1.0000, -1.0000],\n",
       "           ...,\n",
       "           [-0.8824, -0.8667, -0.8431,  ..., -1.0000, -1.0000, -1.0000],\n",
       "           [-0.8902, -0.8824, -0.8588,  ...,  0.2863,  0.2627,  0.2706],\n",
       "           [-0.8275, -0.8118, -0.8118,  ...,  0.7333,  0.6941,  0.8275]]]])}"
      ]
     },
     "execution_count": 30,
     "metadata": {},
     "output_type": "execute_result"
    }
   ],
   "source": [
    "one_batch_t2i"
   ]
  },
  {
   "cell_type": "code",
   "execution_count": 28,
   "metadata": {},
   "outputs": [],
   "source": [
    "pixel_values = one_batch_t2i['images'].to(device)\n",
    "texts = one_batch_t2i['conditions']\n",
    "input_ids, labels, mask_prob, image_tokens_ori = prepare_inputs_and_labels(pixel_values, texts, is_train=True)"
   ]
  },
  {
   "cell_type": "code",
   "execution_count": 29,
   "metadata": {},
   "outputs": [
    {
     "data": {
      "text/plain": [
       "tensor([[50295, 50295, 50295, 50295, 50295, 50295, 50295, 50295, 50295, 50295,\n",
       "         50295, 50295, 50295, 50295, 50295, 50295, 50295, 50295, 50295, 50295,\n",
       "         50295, 50295, 50295, 50295, 50295, 50295, 50295, 50295, 50295, 50295,\n",
       "         50295, 50295, 50295, 50295, 50295, 50295, 50295, 50295, 50295, 50295,\n",
       "         50295, 50295, 50295, 50295, 50295, 50295, 50295, 50295, 50295, 50295,\n",
       "         50295, 50295, 50295, 50295, 50295, 50295, 50295, 50295, 50295, 50295,\n",
       "         50295, 50295, 50295, 50295, 50295, 50295, 50295, 50295, 50295, 50295,\n",
       "         50295, 50295, 50295, 50295, 50295, 50295, 50295, 50295, 50295, 50295,\n",
       "         50295, 50295, 50295, 50295, 50295, 50295, 50295, 50295, 50295, 50295,\n",
       "         50295, 50295, 50295, 50295, 50295, 50295, 50295, 50295, 50295, 50300,\n",
       "         50256, 50305,   318,   220, 50306, 50307, 50308, 50309, 50310, 50311,\n",
       "         50312, 50313, 50314, 50315, 50316, 50317, 50318, 50319, 50320, 50321,\n",
       "            13,   198,    32,  4590,   286,   220, 50305,    13, 50256, 50296,\n",
       "         58514, 58514, 58514, 58514, 58514, 58514, 55626, 58514, 58514, 58514,\n",
       "         58514, 58514, 58514, 58180, 58514, 58514, 58514, 58514, 58514, 58514,\n",
       "         58514, 58514, 58514, 58514, 58514, 58514, 58514, 57292, 58514, 56568,\n",
       "         58514, 58514, 58514, 58029, 51928, 58514, 58514, 58514, 58514, 58514,\n",
       "         58514, 56154, 58514, 58514, 58514, 58514, 58514, 58514, 58514, 58514,\n",
       "         58514, 58514, 58514, 58514, 53021, 58514, 58514, 58514, 58514, 58514,\n",
       "         56117, 58514, 58514, 58514, 58514, 58514, 58514, 58514, 58514, 56285,\n",
       "         51664, 58514, 58514, 58514, 58514, 58514, 56771, 58514, 58514, 50927,\n",
       "         57118, 57168, 58514, 58514, 58514, 58514, 58514, 58514, 54286, 58514,\n",
       "         58514, 58514, 58514, 58514, 58514, 58514, 58514, 58514, 58514, 58514,\n",
       "         58514, 58514, 58514, 58514, 58514, 58514, 58514, 58514, 58514, 58514,\n",
       "         50999, 58514, 58514, 57765, 58042, 58514, 58514, 58514, 58514, 58514,\n",
       "         57139, 58514, 58514, 58514, 58514, 58514, 53005, 58514, 58514, 58514,\n",
       "         58514, 58514, 58514, 58022, 58514, 58514, 58514, 58514, 58514, 58514,\n",
       "         58514, 58514, 50932, 52318, 58514, 58514, 58514, 58514, 51203, 58514,\n",
       "         58514, 58514, 58514, 58514, 58514, 58514, 58514, 58514, 58514, 54930,\n",
       "         58514, 58514, 58514, 58514, 58514, 58514, 58514, 58514, 58514, 58514,\n",
       "         58514, 58514, 58514, 58514, 58514, 58514, 58514, 58514, 58514, 58514,\n",
       "         58514, 58514, 58514, 54037, 58514, 55958, 58294, 58514, 54959, 58514,\n",
       "         58514, 58514, 58514, 58514, 58514, 52215, 58514, 58514, 58514, 58514,\n",
       "         58514, 58514, 58514, 58514, 58514, 58514, 58514, 58514, 58183, 58514,\n",
       "         58514, 58514, 58514, 58514, 54963, 58514, 57155, 58514, 58514, 58514,\n",
       "         58514, 58514, 58514, 58514, 58514, 56777, 58245, 58514, 58514, 58158,\n",
       "         58514, 58514, 58514, 57098, 58514, 58514, 58514, 58514, 58514, 58514,\n",
       "         58514, 58514, 58514, 57581, 58514, 56909, 58514, 58514, 58514, 58514,\n",
       "         58514, 58514, 58514, 58514, 58514, 58514, 50297],\n",
       "        [50295, 50295, 50295, 50295, 50295, 50295, 50295, 50295, 50295, 50295,\n",
       "         50295, 50295, 50295, 50295, 50295, 50295, 50295, 50295, 50295, 50295,\n",
       "         50295, 50295, 50295, 50295, 50295, 50295, 50295, 50295, 50295, 50295,\n",
       "         50295, 50295, 50295, 50295, 50295, 50295, 50295, 50295, 50295, 50295,\n",
       "         50295, 50295, 50295, 50295, 50295, 50295, 50295, 50295, 50295, 50295,\n",
       "         50295, 50295, 50295, 50295, 50295, 50295, 50295, 50295, 50295, 50295,\n",
       "         50295, 50295, 50295, 50295, 50295, 50295, 50295, 50295, 50295, 50295,\n",
       "         50295, 50295, 50295, 50295, 50295, 50295, 50295, 50295, 50295, 50295,\n",
       "         50295, 50295, 50295, 50295, 50295, 50295, 50295, 50295, 50295, 50295,\n",
       "         50295, 50295, 50295, 50295, 50295, 50295, 50295, 50295, 50295, 50300,\n",
       "         50256, 50305,   318,   220, 50306, 50307, 50308, 50309, 50310, 50311,\n",
       "         50312, 50313, 50314, 50315, 50316, 50317, 50318, 50319, 50320, 50321,\n",
       "            13,   198,    32,  4590,   286,   220, 50305,    13, 50256, 50296,\n",
       "         55562, 54861, 54845, 58514, 58514, 58514, 58514, 58514, 52069, 58218,\n",
       "         54383, 58514, 55853, 56762, 58514, 58514, 57037, 58514, 57705, 58514,\n",
       "         56351, 54931, 58514, 58514, 58514, 58514, 55095, 56411, 58514, 54349,\n",
       "         52330, 58332, 58234, 57924, 58514, 58514, 51941, 58514, 53534, 58068,\n",
       "         58514, 51733, 58514, 58514, 56090, 56163, 58514, 58514, 58514, 55185,\n",
       "         58514, 58514, 53071, 50442, 51599, 58514, 55693, 58514, 58514, 58514,\n",
       "         54247, 51005, 58223, 58514, 56967, 58514, 51877, 58514, 52541, 58514,\n",
       "         58514, 58514, 58514, 56152, 55387, 58514, 52555, 56039, 55067, 58514,\n",
       "         58514, 58514, 58514, 58514, 54334, 58514, 52587, 58514, 58514, 58514,\n",
       "         58514, 51259, 58514, 58514, 58514, 58514, 58514, 55177, 58514, 51305,\n",
       "         58514, 58514, 52617, 58514, 58514, 52479, 58514, 58514, 58514, 58514,\n",
       "         58514, 58514, 58514, 56593, 58514, 58514, 58514, 58514, 51538, 52660,\n",
       "         58514, 58514, 58514, 58514, 58514, 50793, 58514, 58514, 58514, 55422,\n",
       "         58514, 58514, 55822, 58514, 58514, 58514, 58514, 58514, 54909, 58367,\n",
       "         58514, 58514, 55239, 57157, 57469, 58514, 55011, 58514, 58343, 51115,\n",
       "         53905, 56876, 58514, 53771, 53279, 58514, 51178, 58514, 54537, 56655,\n",
       "         55625, 58514, 58514, 58514, 52795, 58514, 58514, 58514, 57729, 58514,\n",
       "         50885, 58514, 50448, 58514, 58514, 53483, 57731, 58514, 58514, 50723,\n",
       "         52941, 58514, 58514, 58514, 58514, 58514, 58514, 58514, 58514, 55011,\n",
       "         58514, 58514, 57851, 58514, 58514, 58514, 58514, 58514, 53501, 58514,\n",
       "         57844, 58514, 58514, 53319, 58514, 52013, 57247, 58514, 57587, 58514,\n",
       "         57781, 57891, 58514, 55131, 55655, 58514, 56188, 58514, 58003, 54981,\n",
       "         58514, 58514, 58514, 58514, 57742, 58514, 58514, 58514, 58514, 58514,\n",
       "         57079, 55994, 58514, 58514, 56190, 58514, 58514, 58514, 58514, 58514,\n",
       "         58514, 58514, 58514, 58514, 58514, 55501, 58514, 56949, 58514, 58514,\n",
       "         58514, 58514, 56304, 58514, 58514, 58514, 50297]], device='cuda:7')"
      ]
     },
     "execution_count": 29,
     "metadata": {},
     "output_type": "execute_result"
    }
   ],
   "source": [
    "input_ids"
   ]
  },
  {
   "cell_type": "code",
   "execution_count": 31,
   "metadata": {},
   "outputs": [
    {
     "name": "stdout",
     "output_type": "stream",
     "text": [
      "Epoch 1\n"
     ]
    },
    {
     "name": "stderr",
     "output_type": "stream",
     "text": [
      "100%|██████████| 48/48 [00:18<00:00,  2.53it/s]\n"
     ]
    },
    {
     "name": "stdout",
     "output_type": "stream",
     "text": [
      "Epoch 1 loss: 5.60643916328748, loss_t2i: 6.633129944403966, loss_mmu: 1.499675625314315\n",
      "  Token-Norm: 16.50321388244629\n",
      "  index_no_updates-Token-Norm: 475.90191650390625\n",
      "  LM-Head-Weight-Norm: 14.198519706726074\n",
      "  index_no_updates-LM-Head-Weight-Norm: 636.0464477539062\n",
      "  LM-Head-Bias-Norm: 1.1127179861068726\n",
      "  index_no_updates-LM-Head-Bias-Norm: 200.17538452148438\n",
      "Epoch 2\n"
     ]
    },
    {
     "name": "stderr",
     "output_type": "stream",
     "text": [
      "100%|██████████| 48/48 [00:18<00:00,  2.57it/s]\n"
     ]
    },
    {
     "name": "stdout",
     "output_type": "stream",
     "text": [
      "Epoch 2 loss: 5.280611013372739, loss_t2i: 6.307993019620578, loss_mmu: 1.1710822482903798\n",
      "  Token-Norm: 19.651737213134766\n",
      "  index_no_updates-Token-Norm: 475.90191650390625\n",
      "  LM-Head-Weight-Norm: 14.258724212646484\n",
      "  index_no_updates-LM-Head-Weight-Norm: 636.0464477539062\n",
      "  LM-Head-Bias-Norm: 1.1222505569458008\n",
      "  index_no_updates-LM-Head-Bias-Norm: 200.17538452148438\n",
      "Epoch 3\n"
     ]
    },
    {
     "name": "stderr",
     "output_type": "stream",
     "text": [
      "100%|██████████| 48/48 [00:18<00:00,  2.57it/s]\n"
     ]
    },
    {
     "name": "stdout",
     "output_type": "stream",
     "text": [
      "Epoch 3 loss: 5.330645129084587, loss_t2i: 6.386648600300153, loss_mmu: 1.1066311101118724\n",
      "  Token-Norm: 22.207183837890625\n",
      "  index_no_updates-Token-Norm: 475.90191650390625\n",
      "  LM-Head-Weight-Norm: 14.26913070678711\n",
      "  index_no_updates-LM-Head-Weight-Norm: 636.0464477539062\n",
      "  LM-Head-Bias-Norm: 1.125584363937378\n",
      "  index_no_updates-LM-Head-Bias-Norm: 200.17538452148438\n",
      "Epoch 4\n"
     ]
    },
    {
     "name": "stderr",
     "output_type": "stream",
     "text": [
      "100%|██████████| 48/48 [00:18<00:00,  2.55it/s]\n"
     ]
    },
    {
     "name": "stdout",
     "output_type": "stream",
     "text": [
      "Epoch 4 loss: 5.167608181635539, loss_t2i: 6.206409643093745, loss_mmu: 1.0124017621080081\n",
      "  Token-Norm: 23.946935653686523\n",
      "  index_no_updates-Token-Norm: 475.90191650390625\n",
      "  LM-Head-Weight-Norm: 14.276002883911133\n",
      "  index_no_updates-LM-Head-Weight-Norm: 636.0464477539062\n",
      "  LM-Head-Bias-Norm: 1.1269809007644653\n",
      "  index_no_updates-LM-Head-Bias-Norm: 200.17538452148438\n",
      "Epoch 5\n"
     ]
    },
    {
     "name": "stderr",
     "output_type": "stream",
     "text": [
      "100%|██████████| 48/48 [00:18<00:00,  2.56it/s]\n"
     ]
    },
    {
     "name": "stdout",
     "output_type": "stream",
     "text": [
      "Epoch 5 loss: 5.1951029648383455, loss_t2i: 6.257631311813991, loss_mmu: 0.9449890106916428\n",
      "  Token-Norm: 25.022785186767578\n",
      "  index_no_updates-Token-Norm: 475.90191650390625\n",
      "  LM-Head-Weight-Norm: 14.29468822479248\n",
      "  index_no_updates-LM-Head-Weight-Norm: 636.0464477539062\n",
      "  LM-Head-Bias-Norm: 1.1283031702041626\n",
      "  index_no_updates-LM-Head-Bias-Norm: 200.17538452148438\n",
      "Epoch 6\n"
     ]
    },
    {
     "name": "stderr",
     "output_type": "stream",
     "text": [
      "100%|██████████| 48/48 [00:18<00:00,  2.53it/s]\n"
     ]
    },
    {
     "name": "stdout",
     "output_type": "stream",
     "text": [
      "Epoch 6 loss: 5.378634100159009, loss_t2i: 6.489446098605792, loss_mmu: 0.9353858170409998\n",
      "  Token-Norm: 26.816238403320312\n",
      "  index_no_updates-Token-Norm: 475.90191650390625\n",
      "  LM-Head-Weight-Norm: 14.311322212219238\n",
      "  index_no_updates-LM-Head-Weight-Norm: 636.0464477539062\n",
      "  LM-Head-Bias-Norm: 1.1282968521118164\n",
      "  index_no_updates-LM-Head-Bias-Norm: 200.17538452148438\n",
      "Epoch 7\n"
     ]
    },
    {
     "name": "stderr",
     "output_type": "stream",
     "text": [
      "100%|██████████| 48/48 [00:19<00:00,  2.51it/s]\n"
     ]
    },
    {
     "name": "stdout",
     "output_type": "stream",
     "text": [
      "Epoch 7 loss: 5.127976482113202, loss_t2i: 6.193236713608106, loss_mmu: 0.8669351624945799\n",
      "  Token-Norm: 27.57149314880371\n",
      "  index_no_updates-Token-Norm: 475.90191650390625\n",
      "  LM-Head-Weight-Norm: 14.325873374938965\n",
      "  index_no_updates-LM-Head-Weight-Norm: 636.0464477539062\n",
      "  LM-Head-Bias-Norm: 1.1284843683242798\n",
      "  index_no_updates-LM-Head-Bias-Norm: 200.17538452148438\n",
      "Epoch 8\n"
     ]
    },
    {
     "name": "stderr",
     "output_type": "stream",
     "text": [
      "100%|██████████| 48/48 [00:19<00:00,  2.52it/s]\n"
     ]
    },
    {
     "name": "stdout",
     "output_type": "stream",
     "text": [
      "Epoch 8 loss: 5.024218554298083, loss_t2i: 6.0707163115342455, loss_mmu: 0.8382270478953918\n",
      "  Token-Norm: 28.239473342895508\n",
      "  index_no_updates-Token-Norm: 475.90191650390625\n",
      "  LM-Head-Weight-Norm: 14.345934867858887\n",
      "  index_no_updates-LM-Head-Weight-Norm: 636.0464477539062\n",
      "  LM-Head-Bias-Norm: 1.1286001205444336\n",
      "  index_no_updates-LM-Head-Bias-Norm: 200.17538452148438\n",
      "Epoch 9\n"
     ]
    },
    {
     "name": "stderr",
     "output_type": "stream",
     "text": [
      "100%|██████████| 48/48 [00:19<00:00,  2.52it/s]\n"
     ]
    },
    {
     "name": "stdout",
     "output_type": "stream",
     "text": [
      "Epoch 9 loss: 5.114073286453883, loss_t2i: 6.19205467402935, loss_mmu: 0.8021475467830896\n",
      "  Token-Norm: 28.826065063476562\n",
      "  index_no_updates-Token-Norm: 475.90191650390625\n",
      "  LM-Head-Weight-Norm: 14.35556411743164\n",
      "  index_no_updates-LM-Head-Weight-Norm: 636.0464477539062\n",
      "  LM-Head-Bias-Norm: 1.12822425365448\n",
      "  index_no_updates-LM-Head-Bias-Norm: 200.17538452148438\n",
      "Epoch 10\n"
     ]
    },
    {
     "name": "stderr",
     "output_type": "stream",
     "text": [
      "100%|██████████| 48/48 [00:19<00:00,  2.52it/s]\n"
     ]
    },
    {
     "name": "stdout",
     "output_type": "stream",
     "text": [
      "Epoch 10 loss: 4.84836062292258, loss_t2i: 5.870374555389087, loss_mmu: 0.7603046658138434\n",
      "  Token-Norm: 29.450265884399414\n",
      "  index_no_updates-Token-Norm: 475.90191650390625\n",
      "  LM-Head-Weight-Norm: 14.371969223022461\n",
      "  index_no_updates-LM-Head-Weight-Norm: 636.0464477539062\n",
      "  LM-Head-Bias-Norm: 1.1281378269195557\n",
      "  index_no_updates-LM-Head-Bias-Norm: 200.17538452148438\n",
      "Epoch 11\n"
     ]
    },
    {
     "name": "stderr",
     "output_type": "stream",
     "text": [
      "100%|██████████| 48/48 [00:18<00:00,  2.56it/s]\n"
     ]
    },
    {
     "name": "stdout",
     "output_type": "stream",
     "text": [
      "Epoch 11 loss: 5.11290368437767, loss_t2i: 6.204727679491043, loss_mmu: 0.7456071594109138\n",
      "  Token-Norm: 30.35487174987793\n",
      "  index_no_updates-Token-Norm: 475.90191650390625\n",
      "  LM-Head-Weight-Norm: 14.39567756652832\n",
      "  index_no_updates-LM-Head-Weight-Norm: 636.0464477539062\n",
      "  LM-Head-Bias-Norm: 1.1277689933776855\n",
      "  index_no_updates-LM-Head-Bias-Norm: 200.17538452148438\n",
      "Epoch 12\n"
     ]
    },
    {
     "name": "stderr",
     "output_type": "stream",
     "text": [
      "100%|██████████| 48/48 [00:18<00:00,  2.56it/s]\n"
     ]
    },
    {
     "name": "stdout",
     "output_type": "stream",
     "text": [
      "Epoch 12 loss: 4.798916384577751, loss_t2i: 5.8184264451265335, loss_mmu: 0.7208757903426886\n",
      "  Token-Norm: 31.485708236694336\n",
      "  index_no_updates-Token-Norm: 475.90191650390625\n",
      "  LM-Head-Weight-Norm: 14.404095649719238\n",
      "  index_no_updates-LM-Head-Weight-Norm: 636.0464477539062\n",
      "  LM-Head-Bias-Norm: 1.1266428232192993\n",
      "  index_no_updates-LM-Head-Bias-Norm: 200.17538452148438\n",
      "Epoch 13\n"
     ]
    },
    {
     "name": "stderr",
     "output_type": "stream",
     "text": [
      "100%|██████████| 48/48 [00:18<00:00,  2.57it/s]\n"
     ]
    },
    {
     "name": "stdout",
     "output_type": "stream",
     "text": [
      "Epoch 13 loss: 5.104570041100184, loss_t2i: 6.206378931800525, loss_mmu: 0.6973338533813754\n",
      "  Token-Norm: 32.45843505859375\n",
      "  index_no_updates-Token-Norm: 475.90191650390625\n",
      "  LM-Head-Weight-Norm: 14.425854682922363\n",
      "  index_no_updates-LM-Head-Weight-Norm: 636.0464477539062\n",
      "  LM-Head-Bias-Norm: 1.1263798475265503\n",
      "  index_no_updates-LM-Head-Bias-Norm: 200.17538452148438\n",
      "Epoch 14\n"
     ]
    },
    {
     "name": "stderr",
     "output_type": "stream",
     "text": [
      "100%|██████████| 48/48 [00:18<00:00,  2.56it/s]\n"
     ]
    },
    {
     "name": "stdout",
     "output_type": "stream",
     "text": [
      "Epoch 14 loss: 4.974209914604823, loss_t2i: 6.0340076585610705, loss_mmu: 0.7350185010582209\n",
      "  Token-Norm: 34.095149993896484\n",
      "  index_no_updates-Token-Norm: 475.90191650390625\n",
      "  LM-Head-Weight-Norm: 14.437376976013184\n",
      "  index_no_updates-LM-Head-Weight-Norm: 636.0464477539062\n",
      "  LM-Head-Bias-Norm: 1.1253812313079834\n",
      "  index_no_updates-LM-Head-Bias-Norm: 200.17538452148438\n",
      "Epoch 15\n"
     ]
    },
    {
     "name": "stderr",
     "output_type": "stream",
     "text": [
      "100%|██████████| 48/48 [00:18<00:00,  2.56it/s]\n"
     ]
    },
    {
     "name": "stdout",
     "output_type": "stream",
     "text": [
      "Epoch 15 loss: 4.971584764619668, loss_t2i: 6.0351056307554245, loss_mmu: 0.7175007412830988\n",
      "  Token-Norm: 36.403724670410156\n",
      "  index_no_updates-Token-Norm: 475.90191650390625\n",
      "  LM-Head-Weight-Norm: 14.444942474365234\n",
      "  index_no_updates-LM-Head-Weight-Norm: 636.0464477539062\n",
      "  LM-Head-Bias-Norm: 1.1242337226867676\n",
      "  index_no_updates-LM-Head-Bias-Norm: 200.17538452148438\n",
      "Epoch 16\n"
     ]
    },
    {
     "name": "stderr",
     "output_type": "stream",
     "text": [
      "100%|██████████| 48/48 [00:18<00:00,  2.56it/s]\n"
     ]
    },
    {
     "name": "stdout",
     "output_type": "stream",
     "text": [
      "Epoch 16 loss: 5.017747059464455, loss_t2i: 6.096885032951832, loss_mmu: 0.7011946802958846\n",
      "  Token-Norm: 37.36294174194336\n",
      "  index_no_updates-Token-Norm: 475.90191650390625\n",
      "  LM-Head-Weight-Norm: 14.448554992675781\n",
      "  index_no_updates-LM-Head-Weight-Norm: 636.0464477539062\n",
      "  LM-Head-Bias-Norm: 1.1228054761886597\n",
      "  index_no_updates-LM-Head-Bias-Norm: 200.17538452148438\n",
      "Epoch 17\n"
     ]
    },
    {
     "name": "stderr",
     "output_type": "stream",
     "text": [
      "100%|██████████| 48/48 [00:18<00:00,  2.56it/s]\n"
     ]
    },
    {
     "name": "stdout",
     "output_type": "stream",
     "text": [
      "Epoch 17 loss: 5.217306425174077, loss_t2i: 6.352408314744632, loss_mmu: 0.6768985347201427\n",
      "  Token-Norm: 38.61777114868164\n",
      "  index_no_updates-Token-Norm: 475.90191650390625\n",
      "  LM-Head-Weight-Norm: 14.455872535705566\n",
      "  index_no_updates-LM-Head-Weight-Norm: 636.0464477539062\n",
      "  LM-Head-Bias-Norm: 1.1211857795715332\n",
      "  index_no_updates-LM-Head-Bias-Norm: 200.17538452148438\n",
      "Epoch 18\n"
     ]
    },
    {
     "name": "stderr",
     "output_type": "stream",
     "text": [
      "100%|██████████| 48/48 [00:18<00:00,  2.56it/s]\n"
     ]
    },
    {
     "name": "stdout",
     "output_type": "stream",
     "text": [
      "Epoch 18 loss: 5.074927628040314, loss_t2i: 6.177715351184209, loss_mmu: 0.6637764656916261\n",
      "  Token-Norm: 39.63446044921875\n",
      "  index_no_updates-Token-Norm: 475.90191650390625\n",
      "  LM-Head-Weight-Norm: 14.45915699005127\n",
      "  index_no_updates-LM-Head-Weight-Norm: 636.0464477539062\n",
      "  LM-Head-Bias-Norm: 1.1196657419204712\n",
      "  index_no_updates-LM-Head-Bias-Norm: 200.17538452148438\n",
      "Epoch 19\n"
     ]
    },
    {
     "name": "stderr",
     "output_type": "stream",
     "text": [
      "100%|██████████| 48/48 [00:18<00:00,  2.55it/s]\n"
     ]
    },
    {
     "name": "stdout",
     "output_type": "stream",
     "text": [
      "Epoch 19 loss: 5.156219224135081, loss_t2i: 6.289958203832309, loss_mmu: 0.621262826025486\n",
      "  Token-Norm: 40.327030181884766\n",
      "  index_no_updates-Token-Norm: 475.90191650390625\n",
      "  LM-Head-Weight-Norm: 14.460576057434082\n",
      "  index_no_updates-LM-Head-Weight-Norm: 636.0464477539062\n",
      "  LM-Head-Bias-Norm: 1.1178330183029175\n",
      "  index_no_updates-LM-Head-Bias-Norm: 200.17538452148438\n",
      "Epoch 20\n"
     ]
    },
    {
     "name": "stderr",
     "output_type": "stream",
     "text": [
      "100%|██████████| 48/48 [00:18<00:00,  2.55it/s]\n"
     ]
    },
    {
     "name": "stdout",
     "output_type": "stream",
     "text": [
      "Epoch 20 loss: 5.338389525810878, loss_t2i: 6.510338008403778, loss_mmu: 0.6505949643130103\n",
      "  Token-Norm: 43.01359176635742\n",
      "  index_no_updates-Token-Norm: 475.90191650390625\n",
      "  LM-Head-Weight-Norm: 14.46848201751709\n",
      "  index_no_updates-LM-Head-Weight-Norm: 636.0464477539062\n",
      "  LM-Head-Bias-Norm: 1.1163867712020874\n",
      "  index_no_updates-LM-Head-Bias-Norm: 200.17538452148438\n",
      "Epoch 21\n"
     ]
    },
    {
     "name": "stderr",
     "output_type": "stream",
     "text": [
      "100%|██████████| 48/48 [00:18<00:00,  2.55it/s]\n"
     ]
    },
    {
     "name": "stdout",
     "output_type": "stream",
     "text": [
      "Epoch 21 loss: 4.947128479679425, loss_t2i: 6.014040117462476, loss_mmu: 0.6794815625374516\n",
      "  Token-Norm: 44.37313461303711\n",
      "  index_no_updates-Token-Norm: 475.90191650390625\n",
      "  LM-Head-Weight-Norm: 14.471556663513184\n",
      "  index_no_updates-LM-Head-Weight-Norm: 636.0464477539062\n",
      "  LM-Head-Bias-Norm: 1.1147611141204834\n",
      "  index_no_updates-LM-Head-Bias-Norm: 200.17538452148438\n",
      "Epoch 22\n"
     ]
    },
    {
     "name": "stderr",
     "output_type": "stream",
     "text": [
      "100%|██████████| 48/48 [00:18<00:00,  2.55it/s]\n"
     ]
    },
    {
     "name": "stdout",
     "output_type": "stream",
     "text": [
      "Epoch 22 loss: 5.155593857169151, loss_t2i: 6.287154803673427, loss_mmu: 0.6293496632327636\n",
      "  Token-Norm: 45.081764221191406\n",
      "  index_no_updates-Token-Norm: 475.90191650390625\n",
      "  LM-Head-Weight-Norm: 14.478492736816406\n",
      "  index_no_updates-LM-Head-Weight-Norm: 636.0464477539062\n",
      "  LM-Head-Bias-Norm: 1.113276481628418\n",
      "  index_no_updates-LM-Head-Bias-Norm: 200.17538452148438\n",
      "Epoch 23\n"
     ]
    },
    {
     "name": "stderr",
     "output_type": "stream",
     "text": [
      "100%|██████████| 48/48 [00:18<00:00,  2.55it/s]\n"
     ]
    },
    {
     "name": "stdout",
     "output_type": "stream",
     "text": [
      "Epoch 23 loss: 4.891323626041412, loss_t2i: 5.961634799838066, loss_mmu: 0.6100784946853915\n",
      "  Token-Norm: 45.790435791015625\n",
      "  index_no_updates-Token-Norm: 475.90191650390625\n",
      "  LM-Head-Weight-Norm: 14.472529411315918\n",
      "  index_no_updates-LM-Head-Weight-Norm: 636.0464477539062\n",
      "  LM-Head-Bias-Norm: 1.1110687255859375\n",
      "  index_no_updates-LM-Head-Bias-Norm: 200.17538452148438\n",
      "Epoch 24\n"
     ]
    },
    {
     "name": "stderr",
     "output_type": "stream",
     "text": [
      "100%|██████████| 48/48 [00:18<00:00,  2.54it/s]\n"
     ]
    },
    {
     "name": "stdout",
     "output_type": "stream",
     "text": [
      "Epoch 24 loss: 4.801683311661084, loss_t2i: 5.854350144664447, loss_mmu: 0.591015518642962\n",
      "  Token-Norm: 46.349422454833984\n",
      "  index_no_updates-Token-Norm: 475.90191650390625\n",
      "  LM-Head-Weight-Norm: 14.464130401611328\n",
      "  index_no_updates-LM-Head-Weight-Norm: 636.0464477539062\n",
      "  LM-Head-Bias-Norm: 1.108757495880127\n",
      "  index_no_updates-LM-Head-Bias-Norm: 200.17538452148438\n",
      "Epoch 25\n"
     ]
    },
    {
     "name": "stderr",
     "output_type": "stream",
     "text": [
      "100%|██████████| 48/48 [00:18<00:00,  2.55it/s]\n"
     ]
    },
    {
     "name": "stdout",
     "output_type": "stream",
     "text": [
      "Epoch 25 loss: 5.338821028669675, loss_t2i: 6.52657983203729, loss_mmu: 0.5877853001778325\n",
      "  Token-Norm: 47.24104309082031\n",
      "  index_no_updates-Token-Norm: 475.90191650390625\n",
      "  LM-Head-Weight-Norm: 14.467007637023926\n",
      "  index_no_updates-LM-Head-Weight-Norm: 636.0464477539062\n",
      "  LM-Head-Bias-Norm: 1.1069004535675049\n",
      "  index_no_updates-LM-Head-Bias-Norm: 200.17538452148438\n",
      "Epoch 26\n"
     ]
    },
    {
     "name": "stderr",
     "output_type": "stream",
     "text": [
      "100%|██████████| 48/48 [00:18<00:00,  2.54it/s]\n"
     ]
    },
    {
     "name": "stdout",
     "output_type": "stream",
     "text": [
      "Epoch 26 loss: 4.988081723451614, loss_t2i: 6.0919165561596555, loss_mmu: 0.5727419964969158\n",
      "  Token-Norm: 48.000274658203125\n",
      "  index_no_updates-Token-Norm: 475.90191650390625\n",
      "  LM-Head-Weight-Norm: 14.446073532104492\n",
      "  index_no_updates-LM-Head-Weight-Norm: 636.0464477539062\n",
      "  LM-Head-Bias-Norm: 1.1036972999572754\n",
      "  index_no_updates-LM-Head-Bias-Norm: 200.17538452148438\n",
      "Epoch 27\n"
     ]
    },
    {
     "name": "stderr",
     "output_type": "stream",
     "text": [
      "100%|██████████| 48/48 [00:18<00:00,  2.56it/s]\n"
     ]
    },
    {
     "name": "stdout",
     "output_type": "stream",
     "text": [
      "Epoch 27 loss: 5.113727276523908, loss_t2i: 6.251602858304977, loss_mmu: 0.5622243092705806\n",
      "  Token-Norm: 48.73143768310547\n",
      "  index_no_updates-Token-Norm: 475.90191650390625\n",
      "  LM-Head-Weight-Norm: 14.436604499816895\n",
      "  index_no_updates-LM-Head-Weight-Norm: 636.0464477539062\n",
      "  LM-Head-Bias-Norm: 1.101298451423645\n",
      "  index_no_updates-LM-Head-Bias-Norm: 200.17538452148438\n",
      "Epoch 28\n"
     ]
    },
    {
     "name": "stderr",
     "output_type": "stream",
     "text": [
      "100%|██████████| 48/48 [00:18<00:00,  2.54it/s]\n"
     ]
    },
    {
     "name": "stdout",
     "output_type": "stream",
     "text": [
      "Epoch 28 loss: 4.865791608889897, loss_t2i: 5.947033266226451, loss_mmu: 0.5408246647566557\n",
      "  Token-Norm: 49.2645378112793\n",
      "  index_no_updates-Token-Norm: 475.90191650390625\n",
      "  LM-Head-Weight-Norm: 14.419601440429688\n",
      "  index_no_updates-LM-Head-Weight-Norm: 636.0464477539062\n",
      "  LM-Head-Bias-Norm: 1.0983093976974487\n",
      "  index_no_updates-LM-Head-Bias-Norm: 200.17538452148438\n",
      "Epoch 29\n"
     ]
    },
    {
     "name": "stderr",
     "output_type": "stream",
     "text": [
      "100%|██████████| 48/48 [00:19<00:00,  2.52it/s]\n"
     ]
    },
    {
     "name": "stdout",
     "output_type": "stream",
     "text": [
      "Epoch 29 loss: 5.162978440523148, loss_t2i: 6.319735964139302, loss_mmu: 0.5359480769063035\n",
      "  Token-Norm: 50.16530227661133\n",
      "  index_no_updates-Token-Norm: 475.90191650390625\n",
      "  LM-Head-Weight-Norm: 14.407896995544434\n",
      "  index_no_updates-LM-Head-Weight-Norm: 636.0464477539062\n",
      "  LM-Head-Bias-Norm: 1.0956178903579712\n",
      "  index_no_updates-LM-Head-Bias-Norm: 200.17538452148438\n",
      "Epoch 30\n"
     ]
    },
    {
     "name": "stderr",
     "output_type": "stream",
     "text": [
      "100%|██████████| 48/48 [00:18<00:00,  2.55it/s]\n"
     ]
    },
    {
     "name": "stdout",
     "output_type": "stream",
     "text": [
      "Epoch 30 loss: 4.885270078976949, loss_t2i: 5.96879818290472, loss_mmu: 0.5511571578681469\n",
      "  Token-Norm: 51.23274230957031\n",
      "  index_no_updates-Token-Norm: 475.90191650390625\n",
      "  LM-Head-Weight-Norm: 14.390824317932129\n",
      "  index_no_updates-LM-Head-Weight-Norm: 636.0464477539062\n",
      "  LM-Head-Bias-Norm: 1.0928205251693726\n",
      "  index_no_updates-LM-Head-Bias-Norm: 200.17538452148438\n",
      "Epoch 31\n"
     ]
    },
    {
     "name": "stderr",
     "output_type": "stream",
     "text": [
      "100%|██████████| 48/48 [00:18<00:00,  2.56it/s]\n"
     ]
    },
    {
     "name": "stdout",
     "output_type": "stream",
     "text": [
      "Epoch 31 loss: 4.927416091163953, loss_t2i: 6.031465371449788, loss_mmu: 0.5112184289221963\n",
      "  Token-Norm: 51.83692932128906\n",
      "  index_no_updates-Token-Norm: 475.90191650390625\n",
      "  LM-Head-Weight-Norm: 14.37846565246582\n",
      "  index_no_updates-LM-Head-Weight-Norm: 636.0464477539062\n",
      "  LM-Head-Bias-Norm: 1.0902451276779175\n",
      "  index_no_updates-LM-Head-Bias-Norm: 200.17538452148438\n",
      "Epoch 32\n"
     ]
    },
    {
     "name": "stderr",
     "output_type": "stream",
     "text": [
      "100%|██████████| 48/48 [00:19<00:00,  2.47it/s]\n"
     ]
    },
    {
     "name": "stdout",
     "output_type": "stream",
     "text": [
      "Epoch 32 loss: 5.1576909472544985, loss_t2i: 6.321021909515063, loss_mmu: 0.5043664959569772\n",
      "  Token-Norm: 52.57219696044922\n",
      "  index_no_updates-Token-Norm: 475.90191650390625\n",
      "  LM-Head-Weight-Norm: 14.372321128845215\n",
      "  index_no_updates-LM-Head-Weight-Norm: 636.0464477539062\n",
      "  LM-Head-Bias-Norm: 1.0879299640655518\n",
      "  index_no_updates-LM-Head-Bias-Norm: 200.17538452148438\n",
      "Epoch 33\n"
     ]
    },
    {
     "name": "stderr",
     "output_type": "stream",
     "text": [
      "100%|██████████| 48/48 [00:19<00:00,  2.48it/s]\n"
     ]
    },
    {
     "name": "stdout",
     "output_type": "stream",
     "text": [
      "Epoch 33 loss: 5.088080217440923, loss_t2i: 6.236344123880069, loss_mmu: 0.4950240481023987\n",
      "  Token-Norm: 53.440940856933594\n",
      "  index_no_updates-Token-Norm: 475.90191650390625\n",
      "  LM-Head-Weight-Norm: 14.350380897521973\n",
      "  index_no_updates-LM-Head-Weight-Norm: 636.0464477539062\n",
      "  LM-Head-Bias-Norm: 1.0849158763885498\n",
      "  index_no_updates-LM-Head-Bias-Norm: 200.17538452148438\n",
      "Epoch 34\n"
     ]
    },
    {
     "name": "stderr",
     "output_type": "stream",
     "text": [
      "100%|██████████| 48/48 [00:19<00:00,  2.52it/s]\n"
     ]
    },
    {
     "name": "stdout",
     "output_type": "stream",
     "text": [
      "Epoch 34 loss: 5.1670421461264295, loss_t2i: 6.335723419984181, loss_mmu: 0.4923166576772928\n",
      "  Token-Norm: 54.56230926513672\n",
      "  index_no_updates-Token-Norm: 475.90191650390625\n",
      "  LM-Head-Weight-Norm: 14.336828231811523\n",
      "  index_no_updates-LM-Head-Weight-Norm: 636.0464477539062\n",
      "  LM-Head-Bias-Norm: 1.0822933912277222\n",
      "  index_no_updates-LM-Head-Bias-Norm: 200.17538452148438\n",
      "Epoch 35\n"
     ]
    },
    {
     "name": "stderr",
     "output_type": "stream",
     "text": [
      "100%|██████████| 48/48 [00:19<00:00,  2.52it/s]\n"
     ]
    },
    {
     "name": "stdout",
     "output_type": "stream",
     "text": [
      "Epoch 35 loss: 4.825842812657356, loss_t2i: 5.915202697118123, loss_mmu: 0.468402689943711\n",
      "  Token-Norm: 55.28520584106445\n",
      "  index_no_updates-Token-Norm: 475.90191650390625\n",
      "  LM-Head-Weight-Norm: 14.316173553466797\n",
      "  index_no_updates-LM-Head-Weight-Norm: 636.0464477539062\n",
      "  LM-Head-Bias-Norm: 1.079227089881897\n",
      "  index_no_updates-LM-Head-Bias-Norm: 200.17538452148438\n",
      "Epoch 36\n"
     ]
    },
    {
     "name": "stderr",
     "output_type": "stream",
     "text": [
      "100%|██████████| 48/48 [00:18<00:00,  2.54it/s]\n"
     ]
    },
    {
     "name": "stdout",
     "output_type": "stream",
     "text": [
      "Epoch 36 loss: 4.8309565782547, loss_t2i: 5.923739358782768, loss_mmu: 0.4598249443806708\n",
      "  Token-Norm: 55.982357025146484\n",
      "  index_no_updates-Token-Norm: 475.90191650390625\n",
      "  LM-Head-Weight-Norm: 14.306953430175781\n",
      "  index_no_updates-LM-Head-Weight-Norm: 636.0464477539062\n",
      "  LM-Head-Bias-Norm: 1.0770199298858643\n",
      "  index_no_updates-LM-Head-Bias-Norm: 200.17538452148438\n",
      "Epoch 37\n"
     ]
    },
    {
     "name": "stderr",
     "output_type": "stream",
     "text": [
      "100%|██████████| 48/48 [00:18<00:00,  2.54it/s]\n"
     ]
    },
    {
     "name": "stdout",
     "output_type": "stream",
     "text": [
      "Epoch 37 loss: 4.706924043595791, loss_t2i: 5.773643443981807, loss_mmu: 0.4400461548939347\n",
      "  Token-Norm: 56.497013092041016\n",
      "  index_no_updates-Token-Norm: 475.90191650390625\n",
      "  LM-Head-Weight-Norm: 14.290350914001465\n",
      "  index_no_updates-LM-Head-Weight-Norm: 636.0464477539062\n",
      "  LM-Head-Bias-Norm: 1.0745315551757812\n",
      "  index_no_updates-LM-Head-Bias-Norm: 200.17538452148438\n",
      "Epoch 38\n"
     ]
    },
    {
     "name": "stderr",
     "output_type": "stream",
     "text": [
      "100%|██████████| 48/48 [00:18<00:00,  2.54it/s]\n"
     ]
    },
    {
     "name": "stdout",
     "output_type": "stream",
     "text": [
      "Epoch 38 loss: 4.814702734351158, loss_t2i: 5.91025714079539, loss_mmu: 0.43248450150713325\n",
      "  Token-Norm: 57.26054382324219\n",
      "  index_no_updates-Token-Norm: 475.90191650390625\n",
      "  LM-Head-Weight-Norm: 14.28498363494873\n",
      "  index_no_updates-LM-Head-Weight-Norm: 636.0464477539062\n",
      "  LM-Head-Bias-Norm: 1.0728697776794434\n",
      "  index_no_updates-LM-Head-Bias-Norm: 200.17538452148438\n",
      "Epoch 39\n"
     ]
    },
    {
     "name": "stderr",
     "output_type": "stream",
     "text": [
      "100%|██████████| 48/48 [00:18<00:00,  2.54it/s]\n"
     ]
    },
    {
     "name": "stdout",
     "output_type": "stream",
     "text": [
      "Epoch 39 loss: 4.874694640437762, loss_t2i: 5.984710618853569, loss_mmu: 0.4346303263058265\n",
      "  Token-Norm: 58.10774612426758\n",
      "  index_no_updates-Token-Norm: 475.90191650390625\n",
      "  LM-Head-Weight-Norm: 14.26872730255127\n",
      "  index_no_updates-LM-Head-Weight-Norm: 636.0464477539062\n",
      "  LM-Head-Bias-Norm: 1.0702449083328247\n",
      "  index_no_updates-LM-Head-Bias-Norm: 200.17538452148438\n",
      "Epoch 40\n"
     ]
    },
    {
     "name": "stderr",
     "output_type": "stream",
     "text": [
      "100%|██████████| 48/48 [00:18<00:00,  2.55it/s]\n"
     ]
    },
    {
     "name": "stdout",
     "output_type": "stream",
     "text": [
      "Epoch 40 loss: 4.7524591982364655, loss_t2i: 5.8356652309497195, loss_mmu: 0.41963461724420387\n",
      "  Token-Norm: 58.91019058227539\n",
      "  index_no_updates-Token-Norm: 475.90191650390625\n",
      "  LM-Head-Weight-Norm: 14.248220443725586\n",
      "  index_no_updates-LM-Head-Weight-Norm: 636.0464477539062\n",
      "  LM-Head-Bias-Norm: 1.0675140619277954\n",
      "  index_no_updates-LM-Head-Bias-Norm: 200.17538452148438\n",
      "Epoch 41\n"
     ]
    },
    {
     "name": "stderr",
     "output_type": "stream",
     "text": [
      "100%|██████████| 48/48 [00:18<00:00,  2.55it/s]\n"
     ]
    },
    {
     "name": "stdout",
     "output_type": "stream",
     "text": [
      "Epoch 41 loss: 5.112925156950951, loss_t2i: 6.286912401517232, loss_mmu: 0.41697567235678434\n",
      "  Token-Norm: 59.7945442199707\n",
      "  index_no_updates-Token-Norm: 475.90191650390625\n",
      "  LM-Head-Weight-Norm: 14.23697280883789\n",
      "  index_no_updates-LM-Head-Weight-Norm: 636.0464477539062\n",
      "  LM-Head-Bias-Norm: 1.065278172492981\n",
      "  index_no_updates-LM-Head-Bias-Norm: 200.17538452148438\n",
      "Epoch 42\n"
     ]
    },
    {
     "name": "stderr",
     "output_type": "stream",
     "text": [
      "100%|██████████| 48/48 [00:18<00:00,  2.55it/s]\n"
     ]
    },
    {
     "name": "stdout",
     "output_type": "stream",
     "text": [
      "Epoch 42 loss: 4.748321359356244, loss_t2i: 5.831887602806091, loss_mmu: 0.41405582210669917\n",
      "  Token-Norm: 60.84090805053711\n",
      "  index_no_updates-Token-Norm: 475.90191650390625\n",
      "  LM-Head-Weight-Norm: 14.207799911499023\n",
      "  index_no_updates-LM-Head-Weight-Norm: 636.0464477539062\n",
      "  LM-Head-Bias-Norm: 1.062090277671814\n",
      "  index_no_updates-LM-Head-Bias-Norm: 200.17538452148438\n",
      "Epoch 43\n"
     ]
    },
    {
     "name": "stderr",
     "output_type": "stream",
     "text": [
      "100%|██████████| 48/48 [00:18<00:00,  2.55it/s]\n"
     ]
    },
    {
     "name": "stdout",
     "output_type": "stream",
     "text": [
      "Epoch 43 loss: 4.720501939455668, loss_t2i: 5.800266397496064, loss_mmu: 0.4014436121409138\n",
      "  Token-Norm: 61.879249572753906\n",
      "  index_no_updates-Token-Norm: 475.90191650390625\n",
      "  LM-Head-Weight-Norm: 14.177001953125\n",
      "  index_no_updates-LM-Head-Weight-Norm: 636.0464477539062\n",
      "  LM-Head-Bias-Norm: 1.058803677558899\n",
      "  index_no_updates-LM-Head-Bias-Norm: 200.17538452148438\n",
      "Epoch 44\n"
     ]
    },
    {
     "name": "stderr",
     "output_type": "stream",
     "text": [
      "100%|██████████| 48/48 [00:19<00:00,  2.48it/s]\n"
     ]
    },
    {
     "name": "stdout",
     "output_type": "stream",
     "text": [
      "Epoch 44 loss: 4.99936377008756, loss_t2i: 6.1472574671109514, loss_mmu: 0.4077887331756453\n",
      "  Token-Norm: 63.29739761352539\n",
      "  index_no_updates-Token-Norm: 475.90191650390625\n",
      "  LM-Head-Weight-Norm: 14.15695571899414\n",
      "  index_no_updates-LM-Head-Weight-Norm: 636.0464477539062\n",
      "  LM-Head-Bias-Norm: 1.0560611486434937\n",
      "  index_no_updates-LM-Head-Bias-Norm: 200.17538452148438\n",
      "Epoch 45\n"
     ]
    },
    {
     "name": "stderr",
     "output_type": "stream",
     "text": [
      "100%|██████████| 48/48 [00:19<00:00,  2.52it/s]\n"
     ]
    },
    {
     "name": "stdout",
     "output_type": "stream",
     "text": [
      "Epoch 45 loss: 4.962284028530121, loss_t2i: 6.100229526559512, loss_mmu: 0.4105015861180921\n",
      "  Token-Norm: 64.37730407714844\n",
      "  index_no_updates-Token-Norm: 475.90191650390625\n",
      "  LM-Head-Weight-Norm: 14.133788108825684\n",
      "  index_no_updates-LM-Head-Weight-Norm: 636.0464477539062\n",
      "  LM-Head-Bias-Norm: 1.0530738830566406\n",
      "  index_no_updates-LM-Head-Bias-Norm: 200.17538452148438\n",
      "Epoch 46\n"
     ]
    },
    {
     "name": "stderr",
     "output_type": "stream",
     "text": [
      "100%|██████████| 48/48 [00:18<00:00,  2.54it/s]\n"
     ]
    },
    {
     "name": "stdout",
     "output_type": "stream",
     "text": [
      "Epoch 46 loss: 4.990025530258815, loss_t2i: 6.139670963088672, loss_mmu: 0.3914432874880731\n",
      "  Token-Norm: 65.22154998779297\n",
      "  index_no_updates-Token-Norm: 475.90191650390625\n",
      "  LM-Head-Weight-Norm: 14.117213249206543\n",
      "  index_no_updates-LM-Head-Weight-Norm: 636.0464477539062\n",
      "  LM-Head-Bias-Norm: 1.0505095720291138\n",
      "  index_no_updates-LM-Head-Bias-Norm: 200.17538452148438\n",
      "Epoch 47\n"
     ]
    },
    {
     "name": "stderr",
     "output_type": "stream",
     "text": [
      "100%|██████████| 48/48 [00:19<00:00,  2.51it/s]\n"
     ]
    },
    {
     "name": "stdout",
     "output_type": "stream",
     "text": [
      "Epoch 47 loss: 4.728444864352544, loss_t2i: 5.811965644359589, loss_mmu: 0.39436114983012277\n",
      "  Token-Norm: 66.57929229736328\n",
      "  index_no_updates-Token-Norm: 475.90191650390625\n",
      "  LM-Head-Weight-Norm: 14.10224437713623\n",
      "  index_no_updates-LM-Head-Weight-Norm: 636.0464477539062\n",
      "  LM-Head-Bias-Norm: 1.0481339693069458\n",
      "  index_no_updates-LM-Head-Bias-Norm: 200.17538452148438\n",
      "Epoch 48\n"
     ]
    },
    {
     "name": "stderr",
     "output_type": "stream",
     "text": [
      "100%|██████████| 48/48 [00:19<00:00,  2.52it/s]\n"
     ]
    },
    {
     "name": "stdout",
     "output_type": "stream",
     "text": [
      "Epoch 48 loss: 4.977364433308442, loss_t2i: 6.126232519745827, loss_mmu: 0.3818916372644405\n",
      "  Token-Norm: 67.74710083007812\n",
      "  index_no_updates-Token-Norm: 475.90191650390625\n",
      "  LM-Head-Weight-Norm: 14.07744312286377\n",
      "  index_no_updates-LM-Head-Weight-Norm: 636.0464477539062\n",
      "  LM-Head-Bias-Norm: 1.0450552701950073\n",
      "  index_no_updates-LM-Head-Bias-Norm: 200.17538452148438\n",
      "Epoch 49\n"
     ]
    },
    {
     "name": "stderr",
     "output_type": "stream",
     "text": [
      "100%|██████████| 48/48 [00:19<00:00,  2.49it/s]\n"
     ]
    },
    {
     "name": "stdout",
     "output_type": "stream",
     "text": [
      "Epoch 49 loss: 4.879481126864751, loss_t2i: 6.007941037416458, loss_mmu: 0.36564103009489674\n",
      "  Token-Norm: 68.348876953125\n",
      "  index_no_updates-Token-Norm: 475.90191650390625\n",
      "  LM-Head-Weight-Norm: 14.055148124694824\n",
      "  index_no_updates-LM-Head-Weight-Norm: 636.0464477539062\n",
      "  LM-Head-Bias-Norm: 1.0423305034637451\n",
      "  index_no_updates-LM-Head-Bias-Norm: 200.17538452148438\n",
      "Epoch 50\n"
     ]
    },
    {
     "name": "stderr",
     "output_type": "stream",
     "text": [
      "100%|██████████| 48/48 [00:19<00:00,  2.51it/s]\n"
     ]
    },
    {
     "name": "stdout",
     "output_type": "stream",
     "text": [
      "Epoch 50 loss: 4.749847277998924, loss_t2i: 5.847471823294957, loss_mmu: 0.3593486485381921\n",
      "  Token-Norm: 69.10747528076172\n",
      "  index_no_updates-Token-Norm: 475.90191650390625\n",
      "  LM-Head-Weight-Norm: 14.022100448608398\n",
      "  index_no_updates-LM-Head-Weight-Norm: 636.0464477539062\n",
      "  LM-Head-Bias-Norm: 1.038961410522461\n",
      "  index_no_updates-LM-Head-Bias-Norm: 200.17538452148438\n",
      "Epoch 51\n"
     ]
    },
    {
     "name": "stderr",
     "output_type": "stream",
     "text": [
      "100%|██████████| 48/48 [00:19<00:00,  2.51it/s]\n"
     ]
    },
    {
     "name": "stdout",
     "output_type": "stream",
     "text": [
      "Epoch 51 loss: 4.77489997446537, loss_t2i: 5.8806935747464495, loss_mmu: 0.35172537015751004\n",
      "  Token-Norm: 69.86431884765625\n",
      "  index_no_updates-Token-Norm: 475.90191650390625\n",
      "  LM-Head-Weight-Norm: 14.01135540008545\n",
      "  index_no_updates-LM-Head-Weight-Norm: 636.0464477539062\n",
      "  LM-Head-Bias-Norm: 1.0369819402694702\n",
      "  index_no_updates-LM-Head-Bias-Norm: 200.17538452148438\n",
      "Epoch 52\n"
     ]
    },
    {
     "name": "stderr",
     "output_type": "stream",
     "text": [
      "100%|██████████| 48/48 [00:19<00:00,  2.50it/s]\n"
     ]
    },
    {
     "name": "stdout",
     "output_type": "stream",
     "text": [
      "Epoch 52 loss: 4.926793540517489, loss_t2i: 6.070079065859318, loss_mmu: 0.3536510909131418\n",
      "  Token-Norm: 70.86109924316406\n",
      "  index_no_updates-Token-Norm: 475.90191650390625\n",
      "  LM-Head-Weight-Norm: 13.974313735961914\n",
      "  index_no_updates-LM-Head-Weight-Norm: 636.0464477539062\n",
      "  LM-Head-Bias-Norm: 1.033300757408142\n",
      "  index_no_updates-LM-Head-Bias-Norm: 200.17538452148438\n",
      "Epoch 53\n"
     ]
    },
    {
     "name": "stderr",
     "output_type": "stream",
     "text": [
      "100%|██████████| 48/48 [00:19<00:00,  2.51it/s]\n"
     ]
    },
    {
     "name": "stdout",
     "output_type": "stream",
     "text": [
      "Epoch 53 loss: 4.8332086106141405, loss_t2i: 5.948513930042584, loss_mmu: 0.3719867958376805\n",
      "  Token-Norm: 71.99189758300781\n",
      "  index_no_updates-Token-Norm: 475.90191650390625\n",
      "  LM-Head-Weight-Norm: 13.960841178894043\n",
      "  index_no_updates-LM-Head-Weight-Norm: 636.0464477539062\n",
      "  LM-Head-Bias-Norm: 1.0312248468399048\n",
      "  index_no_updates-LM-Head-Bias-Norm: 200.17538452148438\n",
      "Epoch 54\n"
     ]
    },
    {
     "name": "stderr",
     "output_type": "stream",
     "text": [
      "100%|██████████| 48/48 [00:19<00:00,  2.51it/s]\n"
     ]
    },
    {
     "name": "stdout",
     "output_type": "stream",
     "text": [
      "Epoch 54 loss: 4.765469479064147, loss_t2i: 5.870177199443181, loss_mmu: 0.34663844512154657\n",
      "  Token-Norm: 72.5674057006836\n",
      "  index_no_updates-Token-Norm: 475.90191650390625\n",
      "  LM-Head-Weight-Norm: 13.950042724609375\n",
      "  index_no_updates-LM-Head-Weight-Norm: 636.0464477539062\n",
      "  LM-Head-Bias-Norm: 1.0294253826141357\n",
      "  index_no_updates-LM-Head-Bias-Norm: 200.17538452148438\n",
      "Epoch 55\n"
     ]
    },
    {
     "name": "stderr",
     "output_type": "stream",
     "text": [
      "100%|██████████| 48/48 [00:19<00:00,  2.46it/s]\n"
     ]
    },
    {
     "name": "stdout",
     "output_type": "stream",
     "text": [
      "Epoch 55 loss: 4.749857907493909, loss_t2i: 5.851576179265976, loss_mmu: 0.3429842982441187\n",
      "  Token-Norm: 73.30559539794922\n",
      "  index_no_updates-Token-Norm: 475.90191650390625\n",
      "  LM-Head-Weight-Norm: 13.922405242919922\n",
      "  index_no_updates-LM-Head-Weight-Norm: 636.0464477539062\n",
      "  LM-Head-Bias-Norm: 1.0266164541244507\n",
      "  index_no_updates-LM-Head-Bias-Norm: 200.17538452148438\n",
      "Epoch 56\n"
     ]
    },
    {
     "name": "stderr",
     "output_type": "stream",
     "text": [
      "100%|██████████| 48/48 [00:19<00:00,  2.45it/s]\n"
     ]
    },
    {
     "name": "stdout",
     "output_type": "stream",
     "text": [
      "Epoch 56 loss: 4.866997371117274, loss_t2i: 5.99760144452254, loss_mmu: 0.3445806757857402\n",
      "  Token-Norm: 74.17671203613281\n",
      "  index_no_updates-Token-Norm: 475.90191650390625\n",
      "  LM-Head-Weight-Norm: 13.918268203735352\n",
      "  index_no_updates-LM-Head-Weight-Norm: 636.0464477539062\n",
      "  LM-Head-Bias-Norm: 1.0251338481903076\n",
      "  index_no_updates-LM-Head-Bias-Norm: 200.17538452148438\n",
      "Epoch 57\n"
     ]
    },
    {
     "name": "stderr",
     "output_type": "stream",
     "text": [
      "100%|██████████| 48/48 [00:19<00:00,  2.41it/s]\n"
     ]
    },
    {
     "name": "stdout",
     "output_type": "stream",
     "text": [
      "Epoch 57 loss: 4.621662278970082, loss_t2i: 5.693930387496948, loss_mmu: 0.3325893253398438\n",
      "  Token-Norm: 74.65109252929688\n",
      "  index_no_updates-Token-Norm: 475.90191650390625\n",
      "  LM-Head-Weight-Norm: 13.887138366699219\n",
      "  index_no_updates-LM-Head-Weight-Norm: 636.0464477539062\n",
      "  LM-Head-Bias-Norm: 1.0221635103225708\n",
      "  index_no_updates-LM-Head-Bias-Norm: 200.17538452148438\n",
      "Epoch 58\n"
     ]
    },
    {
     "name": "stderr",
     "output_type": "stream",
     "text": [
      "100%|██████████| 48/48 [00:19<00:00,  2.52it/s]\n"
     ]
    },
    {
     "name": "stdout",
     "output_type": "stream",
     "text": [
      "Epoch 58 loss: 4.941544324159622, loss_t2i: 6.095337371031444, loss_mmu: 0.3263718195570012\n",
      "  Token-Norm: 75.37403869628906\n",
      "  index_no_updates-Token-Norm: 475.90191650390625\n",
      "  LM-Head-Weight-Norm: 13.87208366394043\n",
      "  index_no_updates-LM-Head-Weight-Norm: 636.0464477539062\n",
      "  LM-Head-Bias-Norm: 1.0201146602630615\n",
      "  index_no_updates-LM-Head-Bias-Norm: 200.17538452148438\n",
      "Epoch 59\n"
     ]
    },
    {
     "name": "stderr",
     "output_type": "stream",
     "text": [
      "100%|██████████| 48/48 [00:19<00:00,  2.49it/s]\n"
     ]
    },
    {
     "name": "stdout",
     "output_type": "stream",
     "text": [
      "Epoch 59 loss: 4.914949541290601, loss_t2i: 6.062211707234383, loss_mmu: 0.3259006786781053\n",
      "  Token-Norm: 76.09632110595703\n",
      "  index_no_updates-Token-Norm: 475.90191650390625\n",
      "  LM-Head-Weight-Norm: 13.876079559326172\n",
      "  index_no_updates-LM-Head-Weight-Norm: 636.0464477539062\n",
      "  LM-Head-Bias-Norm: 1.019339919090271\n",
      "  index_no_updates-LM-Head-Bias-Norm: 200.17538452148438\n",
      "Epoch 60\n"
     ]
    },
    {
     "name": "stderr",
     "output_type": "stream",
     "text": [
      "100%|██████████| 48/48 [00:19<00:00,  2.50it/s]\n"
     ]
    },
    {
     "name": "stdout",
     "output_type": "stream",
     "text": [
      "Epoch 60 loss: 4.686458778878053, loss_t2i: 5.778512631853421, loss_mmu: 0.3182426748486857\n",
      "  Token-Norm: 76.69302368164062\n",
      "  index_no_updates-Token-Norm: 475.90191650390625\n",
      "  LM-Head-Weight-Norm: 13.854310035705566\n",
      "  index_no_updates-LM-Head-Weight-Norm: 636.0464477539062\n",
      "  LM-Head-Bias-Norm: 1.0169963836669922\n",
      "  index_no_updates-LM-Head-Bias-Norm: 200.17538452148438\n",
      "Epoch 61\n"
     ]
    },
    {
     "name": "stderr",
     "output_type": "stream",
     "text": [
      "100%|██████████| 48/48 [00:19<00:00,  2.46it/s]\n"
     ]
    },
    {
     "name": "stdout",
     "output_type": "stream",
     "text": [
      "Epoch 61 loss: 4.846143367389838, loss_t2i: 5.97802413503329, loss_mmu: 0.3186199396538238\n",
      "  Token-Norm: 77.46121978759766\n",
      "  index_no_updates-Token-Norm: 475.90191650390625\n",
      "  LM-Head-Weight-Norm: 13.83076286315918\n",
      "  index_no_updates-LM-Head-Weight-Norm: 636.0464477539062\n",
      "  LM-Head-Bias-Norm: 1.0144814252853394\n",
      "  index_no_updates-LM-Head-Bias-Norm: 200.17538452148438\n",
      "Epoch 62\n"
     ]
    },
    {
     "name": "stderr",
     "output_type": "stream",
     "text": [
      "100%|██████████| 48/48 [00:19<00:00,  2.49it/s]\n"
     ]
    },
    {
     "name": "stdout",
     "output_type": "stream",
     "text": [
      "Epoch 62 loss: 4.966697583595912, loss_t2i: 6.128142977754275, loss_mmu: 0.3209155910493185\n",
      "  Token-Norm: 78.73760223388672\n",
      "  index_no_updates-Token-Norm: 475.90191650390625\n",
      "  LM-Head-Weight-Norm: 13.796619415283203\n",
      "  index_no_updates-LM-Head-Weight-Norm: 636.0464477539062\n",
      "  LM-Head-Bias-Norm: 1.0112816095352173\n",
      "  index_no_updates-LM-Head-Bias-Norm: 200.17538452148438\n",
      "Epoch 63\n"
     ]
    },
    {
     "name": "stderr",
     "output_type": "stream",
     "text": [
      "100%|██████████| 48/48 [00:19<00:00,  2.51it/s]\n"
     ]
    },
    {
     "name": "stdout",
     "output_type": "stream",
     "text": [
      "Epoch 63 loss: 4.680572683612506, loss_t2i: 5.769075204928716, loss_mmu: 0.32656231833000976\n",
      "  Token-Norm: 79.6781005859375\n",
      "  index_no_updates-Token-Norm: 475.90191650390625\n",
      "  LM-Head-Weight-Norm: 13.770702362060547\n",
      "  index_no_updates-LM-Head-Weight-Norm: 636.0464477539062\n",
      "  LM-Head-Bias-Norm: 1.0087629556655884\n",
      "  index_no_updates-LM-Head-Bias-Norm: 200.17538452148438\n",
      "Epoch 64\n"
     ]
    },
    {
     "name": "stderr",
     "output_type": "stream",
     "text": [
      "100%|██████████| 48/48 [00:19<00:00,  2.50it/s]\n"
     ]
    },
    {
     "name": "stdout",
     "output_type": "stream",
     "text": [
      "Epoch 64 loss: 4.926241149504979, loss_t2i: 6.078775107860565, loss_mmu: 0.3161048063387473\n",
      "  Token-Norm: 80.34098815917969\n",
      "  index_no_updates-Token-Norm: 475.90191650390625\n",
      "  LM-Head-Weight-Norm: 13.74937629699707\n",
      "  index_no_updates-LM-Head-Weight-Norm: 636.0464477539062\n",
      "  LM-Head-Bias-Norm: 1.0066206455230713\n",
      "  index_no_updates-LM-Head-Bias-Norm: 200.17538452148438\n",
      "Epoch 65\n"
     ]
    },
    {
     "name": "stderr",
     "output_type": "stream",
     "text": [
      "100%|██████████| 48/48 [00:19<00:00,  2.50it/s]\n"
     ]
    },
    {
     "name": "stdout",
     "output_type": "stream",
     "text": [
      "Epoch 65 loss: 4.6512059817711515, loss_t2i: 5.7350709189971285, loss_mmu: 0.3157457730267197\n",
      "  Token-Norm: 81.21074676513672\n",
      "  index_no_updates-Token-Norm: 475.90191650390625\n",
      "  LM-Head-Weight-Norm: 13.72185230255127\n",
      "  index_no_updates-LM-Head-Weight-Norm: 636.0464477539062\n",
      "  LM-Head-Bias-Norm: 1.0040472745895386\n",
      "  index_no_updates-LM-Head-Bias-Norm: 200.17538452148438\n",
      "Epoch 66\n"
     ]
    },
    {
     "name": "stderr",
     "output_type": "stream",
     "text": [
      "100%|██████████| 48/48 [00:19<00:00,  2.50it/s]\n"
     ]
    },
    {
     "name": "stdout",
     "output_type": "stream",
     "text": [
      "Epoch 66 loss: 4.892579009135564, loss_t2i: 6.036086435119311, loss_mmu: 0.31854880151028436\n",
      "  Token-Norm: 82.02020263671875\n",
      "  index_no_updates-Token-Norm: 475.90191650390625\n",
      "  LM-Head-Weight-Norm: 13.705190658569336\n",
      "  index_no_updates-LM-Head-Weight-Norm: 636.0464477539062\n",
      "  LM-Head-Bias-Norm: 1.001867651939392\n",
      "  index_no_updates-LM-Head-Bias-Norm: 200.17538452148438\n",
      "Epoch 67\n"
     ]
    },
    {
     "name": "stderr",
     "output_type": "stream",
     "text": [
      "100%|██████████| 48/48 [00:19<00:00,  2.45it/s]\n"
     ]
    },
    {
     "name": "stdout",
     "output_type": "stream",
     "text": [
      "Epoch 67 loss: 4.78677174448967, loss_t2i: 5.9071711748838425, loss_mmu: 0.30517385449881357\n",
      "  Token-Norm: 82.75885009765625\n",
      "  index_no_updates-Token-Norm: 475.90191650390625\n",
      "  LM-Head-Weight-Norm: 13.71005630493164\n",
      "  index_no_updates-LM-Head-Weight-Norm: 636.0464477539062\n",
      "  LM-Head-Bias-Norm: 1.0014833211898804\n",
      "  index_no_updates-LM-Head-Bias-Norm: 200.17538452148438\n",
      "Epoch 68\n"
     ]
    },
    {
     "name": "stderr",
     "output_type": "stream",
     "text": [
      "100%|██████████| 48/48 [00:19<00:00,  2.52it/s]\n"
     ]
    },
    {
     "name": "stdout",
     "output_type": "stream",
     "text": [
      "Epoch 68 loss: 5.005562017361323, loss_t2i: 6.180033137400945, loss_mmu: 0.3076768486450116\n",
      "  Token-Norm: 83.57341766357422\n",
      "  index_no_updates-Token-Norm: 475.90191650390625\n",
      "  LM-Head-Weight-Norm: 13.687980651855469\n",
      "  index_no_updates-LM-Head-Weight-Norm: 636.0464477539062\n",
      "  LM-Head-Bias-Norm: 0.9991980195045471\n",
      "  index_no_updates-LM-Head-Bias-Norm: 200.17538452148438\n",
      "Epoch 69\n"
     ]
    },
    {
     "name": "stderr",
     "output_type": "stream",
     "text": [
      "100%|██████████| 48/48 [00:19<00:00,  2.48it/s]\n"
     ]
    },
    {
     "name": "stdout",
     "output_type": "stream",
     "text": [
      "Epoch 69 loss: 4.832304825385411, loss_t2i: 5.9645018974939985, loss_mmu: 0.3035163127351552\n",
      "  Token-Norm: 84.48741912841797\n",
      "  index_no_updates-Token-Norm: 475.90191650390625\n",
      "  LM-Head-Weight-Norm: 13.659146308898926\n",
      "  index_no_updates-LM-Head-Weight-Norm: 636.0464477539062\n",
      "  LM-Head-Bias-Norm: 0.9964211583137512\n",
      "  index_no_updates-LM-Head-Bias-Norm: 200.17538452148438\n",
      "Epoch 70\n"
     ]
    },
    {
     "name": "stderr",
     "output_type": "stream",
     "text": [
      "100%|██████████| 48/48 [00:19<00:00,  2.52it/s]\n"
     ]
    },
    {
     "name": "stdout",
     "output_type": "stream",
     "text": [
      "Epoch 70 loss: 4.769666949907939, loss_t2i: 5.886111577351888, loss_mmu: 0.30388798797503114\n",
      "  Token-Norm: 85.22830963134766\n",
      "  index_no_updates-Token-Norm: 475.90191650390625\n",
      "  LM-Head-Weight-Norm: 13.620843887329102\n",
      "  index_no_updates-LM-Head-Weight-Norm: 636.0464477539062\n",
      "  LM-Head-Bias-Norm: 0.9932073354721069\n",
      "  index_no_updates-LM-Head-Bias-Norm: 200.17538452148438\n",
      "Epoch 71\n"
     ]
    },
    {
     "name": "stderr",
     "output_type": "stream",
     "text": [
      "100%|██████████| 48/48 [00:19<00:00,  2.47it/s]\n"
     ]
    },
    {
     "name": "stdout",
     "output_type": "stream",
     "text": [
      "Epoch 71 loss: 4.717006539305051, loss_t2i: 5.820044194658597, loss_mmu: 0.3048553200593839\n",
      "  Token-Norm: 86.17371368408203\n",
      "  index_no_updates-Token-Norm: 475.90191650390625\n",
      "  LM-Head-Weight-Norm: 13.589157104492188\n",
      "  index_no_updates-LM-Head-Weight-Norm: 636.0464477539062\n",
      "  LM-Head-Bias-Norm: 0.9903821349143982\n",
      "  index_no_updates-LM-Head-Bias-Norm: 200.17538452148438\n",
      "Epoch 72\n"
     ]
    },
    {
     "name": "stderr",
     "output_type": "stream",
     "text": [
      "100%|██████████| 48/48 [00:19<00:00,  2.44it/s]\n"
     ]
    },
    {
     "name": "stdout",
     "output_type": "stream",
     "text": [
      "Epoch 72 loss: 5.034942706425984, loss_t2i: 6.219238231579463, loss_mmu: 0.29776042498027283\n",
      "  Token-Norm: 86.93061065673828\n",
      "  index_no_updates-Token-Norm: 475.90191650390625\n",
      "  LM-Head-Weight-Norm: 13.573551177978516\n",
      "  index_no_updates-LM-Head-Weight-Norm: 636.0464477539062\n",
      "  LM-Head-Bias-Norm: 0.9883728623390198\n",
      "  index_no_updates-LM-Head-Bias-Norm: 200.17538452148438\n",
      "Epoch 73\n"
     ]
    },
    {
     "name": "stderr",
     "output_type": "stream",
     "text": [
      "100%|██████████| 48/48 [00:20<00:00,  2.40it/s]\n"
     ]
    },
    {
     "name": "stdout",
     "output_type": "stream",
     "text": [
      "Epoch 73 loss: 4.912772764762242, loss_t2i: 6.067466673751672, loss_mmu: 0.2939970172786464\n",
      "  Token-Norm: 87.72671508789062\n",
      "  index_no_updates-Token-Norm: 475.90191650390625\n",
      "  LM-Head-Weight-Norm: 13.557528495788574\n",
      "  index_no_updates-LM-Head-Weight-Norm: 636.0464477539062\n",
      "  LM-Head-Bias-Norm: 0.9865900874137878\n",
      "  index_no_updates-LM-Head-Bias-Norm: 200.17538452148438\n",
      "Epoch 74\n"
     ]
    },
    {
     "name": "stderr",
     "output_type": "stream",
     "text": [
      "100%|██████████| 48/48 [00:19<00:00,  2.50it/s]\n"
     ]
    },
    {
     "name": "stdout",
     "output_type": "stream",
     "text": [
      "Epoch 74 loss: 4.593718305230141, loss_t2i: 5.668252065777779, loss_mmu: 0.2955828147629897\n",
      "  Token-Norm: 88.39545440673828\n",
      "  index_no_updates-Token-Norm: 475.90191650390625\n",
      "  LM-Head-Weight-Norm: 13.548011779785156\n",
      "  index_no_updates-LM-Head-Weight-Norm: 636.0464477539062\n",
      "  LM-Head-Bias-Norm: 0.985378086566925\n",
      "  index_no_updates-LM-Head-Bias-Norm: 200.17538452148438\n",
      "Epoch 75\n"
     ]
    },
    {
     "name": "stderr",
     "output_type": "stream",
     "text": [
      "100%|██████████| 48/48 [00:20<00:00,  2.39it/s]\n"
     ]
    },
    {
     "name": "stdout",
     "output_type": "stream",
     "text": [
      "Epoch 75 loss: 4.283024340867996, loss_t2i: 5.282157063484192, loss_mmu: 0.28649295028299093\n",
      "  Token-Norm: 88.84901428222656\n",
      "  index_no_updates-Token-Norm: 475.90191650390625\n",
      "  LM-Head-Weight-Norm: 13.526243209838867\n",
      "  index_no_updates-LM-Head-Weight-Norm: 636.0464477539062\n",
      "  LM-Head-Bias-Norm: 0.9833845496177673\n",
      "  index_no_updates-LM-Head-Bias-Norm: 200.17538452148438\n",
      "Epoch 76\n"
     ]
    },
    {
     "name": "stderr",
     "output_type": "stream",
     "text": [
      "100%|██████████| 48/48 [00:20<00:00,  2.37it/s]\n"
     ]
    },
    {
     "name": "stdout",
     "output_type": "stream",
     "text": [
      "Epoch 76 loss: 4.644215539097786, loss_t2i: 5.733505740761757, loss_mmu: 0.28705442789942026\n",
      "  Token-Norm: 89.6181869506836\n",
      "  index_no_updates-Token-Norm: 475.90191650390625\n",
      "  LM-Head-Weight-Norm: 13.494319915771484\n",
      "  index_no_updates-LM-Head-Weight-Norm: 636.0464477539062\n",
      "  LM-Head-Bias-Norm: 0.9806681275367737\n",
      "  index_no_updates-LM-Head-Bias-Norm: 200.17538452148438\n",
      "Epoch 77\n"
     ]
    },
    {
     "name": "stderr",
     "output_type": "stream",
     "text": [
      "100%|██████████| 48/48 [00:19<00:00,  2.43it/s]\n"
     ]
    },
    {
     "name": "stdout",
     "output_type": "stream",
     "text": [
      "Epoch 77 loss: 4.838824550310771, loss_t2i: 5.974965776006381, loss_mmu: 0.2942592901332925\n",
      "  Token-Norm: 90.42679595947266\n",
      "  index_no_updates-Token-Norm: 475.90191650390625\n",
      "  LM-Head-Weight-Norm: 13.4639253616333\n",
      "  index_no_updates-LM-Head-Weight-Norm: 636.0464477539062\n",
      "  LM-Head-Bias-Norm: 0.9779826998710632\n",
      "  index_no_updates-LM-Head-Bias-Norm: 200.17538452148438\n",
      "Epoch 78\n"
     ]
    },
    {
     "name": "stderr",
     "output_type": "stream",
     "text": [
      "100%|██████████| 48/48 [00:20<00:00,  2.38it/s]\n"
     ]
    },
    {
     "name": "stdout",
     "output_type": "stream",
     "text": [
      "Epoch 78 loss: 4.795732413729032, loss_t2i: 5.922023360927899, loss_mmu: 0.29056813575637835\n",
      "  Token-Norm: 90.97496795654297\n",
      "  index_no_updates-Token-Norm: 475.90191650390625\n",
      "  LM-Head-Weight-Norm: 13.459291458129883\n",
      "  index_no_updates-LM-Head-Weight-Norm: 636.0464477539062\n",
      "  LM-Head-Bias-Norm: 0.9773116111755371\n",
      "  index_no_updates-LM-Head-Bias-Norm: 200.17538452148438\n",
      "Epoch 79\n"
     ]
    },
    {
     "name": "stderr",
     "output_type": "stream",
     "text": [
      "100%|██████████| 48/48 [00:19<00:00,  2.46it/s]\n"
     ]
    },
    {
     "name": "stdout",
     "output_type": "stream",
     "text": [
      "Epoch 79 loss: 4.748799040913582, loss_t2i: 5.866625641783078, loss_mmu: 0.27749237208627164\n",
      "  Token-Norm: 91.55365753173828\n",
      "  index_no_updates-Token-Norm: 475.90191650390625\n",
      "  LM-Head-Weight-Norm: 13.4421968460083\n",
      "  index_no_updates-LM-Head-Weight-Norm: 636.0464477539062\n",
      "  LM-Head-Bias-Norm: 0.9756230711936951\n",
      "  index_no_updates-LM-Head-Bias-Norm: 200.17538452148438\n",
      "Epoch 80\n"
     ]
    },
    {
     "name": "stderr",
     "output_type": "stream",
     "text": [
      "100%|██████████| 48/48 [00:19<00:00,  2.44it/s]\n"
     ]
    },
    {
     "name": "stdout",
     "output_type": "stream",
     "text": [
      "Epoch 80 loss: 4.695927267273267, loss_t2i: 5.8004749193787575, loss_mmu: 0.2777362580721577\n",
      "  Token-Norm: 92.2234115600586\n",
      "  index_no_updates-Token-Norm: 475.90191650390625\n",
      "  LM-Head-Weight-Norm: 13.419573783874512\n",
      "  index_no_updates-LM-Head-Weight-Norm: 636.0464477539062\n",
      "  LM-Head-Bias-Norm: 0.9735788702964783\n",
      "  index_no_updates-LM-Head-Bias-Norm: 200.17538452148438\n",
      "Epoch 81\n"
     ]
    },
    {
     "name": "stderr",
     "output_type": "stream",
     "text": [
      "100%|██████████| 48/48 [00:19<00:00,  2.47it/s]\n"
     ]
    },
    {
     "name": "stdout",
     "output_type": "stream",
     "text": [
      "Epoch 81 loss: 4.6511649290720625, loss_t2i: 5.744304940104485, loss_mmu: 0.2786045287890981\n",
      "  Token-Norm: 92.92076110839844\n",
      "  index_no_updates-Token-Norm: 475.90191650390625\n",
      "  LM-Head-Weight-Norm: 13.392826080322266\n",
      "  index_no_updates-LM-Head-Weight-Norm: 636.0464477539062\n",
      "  LM-Head-Bias-Norm: 0.9714959859848022\n",
      "  index_no_updates-LM-Head-Bias-Norm: 200.17538452148438\n",
      "Epoch 82\n"
     ]
    },
    {
     "name": "stderr",
     "output_type": "stream",
     "text": [
      "100%|██████████| 48/48 [00:19<00:00,  2.46it/s]\n"
     ]
    },
    {
     "name": "stdout",
     "output_type": "stream",
     "text": [
      "Epoch 82 loss: 4.740452840924263, loss_t2i: 5.855845014254252, loss_mmu: 0.2788836448453367\n",
      "  Token-Norm: 93.59732818603516\n",
      "  index_no_updates-Token-Norm: 475.90191650390625\n",
      "  LM-Head-Weight-Norm: 13.367218971252441\n",
      "  index_no_updates-LM-Head-Weight-Norm: 636.0464477539062\n",
      "  LM-Head-Bias-Norm: 0.9694010615348816\n",
      "  index_no_updates-LM-Head-Bias-Norm: 200.17538452148438\n",
      "Epoch 83\n"
     ]
    },
    {
     "name": "stderr",
     "output_type": "stream",
     "text": [
      "100%|██████████| 48/48 [00:20<00:00,  2.34it/s]\n"
     ]
    },
    {
     "name": "stdout",
     "output_type": "stream",
     "text": [
      "Epoch 83 loss: 4.885017280777295, loss_t2i: 6.036806404590607, loss_mmu: 0.27786024124361575\n",
      "  Token-Norm: 94.42491912841797\n",
      "  index_no_updates-Token-Norm: 475.90191650390625\n",
      "  LM-Head-Weight-Norm: 13.341917991638184\n",
      "  index_no_updates-LM-Head-Weight-Norm: 636.0464477539062\n",
      "  LM-Head-Bias-Norm: 0.9672917127609253\n",
      "  index_no_updates-LM-Head-Bias-Norm: 200.17538452148438\n",
      "Epoch 84\n"
     ]
    },
    {
     "name": "stderr",
     "output_type": "stream",
     "text": [
      "100%|██████████| 48/48 [00:20<00:00,  2.32it/s]\n"
     ]
    },
    {
     "name": "stdout",
     "output_type": "stream",
     "text": [
      "Epoch 84 loss: 4.589840526382129, loss_t2i: 5.668114100893338, loss_mmu: 0.2767459271320452\n",
      "  Token-Norm: 95.09696197509766\n",
      "  index_no_updates-Token-Norm: 475.90191650390625\n",
      "  LM-Head-Weight-Norm: 13.323046684265137\n",
      "  index_no_updates-LM-Head-Weight-Norm: 636.0464477539062\n",
      "  LM-Head-Bias-Norm: 0.9655101895332336\n",
      "  index_no_updates-LM-Head-Bias-Norm: 200.17538452148438\n",
      "Epoch 85\n"
     ]
    },
    {
     "name": "stderr",
     "output_type": "stream",
     "text": [
      "100%|██████████| 48/48 [00:19<00:00,  2.42it/s]\n"
     ]
    },
    {
     "name": "stdout",
     "output_type": "stream",
     "text": [
      "Epoch 85 loss: 4.69173438847065, loss_t2i: 5.795849457383156, loss_mmu: 0.2752737127399693\n",
      "  Token-Norm: 95.65254211425781\n",
      "  index_no_updates-Token-Norm: 475.90191650390625\n",
      "  LM-Head-Weight-Norm: 13.30129623413086\n",
      "  index_no_updates-LM-Head-Weight-Norm: 636.0464477539062\n",
      "  LM-Head-Bias-Norm: 0.9636515378952026\n",
      "  index_no_updates-LM-Head-Bias-Norm: 200.17538452148438\n",
      "Epoch 86\n"
     ]
    },
    {
     "name": "stderr",
     "output_type": "stream",
     "text": [
      "100%|██████████| 48/48 [00:20<00:00,  2.40it/s]\n"
     ]
    },
    {
     "name": "stdout",
     "output_type": "stream",
     "text": [
      "Epoch 86 loss: 4.483996624747912, loss_t2i: 5.536447594563167, loss_mmu: 0.2741922549903393\n",
      "  Token-Norm: 96.45869445800781\n",
      "  index_no_updates-Token-Norm: 475.90191650390625\n",
      "  LM-Head-Weight-Norm: 13.291725158691406\n",
      "  index_no_updates-LM-Head-Weight-Norm: 636.0464477539062\n",
      "  LM-Head-Bias-Norm: 0.9631807208061218\n",
      "  index_no_updates-LM-Head-Bias-Norm: 200.17538452148438\n",
      "Epoch 87\n"
     ]
    },
    {
     "name": "stderr",
     "output_type": "stream",
     "text": [
      "100%|██████████| 48/48 [00:19<00:00,  2.40it/s]\n"
     ]
    },
    {
     "name": "stdout",
     "output_type": "stream",
     "text": [
      "Epoch 87 loss: 4.655292173226674, loss_t2i: 5.750990768273671, loss_mmu: 0.27249741010988754\n",
      "  Token-Norm: 97.14942169189453\n",
      "  index_no_updates-Token-Norm: 475.90191650390625\n",
      "  LM-Head-Weight-Norm: 13.25753402709961\n",
      "  index_no_updates-LM-Head-Weight-Norm: 636.0464477539062\n",
      "  LM-Head-Bias-Norm: 0.9605458378791809\n",
      "  index_no_updates-LM-Head-Bias-Norm: 200.17538452148438\n",
      "Epoch 88\n"
     ]
    },
    {
     "name": "stderr",
     "output_type": "stream",
     "text": [
      "100%|██████████| 48/48 [00:19<00:00,  2.42it/s]\n"
     ]
    },
    {
     "name": "stdout",
     "output_type": "stream",
     "text": [
      "Epoch 88 loss: 5.053495069344838, loss_t2i: 6.24857963124911, loss_mmu: 0.2731564828039457\n",
      "  Token-Norm: 97.77544403076172\n",
      "  index_no_updates-Token-Norm: 475.90191650390625\n",
      "  LM-Head-Weight-Norm: 13.270474433898926\n",
      "  index_no_updates-LM-Head-Weight-Norm: 636.0464477539062\n",
      "  LM-Head-Bias-Norm: 0.9612802863121033\n",
      "  index_no_updates-LM-Head-Bias-Norm: 200.17538452148438\n",
      "Epoch 89\n"
     ]
    },
    {
     "name": "stderr",
     "output_type": "stream",
     "text": [
      "100%|██████████| 48/48 [00:20<00:00,  2.38it/s]\n"
     ]
    },
    {
     "name": "stdout",
     "output_type": "stream",
     "text": [
      "Epoch 89 loss: 4.856747211577992, loss_t2i: 6.00328305332611, loss_mmu: 0.2706034573105474\n",
      "  Token-Norm: 98.46116638183594\n",
      "  index_no_updates-Token-Norm: 475.90191650390625\n",
      "  LM-Head-Weight-Norm: 13.2608060836792\n",
      "  index_no_updates-LM-Head-Weight-Norm: 636.0464477539062\n",
      "  LM-Head-Bias-Norm: 0.9607225656509399\n",
      "  index_no_updates-LM-Head-Bias-Norm: 200.17538452148438\n",
      "Epoch 90\n"
     ]
    },
    {
     "name": "stderr",
     "output_type": "stream",
     "text": [
      "100%|██████████| 48/48 [00:19<00:00,  2.41it/s]\n"
     ]
    },
    {
     "name": "stdout",
     "output_type": "stream",
     "text": [
      "Epoch 90 loss: 4.559513757626216, loss_t2i: 5.632428268591563, loss_mmu: 0.26785547053441405\n",
      "  Token-Norm: 99.09678649902344\n",
      "  index_no_updates-Token-Norm: 475.90191650390625\n",
      "  LM-Head-Weight-Norm: 13.23636531829834\n",
      "  index_no_updates-LM-Head-Weight-Norm: 636.0464477539062\n",
      "  LM-Head-Bias-Norm: 0.9588407874107361\n",
      "  index_no_updates-LM-Head-Bias-Norm: 200.17538452148438\n",
      "Epoch 91\n"
     ]
    },
    {
     "name": "stderr",
     "output_type": "stream",
     "text": [
      "100%|██████████| 48/48 [00:20<00:00,  2.38it/s]\n"
     ]
    },
    {
     "name": "stdout",
     "output_type": "stream",
     "text": [
      "Epoch 91 loss: 4.549325630068779, loss_t2i: 5.619448482990265, loss_mmu: 0.26883394131436944\n",
      "  Token-Norm: 99.61195373535156\n",
      "  index_no_updates-Token-Norm: 475.90191650390625\n",
      "  LM-Head-Weight-Norm: 13.232706069946289\n",
      "  index_no_updates-LM-Head-Weight-Norm: 636.0464477539062\n",
      "  LM-Head-Bias-Norm: 0.9584458470344543\n",
      "  index_no_updates-LM-Head-Bias-Norm: 200.17538452148438\n",
      "Epoch 92\n"
     ]
    },
    {
     "name": "stderr",
     "output_type": "stream",
     "text": [
      "100%|██████████| 48/48 [00:19<00:00,  2.41it/s]\n"
     ]
    },
    {
     "name": "stdout",
     "output_type": "stream",
     "text": [
      "Epoch 92 loss: 4.606464579701424, loss_t2i: 5.692927867174149, loss_mmu: 0.26061084827718634\n",
      "  Token-Norm: 100.25029754638672\n",
      "  index_no_updates-Token-Norm: 475.90191650390625\n",
      "  LM-Head-Weight-Norm: 13.2153902053833\n",
      "  index_no_updates-LM-Head-Weight-Norm: 636.0464477539062\n",
      "  LM-Head-Bias-Norm: 0.9573018550872803\n",
      "  index_no_updates-LM-Head-Bias-Norm: 200.17538452148438\n",
      "Epoch 93\n"
     ]
    },
    {
     "name": "stderr",
     "output_type": "stream",
     "text": [
      "100%|██████████| 48/48 [00:19<00:00,  2.41it/s]\n"
     ]
    },
    {
     "name": "stdout",
     "output_type": "stream",
     "text": [
      "Epoch 93 loss: 4.66227591286103, loss_t2i: 5.761431102951367, loss_mmu: 0.2656546803967406\n",
      "  Token-Norm: 100.92002868652344\n",
      "  index_no_updates-Token-Norm: 475.90191650390625\n",
      "  LM-Head-Weight-Norm: 13.17808723449707\n",
      "  index_no_updates-LM-Head-Weight-Norm: 636.0464477539062\n",
      "  LM-Head-Bias-Norm: 0.9544312357902527\n",
      "  index_no_updates-LM-Head-Bias-Norm: 200.17538452148438\n",
      "Epoch 94\n"
     ]
    },
    {
     "name": "stderr",
     "output_type": "stream",
     "text": [
      "100%|██████████| 48/48 [00:20<00:00,  2.36it/s]\n"
     ]
    },
    {
     "name": "stdout",
     "output_type": "stream",
     "text": [
      "Epoch 94 loss: 4.515634514391422, loss_t2i: 5.579460064570109, loss_mmu: 0.2603318675731619\n",
      "  Token-Norm: 101.2801742553711\n",
      "  index_no_updates-Token-Norm: 475.90191650390625\n",
      "  LM-Head-Weight-Norm: 13.143588066101074\n",
      "  index_no_updates-LM-Head-Weight-Norm: 636.0464477539062\n",
      "  LM-Head-Bias-Norm: 0.9520848393440247\n",
      "  index_no_updates-LM-Head-Bias-Norm: 200.17538452148438\n",
      "Epoch 95\n"
     ]
    },
    {
     "name": "stderr",
     "output_type": "stream",
     "text": [
      "100%|██████████| 48/48 [00:19<00:00,  2.42it/s]\n"
     ]
    },
    {
     "name": "stdout",
     "output_type": "stream",
     "text": [
      "Epoch 95 loss: 4.434241759280364, loss_t2i: 5.476129213968913, loss_mmu: 0.26669158949516714\n",
      "  Token-Norm: 101.95359802246094\n",
      "  index_no_updates-Token-Norm: 475.90191650390625\n",
      "  LM-Head-Weight-Norm: 13.09901237487793\n",
      "  index_no_updates-LM-Head-Weight-Norm: 636.0464477539062\n",
      "  LM-Head-Bias-Norm: 0.9488313794136047\n",
      "  index_no_updates-LM-Head-Bias-Norm: 200.17538452148438\n",
      "Epoch 96\n"
     ]
    },
    {
     "name": "stderr",
     "output_type": "stream",
     "text": [
      "100%|██████████| 48/48 [00:20<00:00,  2.36it/s]\n"
     ]
    },
    {
     "name": "stdout",
     "output_type": "stream",
     "text": [
      "Epoch 96 loss: 4.72545596708854, loss_t2i: 5.8410436908404035, loss_mmu: 0.2631043044384569\n",
      "  Token-Norm: 102.47635650634766\n",
      "  index_no_updates-Token-Norm: 475.90191650390625\n",
      "  LM-Head-Weight-Norm: 13.087751388549805\n",
      "  index_no_updates-LM-Head-Weight-Norm: 636.0464477539062\n",
      "  LM-Head-Bias-Norm: 0.9481560587882996\n",
      "  index_no_updates-LM-Head-Bias-Norm: 200.17538452148438\n",
      "Epoch 97\n"
     ]
    },
    {
     "name": "stderr",
     "output_type": "stream",
     "text": [
      "100%|██████████| 48/48 [00:20<00:00,  2.38it/s]\n"
     ]
    },
    {
     "name": "stdout",
     "output_type": "stream",
     "text": [
      "Epoch 97 loss: 4.646288494269053, loss_t2i: 5.7415865908066435, loss_mmu: 0.26509572216309607\n",
      "  Token-Norm: 103.11553192138672\n",
      "  index_no_updates-Token-Norm: 475.90191650390625\n",
      "  LM-Head-Weight-Norm: 13.085599899291992\n",
      "  index_no_updates-LM-Head-Weight-Norm: 636.0464477539062\n",
      "  LM-Head-Bias-Norm: 0.9482777118682861\n",
      "  index_no_updates-LM-Head-Bias-Norm: 200.17538452148438\n",
      "Epoch 98\n"
     ]
    },
    {
     "name": "stderr",
     "output_type": "stream",
     "text": [
      "100%|██████████| 48/48 [00:19<00:00,  2.41it/s]\n"
     ]
    },
    {
     "name": "stdout",
     "output_type": "stream",
     "text": [
      "Epoch 98 loss: 4.526162003477414, loss_t2i: 5.591716552774112, loss_mmu: 0.2639434208783011\n",
      "  Token-Norm: 103.64498138427734\n",
      "  index_no_updates-Token-Norm: 475.90191650390625\n",
      "  LM-Head-Weight-Norm: 13.072162628173828\n",
      "  index_no_updates-LM-Head-Weight-Norm: 636.0464477539062\n",
      "  LM-Head-Bias-Norm: 0.9476011991500854\n",
      "  index_no_updates-LM-Head-Bias-Norm: 200.17538452148438\n",
      "Epoch 99\n"
     ]
    },
    {
     "name": "stderr",
     "output_type": "stream",
     "text": [
      "100%|██████████| 48/48 [00:20<00:00,  2.35it/s]\n"
     ]
    },
    {
     "name": "stdout",
     "output_type": "stream",
     "text": [
      "Epoch 99 loss: 4.649280746777852, loss_t2i: 5.744374513626099, loss_mmu: 0.26890539308078587\n",
      "  Token-Norm: 104.42333221435547\n",
      "  index_no_updates-Token-Norm: 475.90191650390625\n",
      "  LM-Head-Weight-Norm: 13.076780319213867\n",
      "  index_no_updates-LM-Head-Weight-Norm: 636.0464477539062\n",
      "  LM-Head-Bias-Norm: 0.9484653472900391\n",
      "  index_no_updates-LM-Head-Bias-Norm: 200.17538452148438\n",
      "Epoch 100\n"
     ]
    },
    {
     "name": "stderr",
     "output_type": "stream",
     "text": [
      "100%|██████████| 48/48 [00:20<00:00,  2.34it/s]"
     ]
    },
    {
     "name": "stdout",
     "output_type": "stream",
     "text": [
      "Epoch 100 loss: 4.427635793884595, loss_t2i: 5.467959562937419, loss_mmu: 0.26634043486167985\n",
      "  Token-Norm: 104.93689727783203\n",
      "  index_no_updates-Token-Norm: 475.90191650390625\n",
      "  LM-Head-Weight-Norm: 13.048620223999023\n",
      "  index_no_updates-LM-Head-Weight-Norm: 636.0464477539062\n",
      "  LM-Head-Bias-Norm: 0.9466903805732727\n",
      "  index_no_updates-LM-Head-Bias-Norm: 200.17538452148438\n"
     ]
    },
    {
     "name": "stderr",
     "output_type": "stream",
     "text": [
      "\n"
     ]
    }
   ],
   "source": [
    "model.output_size = new_total_vocab\n",
    "save_path = os.path.join(\"saves\", concept, \"t2i_wo_sys\")\n",
    "os.makedirs(save_path, exist_ok=True)\n",
    "for epoch in range(0, 100):\n",
    "    print(f\"Epoch {epoch+1}\")\n",
    "    loss_list = []\n",
    "    loss_t2i_list = []\n",
    "    loss_mmu_list = []\n",
    "    for batch, batch_idx, dataloader_idx in tqdm(list_combined_dataloader):\n",
    "        batch_size_mmu = batch[\"mmu_flow\"][\"images\"].shape[0]\n",
    "        batch_size_t2i = batch[\"t2i_flow\"][\"images\"].shape[0]\n",
    "        \n",
    "        # t2i format\n",
    "        pixel_values, texts = batch[\"t2i_flow\"][\"images\"], batch[\"t2i_flow\"][\"conditions\"]\n",
    "        pixel_values = pixel_values.to(device)\n",
    "        input_ids, labels, mask_prob, image_tokens_ori = prepare_inputs_and_labels(pixel_values, texts, is_train=True)\n",
    "        attention_mask = create_attention_mask_predict_next(input_ids,\n",
    "                                                                pad_id=int(uni_prompting.sptids_dict['<|pad|>']),\n",
    "                                                                soi_id=int(uni_prompting.sptids_dict['<|soi|>']),\n",
    "                                                                eoi_id=int(uni_prompting.sptids_dict['<|eoi|>']),\n",
    "                                                                rm_pad_in_image=True,\n",
    "                                                                return_inverse_mask=True)\n",
    "        attention_mask = attention_mask.to(mask_dtype)\n",
    "        # 美国队长的盾牌\n",
    "        \n",
    "        # mmu format\n",
    "        pixel_values_mmu, input_ids_mmu, labels_mmu = (batch[\"mmu_flow\"][\"images\"],\n",
    "                                                      batch[\"mmu_flow\"][\"input_ids\"],\n",
    "                                                      batch[\"mmu_flow\"][\"labels\"])\n",
    "        pixel_values_mmu = pixel_values_mmu.to(device, non_blocking=True)\n",
    "        input_ids_mmu = input_ids_mmu.to(device, non_blocking=True)\n",
    "        image_tokens_mmu = vq_model.get_code(pixel_values_mmu)\n",
    "        image_tokens_mmu = image_tokens_mmu + len(uni_prompting.text_tokenizer)\n",
    "        \n",
    "        input_ids_mmu = torch.cat([\n",
    "                    (torch.ones(input_ids_mmu.shape[0], 1) * uni_prompting.sptids_dict['<|mmu|>']).to(\n",
    "                        device),\n",
    "                    (torch.ones(input_ids_mmu.shape[0], 1) * uni_prompting.sptids_dict['<|soi|>']).to(\n",
    "                        device),\n",
    "                    image_tokens_mmu,\n",
    "                    (torch.ones(input_ids_mmu.shape[0], 1) * uni_prompting.sptids_dict['<|eoi|>']).to(\n",
    "                        device),\n",
    "                    input_ids_mmu,\n",
    "                ], dim=1).long()\n",
    "\n",
    "        labels_mmu = torch.cat([\n",
    "                    (torch.ones(input_ids_mmu.shape[0], 1) * uni_prompting.ignore_id).to(device),\n",
    "                    (torch.ones(input_ids_mmu.shape[0], 1) * uni_prompting.ignore_id).to(device),\n",
    "                    torch.ones_like(image_tokens_mmu) * uni_prompting.ignore_id,\n",
    "                    (torch.ones(input_ids_mmu.shape[0], 1) * uni_prompting.ignore_id).to(device),\n",
    "                    labels_mmu.to(device)\n",
    "                ], dim=1).long()\n",
    "        \n",
    "        \n",
    "        attention_mask_mmu = create_attention_mask_for_mmu(input_ids_mmu.to(input_ids.device),\n",
    "                                                               eoi_id=int(uni_prompting.sptids_dict['<|eoi|>']))\n",
    "        attention_mask_mmu = attention_mask_mmu.to(mask_dtype)\n",
    "        attention_mask = torch.cat([attention_mask, attention_mask_mmu], dim=0)\n",
    "        input_ids = torch.cat((input_ids, input_ids_mmu.to(input_ids.device)), dim=0)\n",
    "        labels = torch.cat((labels, labels_mmu.to(input_ids.device)), dim=0)\n",
    "        \n",
    "        optimizer.zero_grad()\n",
    "        \n",
    "        logits, loss_t2i, loss_lm, loss_mmu = model(\n",
    "                    input_ids=input_ids,\n",
    "                    input_embeddings=None,\n",
    "                    attention_mask=attention_mask,\n",
    "                    labels=labels,\n",
    "                    label_smoothing=0.0,\n",
    "                    batch_size_t2i=batch_size_t2i,\n",
    "                    batch_size_lm=0,\n",
    "                    batch_size_mmu=batch_size_mmu,\n",
    "                    max_seq_length=128,\n",
    "                )\n",
    "        loss = 0.8 * loss_t2i + 0.2 * loss_mmu\n",
    "        # loss = loss_t2i\n",
    "        loss.backward()\n",
    "        optimizer.step()\n",
    "        loss_list.append(loss.item())\n",
    "        loss_t2i_list.append(loss_t2i.item())\n",
    "        loss_mmu_list.append(loss_mmu.item())\n",
    "        # tqdm.set_postfix(loss=loss.item(), loss_t2i=loss_t2i.item(), loss_mmu=loss_mmu.item())\n",
    "        # tqdm.write(f\"loss: {loss.item()}, loss_t2i: {loss_t2i.item()}, loss_mmu: {loss_mmu.item()}\")\n",
    "        # 恢复原始权重\n",
    "        with torch.no_grad():\n",
    "            model.showo.get_input_embeddings().weight.data[index_no_updates] = orig_embeds[index_no_updates]\n",
    "            model.showo.lm_head.weight.data[index_no_updates] = orig_lm_head_weight[index_no_updates]\n",
    "            model.showo.lm_head.bias.data[index_no_updates] = orig_lm_head_bias[index_no_updates]\n",
    "    print(f\"Epoch {epoch+1} loss: {np.mean(loss_list)}, loss_t2i: {np.mean(loss_t2i_list)}, loss_mmu: {np.mean(loss_mmu_list)}\")\n",
    "    print(f\"  Token-Norm: {model.showo.get_input_embeddings().weight[new_token_ids].norm().item()}\")\n",
    "    print(f\"  index_no_updates-Token-Norm: {model.showo.get_input_embeddings().weight[index_no_updates].norm().item()}\")\n",
    "    print(f\"  LM-Head-Weight-Norm: {model.showo.lm_head.weight[new_token_ids].norm().item()}\")\n",
    "    print(f\"  index_no_updates-LM-Head-Weight-Norm: {model.showo.lm_head.weight[index_no_updates].norm().item()}\")\n",
    "    print(f\"  LM-Head-Bias-Norm: {model.showo.lm_head.bias[new_token_ids].norm().item()}\")\n",
    "    print(f\"  index_no_updates-LM-Head-Bias-Norm: {model.showo.lm_head.bias[index_no_updates].norm().item()}\")\n",
    "    \n",
    "    \n",
    "    # print(f\"Epoch {epoch} loss: {np.mean(loss_list)}, loss_t2i: {np.mean(loss_t2i_list)}\")\n",
    "    if (epoch+1) % 10 == 0:\n",
    "        save_path_embed = os.path.join(save_path, f\"epoch_{epoch+1}_embed.pt\")\n",
    "        save_path_lm_head_weight = os.path.join(save_path, f\"epoch_{epoch+1}_lm_head_weight.pt\")\n",
    "        save_path_lm_head_bias = os.path.join(save_path, f\"epoch_{epoch+1}_lm_head_bias.pt\")\n",
    "        \n",
    "        torch.save(model.showo.get_input_embeddings().weight.data[new_token_ids], save_path_embed)\n",
    "        torch.save(model.showo.lm_head.weight.data[new_token_ids], save_path_lm_head_weight)\n",
    "        torch.save(model.showo.lm_head.bias.data[new_token_ids], save_path_lm_head_bias)\n",
    "        \n",
    "        "
   ]
  },
  {
   "cell_type": "code",
   "execution_count": null,
   "metadata": {},
   "outputs": [],
   "source": []
  }
 ],
 "metadata": {
  "kernelspec": {
   "display_name": "showo",
   "language": "python",
   "name": "python3"
  },
  "language_info": {
   "codemirror_mode": {
    "name": "ipython",
    "version": 3
   },
   "file_extension": ".py",
   "mimetype": "text/x-python",
   "name": "python",
   "nbconvert_exporter": "python",
   "pygments_lexer": "ipython3",
   "version": "3.10.16"
  }
 },
 "nbformat": 4,
 "nbformat_minor": 2
}
