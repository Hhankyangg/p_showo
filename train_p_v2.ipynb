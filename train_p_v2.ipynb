{
 "cells": [
  {
   "cell_type": "code",
   "execution_count": 14,
   "metadata": {},
   "outputs": [],
   "source": [
    "from pdata import PersonalizedMMUDataset, PersonalizedT2IDataset, get_personalized_mmu_dataloader, get_personalized_t2i_dataloader\n",
    "from lightning.pytorch.utilities import CombinedLoader\n",
    "\n",
    "import torch\n",
    "from torch.utils.data import Dataset, DataLoader\n",
    "import torch.nn.functional as F\n",
    "import torch.nn as nn\n",
    "import numpy as np\n",
    "from tqdm import tqdm\n",
    "from PIL import Image\n",
    "\n",
    "from models import Showo, MAGVITv2, get_mask_chedule\n",
    "from training.prompting_utils import UniversalPrompting, create_attention_mask_predict_next, create_attention_mask_for_mmu\n",
    "from training.utils import get_config, flatten_omega_conf, mask_or_random_replace_tokens, AverageMeter\n",
    "from transformers import AutoTokenizer\n",
    "from models.clip_encoder import CLIPVisionTower\n",
    "from transformers import CLIPImageProcessor\n",
    "from llava.llava import conversation as conversation_lib\n",
    "\n",
    "conversation_lib.default_conversation = conversation_lib.conv_templates[\"phi1.5\"]\n",
    "\n",
    "import os\n",
    "from omegaconf import DictConfig, ListConfig, OmegaConf\n",
    "config = OmegaConf.load('configs/showo_demo.yaml')\n",
    "# device setup\n",
    "device = torch.device(\"cuda:7\")"
   ]
  },
  {
   "cell_type": "code",
   "execution_count": 15,
   "metadata": {},
   "outputs": [
    {
     "name": "stderr",
     "output_type": "stream",
     "text": [
      "The config attributes {'mask_token_id': 58497} were passed to Showo, but are not expected and will be ignored. Please verify your config.json configuration file.\n"
     ]
    },
    {
     "name": "stdout",
     "output_type": "stream",
     "text": [
      "Working with z of shape (1, 13, 16, 16) = 3328 dimensions.\n",
      "Look-up free quantizer with codebook size: 8192\n",
      "attention implementation:  sdpa\n"
     ]
    }
   ],
   "source": [
    "# show o tokenizer setup and adding special tokens to universal prompting\n",
    "# llm model : 'microsoft/phi-1_5'\n",
    "tokenizer = AutoTokenizer.from_pretrained(config.model.showo.llm_model_path, padding_side =\"left\")\n",
    "uni_prompting = UniversalPrompting(tokenizer, max_text_len=config.dataset.preprocessing.max_seq_length,\n",
    "                                       special_tokens=(\"<|soi|>\", \"<|eoi|>\", \"<|sov|>\", \"<|eov|>\", \"<|t2i|>\", \"<|mmu|>\", \"<|t2v|>\", \"<|v2v|>\", \"<|lvg|>\"),\n",
    "                                       ignore_id=-100, cond_dropout_prob=config.training.cond_dropout_prob)\n",
    "\n",
    "# setting up the magvit-v2, for t2i\n",
    "vq_model = MAGVITv2.from_pretrained(config.model.vq_model.vq_model_name).to(device)\n",
    "# vq_model.requires_grad_(False)\n",
    "# vq_model.eval()\n",
    "\n",
    "# setting up vision tower: clip-vit only for mmu\n",
    "# vision_tower_name =config.clip_path\n",
    "# vision_tower = CLIPVisionTower(vision_tower_name).to(device)\n",
    "# clip_image_processor = CLIPImageProcessor.from_pretrained(vision_tower_name)\n",
    "\n",
    "# setting up the showo model \n",
    "model = Showo.from_pretrained(config.model.showo.pretrained_model_path).to(device)\n",
    "# model.eval()\n",
    "\n",
    "# setting up the parameters\n",
    "temperature = 1  # 1.0 = no change, < 1.0 = less random, > 1.0 = more random, in predictions\n",
    "top_k = 1  # retain only the top_k most likely tokens, clamp others to have 0 probability\n",
    "# LLAVA_SYSTEM_PROMPT = \"A chat between a curious user and an artificial intelligence assistant. \" \\\n",
    "#                 \"The assistant gives helpful, detailed, and polite answers to the user's questions.\"\n",
    "# LLAVA_SYSTEM_PROMPT_LEN = 28"
   ]
  },
  {
   "cell_type": "code",
   "execution_count": 16,
   "metadata": {},
   "outputs": [
    {
     "data": {
      "text/plain": [
       "torch.Size([58498])"
      ]
     },
     "execution_count": 16,
     "metadata": {},
     "output_type": "execute_result"
    }
   ],
   "source": [
    "# print(model.showo.get_input_embeddings())\n",
    "model.showo.get_input_embeddings().num_embeddings\n",
    "model.showo.get_input_embeddings().num_embeddings - len(tokenizer)\n",
    "model.showo.get_input_embeddings().weight.data.shape\n",
    "model.showo.lm_head.weight.shape\n",
    "model.showo.lm_head.bias.shape"
   ]
  },
  {
   "cell_type": "code",
   "execution_count": 17,
   "metadata": {},
   "outputs": [],
   "source": [
    "data_root = \"/home/arc/full_mcdata\"\n",
    "concept = \"dunpai\""
   ]
  },
  {
   "cell_type": "code",
   "execution_count": 18,
   "metadata": {},
   "outputs": [
    {
     "name": "stdout",
     "output_type": "stream",
     "text": [
      "新 token ID: [50305, 50306, 50307, 50308, 50309, 50310, 50311, 50312, 50313, 50314, 50315, 50316, 50317, 50318, 50319, 50320, 50321]\n",
      "新增文本 token ID: [50305, 50306, 50307, 50308, 50309, 50310, 50311, 50312, 50313, 50314, 50315, 50316, 50317, 50318, 50319, 50320, 50321]\n",
      "Concept Token '<dunpai>' 的新 ID: 50305\n",
      "嵌入层大小: torch.Size([58515, 2048])\n",
      "index_no_updates 中 False 的位置: tensor([50305, 50306, 50307, 50308, 50309, 50310, 50311, 50312, 50313, 50314,\n",
      "        50315, 50316, 50317, 50318, 50319, 50320, 50321])\n",
      "index_no_updates 中 True 的数量: tensor(58498)\n"
     ]
    }
   ],
   "source": [
    "nums_new_token_i = 16\n",
    "\n",
    "#################################\n",
    "new_tokens = [f\"<{concept}>\"] + [f\"<token_{i}>\" for i in range(nums_new_token_i)]\n",
    "num_new_tokens = len(new_tokens)  # 17\n",
    "\n",
    "# 已知的原始参数\n",
    "# 文本 token 数量（ID 0-50304）\n",
    "original_text_vocab_size = len(tokenizer)  \n",
    "# Image token 数量（原 ID 50305-58497）\n",
    "original_image_vocab_size = model.showo.get_input_embeddings().num_embeddings - len(tokenizer)\n",
    "\n",
    "original_total_vocab = original_text_vocab_size + original_image_vocab_size  # 58498\n",
    "\n",
    "# 新的参数\n",
    "new_text_vocab_size = original_text_vocab_size + num_new_tokens  # 50305 + 17 = 50322\n",
    "new_total_vocab = original_total_vocab + num_new_tokens          # 58498 + 17 = 58515\n",
    "\n",
    "# ------------------------------\n",
    "# Step 1: 修改 Tokenizer 的词汇表\n",
    "# ------------------------------\n",
    "\n",
    "# 添加新 token 到 50305-50321 的位置\n",
    "num_new_tokens = tokenizer.add_tokens(new_tokens)\n",
    "new_token_ids = tokenizer.convert_tokens_to_ids(new_tokens)\n",
    "print(\"新 token ID:\", new_token_ids)  # 应输出 50305-50321\n",
    "\n",
    "# ------------------------------\n",
    "# Step 2: 调整模型的权重\n",
    "# ------------------------------\n",
    "with torch.no_grad():\n",
    "    # 获取嵌入层权重\n",
    "    embeddings = model.showo.get_input_embeddings().weight.data\n",
    "    \n",
    "    # 扩展嵌入层（58498 -> 58515）\n",
    "    model.showo.resize_token_embeddings(new_total_vocab)\n",
    "    # new_embeddings = model.showo.get_input_embeddings().weight.data\n",
    "\n",
    "    # 将原 Image Token 权重后移 17 位\n",
    "    original_image_weights = embeddings[original_text_vocab_size:original_total_vocab].clone()\n",
    "    model.showo.get_input_embeddings().weight.data[new_text_vocab_size:new_total_vocab] = original_image_weights\n",
    "    \n",
    "    # 初始化新 token 的权重（用原文本最后 17 个 token）\n",
    "    # new_text_weights = embeddings[original_text_vocab_size - num_new_tokens : original_text_vocab_size].clone()\n",
    "    # model.showo.get_input_embeddings().weight.data[original_text_vocab_size : new_text_vocab_size] = new_text_weights\n",
    "    # print(model.showo.lm_head.weight.data.shape[1])\n",
    "    # 处理 lm_head（假设与嵌入层共享权重）\n",
    "    if model.showo.lm_head.weight.data.shape[0] == new_total_vocab:\n",
    "        # 扩展 lm_head 权重\n",
    "        lm_head = model.showo.lm_head\n",
    "        new_lm_head = torch.nn.Linear(\n",
    "            lm_head.in_features, \n",
    "            new_total_vocab, \n",
    "            bias=hasattr(lm_head, 'bias')\n",
    "        )\n",
    "        new_lm_head.weight.data = lm_head.weight.data.clone()\n",
    "        new_lm_head.weight.data[new_text_vocab_size:new_total_vocab] = lm_head.weight.data[original_text_vocab_size:original_total_vocab]\n",
    "        # new_lm_head.weight.data[original_text_vocab_size:new_text_vocab_size] = lm_head.weight.data[original_text_vocab_size - num_new_tokens : original_text_vocab_size]\n",
    "        if hasattr(lm_head, 'bias'):\n",
    "            new_lm_head.bias.data = lm_head.bias.data.clone()\n",
    "            new_lm_head.bias.data[new_text_vocab_size:new_total_vocab] = lm_head.bias.data[original_text_vocab_size:original_total_vocab]\n",
    "            # new_lm_head.bias.data[original_text_vocab_size:new_text_vocab_size] = lm_head.bias.data[original_text_vocab_size - num_new_tokens : original_text_vocab_size]\n",
    "        \n",
    "        model.showo.lm_head = new_lm_head\n",
    "    else:\n",
    "        raise ValueError(\"lm_head weights do not match the input embeddings!\")\n",
    "\n",
    "index_no_updates = torch.ones((new_total_vocab,), dtype=torch.bool)\n",
    "index_no_updates[new_token_ids] = False\n",
    "# ------------------------------\n",
    "# 验证\n",
    "# ------------------------------\n",
    "# 检查新 token 的 ID\n",
    "print(\"新增文本 token ID:\", [tokenizer.convert_tokens_to_ids(t) for t in new_tokens])  # 应输出 50305-50321\n",
    "\n",
    "# 检查一个原 Image Token 的新 ID\n",
    "sample_image_token = tokenizer.convert_ids_to_tokens(original_text_vocab_size)  # 原 ID 50305\n",
    "print(f\"Concept Token '{sample_image_token}' 的新 ID:\", tokenizer.convert_tokens_to_ids(sample_image_token))  # 应输出 50322\n",
    "\n",
    "# 检查嵌入层形状\n",
    "print(\"嵌入层大小:\", model.showo.get_input_embeddings().weight.shape)  # 应显示 torch.Size([58515, 2048])\n",
    "\n",
    "# 检查 index_no_updates 中 True 的位置和数量，True 应该是 new token ids\n",
    "print(\"index_no_updates 中 False 的位置:\", torch.nonzero(~index_no_updates).squeeze())  # 应输出 50305-50321\n",
    "print(\"index_no_updates 中 True 的数量:\", torch.sum(index_no_updates))  # 应输出 58498\n",
    "\n",
    "with torch.no_grad():\n",
    "    orig_embeds = model.showo.get_input_embeddings().weight.data.clone()\n",
    "    orig_lm_head_weight = model.showo.lm_head.weight.data.clone()\n",
    "    orig_lm_head_bias = model.showo.lm_head.bias.data.clone()"
   ]
  },
  {
   "cell_type": "code",
   "execution_count": 19,
   "metadata": {},
   "outputs": [],
   "source": [
    "concept_embeds = model.showo.get_input_embeddings().weight.data[new_token_ids]\n",
    "concept_lm_nead_wight = model.showo.lm_head.weight.data[new_token_ids]\n",
    "concept_lm_nead_bias = model.showo.lm_head.bias.data[new_token_ids]"
   ]
  },
  {
   "cell_type": "code",
   "execution_count": 20,
   "metadata": {},
   "outputs": [
    {
     "data": {
      "text/plain": [
       "(torch.Size([17, 2048]), torch.Size([17, 2048]), torch.Size([17]))"
      ]
     },
     "execution_count": 20,
     "metadata": {},
     "output_type": "execute_result"
    }
   ],
   "source": [
    "concept_embeds.shape, concept_lm_nead_wight.shape, concept_lm_nead_bias.shape"
   ]
  },
  {
   "cell_type": "code",
   "execution_count": 21,
   "metadata": {},
   "outputs": [
    {
     "data": {
      "text/plain": [
       "{'<|soi|>': tensor([50296]),\n",
       " '<|eoi|>': tensor([50297]),\n",
       " '<|sov|>': tensor([50298]),\n",
       " '<|eov|>': tensor([50299]),\n",
       " '<|t2i|>': tensor([50300]),\n",
       " '<|mmu|>': tensor([50301]),\n",
       " '<|t2v|>': tensor([50302]),\n",
       " '<|v2v|>': tensor([50303]),\n",
       " '<|lvg|>': tensor([50304]),\n",
       " '<|sot|>': tensor([50256]),\n",
       " '<|eot|>': tensor([50256]),\n",
       " '<|pad|>': tensor([50295])}"
      ]
     },
     "execution_count": 21,
     "metadata": {},
     "output_type": "execute_result"
    }
   ],
   "source": [
    "uni_prompting.sptids_dict"
   ]
  },
  {
   "cell_type": "code",
   "execution_count": 22,
   "metadata": {},
   "outputs": [
    {
     "name": "stdout",
     "output_type": "stream",
     "text": [
      "showo.model.embed_tokens.weight requires_grad\n",
      "showo.lm_head.weight requires_grad\n",
      "showo.lm_head.bias requires_grad\n"
     ]
    }
   ],
   "source": [
    "vq_model.requires_grad_ = False\n",
    "vq_model.eval()\n",
    "model.train()\n",
    "for names, p in model.named_parameters():\n",
    "    if \"embed_tokens\" not in names and \"lm_head\" not in names:\n",
    "        p.requires_grad = False\n",
    "    else:\n",
    "        p.requires_grad = True\n",
    "\n",
    "trainable_params = [model.showo.get_input_embeddings().weight, model.showo.lm_head.weight, model.showo.lm_head.bias]\n",
    "optimizer = torch.optim.AdamW(\n",
    "            trainable_params, # for optimize the embeddings and the head\n",
    "            lr=1e-2,\n",
    "            betas=(0.9, 0.999),\n",
    "            weight_decay=1e-2,\n",
    "            eps=1e-08,\n",
    "        )\n",
    "for names, p in model.named_parameters():\n",
    "    if p.requires_grad:\n",
    "        print(f\"{names} requires_grad\") # embed_token, lm_head会更新"
   ]
  },
  {
   "cell_type": "code",
   "execution_count": 23,
   "metadata": {},
   "outputs": [],
   "source": [
    "model.config.mask_token_id = model.showo.get_input_embeddings().num_embeddings - 1\n",
    "model.mask_token_id = model.showo.get_input_embeddings().num_embeddings - 1"
   ]
  },
  {
   "cell_type": "code",
   "execution_count": 24,
   "metadata": {},
   "outputs": [],
   "source": [
    "mask_schedule = get_mask_chedule(config.training.get(\"mask_schedule\", \"cosine\"))\n",
    "mask_id = model.mask_token_id\n",
    "mask_dtype = model.showo.model.embed_tokens.weight.dtype"
   ]
  },
  {
   "cell_type": "code",
   "execution_count": 26,
   "metadata": {},
   "outputs": [
    {
     "name": "stdout",
     "output_type": "stream",
     "text": [
      "Formatting llava instruction data\n"
     ]
    }
   ],
   "source": [
    "\n",
    "# t2i_dataset = PersonalizedT2IDataset(data_root, concept)\n",
    "# t2i_dataloader = DataLoader(t2i_dataset, batch_size=5, shuffle=True, num_workers=10, pin_memory=True)\n",
    "\n",
    "mmu_dataloader = get_personalized_mmu_dataloader(data_root, concept, tokenizer, batch_size=5, num_workers=0, max_length=128)\n",
    "t2i_dataloader = get_personalized_t2i_dataloader(data_root, concept, tokenizer, batch_size=2, num_workers=0, max_length=128)\n",
    "\n",
    "\n",
    "iterables = {\n",
    "    'mmu_flow': mmu_dataloader,\n",
    "    't2i_flow': t2i_dataloader\n",
    "}\n",
    "\n",
    "\n",
    "combined_dataloader = CombinedLoader(iterables, mode=\"max_size_cycle\")\n",
    "\n",
    "# Before adding the new tokens, the vocab size is 58498\n",
    "# vocab size = 58498 = 50295  llm vocabsize\n",
    "#                    + 10     <|soi|> <|eoi|> <|sov|> <|eov|> <|t2i|> <|mmu|> <|t2v|> <|v2v|> <|lvg|> <|pad|>\n",
    "#                    + 8192   vq model codebook size\n",
    "#                    + 1      mask token (token id == 58497)\n",
    "from typing import Union\n",
    "\n",
    "\n",
    "uni_prompting.sptids_dict\n",
    "# {'<|soi|>': tensor([50296]),\n",
    "#  '<|eoi|>': tensor([50297]),\n",
    "#  '<|sov|>': tensor([50298]),\n",
    "#  '<|eov|>': tensor([50299]),\n",
    "#  '<|t2i|>': tensor([50300]),\n",
    "#  '<|mmu|>': tensor([50301]),\n",
    "#  '<|t2v|>': tensor([50302]),\n",
    "#  '<|v2v|>': tensor([50303]),\n",
    "#  '<|lvg|>': tensor([50304]),\n",
    "#  '<|sot|>': tensor([50256]),\n",
    "#  '<|eot|>': tensor([50256]),\n",
    "#  '<|pad|>': tensor([50295])}\n",
    "\n",
    "# uni_prompting.text_tokenizer == tokenizer\n",
    "def prepare_inputs_and_labels(\n",
    "        pixel_values_or_image_ids: Union[torch.FloatTensor, torch.LongTensor],\n",
    "        texts: Union[str, str],\n",
    "        min_masking_rate: float = 0.0,\n",
    "        is_train: bool = True,\n",
    "):\n",
    "\n",
    "    image_tokens = vq_model.get_code(pixel_values_or_image_ids)\n",
    "    image_tokens = image_tokens + len(uni_prompting.text_tokenizer)\n",
    "\n",
    "    # create MLM mask and labels\n",
    "    input_ids, labels, loss_weight, mask_prob = mask_or_random_replace_tokens(\n",
    "        image_tokens,\n",
    "        mask_id,\n",
    "        config,\n",
    "        mask_schedule=mask_schedule,\n",
    "        is_train=is_train,\n",
    "    )\n",
    "    input_ids, masks, labels = uni_prompting((texts, input_ids, labels), 't2i')\n",
    "\n",
    "    return input_ids, labels, mask_prob, image_tokens"
   ]
  },
  {
   "cell_type": "code",
   "execution_count": 27,
   "metadata": {},
   "outputs": [],
   "source": [
    "list_combined_dataloader = list(combined_dataloader)\n",
    "# one_batch_mmu = list_combined_dataloader[0][0]['mmu_flow']\n",
    "one_batch_t2i = list_combined_dataloader[0][0]['t2i_flow']\n",
    "\n",
    "# one_batch_mmu = next(iter(mmu_dataloader))"
   ]
  },
  {
   "cell_type": "code",
   "execution_count": 30,
   "metadata": {},
   "outputs": [
    {
     "data": {
      "text/plain": [
       "{'conditions': ['<dunpai> is <token_0><token_1><token_2><token_3><token_4><token_5><token_6><token_7><token_8><token_9><token_10><token_11><token_12><token_13><token_14><token_15>.\\nA photo of <dunpai>.',\n",
       "  '<dunpai> is <token_0><token_1><token_2><token_3><token_4><token_5><token_6><token_7><token_8><token_9><token_10><token_11><token_12><token_13><token_14><token_15>.\\nA photo of <dunpai>.'],\n",
       " 'images': tensor([[[[-0.9922, -0.9922, -0.9922,  ..., -0.4039, -0.3255, -0.3725],\n",
       "           [-0.9922, -0.9922, -0.9922,  ..., -0.3961, -0.3333, -0.3647],\n",
       "           [-0.9922, -0.9922, -0.9922,  ..., -0.3725, -0.3725, -0.3647],\n",
       "           ...,\n",
       "           [ 0.0118,  0.0039,  0.0196,  ...,  0.0510,  0.0510,  0.0431],\n",
       "           [-0.0353, -0.0118,  0.0196,  ...,  0.0510,  0.0510,  0.0431],\n",
       "           [-0.1686, -0.1059, -0.0510,  ...,  0.0510,  0.0510,  0.0431]],\n",
       " \n",
       "          [[-0.9922, -0.9922, -0.9922,  ..., -0.5608, -0.4510, -0.5373],\n",
       "           [-0.9922, -0.9922, -0.9922,  ..., -0.5529, -0.4510, -0.5373],\n",
       "           [-0.9922, -0.9922, -0.9922,  ..., -0.5373, -0.4980, -0.5686],\n",
       "           ...,\n",
       "           [-0.1373, -0.1451, -0.1529,  ..., -0.0980, -0.0980, -0.1059],\n",
       "           [-0.2000, -0.1608, -0.1529,  ..., -0.0980, -0.0980, -0.1059],\n",
       "           [-0.3333, -0.2627, -0.2235,  ..., -0.0980, -0.0980, -0.1059]],\n",
       " \n",
       "          [[-0.9922, -0.9922, -0.9922,  ..., -0.7804, -0.5686, -0.6863],\n",
       "           [-0.9922, -0.9922, -0.9922,  ..., -0.7647, -0.5765, -0.6863],\n",
       "           [-0.9922, -0.9922, -0.9922,  ..., -0.7333, -0.6314, -0.7098],\n",
       "           ...,\n",
       "           [-0.3255, -0.3255, -0.3255,  ..., -0.2784, -0.2784, -0.2863],\n",
       "           [-0.3804, -0.3412, -0.3255,  ..., -0.2784, -0.2784, -0.2863],\n",
       "           [-0.5137, -0.4588, -0.4118,  ..., -0.2784, -0.2784, -0.2863]]],\n",
       " \n",
       " \n",
       "         [[[-0.9843, -0.9843, -0.9843,  ...,  0.0118, -0.0667,  0.0118],\n",
       "           [-0.9765, -0.9843, -0.9843,  ..., -1.0000, -1.0000, -1.0000],\n",
       "           [-0.9843, -0.9843, -0.9843,  ..., -1.0000, -1.0000, -1.0000],\n",
       "           ...,\n",
       "           [-0.9765, -0.9608, -0.9608,  ..., -1.0000, -1.0000, -1.0000],\n",
       "           [-0.9765, -0.9765, -0.9765,  ...,  0.0745,  0.0588,  0.0745],\n",
       "           [-0.9451, -0.9294, -0.9294,  ...,  0.3412,  0.3333,  0.4588]],\n",
       " \n",
       "          [[-0.9843, -0.9843, -0.9843,  ...,  0.0824, -0.0118,  0.0667],\n",
       "           [-0.9765, -0.9843, -0.9843,  ..., -1.0000, -1.0000, -1.0000],\n",
       "           [-0.9765, -0.9765, -0.9765,  ..., -1.0000, -1.0000, -1.0000],\n",
       "           ...,\n",
       "           [-0.9529, -0.9373, -0.9294,  ..., -1.0000, -1.0000, -1.0000],\n",
       "           [-0.9451, -0.9451, -0.9451,  ...,  0.1765,  0.1529,  0.1686],\n",
       "           [-0.9137, -0.8980, -0.8980,  ...,  0.5451,  0.5137,  0.6392]],\n",
       " \n",
       "          [[-0.9765, -0.9765, -0.9765,  ...,  0.1843,  0.0980,  0.1765],\n",
       "           [-0.9608, -0.9686, -0.9686,  ..., -1.0000, -1.0000, -1.0000],\n",
       "           [-0.9608, -0.9608, -0.9529,  ..., -1.0000, -1.0000, -1.0000],\n",
       "           ...,\n",
       "           [-0.8824, -0.8667, -0.8431,  ..., -1.0000, -1.0000, -1.0000],\n",
       "           [-0.8902, -0.8824, -0.8588,  ...,  0.2863,  0.2627,  0.2706],\n",
       "           [-0.8275, -0.8118, -0.8118,  ...,  0.7333,  0.6941,  0.8275]]]])}"
      ]
     },
     "execution_count": 30,
     "metadata": {},
     "output_type": "execute_result"
    }
   ],
   "source": [
    "one_batch_t2i"
   ]
  },
  {
   "cell_type": "code",
   "execution_count": 28,
   "metadata": {},
   "outputs": [],
   "source": [
    "pixel_values = one_batch_t2i['images'].to(device)\n",
    "texts = one_batch_t2i['conditions']\n",
    "input_ids, labels, mask_prob, image_tokens_ori = prepare_inputs_and_labels(pixel_values, texts, is_train=True)"
   ]
  },
  {
   "cell_type": "code",
   "execution_count": 29,
   "metadata": {},
   "outputs": [
    {
     "data": {
      "text/plain": [
       "tensor([[50295, 50295, 50295, 50295, 50295, 50295, 50295, 50295, 50295, 50295,\n",
       "         50295, 50295, 50295, 50295, 50295, 50295, 50295, 50295, 50295, 50295,\n",
       "         50295, 50295, 50295, 50295, 50295, 50295, 50295, 50295, 50295, 50295,\n",
       "         50295, 50295, 50295, 50295, 50295, 50295, 50295, 50295, 50295, 50295,\n",
       "         50295, 50295, 50295, 50295, 50295, 50295, 50295, 50295, 50295, 50295,\n",
       "         50295, 50295, 50295, 50295, 50295, 50295, 50295, 50295, 50295, 50295,\n",
       "         50295, 50295, 50295, 50295, 50295, 50295, 50295, 50295, 50295, 50295,\n",
       "         50295, 50295, 50295, 50295, 50295, 50295, 50295, 50295, 50295, 50295,\n",
       "         50295, 50295, 50295, 50295, 50295, 50295, 50295, 50295, 50295, 50295,\n",
       "         50295, 50295, 50295, 50295, 50295, 50295, 50295, 50295, 50295, 50300,\n",
       "         50256, 50305,   318,   220, 50306, 50307, 50308, 50309, 50310, 50311,\n",
       "         50312, 50313, 50314, 50315, 50316, 50317, 50318, 50319, 50320, 50321,\n",
       "            13,   198,    32,  4590,   286,   220, 50305,    13, 50256, 50296,\n",
       "         58514, 58514, 58514, 58514, 58514, 58514, 55626, 58514, 58514, 58514,\n",
       "         58514, 58514, 58514, 58180, 58514, 58514, 58514, 58514, 58514, 58514,\n",
       "         58514, 58514, 58514, 58514, 58514, 58514, 58514, 57292, 58514, 56568,\n",
       "         58514, 58514, 58514, 58029, 51928, 58514, 58514, 58514, 58514, 58514,\n",
       "         58514, 56154, 58514, 58514, 58514, 58514, 58514, 58514, 58514, 58514,\n",
       "         58514, 58514, 58514, 58514, 53021, 58514, 58514, 58514, 58514, 58514,\n",
       "         56117, 58514, 58514, 58514, 58514, 58514, 58514, 58514, 58514, 56285,\n",
       "         51664, 58514, 58514, 58514, 58514, 58514, 56771, 58514, 58514, 50927,\n",
       "         57118, 57168, 58514, 58514, 58514, 58514, 58514, 58514, 54286, 58514,\n",
       "         58514, 58514, 58514, 58514, 58514, 58514, 58514, 58514, 58514, 58514,\n",
       "         58514, 58514, 58514, 58514, 58514, 58514, 58514, 58514, 58514, 58514,\n",
       "         50999, 58514, 58514, 57765, 58042, 58514, 58514, 58514, 58514, 58514,\n",
       "         57139, 58514, 58514, 58514, 58514, 58514, 53005, 58514, 58514, 58514,\n",
       "         58514, 58514, 58514, 58022, 58514, 58514, 58514, 58514, 58514, 58514,\n",
       "         58514, 58514, 50932, 52318, 58514, 58514, 58514, 58514, 51203, 58514,\n",
       "         58514, 58514, 58514, 58514, 58514, 58514, 58514, 58514, 58514, 54930,\n",
       "         58514, 58514, 58514, 58514, 58514, 58514, 58514, 58514, 58514, 58514,\n",
       "         58514, 58514, 58514, 58514, 58514, 58514, 58514, 58514, 58514, 58514,\n",
       "         58514, 58514, 58514, 54037, 58514, 55958, 58294, 58514, 54959, 58514,\n",
       "         58514, 58514, 58514, 58514, 58514, 52215, 58514, 58514, 58514, 58514,\n",
       "         58514, 58514, 58514, 58514, 58514, 58514, 58514, 58514, 58183, 58514,\n",
       "         58514, 58514, 58514, 58514, 54963, 58514, 57155, 58514, 58514, 58514,\n",
       "         58514, 58514, 58514, 58514, 58514, 56777, 58245, 58514, 58514, 58158,\n",
       "         58514, 58514, 58514, 57098, 58514, 58514, 58514, 58514, 58514, 58514,\n",
       "         58514, 58514, 58514, 57581, 58514, 56909, 58514, 58514, 58514, 58514,\n",
       "         58514, 58514, 58514, 58514, 58514, 58514, 50297],\n",
       "        [50295, 50295, 50295, 50295, 50295, 50295, 50295, 50295, 50295, 50295,\n",
       "         50295, 50295, 50295, 50295, 50295, 50295, 50295, 50295, 50295, 50295,\n",
       "         50295, 50295, 50295, 50295, 50295, 50295, 50295, 50295, 50295, 50295,\n",
       "         50295, 50295, 50295, 50295, 50295, 50295, 50295, 50295, 50295, 50295,\n",
       "         50295, 50295, 50295, 50295, 50295, 50295, 50295, 50295, 50295, 50295,\n",
       "         50295, 50295, 50295, 50295, 50295, 50295, 50295, 50295, 50295, 50295,\n",
       "         50295, 50295, 50295, 50295, 50295, 50295, 50295, 50295, 50295, 50295,\n",
       "         50295, 50295, 50295, 50295, 50295, 50295, 50295, 50295, 50295, 50295,\n",
       "         50295, 50295, 50295, 50295, 50295, 50295, 50295, 50295, 50295, 50295,\n",
       "         50295, 50295, 50295, 50295, 50295, 50295, 50295, 50295, 50295, 50300,\n",
       "         50256, 50305,   318,   220, 50306, 50307, 50308, 50309, 50310, 50311,\n",
       "         50312, 50313, 50314, 50315, 50316, 50317, 50318, 50319, 50320, 50321,\n",
       "            13,   198,    32,  4590,   286,   220, 50305,    13, 50256, 50296,\n",
       "         55562, 54861, 54845, 58514, 58514, 58514, 58514, 58514, 52069, 58218,\n",
       "         54383, 58514, 55853, 56762, 58514, 58514, 57037, 58514, 57705, 58514,\n",
       "         56351, 54931, 58514, 58514, 58514, 58514, 55095, 56411, 58514, 54349,\n",
       "         52330, 58332, 58234, 57924, 58514, 58514, 51941, 58514, 53534, 58068,\n",
       "         58514, 51733, 58514, 58514, 56090, 56163, 58514, 58514, 58514, 55185,\n",
       "         58514, 58514, 53071, 50442, 51599, 58514, 55693, 58514, 58514, 58514,\n",
       "         54247, 51005, 58223, 58514, 56967, 58514, 51877, 58514, 52541, 58514,\n",
       "         58514, 58514, 58514, 56152, 55387, 58514, 52555, 56039, 55067, 58514,\n",
       "         58514, 58514, 58514, 58514, 54334, 58514, 52587, 58514, 58514, 58514,\n",
       "         58514, 51259, 58514, 58514, 58514, 58514, 58514, 55177, 58514, 51305,\n",
       "         58514, 58514, 52617, 58514, 58514, 52479, 58514, 58514, 58514, 58514,\n",
       "         58514, 58514, 58514, 56593, 58514, 58514, 58514, 58514, 51538, 52660,\n",
       "         58514, 58514, 58514, 58514, 58514, 50793, 58514, 58514, 58514, 55422,\n",
       "         58514, 58514, 55822, 58514, 58514, 58514, 58514, 58514, 54909, 58367,\n",
       "         58514, 58514, 55239, 57157, 57469, 58514, 55011, 58514, 58343, 51115,\n",
       "         53905, 56876, 58514, 53771, 53279, 58514, 51178, 58514, 54537, 56655,\n",
       "         55625, 58514, 58514, 58514, 52795, 58514, 58514, 58514, 57729, 58514,\n",
       "         50885, 58514, 50448, 58514, 58514, 53483, 57731, 58514, 58514, 50723,\n",
       "         52941, 58514, 58514, 58514, 58514, 58514, 58514, 58514, 58514, 55011,\n",
       "         58514, 58514, 57851, 58514, 58514, 58514, 58514, 58514, 53501, 58514,\n",
       "         57844, 58514, 58514, 53319, 58514, 52013, 57247, 58514, 57587, 58514,\n",
       "         57781, 57891, 58514, 55131, 55655, 58514, 56188, 58514, 58003, 54981,\n",
       "         58514, 58514, 58514, 58514, 57742, 58514, 58514, 58514, 58514, 58514,\n",
       "         57079, 55994, 58514, 58514, 56190, 58514, 58514, 58514, 58514, 58514,\n",
       "         58514, 58514, 58514, 58514, 58514, 55501, 58514, 56949, 58514, 58514,\n",
       "         58514, 58514, 56304, 58514, 58514, 58514, 50297]], device='cuda:7')"
      ]
     },
     "execution_count": 29,
     "metadata": {},
     "output_type": "execute_result"
    }
   ],
   "source": [
    "input_ids"
   ]
  },
  {
   "cell_type": "code",
   "execution_count": 43,
   "metadata": {},
   "outputs": [
    {
     "name": "stdout",
     "output_type": "stream",
     "text": [
      "Epoch 1\n"
     ]
    },
    {
     "name": "stderr",
     "output_type": "stream",
     "text": [
      "100%|██████████| 49/49 [00:18<00:00,  2.58it/s]\n"
     ]
    },
    {
     "name": "stdout",
     "output_type": "stream",
     "text": [
      "Epoch 1 loss: 5.189498925695614, loss_t2i: 6.1075884468701425, loss_mmu: 1.517140389705191\n",
      "  Token-Norm: 16.996217727661133\n",
      "  index_no_updates-Token-Norm: 475.90191650390625\n",
      "  LM-Head-Weight-Norm: 12.835942268371582\n",
      "  index_no_updates-LM-Head-Weight-Norm: 636.0464477539062\n",
      "  LM-Head-Bias-Norm: 1.1776151657104492\n",
      "  index_no_updates-LM-Head-Bias-Norm: 200.17538452148438\n",
      "Epoch 2\n"
     ]
    },
    {
     "name": "stderr",
     "output_type": "stream",
     "text": [
      "100%|██████████| 49/49 [00:19<00:00,  2.58it/s]\n"
     ]
    },
    {
     "name": "stdout",
     "output_type": "stream",
     "text": [
      "Epoch 2 loss: 5.295677515925194, loss_t2i: 6.332796359548763, loss_mmu: 1.1472018342845294\n",
      "  Token-Norm: 21.274869918823242\n",
      "  index_no_updates-Token-Norm: 475.90191650390625\n",
      "  LM-Head-Weight-Norm: 12.899560928344727\n",
      "  index_no_updates-LM-Head-Weight-Norm: 636.0464477539062\n",
      "  LM-Head-Bias-Norm: 1.1911085844039917\n",
      "  index_no_updates-LM-Head-Bias-Norm: 200.17538452148438\n",
      "Epoch 3\n"
     ]
    },
    {
     "name": "stderr",
     "output_type": "stream",
     "text": [
      "100%|██████████| 49/49 [00:18<00:00,  2.58it/s]\n"
     ]
    },
    {
     "name": "stdout",
     "output_type": "stream",
     "text": [
      "Epoch 3 loss: 5.165294744530502, loss_t2i: 6.198772659107131, loss_mmu: 1.0313825874912494\n",
      "  Token-Norm: 23.274295806884766\n",
      "  index_no_updates-Token-Norm: 475.90191650390625\n",
      "  LM-Head-Weight-Norm: 12.896822929382324\n",
      "  index_no_updates-LM-Head-Weight-Norm: 636.0464477539062\n",
      "  LM-Head-Bias-Norm: 1.1979981660842896\n",
      "  index_no_updates-LM-Head-Bias-Norm: 200.17538452148438\n",
      "Epoch 4\n"
     ]
    },
    {
     "name": "stderr",
     "output_type": "stream",
     "text": [
      "100%|██████████| 49/49 [00:18<00:00,  2.58it/s]\n"
     ]
    },
    {
     "name": "stdout",
     "output_type": "stream",
     "text": [
      "Epoch 4 loss: 5.064726595975915, loss_t2i: 6.091950496848749, loss_mmu: 0.9558303161543242\n",
      "  Token-Norm: 25.646060943603516\n",
      "  index_no_updates-Token-Norm: 475.90191650390625\n",
      "  LM-Head-Weight-Norm: 12.889705657958984\n",
      "  index_no_updates-LM-Head-Weight-Norm: 636.0464477539062\n",
      "  LM-Head-Bias-Norm: 1.2019548416137695\n",
      "  index_no_updates-LM-Head-Bias-Norm: 200.17538452148438\n",
      "Epoch 5\n"
     ]
    },
    {
     "name": "stderr",
     "output_type": "stream",
     "text": [
      "100%|██████████| 49/49 [00:18<00:00,  2.58it/s]\n"
     ]
    },
    {
     "name": "stdout",
     "output_type": "stream",
     "text": [
      "Epoch 5 loss: 5.013992090614474, loss_t2i: 6.042409862790789, loss_mmu: 0.9003206351581885\n",
      "  Token-Norm: 26.977981567382812\n",
      "  index_no_updates-Token-Norm: 475.90191650390625\n",
      "  LM-Head-Weight-Norm: 12.885478019714355\n",
      "  index_no_updates-LM-Head-Weight-Norm: 636.0464477539062\n",
      "  LM-Head-Bias-Norm: 1.205296277999878\n",
      "  index_no_updates-LM-Head-Bias-Norm: 200.17538452148438\n",
      "Epoch 6\n"
     ]
    },
    {
     "name": "stderr",
     "output_type": "stream",
     "text": [
      "100%|██████████| 49/49 [00:18<00:00,  2.58it/s]\n"
     ]
    },
    {
     "name": "stdout",
     "output_type": "stream",
     "text": [
      "Epoch 6 loss: 5.0297971015073815, loss_t2i: 6.072145184692071, loss_mmu: 0.8604043168681008\n",
      "  Token-Norm: 28.584562301635742\n",
      "  index_no_updates-Token-Norm: 475.90191650390625\n",
      "  LM-Head-Weight-Norm: 12.880767822265625\n",
      "  index_no_updates-LM-Head-Weight-Norm: 636.0464477539062\n",
      "  LM-Head-Bias-Norm: 1.2078670263290405\n",
      "  index_no_updates-LM-Head-Bias-Norm: 200.17538452148438\n",
      "Epoch 7\n"
     ]
    },
    {
     "name": "stderr",
     "output_type": "stream",
     "text": [
      "100%|██████████| 49/49 [00:19<00:00,  2.58it/s]\n"
     ]
    },
    {
     "name": "stdout",
     "output_type": "stream",
     "text": [
      "Epoch 7 loss: 5.202958934161128, loss_t2i: 6.293621014575569, loss_mmu: 0.8403100663301896\n",
      "  Token-Norm: 30.82159423828125\n",
      "  index_no_updates-Token-Norm: 475.90191650390625\n",
      "  LM-Head-Weight-Norm: 12.890098571777344\n",
      "  index_no_updates-LM-Head-Weight-Norm: 636.0464477539062\n",
      "  LM-Head-Bias-Norm: 1.2112854719161987\n",
      "  index_no_updates-LM-Head-Bias-Norm: 200.17538452148438\n",
      "Epoch 8\n"
     ]
    },
    {
     "name": "stderr",
     "output_type": "stream",
     "text": [
      "100%|██████████| 49/49 [00:19<00:00,  2.58it/s]\n"
     ]
    },
    {
     "name": "stdout",
     "output_type": "stream",
     "text": [
      "Epoch 8 loss: 5.020822062784312, loss_t2i: 6.07710870431394, loss_mmu: 0.7956751090835552\n",
      "  Token-Norm: 31.94410514831543\n",
      "  index_no_updates-Token-Norm: 475.90191650390625\n",
      "  LM-Head-Weight-Norm: 12.882380485534668\n",
      "  index_no_updates-LM-Head-Weight-Norm: 636.0464477539062\n",
      "  LM-Head-Bias-Norm: 1.212541937828064\n",
      "  index_no_updates-LM-Head-Bias-Norm: 200.17538452148438\n",
      "Epoch 9\n"
     ]
    },
    {
     "name": "stderr",
     "output_type": "stream",
     "text": [
      "100%|██████████| 49/49 [00:19<00:00,  2.58it/s]\n"
     ]
    },
    {
     "name": "stdout",
     "output_type": "stream",
     "text": [
      "Epoch 9 loss: 5.044492040361677, loss_t2i: 6.116896755841314, loss_mmu: 0.7548727479820349\n",
      "  Token-Norm: 33.53121566772461\n",
      "  index_no_updates-Token-Norm: 475.90191650390625\n",
      "  LM-Head-Weight-Norm: 12.878503799438477\n",
      "  index_no_updates-LM-Head-Weight-Norm: 636.0464477539062\n",
      "  LM-Head-Bias-Norm: 1.2139770984649658\n",
      "  index_no_updates-LM-Head-Bias-Norm: 200.17538452148438\n",
      "Epoch 10\n"
     ]
    },
    {
     "name": "stderr",
     "output_type": "stream",
     "text": [
      "100%|██████████| 49/49 [00:19<00:00,  2.57it/s]\n"
     ]
    },
    {
     "name": "stdout",
     "output_type": "stream",
     "text": [
      "Epoch 10 loss: 4.975795891820168, loss_t2i: 6.0345093133498215, loss_mmu: 0.7409418045866246\n",
      "  Token-Norm: 35.438446044921875\n",
      "  index_no_updates-Token-Norm: 475.90191650390625\n",
      "  LM-Head-Weight-Norm: 12.866326332092285\n",
      "  index_no_updates-LM-Head-Weight-Norm: 636.0464477539062\n",
      "  LM-Head-Bias-Norm: 1.2141520977020264\n",
      "  index_no_updates-LM-Head-Bias-Norm: 200.17538452148438\n",
      "Epoch 11\n"
     ]
    },
    {
     "name": "stderr",
     "output_type": "stream",
     "text": [
      "100%|██████████| 49/49 [00:19<00:00,  2.57it/s]\n"
     ]
    },
    {
     "name": "stdout",
     "output_type": "stream",
     "text": [
      "Epoch 11 loss: 4.9183997378057365, loss_t2i: 5.958429545772319, loss_mmu: 0.7582805339170962\n",
      "  Token-Norm: 36.7804069519043\n",
      "  index_no_updates-Token-Norm: 475.90191650390625\n",
      "  LM-Head-Weight-Norm: 12.856635093688965\n",
      "  index_no_updates-LM-Head-Weight-Norm: 636.0464477539062\n",
      "  LM-Head-Bias-Norm: 1.214709758758545\n",
      "  index_no_updates-LM-Head-Bias-Norm: 200.17538452148438\n",
      "Epoch 12\n"
     ]
    },
    {
     "name": "stderr",
     "output_type": "stream",
     "text": [
      "100%|██████████| 49/49 [00:19<00:00,  2.57it/s]\n"
     ]
    },
    {
     "name": "stdout",
     "output_type": "stream",
     "text": [
      "Epoch 12 loss: 4.667988524145009, loss_t2i: 5.660765302424529, loss_mmu: 0.696881002765529\n",
      "  Token-Norm: 37.442665100097656\n",
      "  index_no_updates-Token-Norm: 475.90191650390625\n",
      "  LM-Head-Weight-Norm: 12.835716247558594\n",
      "  index_no_updates-LM-Head-Weight-Norm: 636.0464477539062\n",
      "  LM-Head-Bias-Norm: 1.2140326499938965\n",
      "  index_no_updates-LM-Head-Bias-Norm: 200.17538452148438\n",
      "Epoch 13\n"
     ]
    },
    {
     "name": "stderr",
     "output_type": "stream",
     "text": [
      "100%|██████████| 49/49 [00:19<00:00,  2.57it/s]\n"
     ]
    },
    {
     "name": "stdout",
     "output_type": "stream",
     "text": [
      "Epoch 13 loss: 4.8703071389879495, loss_t2i: 5.924354828133875, loss_mmu: 0.654116051309571\n",
      "  Token-Norm: 38.152374267578125\n",
      "  index_no_updates-Token-Norm: 475.90191650390625\n",
      "  LM-Head-Weight-Norm: 12.824703216552734\n",
      "  index_no_updates-LM-Head-Weight-Norm: 636.0464477539062\n",
      "  LM-Head-Bias-Norm: 1.213559865951538\n",
      "  index_no_updates-LM-Head-Bias-Norm: 200.17538452148438\n",
      "Epoch 14\n"
     ]
    },
    {
     "name": "stderr",
     "output_type": "stream",
     "text": [
      "100%|██████████| 49/49 [00:19<00:00,  2.57it/s]\n"
     ]
    },
    {
     "name": "stdout",
     "output_type": "stream",
     "text": [
      "Epoch 14 loss: 5.265481374701675, loss_t2i: 6.427951209399165, loss_mmu: 0.6156015380532766\n",
      "  Token-Norm: 39.1376953125\n",
      "  index_no_updates-Token-Norm: 475.90191650390625\n",
      "  LM-Head-Weight-Norm: 12.82219409942627\n",
      "  index_no_updates-LM-Head-Weight-Norm: 636.0464477539062\n",
      "  LM-Head-Bias-Norm: 1.2142239809036255\n",
      "  index_no_updates-LM-Head-Bias-Norm: 200.17538452148438\n",
      "Epoch 15\n"
     ]
    },
    {
     "name": "stderr",
     "output_type": "stream",
     "text": [
      "100%|██████████| 49/49 [00:19<00:00,  2.57it/s]\n"
     ]
    },
    {
     "name": "stdout",
     "output_type": "stream",
     "text": [
      "Epoch 15 loss: 5.003269404781108, loss_t2i: 6.1031877118714, loss_mmu: 0.6035960464909369\n",
      "  Token-Norm: 40.6532096862793\n",
      "  index_no_updates-Token-Norm: 475.90191650390625\n",
      "  LM-Head-Weight-Norm: 12.80922794342041\n",
      "  index_no_updates-LM-Head-Weight-Norm: 636.0464477539062\n",
      "  LM-Head-Bias-Norm: 1.213906168937683\n",
      "  index_no_updates-LM-Head-Bias-Norm: 200.17538452148438\n",
      "Epoch 16\n"
     ]
    },
    {
     "name": "stderr",
     "output_type": "stream",
     "text": [
      "100%|██████████| 49/49 [00:19<00:00,  2.57it/s]\n"
     ]
    },
    {
     "name": "stdout",
     "output_type": "stream",
     "text": [
      "Epoch 16 loss: 4.86877711938352, loss_t2i: 5.931649222665904, loss_mmu: 0.6172883867913362\n",
      "  Token-Norm: 42.53426742553711\n",
      "  index_no_updates-Token-Norm: 475.90191650390625\n",
      "  LM-Head-Weight-Norm: 12.801727294921875\n",
      "  index_no_updates-LM-Head-Weight-Norm: 636.0464477539062\n",
      "  LM-Head-Bias-Norm: 1.2140268087387085\n",
      "  index_no_updates-LM-Head-Bias-Norm: 200.17538452148438\n",
      "Epoch 17\n"
     ]
    },
    {
     "name": "stderr",
     "output_type": "stream",
     "text": [
      "100%|██████████| 49/49 [00:19<00:00,  2.57it/s]\n"
     ]
    },
    {
     "name": "stdout",
     "output_type": "stream",
     "text": [
      "Epoch 17 loss: 4.817201429483842, loss_t2i: 5.871483564376831, loss_mmu: 0.6000725870609892\n",
      "  Token-Norm: 43.78966522216797\n",
      "  index_no_updates-Token-Norm: 475.90191650390625\n",
      "  LM-Head-Weight-Norm: 12.785484313964844\n",
      "  index_no_updates-LM-Head-Weight-Norm: 636.0464477539062\n",
      "  LM-Head-Bias-Norm: 1.2131733894348145\n",
      "  index_no_updates-LM-Head-Bias-Norm: 200.17538452148438\n",
      "Epoch 18\n"
     ]
    },
    {
     "name": "stderr",
     "output_type": "stream",
     "text": [
      "100%|██████████| 49/49 [00:19<00:00,  2.57it/s]\n"
     ]
    },
    {
     "name": "stdout",
     "output_type": "stream",
     "text": [
      "Epoch 18 loss: 5.133930549329641, loss_t2i: 6.2786456224869704, loss_mmu: 0.55506963942352\n",
      "  Token-Norm: 44.71426010131836\n",
      "  index_no_updates-Token-Norm: 475.90191650390625\n",
      "  LM-Head-Weight-Norm: 12.773560523986816\n",
      "  index_no_updates-LM-Head-Weight-Norm: 636.0464477539062\n",
      "  LM-Head-Bias-Norm: 1.2125784158706665\n",
      "  index_no_updates-LM-Head-Bias-Norm: 200.17538452148438\n",
      "Epoch 19\n"
     ]
    },
    {
     "name": "stderr",
     "output_type": "stream",
     "text": [
      "100%|██████████| 49/49 [00:19<00:00,  2.57it/s]\n"
     ]
    },
    {
     "name": "stdout",
     "output_type": "stream",
     "text": [
      "Epoch 19 loss: 4.696778007916042, loss_t2i: 5.742798226220267, loss_mmu: 0.5126967684232763\n",
      "  Token-Norm: 45.42453384399414\n",
      "  index_no_updates-Token-Norm: 475.90191650390625\n",
      "  LM-Head-Weight-Norm: 12.759502410888672\n",
      "  index_no_updates-LM-Head-Weight-Norm: 636.0464477539062\n",
      "  LM-Head-Bias-Norm: 1.2116600275039673\n",
      "  index_no_updates-LM-Head-Bias-Norm: 200.17538452148438\n",
      "Epoch 20\n"
     ]
    },
    {
     "name": "stderr",
     "output_type": "stream",
     "text": [
      "100%|██████████| 49/49 [00:19<00:00,  2.57it/s]\n"
     ]
    },
    {
     "name": "stdout",
     "output_type": "stream",
     "text": [
      "Epoch 20 loss: 4.75642035931957, loss_t2i: 5.817049284370578, loss_mmu: 0.5139044109845952\n",
      "  Token-Norm: 46.323463439941406\n",
      "  index_no_updates-Token-Norm: 475.90191650390625\n",
      "  LM-Head-Weight-Norm: 12.733633041381836\n",
      "  index_no_updates-LM-Head-Weight-Norm: 636.0464477539062\n",
      "  LM-Head-Bias-Norm: 1.2094109058380127\n",
      "  index_no_updates-LM-Head-Bias-Norm: 200.17538452148438\n",
      "Epoch 21\n"
     ]
    },
    {
     "name": "stderr",
     "output_type": "stream",
     "text": [
      "100%|██████████| 49/49 [00:19<00:00,  2.57it/s]\n"
     ]
    },
    {
     "name": "stdout",
     "output_type": "stream",
     "text": [
      "Epoch 21 loss: 4.896249853834814, loss_t2i: 5.999451452372026, loss_mmu: 0.48344308373575307\n",
      "  Token-Norm: 47.04182815551758\n",
      "  index_no_updates-Token-Norm: 475.90191650390625\n",
      "  LM-Head-Weight-Norm: 12.713618278503418\n",
      "  index_no_updates-LM-Head-Weight-Norm: 636.0464477539062\n",
      "  LM-Head-Bias-Norm: 1.2076553106307983\n",
      "  index_no_updates-LM-Head-Bias-Norm: 200.17538452148438\n",
      "Epoch 22\n"
     ]
    },
    {
     "name": "stderr",
     "output_type": "stream",
     "text": [
      "100%|██████████| 49/49 [00:19<00:00,  2.57it/s]\n"
     ]
    },
    {
     "name": "stdout",
     "output_type": "stream",
     "text": [
      "Epoch 22 loss: 4.974328070270772, loss_t2i: 6.103254833999945, loss_mmu: 0.45862059660103854\n",
      "  Token-Norm: 48.0160026550293\n",
      "  index_no_updates-Token-Norm: 475.90191650390625\n",
      "  LM-Head-Weight-Norm: 12.69416618347168\n",
      "  index_no_updates-LM-Head-Weight-Norm: 636.0464477539062\n",
      "  LM-Head-Bias-Norm: 1.205739974975586\n",
      "  index_no_updates-LM-Head-Bias-Norm: 200.17538452148438\n",
      "Epoch 23\n"
     ]
    },
    {
     "name": "stderr",
     "output_type": "stream",
     "text": [
      "100%|██████████| 49/49 [00:19<00:00,  2.57it/s]\n"
     ]
    },
    {
     "name": "stdout",
     "output_type": "stream",
     "text": [
      "Epoch 23 loss: 5.0723150603625236, loss_t2i: 6.224542121497953, loss_mmu: 0.46340640971665176\n",
      "  Token-Norm: 48.98190689086914\n",
      "  index_no_updates-Token-Norm: 475.90191650390625\n",
      "  LM-Head-Weight-Norm: 12.67795467376709\n",
      "  index_no_updates-LM-Head-Weight-Norm: 636.0464477539062\n",
      "  LM-Head-Bias-Norm: 1.2039215564727783\n",
      "  index_no_updates-LM-Head-Bias-Norm: 200.17538452148438\n",
      "Epoch 24\n"
     ]
    },
    {
     "name": "stderr",
     "output_type": "stream",
     "text": [
      "100%|██████████| 49/49 [00:19<00:00,  2.57it/s]\n"
     ]
    },
    {
     "name": "stdout",
     "output_type": "stream",
     "text": [
      "Epoch 24 loss: 4.986224836232711, loss_t2i: 6.122357407394721, loss_mmu: 0.44169392178253253\n",
      "  Token-Norm: 49.811790466308594\n",
      "  index_no_updates-Token-Norm: 475.90191650390625\n",
      "  LM-Head-Weight-Norm: 12.663269996643066\n",
      "  index_no_updates-LM-Head-Weight-Norm: 636.0464477539062\n",
      "  LM-Head-Bias-Norm: 1.20263671875\n",
      "  index_no_updates-LM-Head-Bias-Norm: 200.17538452148438\n",
      "Epoch 25\n"
     ]
    },
    {
     "name": "stderr",
     "output_type": "stream",
     "text": [
      "100%|██████████| 49/49 [00:19<00:00,  2.57it/s]\n"
     ]
    },
    {
     "name": "stdout",
     "output_type": "stream",
     "text": [
      "Epoch 25 loss: 4.918222563607352, loss_t2i: 6.042555142422112, loss_mmu: 0.4208917227402634\n",
      "  Token-Norm: 50.5679817199707\n",
      "  index_no_updates-Token-Norm: 475.90191650390625\n",
      "  LM-Head-Weight-Norm: 12.642878532409668\n",
      "  index_no_updates-LM-Head-Weight-Norm: 636.0464477539062\n",
      "  LM-Head-Bias-Norm: 1.2006381750106812\n",
      "  index_no_updates-LM-Head-Bias-Norm: 200.17538452148438\n",
      "Epoch 26\n"
     ]
    },
    {
     "name": "stderr",
     "output_type": "stream",
     "text": [
      "100%|██████████| 49/49 [00:19<00:00,  2.57it/s]\n"
     ]
    },
    {
     "name": "stdout",
     "output_type": "stream",
     "text": [
      "Epoch 26 loss: 4.819636578462561, loss_t2i: 5.9200418676648825, loss_mmu: 0.4180146835896434\n",
      "  Token-Norm: 51.622047424316406\n",
      "  index_no_updates-Token-Norm: 475.90191650390625\n",
      "  LM-Head-Weight-Norm: 12.619129180908203\n",
      "  index_no_updates-LM-Head-Weight-Norm: 636.0464477539062\n",
      "  LM-Head-Bias-Norm: 1.198496699333191\n",
      "  index_no_updates-LM-Head-Bias-Norm: 200.17538452148438\n",
      "Epoch 27\n"
     ]
    },
    {
     "name": "stderr",
     "output_type": "stream",
     "text": [
      "100%|██████████| 49/49 [00:19<00:00,  2.57it/s]\n"
     ]
    },
    {
     "name": "stdout",
     "output_type": "stream",
     "text": [
      "Epoch 27 loss: 4.655815095317607, loss_t2i: 5.71860392239629, loss_mmu: 0.4046594150630491\n",
      "  Token-Norm: 52.27448654174805\n",
      "  index_no_updates-Token-Norm: 475.90191650390625\n",
      "  LM-Head-Weight-Norm: 12.591724395751953\n",
      "  index_no_updates-LM-Head-Weight-Norm: 636.0464477539062\n",
      "  LM-Head-Bias-Norm: 1.196151852607727\n",
      "  index_no_updates-LM-Head-Bias-Norm: 200.17538452148438\n",
      "Epoch 28\n"
     ]
    },
    {
     "name": "stderr",
     "output_type": "stream",
     "text": [
      "100%|██████████| 49/49 [00:19<00:00,  2.57it/s]\n"
     ]
    },
    {
     "name": "stdout",
     "output_type": "stream",
     "text": [
      "Epoch 28 loss: 4.886978908460968, loss_t2i: 6.006993853316015, loss_mmu: 0.406918595126849\n",
      "  Token-Norm: 53.46338653564453\n",
      "  index_no_updates-Token-Norm: 475.90191650390625\n",
      "  LM-Head-Weight-Norm: 12.5697660446167\n",
      "  index_no_updates-LM-Head-Weight-Norm: 636.0464477539062\n",
      "  LM-Head-Bias-Norm: 1.1938990354537964\n",
      "  index_no_updates-LM-Head-Bias-Norm: 200.17538452148438\n",
      "Epoch 29\n"
     ]
    },
    {
     "name": "stderr",
     "output_type": "stream",
     "text": [
      "100%|██████████| 49/49 [00:19<00:00,  2.57it/s]\n"
     ]
    },
    {
     "name": "stdout",
     "output_type": "stream",
     "text": [
      "Epoch 29 loss: 4.900942301263615, loss_t2i: 6.024939220778796, loss_mmu: 0.4049541430015649\n",
      "  Token-Norm: 54.58707046508789\n",
      "  index_no_updates-Token-Norm: 475.90191650390625\n",
      "  LM-Head-Weight-Norm: 12.543538093566895\n",
      "  index_no_updates-LM-Head-Weight-Norm: 636.0464477539062\n",
      "  LM-Head-Bias-Norm: 1.1911532878875732\n",
      "  index_no_updates-LM-Head-Bias-Norm: 200.17538452148438\n",
      "Epoch 30\n"
     ]
    },
    {
     "name": "stderr",
     "output_type": "stream",
     "text": [
      "100%|██████████| 49/49 [00:19<00:00,  2.57it/s]\n"
     ]
    },
    {
     "name": "stdout",
     "output_type": "stream",
     "text": [
      "Epoch 30 loss: 4.952775604870855, loss_t2i: 6.094614243020817, loss_mmu: 0.3854208017642401\n",
      "  Token-Norm: 55.48569869995117\n",
      "  index_no_updates-Token-Norm: 475.90191650390625\n",
      "  LM-Head-Weight-Norm: 12.524956703186035\n",
      "  index_no_updates-LM-Head-Weight-Norm: 636.0464477539062\n",
      "  LM-Head-Bias-Norm: 1.189111351966858\n",
      "  index_no_updates-LM-Head-Bias-Norm: 200.17538452148438\n",
      "Epoch 31\n"
     ]
    },
    {
     "name": "stderr",
     "output_type": "stream",
     "text": [
      "100%|██████████| 49/49 [00:19<00:00,  2.57it/s]\n"
     ]
    },
    {
     "name": "stdout",
     "output_type": "stream",
     "text": [
      "Epoch 31 loss: 4.724914054481351, loss_t2i: 5.813105485877212, loss_mmu: 0.3721478220303448\n",
      "  Token-Norm: 56.08204650878906\n",
      "  index_no_updates-Token-Norm: 475.90191650390625\n",
      "  LM-Head-Weight-Norm: 12.507229804992676\n",
      "  index_no_updates-LM-Head-Weight-Norm: 636.0464477539062\n",
      "  LM-Head-Bias-Norm: 1.1875278949737549\n",
      "  index_no_updates-LM-Head-Bias-Norm: 200.17538452148438\n",
      "Epoch 32\n"
     ]
    },
    {
     "name": "stderr",
     "output_type": "stream",
     "text": [
      "100%|██████████| 49/49 [00:19<00:00,  2.57it/s]\n"
     ]
    },
    {
     "name": "stdout",
     "output_type": "stream",
     "text": [
      "Epoch 32 loss: 4.823928375633395, loss_t2i: 5.939631700515747, loss_mmu: 0.36111477815679144\n",
      "  Token-Norm: 57.03557205200195\n",
      "  index_no_updates-Token-Norm: 475.90191650390625\n",
      "  LM-Head-Weight-Norm: 12.490757942199707\n",
      "  index_no_updates-LM-Head-Weight-Norm: 636.0464477539062\n",
      "  LM-Head-Bias-Norm: 1.186226725578308\n",
      "  index_no_updates-LM-Head-Bias-Norm: 200.17538452148438\n",
      "Epoch 33\n"
     ]
    },
    {
     "name": "stderr",
     "output_type": "stream",
     "text": [
      "100%|██████████| 49/49 [00:19<00:00,  2.57it/s]\n"
     ]
    },
    {
     "name": "stdout",
     "output_type": "stream",
     "text": [
      "Epoch 33 loss: 4.837252526867147, loss_t2i: 5.955988611493792, loss_mmu: 0.36230804824403356\n",
      "  Token-Norm: 58.13853073120117\n",
      "  index_no_updates-Token-Norm: 475.90191650390625\n",
      "  LM-Head-Weight-Norm: 12.464902877807617\n",
      "  index_no_updates-LM-Head-Weight-Norm: 636.0464477539062\n",
      "  LM-Head-Bias-Norm: 1.1836320161819458\n",
      "  index_no_updates-LM-Head-Bias-Norm: 200.17538452148438\n",
      "Epoch 34\n"
     ]
    },
    {
     "name": "stderr",
     "output_type": "stream",
     "text": [
      "100%|██████████| 49/49 [00:19<00:00,  2.57it/s]\n"
     ]
    },
    {
     "name": "stdout",
     "output_type": "stream",
     "text": [
      "Epoch 34 loss: 4.946010073836969, loss_t2i: 6.095531706907312, loss_mmu: 0.34792304685225295\n",
      "  Token-Norm: 59.127662658691406\n",
      "  index_no_updates-Token-Norm: 475.90191650390625\n",
      "  LM-Head-Weight-Norm: 12.456421852111816\n",
      "  index_no_updates-LM-Head-Weight-Norm: 636.0464477539062\n",
      "  LM-Head-Bias-Norm: 1.1830030679702759\n",
      "  index_no_updates-LM-Head-Bias-Norm: 200.17538452148438\n",
      "Epoch 35\n"
     ]
    },
    {
     "name": "stderr",
     "output_type": "stream",
     "text": [
      "100%|██████████| 49/49 [00:19<00:00,  2.57it/s]\n"
     ]
    },
    {
     "name": "stdout",
     "output_type": "stream",
     "text": [
      "Epoch 35 loss: 4.676813393223043, loss_t2i: 5.761096365597783, loss_mmu: 0.3396810413889435\n",
      "  Token-Norm: 59.80320358276367\n",
      "  index_no_updates-Token-Norm: 475.90191650390625\n",
      "  LM-Head-Weight-Norm: 12.429275512695312\n",
      "  index_no_updates-LM-Head-Weight-Norm: 636.0464477539062\n",
      "  LM-Head-Bias-Norm: 1.1804980039596558\n",
      "  index_no_updates-LM-Head-Bias-Norm: 200.17538452148438\n",
      "Epoch 36\n"
     ]
    },
    {
     "name": "stderr",
     "output_type": "stream",
     "text": [
      "100%|██████████| 49/49 [00:19<00:00,  2.57it/s]\n"
     ]
    },
    {
     "name": "stdout",
     "output_type": "stream",
     "text": [
      "Epoch 36 loss: 4.81628308490831, loss_t2i: 5.9349779498820405, loss_mmu: 0.341503136601223\n",
      "  Token-Norm: 60.898040771484375\n",
      "  index_no_updates-Token-Norm: 475.90191650390625\n",
      "  LM-Head-Weight-Norm: 12.403074264526367\n",
      "  index_no_updates-LM-Head-Weight-Norm: 636.0464477539062\n",
      "  LM-Head-Bias-Norm: 1.1778982877731323\n",
      "  index_no_updates-LM-Head-Bias-Norm: 200.17538452148438\n",
      "Epoch 37\n"
     ]
    },
    {
     "name": "stderr",
     "output_type": "stream",
     "text": [
      "100%|██████████| 49/49 [00:19<00:00,  2.57it/s]\n"
     ]
    },
    {
     "name": "stdout",
     "output_type": "stream",
     "text": [
      "Epoch 37 loss: 4.8213330093695195, loss_t2i: 5.946488380432129, loss_mmu: 0.3207110745680271\n",
      "  Token-Norm: 61.62082290649414\n",
      "  index_no_updates-Token-Norm: 475.90191650390625\n",
      "  LM-Head-Weight-Norm: 12.378660202026367\n",
      "  index_no_updates-LM-Head-Weight-Norm: 636.0464477539062\n",
      "  LM-Head-Bias-Norm: 1.1754966974258423\n",
      "  index_no_updates-LM-Head-Bias-Norm: 200.17538452148438\n",
      "Epoch 38\n"
     ]
    },
    {
     "name": "stderr",
     "output_type": "stream",
     "text": [
      "100%|██████████| 49/49 [00:19<00:00,  2.58it/s]\n"
     ]
    },
    {
     "name": "stdout",
     "output_type": "stream",
     "text": [
      "Epoch 38 loss: 4.864654472896031, loss_t2i: 5.999318263968643, loss_mmu: 0.32599864645423937\n",
      "  Token-Norm: 62.3652458190918\n",
      "  index_no_updates-Token-Norm: 475.90191650390625\n",
      "  LM-Head-Weight-Norm: 12.35384750366211\n",
      "  index_no_updates-LM-Head-Weight-Norm: 636.0464477539062\n",
      "  LM-Head-Bias-Norm: 1.1729170083999634\n",
      "  index_no_updates-LM-Head-Bias-Norm: 200.17538452148438\n",
      "Epoch 39\n"
     ]
    },
    {
     "name": "stderr",
     "output_type": "stream",
     "text": [
      "100%|██████████| 49/49 [00:19<00:00,  2.57it/s]\n"
     ]
    },
    {
     "name": "stdout",
     "output_type": "stream",
     "text": [
      "Epoch 39 loss: 4.726211769240243, loss_t2i: 5.83201366541337, loss_mmu: 0.30300383292594735\n",
      "  Token-Norm: 62.997093200683594\n",
      "  index_no_updates-Token-Norm: 475.90191650390625\n",
      "  LM-Head-Weight-Norm: 12.32106876373291\n",
      "  index_no_updates-LM-Head-Weight-Norm: 636.0464477539062\n",
      "  LM-Head-Bias-Norm: 1.1697155237197876\n",
      "  index_no_updates-LM-Head-Bias-Norm: 200.17538452148438\n",
      "Epoch 40\n"
     ]
    },
    {
     "name": "stderr",
     "output_type": "stream",
     "text": [
      "100%|██████████| 49/49 [00:19<00:00,  2.57it/s]\n"
     ]
    },
    {
     "name": "stdout",
     "output_type": "stream",
     "text": [
      "Epoch 40 loss: 4.805381760305288, loss_t2i: 5.9305563070336165, loss_mmu: 0.30468313422586235\n",
      "  Token-Norm: 63.983421325683594\n",
      "  index_no_updates-Token-Norm: 475.90191650390625\n",
      "  LM-Head-Weight-Norm: 12.292482376098633\n",
      "  index_no_updates-LM-Head-Weight-Norm: 636.0464477539062\n",
      "  LM-Head-Bias-Norm: 1.1667113304138184\n",
      "  index_no_updates-LM-Head-Bias-Norm: 200.17538452148438\n",
      "Epoch 41\n"
     ]
    },
    {
     "name": "stderr",
     "output_type": "stream",
     "text": [
      "100%|██████████| 49/49 [00:19<00:00,  2.57it/s]\n"
     ]
    },
    {
     "name": "stdout",
     "output_type": "stream",
     "text": [
      "Epoch 41 loss: 5.034850903919765, loss_t2i: 6.21753158861277, loss_mmu: 0.3041279795674645\n",
      "  Token-Norm: 64.73188018798828\n",
      "  index_no_updates-Token-Norm: 475.90191650390625\n",
      "  LM-Head-Weight-Norm: 12.270048141479492\n",
      "  index_no_updates-LM-Head-Weight-Norm: 636.0464477539062\n",
      "  LM-Head-Bias-Norm: 1.164336919784546\n",
      "  index_no_updates-LM-Head-Bias-Norm: 200.17538452148438\n",
      "Epoch 42\n"
     ]
    },
    {
     "name": "stderr",
     "output_type": "stream",
     "text": [
      "100%|██████████| 49/49 [00:19<00:00,  2.58it/s]\n"
     ]
    },
    {
     "name": "stdout",
     "output_type": "stream",
     "text": [
      "Epoch 42 loss: 4.746253261760789, loss_t2i: 5.85784405104968, loss_mmu: 0.2998897679036065\n",
      "  Token-Norm: 65.65949249267578\n",
      "  index_no_updates-Token-Norm: 475.90191650390625\n",
      "  LM-Head-Weight-Norm: 12.247820854187012\n",
      "  index_no_updates-LM-Head-Weight-Norm: 636.0464477539062\n",
      "  LM-Head-Bias-Norm: 1.1623096466064453\n",
      "  index_no_updates-LM-Head-Bias-Norm: 200.17538452148438\n",
      "Epoch 43\n"
     ]
    },
    {
     "name": "stderr",
     "output_type": "stream",
     "text": [
      "100%|██████████| 49/49 [00:19<00:00,  2.57it/s]\n"
     ]
    },
    {
     "name": "stdout",
     "output_type": "stream",
     "text": [
      "Epoch 43 loss: 4.902717196211523, loss_t2i: 6.054760178741144, loss_mmu: 0.2945450082497329\n",
      "  Token-Norm: 66.44782257080078\n",
      "  index_no_updates-Token-Norm: 475.90191650390625\n",
      "  LM-Head-Weight-Norm: 12.224882125854492\n",
      "  index_no_updates-LM-Head-Weight-Norm: 636.0464477539062\n",
      "  LM-Head-Bias-Norm: 1.1599465608596802\n",
      "  index_no_updates-LM-Head-Bias-Norm: 200.17538452148438\n",
      "Epoch 44\n"
     ]
    },
    {
     "name": "stderr",
     "output_type": "stream",
     "text": [
      "100%|██████████| 49/49 [00:19<00:00,  2.57it/s]\n"
     ]
    },
    {
     "name": "stdout",
     "output_type": "stream",
     "text": [
      "Epoch 44 loss: 4.6737165597020365, loss_t2i: 5.766732580807744, loss_mmu: 0.301652020717762\n",
      "  Token-Norm: 67.7010498046875\n",
      "  index_no_updates-Token-Norm: 475.90191650390625\n",
      "  LM-Head-Weight-Norm: 12.198692321777344\n",
      "  index_no_updates-LM-Head-Weight-Norm: 636.0464477539062\n",
      "  LM-Head-Bias-Norm: 1.1573801040649414\n",
      "  index_no_updates-LM-Head-Bias-Norm: 200.17538452148438\n",
      "Epoch 45\n"
     ]
    },
    {
     "name": "stderr",
     "output_type": "stream",
     "text": [
      "100%|██████████| 49/49 [00:19<00:00,  2.57it/s]\n"
     ]
    },
    {
     "name": "stdout",
     "output_type": "stream",
     "text": [
      "Epoch 45 loss: 4.641802413122995, loss_t2i: 5.7280228673195355, loss_mmu: 0.2969203947530109\n",
      "  Token-Norm: 68.78501892089844\n",
      "  index_no_updates-Token-Norm: 475.90191650390625\n",
      "  LM-Head-Weight-Norm: 12.168322563171387\n",
      "  index_no_updates-LM-Head-Weight-Norm: 636.0464477539062\n",
      "  LM-Head-Bias-Norm: 1.1545039415359497\n",
      "  index_no_updates-LM-Head-Bias-Norm: 200.17538452148438\n",
      "Epoch 46\n"
     ]
    },
    {
     "name": "stderr",
     "output_type": "stream",
     "text": [
      "100%|██████████| 49/49 [00:19<00:00,  2.57it/s]\n"
     ]
    },
    {
     "name": "stdout",
     "output_type": "stream",
     "text": [
      "Epoch 46 loss: 4.981347210553228, loss_t2i: 6.152627482706187, loss_mmu: 0.29622574747368996\n",
      "  Token-Norm: 70.30530548095703\n",
      "  index_no_updates-Token-Norm: 475.90191650390625\n",
      "  LM-Head-Weight-Norm: 12.145332336425781\n",
      "  index_no_updates-LM-Head-Weight-Norm: 636.0464477539062\n",
      "  LM-Head-Bias-Norm: 1.1520687341690063\n",
      "  index_no_updates-LM-Head-Bias-Norm: 200.17538452148438\n",
      "Epoch 47\n"
     ]
    },
    {
     "name": "stderr",
     "output_type": "stream",
     "text": [
      "100%|██████████| 49/49 [00:19<00:00,  2.57it/s]\n"
     ]
    },
    {
     "name": "stdout",
     "output_type": "stream",
     "text": [
      "Epoch 47 loss: 4.916989793582839, loss_t2i: 6.075122142324642, loss_mmu: 0.28446016377028155\n",
      "  Token-Norm: 71.47810363769531\n",
      "  index_no_updates-Token-Norm: 475.90191650390625\n",
      "  LM-Head-Weight-Norm: 12.124200820922852\n",
      "  index_no_updates-LM-Head-Weight-Norm: 636.0464477539062\n",
      "  LM-Head-Bias-Norm: 1.1497411727905273\n",
      "  index_no_updates-LM-Head-Bias-Norm: 200.17538452148438\n",
      "Epoch 48\n"
     ]
    },
    {
     "name": "stderr",
     "output_type": "stream",
     "text": [
      "100%|██████████| 49/49 [00:19<00:00,  2.57it/s]\n"
     ]
    },
    {
     "name": "stdout",
     "output_type": "stream",
     "text": [
      "Epoch 48 loss: 4.298855367971926, loss_t2i: 5.301739578344384, loss_mmu: 0.2873181277619941\n",
      "  Token-Norm: 72.27383422851562\n",
      "  index_no_updates-Token-Norm: 475.90191650390625\n",
      "  LM-Head-Weight-Norm: 12.089882850646973\n",
      "  index_no_updates-LM-Head-Weight-Norm: 636.0464477539062\n",
      "  LM-Head-Bias-Norm: 1.1465892791748047\n",
      "  index_no_updates-LM-Head-Bias-Norm: 200.17538452148438\n",
      "Epoch 49\n"
     ]
    },
    {
     "name": "stderr",
     "output_type": "stream",
     "text": [
      "100%|██████████| 49/49 [00:19<00:00,  2.57it/s]\n"
     ]
    },
    {
     "name": "stdout",
     "output_type": "stream",
     "text": [
      "Epoch 49 loss: 4.774450905468999, loss_t2i: 5.899993327199196, loss_mmu: 0.27228083577463214\n",
      "  Token-Norm: 73.11774444580078\n",
      "  index_no_updates-Token-Norm: 475.90191650390625\n",
      "  LM-Head-Weight-Norm: 12.067911148071289\n",
      "  index_no_updates-LM-Head-Weight-Norm: 636.0464477539062\n",
      "  LM-Head-Bias-Norm: 1.144546627998352\n",
      "  index_no_updates-LM-Head-Bias-Norm: 200.17538452148438\n",
      "Epoch 50\n"
     ]
    },
    {
     "name": "stderr",
     "output_type": "stream",
     "text": [
      "100%|██████████| 49/49 [00:19<00:00,  2.57it/s]\n"
     ]
    },
    {
     "name": "stdout",
     "output_type": "stream",
     "text": [
      "Epoch 50 loss: 4.733472035855663, loss_t2i: 5.849007416744621, loss_mmu: 0.2713301164972387\n",
      "  Token-Norm: 74.18463134765625\n",
      "  index_no_updates-Token-Norm: 475.90191650390625\n",
      "  LM-Head-Weight-Norm: 12.050017356872559\n",
      "  index_no_updates-LM-Head-Weight-Norm: 636.0464477539062\n",
      "  LM-Head-Bias-Norm: 1.1427398920059204\n",
      "  index_no_updates-LM-Head-Bias-Norm: 200.17538452148438\n",
      "Epoch 51\n"
     ]
    },
    {
     "name": "stderr",
     "output_type": "stream",
     "text": [
      "100%|██████████| 49/49 [00:19<00:00,  2.55it/s]\n"
     ]
    },
    {
     "name": "stdout",
     "output_type": "stream",
     "text": [
      "Epoch 51 loss: 4.52496958995352, loss_t2i: 5.583332300186157, loss_mmu: 0.29151832863536414\n",
      "  Token-Norm: 75.4850082397461\n",
      "  index_no_updates-Token-Norm: 475.90191650390625\n",
      "  LM-Head-Weight-Norm: 12.023186683654785\n",
      "  index_no_updates-LM-Head-Weight-Norm: 636.0464477539062\n",
      "  LM-Head-Bias-Norm: 1.1400620937347412\n",
      "  index_no_updates-LM-Head-Bias-Norm: 200.17538452148438\n",
      "Epoch 52\n"
     ]
    },
    {
     "name": "stderr",
     "output_type": "stream",
     "text": [
      "100%|██████████| 49/49 [00:19<00:00,  2.56it/s]\n"
     ]
    },
    {
     "name": "stdout",
     "output_type": "stream",
     "text": [
      "Epoch 52 loss: 4.76845577784947, loss_t2i: 5.890713818219243, loss_mmu: 0.27942332709018064\n",
      "  Token-Norm: 76.79292297363281\n",
      "  index_no_updates-Token-Norm: 475.90191650390625\n",
      "  LM-Head-Weight-Norm: 11.993514060974121\n",
      "  index_no_updates-LM-Head-Weight-Norm: 636.0464477539062\n",
      "  LM-Head-Bias-Norm: 1.1369779109954834\n",
      "  index_no_updates-LM-Head-Bias-Norm: 200.17538452148438\n",
      "Epoch 53\n"
     ]
    },
    {
     "name": "stderr",
     "output_type": "stream",
     "text": [
      "100%|██████████| 49/49 [00:19<00:00,  2.57it/s]\n"
     ]
    },
    {
     "name": "stdout",
     "output_type": "stream",
     "text": [
      "Epoch 53 loss: 4.626686091325721, loss_t2i: 5.715763714848732, loss_mmu: 0.27037509504173485\n",
      "  Token-Norm: 77.89508056640625\n",
      "  index_no_updates-Token-Norm: 475.90191650390625\n",
      "  LM-Head-Weight-Norm: 11.968205451965332\n",
      "  index_no_updates-LM-Head-Weight-Norm: 636.0464477539062\n",
      "  LM-Head-Bias-Norm: 1.1345468759536743\n",
      "  index_no_updates-LM-Head-Bias-Norm: 200.17538452148438\n",
      "Epoch 54\n"
     ]
    },
    {
     "name": "stderr",
     "output_type": "stream",
     "text": [
      "100%|██████████| 49/49 [00:19<00:00,  2.57it/s]\n"
     ]
    },
    {
     "name": "stdout",
     "output_type": "stream",
     "text": [
      "Epoch 54 loss: 4.71954235252069, loss_t2i: 5.833400687392877, loss_mmu: 0.2641085470570441\n",
      "  Token-Norm: 78.5687026977539\n",
      "  index_no_updates-Token-Norm: 475.90191650390625\n",
      "  LM-Head-Weight-Norm: 11.957320213317871\n",
      "  index_no_updates-LM-Head-Weight-Norm: 636.0464477539062\n",
      "  LM-Head-Bias-Norm: 1.1339139938354492\n",
      "  index_no_updates-LM-Head-Bias-Norm: 200.17538452148438\n",
      "Epoch 55\n"
     ]
    },
    {
     "name": "stderr",
     "output_type": "stream",
     "text": [
      "100%|██████████| 49/49 [00:19<00:00,  2.58it/s]\n"
     ]
    },
    {
     "name": "stdout",
     "output_type": "stream",
     "text": [
      "Epoch 55 loss: 4.762157036333668, loss_t2i: 5.8783594004961905, loss_mmu: 0.2973473225054996\n",
      "  Token-Norm: 80.10250854492188\n",
      "  index_no_updates-Token-Norm: 475.90191650390625\n",
      "  LM-Head-Weight-Norm: 11.943018913269043\n",
      "  index_no_updates-LM-Head-Weight-Norm: 636.0464477539062\n",
      "  LM-Head-Bias-Norm: 1.133036494255066\n",
      "  index_no_updates-LM-Head-Bias-Norm: 200.17538452148438\n",
      "Epoch 56\n"
     ]
    },
    {
     "name": "stderr",
     "output_type": "stream",
     "text": [
      "100%|██████████| 49/49 [00:19<00:00,  2.57it/s]\n"
     ]
    },
    {
     "name": "stdout",
     "output_type": "stream",
     "text": [
      "Epoch 56 loss: 4.855512619018555, loss_t2i: 5.998793139749644, loss_mmu: 0.2823900664035155\n",
      "  Token-Norm: 81.21875\n",
      "  index_no_updates-Token-Norm: 475.90191650390625\n",
      "  LM-Head-Weight-Norm: 11.9271240234375\n",
      "  index_no_updates-LM-Head-Weight-Norm: 636.0464477539062\n",
      "  LM-Head-Bias-Norm: 1.1317847967147827\n",
      "  index_no_updates-LM-Head-Bias-Norm: 200.17538452148438\n",
      "Epoch 57\n"
     ]
    },
    {
     "name": "stderr",
     "output_type": "stream",
     "text": [
      "100%|██████████| 49/49 [00:19<00:00,  2.58it/s]\n"
     ]
    },
    {
     "name": "stdout",
     "output_type": "stream",
     "text": [
      "Epoch 57 loss: 4.73468478601806, loss_t2i: 5.851159460690557, loss_mmu: 0.26878582296550885\n",
      "  Token-Norm: 82.22695922851562\n",
      "  index_no_updates-Token-Norm: 475.90191650390625\n",
      "  LM-Head-Weight-Norm: 11.90692138671875\n",
      "  index_no_updates-LM-Head-Weight-Norm: 636.0464477539062\n",
      "  LM-Head-Bias-Norm: 1.1298468112945557\n",
      "  index_no_updates-LM-Head-Bias-Norm: 200.17538452148438\n",
      "Epoch 58\n"
     ]
    },
    {
     "name": "stderr",
     "output_type": "stream",
     "text": [
      "100%|██████████| 49/49 [00:19<00:00,  2.57it/s]\n"
     ]
    },
    {
     "name": "stdout",
     "output_type": "stream",
     "text": [
      "Epoch 58 loss: 4.51431861945561, loss_t2i: 5.577749692663854, loss_mmu: 0.26059371724306624\n",
      "  Token-Norm: 82.99173736572266\n",
      "  index_no_updates-Token-Norm: 475.90191650390625\n",
      "  LM-Head-Weight-Norm: 11.883216857910156\n",
      "  index_no_updates-LM-Head-Weight-Norm: 636.0464477539062\n",
      "  LM-Head-Bias-Norm: 1.1277236938476562\n",
      "  index_no_updates-LM-Head-Bias-Norm: 200.17538452148438\n",
      "Epoch 59\n"
     ]
    },
    {
     "name": "stderr",
     "output_type": "stream",
     "text": [
      "100%|██████████| 49/49 [00:19<00:00,  2.58it/s]\n"
     ]
    },
    {
     "name": "stdout",
     "output_type": "stream",
     "text": [
      "Epoch 59 loss: 4.458051097636321, loss_t2i: 5.5085514516246565, loss_mmu: 0.2560492498914198\n",
      "  Token-Norm: 83.76292419433594\n",
      "  index_no_updates-Token-Norm: 475.90191650390625\n",
      "  LM-Head-Weight-Norm: 11.857090950012207\n",
      "  index_no_updates-LM-Head-Weight-Norm: 636.0464477539062\n",
      "  LM-Head-Bias-Norm: 1.1252646446228027\n",
      "  index_no_updates-LM-Head-Bias-Norm: 200.17538452148438\n",
      "Epoch 60\n"
     ]
    },
    {
     "name": "stderr",
     "output_type": "stream",
     "text": [
      "100%|██████████| 49/49 [00:19<00:00,  2.57it/s]\n"
     ]
    },
    {
     "name": "stdout",
     "output_type": "stream",
     "text": [
      "Epoch 60 loss: 4.696412086486816, loss_t2i: 5.804881056960748, loss_mmu: 0.2625358218935375\n",
      "  Token-Norm: 84.71622467041016\n",
      "  index_no_updates-Token-Norm: 475.90191650390625\n",
      "  LM-Head-Weight-Norm: 11.830610275268555\n",
      "  index_no_updates-LM-Head-Weight-Norm: 636.0464477539062\n",
      "  LM-Head-Bias-Norm: 1.1227010488510132\n",
      "  index_no_updates-LM-Head-Bias-Norm: 200.17538452148438\n",
      "Epoch 61\n"
     ]
    },
    {
     "name": "stderr",
     "output_type": "stream",
     "text": [
      "100%|██████████| 49/49 [00:19<00:00,  2.57it/s]\n"
     ]
    },
    {
     "name": "stdout",
     "output_type": "stream",
     "text": [
      "Epoch 61 loss: 4.634181523809628, loss_t2i: 5.726162657445791, loss_mmu: 0.26625680052960404\n",
      "  Token-Norm: 85.6576156616211\n",
      "  index_no_updates-Token-Norm: 475.90191650390625\n",
      "  LM-Head-Weight-Norm: 11.806462287902832\n",
      "  index_no_updates-LM-Head-Weight-Norm: 636.0464477539062\n",
      "  LM-Head-Bias-Norm: 1.1203635931015015\n",
      "  index_no_updates-LM-Head-Bias-Norm: 200.17538452148438\n",
      "Epoch 62\n"
     ]
    },
    {
     "name": "stderr",
     "output_type": "stream",
     "text": [
      "100%|██████████| 49/49 [00:19<00:00,  2.58it/s]\n"
     ]
    },
    {
     "name": "stdout",
     "output_type": "stream",
     "text": [
      "Epoch 62 loss: 4.626322157528936, loss_t2i: 5.713282035321606, loss_mmu: 0.2784822178928524\n",
      "  Token-Norm: 86.69084930419922\n",
      "  index_no_updates-Token-Norm: 475.90191650390625\n",
      "  LM-Head-Weight-Norm: 11.788455963134766\n",
      "  index_no_updates-LM-Head-Weight-Norm: 636.0464477539062\n",
      "  LM-Head-Bias-Norm: 1.1188842058181763\n",
      "  index_no_updates-LM-Head-Bias-Norm: 200.17538452148438\n",
      "Epoch 63\n"
     ]
    },
    {
     "name": "stderr",
     "output_type": "stream",
     "text": [
      "100%|██████████| 49/49 [00:19<00:00,  2.58it/s]\n"
     ]
    },
    {
     "name": "stdout",
     "output_type": "stream",
     "text": [
      "Epoch 63 loss: 4.495390468714189, loss_t2i: 5.553118275136364, loss_mmu: 0.2644787764328779\n",
      "  Token-Norm: 87.81450653076172\n",
      "  index_no_updates-Token-Norm: 475.90191650390625\n",
      "  LM-Head-Weight-Norm: 11.763651847839355\n",
      "  index_no_updates-LM-Head-Weight-Norm: 636.0464477539062\n",
      "  LM-Head-Bias-Norm: 1.116567850112915\n",
      "  index_no_updates-LM-Head-Bias-Norm: 200.17538452148438\n",
      "Epoch 64\n"
     ]
    },
    {
     "name": "stderr",
     "output_type": "stream",
     "text": [
      "100%|██████████| 49/49 [00:19<00:00,  2.57it/s]\n"
     ]
    },
    {
     "name": "stdout",
     "output_type": "stream",
     "text": [
      "Epoch 64 loss: 4.397152251126815, loss_t2i: 5.43378717072156, loss_mmu: 0.2506121025439732\n",
      "  Token-Norm: 88.4156494140625\n",
      "  index_no_updates-Token-Norm: 475.90191650390625\n",
      "  LM-Head-Weight-Norm: 11.742775917053223\n",
      "  index_no_updates-LM-Head-Weight-Norm: 636.0464477539062\n",
      "  LM-Head-Bias-Norm: 1.1149344444274902\n",
      "  index_no_updates-LM-Head-Bias-Norm: 200.17538452148438\n",
      "Epoch 65\n"
     ]
    },
    {
     "name": "stderr",
     "output_type": "stream",
     "text": [
      "100%|██████████| 49/49 [00:19<00:00,  2.58it/s]\n"
     ]
    },
    {
     "name": "stdout",
     "output_type": "stream",
     "text": [
      "Epoch 65 loss: 4.419666382731224, loss_t2i: 5.464218937620824, loss_mmu: 0.24145583530925974\n",
      "  Token-Norm: 88.85820007324219\n",
      "  index_no_updates-Token-Norm: 475.90191650390625\n",
      "  LM-Head-Weight-Norm: 11.721578598022461\n",
      "  index_no_updates-LM-Head-Weight-Norm: 636.0464477539062\n",
      "  LM-Head-Bias-Norm: 1.113385558128357\n",
      "  index_no_updates-LM-Head-Bias-Norm: 200.17538452148438\n",
      "Epoch 66\n"
     ]
    },
    {
     "name": "stderr",
     "output_type": "stream",
     "text": [
      "100%|██████████| 49/49 [00:19<00:00,  2.58it/s]\n"
     ]
    },
    {
     "name": "stdout",
     "output_type": "stream",
     "text": [
      "Epoch 66 loss: 4.711656750464926, loss_t2i: 5.8276486640073815, loss_mmu: 0.24768873593028712\n",
      "  Token-Norm: 89.95762634277344\n",
      "  index_no_updates-Token-Norm: 475.90191650390625\n",
      "  LM-Head-Weight-Norm: 11.701179504394531\n",
      "  index_no_updates-LM-Head-Weight-Norm: 636.0464477539062\n",
      "  LM-Head-Bias-Norm: 1.111526370048523\n",
      "  index_no_updates-LM-Head-Bias-Norm: 200.17538452148438\n",
      "Epoch 67\n"
     ]
    },
    {
     "name": "stderr",
     "output_type": "stream",
     "text": [
      "100%|██████████| 49/49 [00:19<00:00,  2.57it/s]\n"
     ]
    },
    {
     "name": "stdout",
     "output_type": "stream",
     "text": [
      "Epoch 67 loss: 4.5652457864917055, loss_t2i: 5.640650053413546, loss_mmu: 0.2636284950968562\n",
      "  Token-Norm: 91.06458282470703\n",
      "  index_no_updates-Token-Norm: 475.90191650390625\n",
      "  LM-Head-Weight-Norm: 11.688762664794922\n",
      "  index_no_updates-LM-Head-Weight-Norm: 636.0464477539062\n",
      "  LM-Head-Bias-Norm: 1.1105891466140747\n",
      "  index_no_updates-LM-Head-Bias-Norm: 200.17538452148438\n",
      "Epoch 68\n"
     ]
    },
    {
     "name": "stderr",
     "output_type": "stream",
     "text": [
      "100%|██████████| 49/49 [00:19<00:00,  2.57it/s]\n"
     ]
    },
    {
     "name": "stdout",
     "output_type": "stream",
     "text": [
      "Epoch 68 loss: 4.405778128273633, loss_t2i: 5.4469601864717445, loss_mmu: 0.24104951706011685\n",
      "  Token-Norm: 91.63909912109375\n",
      "  index_no_updates-Token-Norm: 475.90191650390625\n",
      "  LM-Head-Weight-Norm: 11.67497444152832\n",
      "  index_no_updates-LM-Head-Weight-Norm: 636.0464477539062\n",
      "  LM-Head-Bias-Norm: 1.1097865104675293\n",
      "  index_no_updates-LM-Head-Bias-Norm: 200.17538452148438\n",
      "Epoch 69\n"
     ]
    },
    {
     "name": "stderr",
     "output_type": "stream",
     "text": [
      "100%|██████████| 49/49 [00:19<00:00,  2.55it/s]\n"
     ]
    },
    {
     "name": "stdout",
     "output_type": "stream",
     "text": [
      "Epoch 69 loss: 4.476972633478593, loss_t2i: 5.534047516024843, loss_mmu: 0.248672696666754\n",
      "  Token-Norm: 92.73479461669922\n",
      "  index_no_updates-Token-Norm: 475.90191650390625\n",
      "  LM-Head-Weight-Norm: 11.659244537353516\n",
      "  index_no_updates-LM-Head-Weight-Norm: 636.0464477539062\n",
      "  LM-Head-Bias-Norm: 1.1087665557861328\n",
      "  index_no_updates-LM-Head-Bias-Norm: 200.17538452148438\n",
      "Epoch 70\n"
     ]
    },
    {
     "name": "stderr",
     "output_type": "stream",
     "text": [
      "100%|██████████| 49/49 [00:19<00:00,  2.57it/s]\n"
     ]
    },
    {
     "name": "stdout",
     "output_type": "stream",
     "text": [
      "Epoch 70 loss: 4.513823572470217, loss_t2i: 5.580911130321269, loss_mmu: 0.24547281764371662\n",
      "  Token-Norm: 93.39141845703125\n",
      "  index_no_updates-Token-Norm: 475.90191650390625\n",
      "  LM-Head-Weight-Norm: 11.637185096740723\n",
      "  index_no_updates-LM-Head-Weight-Norm: 636.0464477539062\n",
      "  LM-Head-Bias-Norm: 1.1070187091827393\n",
      "  index_no_updates-LM-Head-Bias-Norm: 200.17538452148438\n",
      "Epoch 71\n"
     ]
    },
    {
     "name": "stderr",
     "output_type": "stream",
     "text": [
      "100%|██████████| 49/49 [00:19<00:00,  2.56it/s]\n"
     ]
    },
    {
     "name": "stdout",
     "output_type": "stream",
     "text": [
      "Epoch 71 loss: 4.635739134282482, loss_t2i: 5.735668209134316, loss_mmu: 0.23602254074827142\n",
      "  Token-Norm: 94.19572448730469\n",
      "  index_no_updates-Token-Norm: 475.90191650390625\n",
      "  LM-Head-Weight-Norm: 11.623221397399902\n",
      "  index_no_updates-LM-Head-Weight-Norm: 636.0464477539062\n",
      "  LM-Head-Bias-Norm: 1.1064621210098267\n",
      "  index_no_updates-LM-Head-Bias-Norm: 200.17538452148438\n",
      "Epoch 72\n"
     ]
    },
    {
     "name": "stderr",
     "output_type": "stream",
     "text": [
      "100%|██████████| 49/49 [00:19<00:00,  2.57it/s]\n"
     ]
    },
    {
     "name": "stdout",
     "output_type": "stream",
     "text": [
      "Epoch 72 loss: 4.590314164453623, loss_t2i: 5.670053503951248, loss_mmu: 0.2713564358157467\n",
      "  Token-Norm: 95.60423278808594\n",
      "  index_no_updates-Token-Norm: 475.90191650390625\n",
      "  LM-Head-Weight-Norm: 11.594978332519531\n",
      "  index_no_updates-LM-Head-Weight-Norm: 636.0464477539062\n",
      "  LM-Head-Bias-Norm: 1.1039098501205444\n",
      "  index_no_updates-LM-Head-Bias-Norm: 200.17538452148438\n",
      "Epoch 73\n"
     ]
    },
    {
     "name": "stderr",
     "output_type": "stream",
     "text": [
      "100%|██████████| 49/49 [00:19<00:00,  2.57it/s]\n"
     ]
    },
    {
     "name": "stdout",
     "output_type": "stream",
     "text": [
      "Epoch 73 loss: 4.534712565188506, loss_t2i: 5.603719974050716, loss_mmu: 0.2586825720927849\n",
      "  Token-Norm: 96.51533508300781\n",
      "  index_no_updates-Token-Norm: 475.90191650390625\n",
      "  LM-Head-Weight-Norm: 11.578919410705566\n",
      "  index_no_updates-LM-Head-Weight-Norm: 636.0464477539062\n",
      "  LM-Head-Bias-Norm: 1.1030545234680176\n",
      "  index_no_updates-LM-Head-Bias-Norm: 200.17538452148438\n",
      "Epoch 74\n"
     ]
    },
    {
     "name": "stderr",
     "output_type": "stream",
     "text": [
      "100%|██████████| 49/49 [00:19<00:00,  2.57it/s]\n"
     ]
    },
    {
     "name": "stdout",
     "output_type": "stream",
     "text": [
      "Epoch 74 loss: 4.308073223853598, loss_t2i: 5.322956294429545, loss_mmu: 0.2485406683491809\n",
      "  Token-Norm: 97.31774139404297\n",
      "  index_no_updates-Token-Norm: 475.90191650390625\n",
      "  LM-Head-Weight-Norm: 11.550769805908203\n",
      "  index_no_updates-LM-Head-Weight-Norm: 636.0464477539062\n",
      "  LM-Head-Bias-Norm: 1.1003071069717407\n",
      "  index_no_updates-LM-Head-Bias-Norm: 200.17538452148438\n",
      "Epoch 75\n"
     ]
    },
    {
     "name": "stderr",
     "output_type": "stream",
     "text": [
      "100%|██████████| 49/49 [00:19<00:00,  2.57it/s]\n"
     ]
    },
    {
     "name": "stdout",
     "output_type": "stream",
     "text": [
      "Epoch 75 loss: 4.479966119844086, loss_t2i: 5.541365414249654, loss_mmu: 0.23436842843586084\n",
      "  Token-Norm: 97.69742584228516\n",
      "  index_no_updates-Token-Norm: 475.90191650390625\n",
      "  LM-Head-Weight-Norm: 11.521967887878418\n",
      "  index_no_updates-LM-Head-Weight-Norm: 636.0464477539062\n",
      "  LM-Head-Bias-Norm: 1.0977599620819092\n",
      "  index_no_updates-LM-Head-Bias-Norm: 200.17538452148438\n",
      "Epoch 76\n"
     ]
    },
    {
     "name": "stderr",
     "output_type": "stream",
     "text": [
      "100%|██████████| 49/49 [00:19<00:00,  2.57it/s]\n"
     ]
    },
    {
     "name": "stdout",
     "output_type": "stream",
     "text": [
      "Epoch 76 loss: 4.339845457855536, loss_t2i: 5.368432636163672, loss_mmu: 0.22549620747794302\n",
      "  Token-Norm: 97.89163970947266\n",
      "  index_no_updates-Token-Norm: 475.90191650390625\n",
      "  LM-Head-Weight-Norm: 11.501585006713867\n",
      "  index_no_updates-LM-Head-Weight-Norm: 636.0464477539062\n",
      "  LM-Head-Bias-Norm: 1.0961933135986328\n",
      "  index_no_updates-LM-Head-Bias-Norm: 200.17538452148438\n",
      "Epoch 77\n"
     ]
    },
    {
     "name": "stderr",
     "output_type": "stream",
     "text": [
      "100%|██████████| 49/49 [00:19<00:00,  2.57it/s]\n"
     ]
    },
    {
     "name": "stdout",
     "output_type": "stream",
     "text": [
      "Epoch 77 loss: 4.494328048764443, loss_t2i: 5.553012400257344, loss_mmu: 0.25959030398148664\n",
      "  Token-Norm: 99.16558074951172\n",
      "  index_no_updates-Token-Norm: 475.90191650390625\n",
      "  LM-Head-Weight-Norm: 11.476913452148438\n",
      "  index_no_updates-LM-Head-Weight-Norm: 636.0464477539062\n",
      "  LM-Head-Bias-Norm: 1.0939109325408936\n",
      "  index_no_updates-LM-Head-Bias-Norm: 200.17538452148438\n",
      "Epoch 78\n"
     ]
    },
    {
     "name": "stderr",
     "output_type": "stream",
     "text": [
      "100%|██████████| 49/49 [00:19<00:00,  2.57it/s]\n"
     ]
    },
    {
     "name": "stdout",
     "output_type": "stream",
     "text": [
      "Epoch 78 loss: 4.889912678270924, loss_t2i: 6.049317126371423, loss_mmu: 0.25229462255172586\n",
      "  Token-Norm: 99.69847869873047\n",
      "  index_no_updates-Token-Norm: 475.90191650390625\n",
      "  LM-Head-Weight-Norm: 11.457950592041016\n",
      "  index_no_updates-LM-Head-Weight-Norm: 636.0464477539062\n",
      "  LM-Head-Bias-Norm: 1.0920782089233398\n",
      "  index_no_updates-LM-Head-Bias-Norm: 200.17538452148438\n",
      "Epoch 79\n"
     ]
    },
    {
     "name": "stderr",
     "output_type": "stream",
     "text": [
      "100%|██████████| 49/49 [00:19<00:00,  2.57it/s]\n"
     ]
    },
    {
     "name": "stdout",
     "output_type": "stream",
     "text": [
      "Epoch 79 loss: 4.141848612804802, loss_t2i: 5.1168360150590235, loss_mmu: 0.2418986206532133\n",
      "  Token-Norm: 100.2342758178711\n",
      "  index_no_updates-Token-Norm: 475.90191650390625\n",
      "  LM-Head-Weight-Norm: 11.445889472961426\n",
      "  index_no_updates-LM-Head-Weight-Norm: 636.0464477539062\n",
      "  LM-Head-Bias-Norm: 1.0918203592300415\n",
      "  index_no_updates-LM-Head-Bias-Norm: 200.17538452148438\n",
      "Epoch 80\n"
     ]
    },
    {
     "name": "stderr",
     "output_type": "stream",
     "text": [
      "100%|██████████| 49/49 [00:19<00:00,  2.57it/s]\n"
     ]
    },
    {
     "name": "stdout",
     "output_type": "stream",
     "text": [
      "Epoch 80 loss: 4.533057653174108, loss_t2i: 5.609157056224589, loss_mmu: 0.2286597069124786\n",
      "  Token-Norm: 100.64663696289062\n",
      "  index_no_updates-Token-Norm: 475.90191650390625\n",
      "  LM-Head-Weight-Norm: 11.431002616882324\n",
      "  index_no_updates-LM-Head-Weight-Norm: 636.0464477539062\n",
      "  LM-Head-Bias-Norm: 1.0909552574157715\n",
      "  index_no_updates-LM-Head-Bias-Norm: 200.17538452148438\n",
      "Epoch 81\n"
     ]
    },
    {
     "name": "stderr",
     "output_type": "stream",
     "text": [
      "100%|██████████| 49/49 [00:19<00:00,  2.57it/s]\n"
     ]
    },
    {
     "name": "stdout",
     "output_type": "stream",
     "text": [
      "Epoch 81 loss: 4.28366714107747, loss_t2i: 5.299872707347481, loss_mmu: 0.2188446182301458\n",
      "  Token-Norm: 100.92536926269531\n",
      "  index_no_updates-Token-Norm: 475.90191650390625\n",
      "  LM-Head-Weight-Norm: 11.409988403320312\n",
      "  index_no_updates-LM-Head-Weight-Norm: 636.0464477539062\n",
      "  LM-Head-Bias-Norm: 1.0894914865493774\n",
      "  index_no_updates-LM-Head-Bias-Norm: 200.17538452148438\n",
      "Epoch 82\n"
     ]
    },
    {
     "name": "stderr",
     "output_type": "stream",
     "text": [
      "100%|██████████| 49/49 [00:19<00:00,  2.57it/s]\n"
     ]
    },
    {
     "name": "stdout",
     "output_type": "stream",
     "text": [
      "Epoch 82 loss: 4.6171678912882905, loss_t2i: 5.71110571647177, loss_mmu: 0.24141625923161603\n",
      "  Token-Norm: 102.08844757080078\n",
      "  index_no_updates-Token-Norm: 475.90191650390625\n",
      "  LM-Head-Weight-Norm: 11.39212703704834\n",
      "  index_no_updates-LM-Head-Weight-Norm: 636.0464477539062\n",
      "  LM-Head-Bias-Norm: 1.0881602764129639\n",
      "  index_no_updates-LM-Head-Bias-Norm: 200.17538452148438\n",
      "Epoch 83\n"
     ]
    },
    {
     "name": "stderr",
     "output_type": "stream",
     "text": [
      "100%|██████████| 49/49 [00:19<00:00,  2.57it/s]\n"
     ]
    },
    {
     "name": "stdout",
     "output_type": "stream",
     "text": [
      "Epoch 83 loss: 4.402704316742566, loss_t2i: 5.447232531041515, loss_mmu: 0.2245911546431634\n",
      "  Token-Norm: 102.50737762451172\n",
      "  index_no_updates-Token-Norm: 475.90191650390625\n",
      "  LM-Head-Weight-Norm: 11.370017051696777\n",
      "  index_no_updates-LM-Head-Weight-Norm: 636.0464477539062\n",
      "  LM-Head-Bias-Norm: 1.0867185592651367\n",
      "  index_no_updates-LM-Head-Bias-Norm: 200.17538452148438\n",
      "Epoch 84\n"
     ]
    },
    {
     "name": "stderr",
     "output_type": "stream",
     "text": [
      "100%|██████████| 49/49 [00:19<00:00,  2.56it/s]\n"
     ]
    },
    {
     "name": "stdout",
     "output_type": "stream",
     "text": [
      "Epoch 84 loss: 4.396136041806669, loss_t2i: 5.440334614442319, loss_mmu: 0.21934136242738791\n",
      "  Token-Norm: 102.81697082519531\n",
      "  index_no_updates-Token-Norm: 475.90191650390625\n",
      "  LM-Head-Weight-Norm: 11.3525972366333\n",
      "  index_no_updates-LM-Head-Weight-Norm: 636.0464477539062\n",
      "  LM-Head-Bias-Norm: 1.0857369899749756\n",
      "  index_no_updates-LM-Head-Bias-Norm: 200.17538452148438\n",
      "Epoch 85\n"
     ]
    },
    {
     "name": "stderr",
     "output_type": "stream",
     "text": [
      "100%|██████████| 49/49 [00:19<00:00,  2.57it/s]\n"
     ]
    },
    {
     "name": "stdout",
     "output_type": "stream",
     "text": [
      "Epoch 85 loss: 4.569373284067426, loss_t2i: 5.657959668003783, loss_mmu: 0.21502744817003913\n",
      "  Token-Norm: 103.1275634765625\n",
      "  index_no_updates-Token-Norm: 475.90191650390625\n",
      "  LM-Head-Weight-Norm: 11.331624031066895\n",
      "  index_no_updates-LM-Head-Weight-Norm: 636.0464477539062\n",
      "  LM-Head-Bias-Norm: 1.0844526290893555\n",
      "  index_no_updates-LM-Head-Bias-Norm: 200.17538452148438\n",
      "Epoch 86\n"
     ]
    },
    {
     "name": "stderr",
     "output_type": "stream",
     "text": [
      "100%|██████████| 49/49 [00:19<00:00,  2.57it/s]\n"
     ]
    },
    {
     "name": "stdout",
     "output_type": "stream",
     "text": [
      "Epoch 86 loss: 4.439378218991416, loss_t2i: 5.49574215193184, loss_mmu: 0.21392211781776682\n",
      "  Token-Norm: 103.58335876464844\n",
      "  index_no_updates-Token-Norm: 475.90191650390625\n",
      "  LM-Head-Weight-Norm: 11.304508209228516\n",
      "  index_no_updates-LM-Head-Weight-Norm: 636.0464477539062\n",
      "  LM-Head-Bias-Norm: 1.0820649862289429\n",
      "  index_no_updates-LM-Head-Bias-Norm: 200.17538452148438\n",
      "Epoch 87\n"
     ]
    },
    {
     "name": "stderr",
     "output_type": "stream",
     "text": [
      "100%|██████████| 49/49 [00:19<00:00,  2.57it/s]\n"
     ]
    },
    {
     "name": "stdout",
     "output_type": "stream",
     "text": [
      "Epoch 87 loss: 4.713911110041093, loss_t2i: 5.832911812529272, loss_mmu: 0.23790804528612264\n",
      "  Token-Norm: 104.81611633300781\n",
      "  index_no_updates-Token-Norm: 475.90191650390625\n",
      "  LM-Head-Weight-Norm: 11.275556564331055\n",
      "  index_no_updates-LM-Head-Weight-Norm: 636.0464477539062\n",
      "  LM-Head-Bias-Norm: 1.0794199705123901\n",
      "  index_no_updates-LM-Head-Bias-Norm: 200.17538452148438\n",
      "Epoch 88\n"
     ]
    },
    {
     "name": "stderr",
     "output_type": "stream",
     "text": [
      "100%|██████████| 49/49 [00:19<00:00,  2.57it/s]\n"
     ]
    },
    {
     "name": "stdout",
     "output_type": "stream",
     "text": [
      "Epoch 88 loss: 4.28752678511094, loss_t2i: 5.3022798020012525, loss_mmu: 0.22851426738827507\n",
      "  Token-Norm: 105.21306610107422\n",
      "  index_no_updates-Token-Norm: 475.90191650390625\n",
      "  LM-Head-Weight-Norm: 11.258687019348145\n",
      "  index_no_updates-LM-Head-Weight-Norm: 636.0464477539062\n",
      "  LM-Head-Bias-Norm: 1.0787286758422852\n",
      "  index_no_updates-LM-Head-Bias-Norm: 200.17538452148438\n",
      "Epoch 89\n"
     ]
    },
    {
     "name": "stderr",
     "output_type": "stream",
     "text": [
      "100%|██████████| 49/49 [00:19<00:00,  2.55it/s]\n"
     ]
    },
    {
     "name": "stdout",
     "output_type": "stream",
     "text": [
      "Epoch 89 loss: 4.17160465279404, loss_t2i: 5.161347739550532, loss_mmu: 0.212631795289261\n",
      "  Token-Norm: 105.3882827758789\n",
      "  index_no_updates-Token-Norm: 475.90191650390625\n",
      "  LM-Head-Weight-Norm: 11.224209785461426\n",
      "  index_no_updates-LM-Head-Weight-Norm: 636.0464477539062\n",
      "  LM-Head-Bias-Norm: 1.0755670070648193\n",
      "  index_no_updates-LM-Head-Bias-Norm: 200.17538452148438\n",
      "Epoch 90\n"
     ]
    },
    {
     "name": "stderr",
     "output_type": "stream",
     "text": [
      "100%|██████████| 49/49 [00:19<00:00,  2.55it/s]\n"
     ]
    },
    {
     "name": "stdout",
     "output_type": "stream",
     "text": [
      "Epoch 90 loss: 4.286380039185894, loss_t2i: 5.304309626014865, loss_mmu: 0.21466132655397666\n",
      "  Token-Norm: 105.9671859741211\n",
      "  index_no_updates-Token-Norm: 475.90191650390625\n",
      "  LM-Head-Weight-Norm: 11.202486038208008\n",
      "  index_no_updates-LM-Head-Weight-Norm: 636.0464477539062\n",
      "  LM-Head-Bias-Norm: 1.0745114088058472\n",
      "  index_no_updates-LM-Head-Bias-Norm: 200.17538452148438\n",
      "Epoch 91\n"
     ]
    },
    {
     "name": "stderr",
     "output_type": "stream",
     "text": [
      "100%|██████████| 49/49 [00:19<00:00,  2.56it/s]\n"
     ]
    },
    {
     "name": "stdout",
     "output_type": "stream",
     "text": [
      "Epoch 91 loss: 4.333718358253946, loss_t2i: 5.365644621605775, loss_mmu: 0.20601282915936744\n",
      "  Token-Norm: 106.00858306884766\n",
      "  index_no_updates-Token-Norm: 475.90191650390625\n",
      "  LM-Head-Weight-Norm: 11.18237018585205\n",
      "  index_no_updates-LM-Head-Weight-Norm: 636.0464477539062\n",
      "  LM-Head-Bias-Norm: 1.0734630823135376\n",
      "  index_no_updates-LM-Head-Bias-Norm: 200.17538452148438\n",
      "Epoch 92\n"
     ]
    },
    {
     "name": "stderr",
     "output_type": "stream",
     "text": [
      "100%|██████████| 49/49 [00:19<00:00,  2.56it/s]\n"
     ]
    },
    {
     "name": "stdout",
     "output_type": "stream",
     "text": [
      "Epoch 92 loss: 4.287458961107293, loss_t2i: 5.309067616657335, loss_mmu: 0.20102418622724255\n",
      "  Token-Norm: 106.30217742919922\n",
      "  index_no_updates-Token-Norm: 475.90191650390625\n",
      "  LM-Head-Weight-Norm: 11.157427787780762\n",
      "  index_no_updates-LM-Head-Weight-Norm: 636.0464477539062\n",
      "  LM-Head-Bias-Norm: 1.0715179443359375\n",
      "  index_no_updates-LM-Head-Bias-Norm: 200.17538452148438\n",
      "Epoch 93\n"
     ]
    },
    {
     "name": "stderr",
     "output_type": "stream",
     "text": [
      "100%|██████████| 49/49 [00:19<00:00,  2.56it/s]\n"
     ]
    },
    {
     "name": "stdout",
     "output_type": "stream",
     "text": [
      "Epoch 93 loss: 4.333679133531999, loss_t2i: 5.365951861654009, loss_mmu: 0.204587723793728\n",
      "  Token-Norm: 106.69204711914062\n",
      "  index_no_updates-Token-Norm: 475.90191650390625\n",
      "  LM-Head-Weight-Norm: 11.130715370178223\n",
      "  index_no_updates-LM-Head-Weight-Norm: 636.0464477539062\n",
      "  LM-Head-Bias-Norm: 1.0692965984344482\n",
      "  index_no_updates-LM-Head-Bias-Norm: 200.17538452148438\n",
      "Epoch 94\n"
     ]
    },
    {
     "name": "stderr",
     "output_type": "stream",
     "text": [
      "100%|██████████| 49/49 [00:19<00:00,  2.57it/s]\n"
     ]
    },
    {
     "name": "stdout",
     "output_type": "stream",
     "text": [
      "Epoch 94 loss: 4.466922716826809, loss_t2i: 5.532744459351715, loss_mmu: 0.20363533198453335\n",
      "  Token-Norm: 106.93561553955078\n",
      "  index_no_updates-Token-Norm: 475.90191650390625\n",
      "  LM-Head-Weight-Norm: 11.114020347595215\n",
      "  index_no_updates-LM-Head-Weight-Norm: 636.0464477539062\n",
      "  LM-Head-Bias-Norm: 1.0687267780303955\n",
      "  index_no_updates-LM-Head-Bias-Norm: 200.17538452148438\n",
      "Epoch 95\n"
     ]
    },
    {
     "name": "stderr",
     "output_type": "stream",
     "text": [
      "100%|██████████| 49/49 [00:19<00:00,  2.55it/s]\n"
     ]
    },
    {
     "name": "stdout",
     "output_type": "stream",
     "text": [
      "Epoch 95 loss: 4.379576439760169, loss_t2i: 5.420200068123487, loss_mmu: 0.21708169132851216\n",
      "  Token-Norm: 107.562744140625\n",
      "  index_no_updates-Token-Norm: 475.90191650390625\n",
      "  LM-Head-Weight-Norm: 11.091907501220703\n",
      "  index_no_updates-LM-Head-Weight-Norm: 636.0464477539062\n",
      "  LM-Head-Bias-Norm: 1.0675996541976929\n",
      "  index_no_updates-LM-Head-Bias-Norm: 200.17538452148438\n",
      "Epoch 96\n"
     ]
    },
    {
     "name": "stderr",
     "output_type": "stream",
     "text": [
      "100%|██████████| 49/49 [00:19<00:00,  2.55it/s]\n"
     ]
    },
    {
     "name": "stdout",
     "output_type": "stream",
     "text": [
      "Epoch 96 loss: 4.135096670413504, loss_t2i: 5.1150897352062925, loss_mmu: 0.21512399632863852\n",
      "  Token-Norm: 108.05756378173828\n",
      "  index_no_updates-Token-Norm: 475.90191650390625\n",
      "  LM-Head-Weight-Norm: 11.060322761535645\n",
      "  index_no_updates-LM-Head-Weight-Norm: 636.0464477539062\n",
      "  LM-Head-Bias-Norm: 1.0648179054260254\n",
      "  index_no_updates-LM-Head-Bias-Norm: 200.17538452148438\n",
      "Epoch 97\n"
     ]
    },
    {
     "name": "stderr",
     "output_type": "stream",
     "text": [
      "100%|██████████| 49/49 [00:19<00:00,  2.55it/s]\n"
     ]
    },
    {
     "name": "stdout",
     "output_type": "stream",
     "text": [
      "Epoch 97 loss: 4.242300481212382, loss_t2i: 5.2511633391283, loss_mmu: 0.20684889190811284\n",
      "  Token-Norm: 108.57537078857422\n",
      "  index_no_updates-Token-Norm: 475.90191650390625\n",
      "  LM-Head-Weight-Norm: 11.026708602905273\n",
      "  index_no_updates-LM-Head-Weight-Norm: 636.0464477539062\n",
      "  LM-Head-Bias-Norm: 1.061898946762085\n",
      "  index_no_updates-LM-Head-Bias-Norm: 200.17538452148438\n",
      "Epoch 98\n"
     ]
    },
    {
     "name": "stderr",
     "output_type": "stream",
     "text": [
      "100%|██████████| 49/49 [00:19<00:00,  2.57it/s]\n"
     ]
    },
    {
     "name": "stdout",
     "output_type": "stream",
     "text": [
      "Epoch 98 loss: 4.240787192266815, loss_t2i: 5.249189677287121, loss_mmu: 0.2071767123796198\n",
      "  Token-Norm: 108.91477966308594\n",
      "  index_no_updates-Token-Norm: 475.90191650390625\n",
      "  LM-Head-Weight-Norm: 11.000885009765625\n",
      "  index_no_updates-LM-Head-Weight-Norm: 636.0464477539062\n",
      "  LM-Head-Bias-Norm: 1.060003399848938\n",
      "  index_no_updates-LM-Head-Bias-Norm: 200.17538452148438\n",
      "Epoch 99\n"
     ]
    },
    {
     "name": "stderr",
     "output_type": "stream",
     "text": [
      "100%|██████████| 49/49 [00:19<00:00,  2.57it/s]\n"
     ]
    },
    {
     "name": "stdout",
     "output_type": "stream",
     "text": [
      "Epoch 99 loss: 4.180792133418882, loss_t2i: 5.177845445214485, loss_mmu: 0.19257837499738956\n",
      "  Token-Norm: 108.94597625732422\n",
      "  index_no_updates-Token-Norm: 475.90191650390625\n",
      "  LM-Head-Weight-Norm: 10.974903106689453\n",
      "  index_no_updates-LM-Head-Weight-Norm: 636.0464477539062\n",
      "  LM-Head-Bias-Norm: 1.058174967765808\n",
      "  index_no_updates-LM-Head-Bias-Norm: 200.17538452148438\n",
      "Epoch 100\n"
     ]
    },
    {
     "name": "stderr",
     "output_type": "stream",
     "text": [
      "100%|██████████| 49/49 [00:19<00:00,  2.57it/s]"
     ]
    },
    {
     "name": "stdout",
     "output_type": "stream",
     "text": [
      "Epoch 100 loss: 4.056426503220383, loss_t2i: 5.0219403772938005, loss_mmu: 0.1943706366404587\n",
      "  Token-Norm: 109.27006530761719\n",
      "  index_no_updates-Token-Norm: 475.90191650390625\n",
      "  LM-Head-Weight-Norm: 10.950366020202637\n",
      "  index_no_updates-LM-Head-Weight-Norm: 636.0464477539062\n",
      "  LM-Head-Bias-Norm: 1.056618571281433\n",
      "  index_no_updates-LM-Head-Bias-Norm: 200.17538452148438\n"
     ]
    },
    {
     "name": "stderr",
     "output_type": "stream",
     "text": [
      "\n"
     ]
    }
   ],
   "source": [
    "model.output_size = new_total_vocab\n",
    "save_path = os.path.join(\"saves\", concept, \"notebook_v2\")\n",
    "os.makedirs(save_path, exist_ok=True)\n",
    "for epoch in range(0, 100):\n",
    "    print(f\"Epoch {epoch+1}\")\n",
    "    loss_list = []\n",
    "    loss_t2i_list = []\n",
    "    loss_mmu_list = []\n",
    "    for batch, batch_idx, dataloader_idx in tqdm(list_combined_dataloader):\n",
    "        batch_size_mmu = batch[\"mmu_flow\"][\"images\"].shape[0]\n",
    "        batch_size_t2i = batch[\"t2i_flow\"][\"images\"].shape[0]\n",
    "        \n",
    "        # t2i format\n",
    "        pixel_values, texts = batch[\"t2i_flow\"][\"images\"], batch[\"t2i_flow\"][\"conditions\"]\n",
    "        pixel_values = pixel_values.to(device)\n",
    "        input_ids, labels, mask_prob, image_tokens_ori = prepare_inputs_and_labels(pixel_values, texts, is_train=True)\n",
    "        attention_mask = create_attention_mask_predict_next(input_ids,\n",
    "                                                                pad_id=int(uni_prompting.sptids_dict['<|pad|>']),\n",
    "                                                                soi_id=int(uni_prompting.sptids_dict['<|soi|>']),\n",
    "                                                                eoi_id=int(uni_prompting.sptids_dict['<|eoi|>']),\n",
    "                                                                rm_pad_in_image=True,\n",
    "                                                                return_inverse_mask=True)\n",
    "        attention_mask = attention_mask.to(mask_dtype)\n",
    "        # 美国队长的盾牌\n",
    "        \n",
    "        # mmu format\n",
    "        pixel_values_mmu, input_ids_mmu, labels_mmu = (batch[\"mmu_flow\"][\"images\"],\n",
    "                                                      batch[\"mmu_flow\"][\"input_ids\"],\n",
    "                                                      batch[\"mmu_flow\"][\"labels\"])\n",
    "        pixel_values_mmu = pixel_values_mmu.to(device, non_blocking=True)\n",
    "        input_ids_mmu = input_ids_mmu.to(device, non_blocking=True)\n",
    "        image_tokens_mmu = vq_model.get_code(pixel_values_mmu)\n",
    "        image_tokens_mmu = image_tokens_mmu + len(uni_prompting.text_tokenizer)\n",
    "        \n",
    "        input_ids_mmu = torch.cat([\n",
    "                    (torch.ones(input_ids_mmu.shape[0], 1) * uni_prompting.sptids_dict['<|mmu|>']).to(\n",
    "                        device),\n",
    "                    (torch.ones(input_ids_mmu.shape[0], 1) * uni_prompting.sptids_dict['<|soi|>']).to(\n",
    "                        device),\n",
    "                    image_tokens_mmu,\n",
    "                    (torch.ones(input_ids_mmu.shape[0], 1) * uni_prompting.sptids_dict['<|eoi|>']).to(\n",
    "                        device),\n",
    "                    input_ids_mmu,\n",
    "                ], dim=1).long()\n",
    "\n",
    "        labels_mmu = torch.cat([\n",
    "                    (torch.ones(input_ids_mmu.shape[0], 1) * uni_prompting.ignore_id).to(device),\n",
    "                    (torch.ones(input_ids_mmu.shape[0], 1) * uni_prompting.ignore_id).to(device),\n",
    "                    torch.ones_like(image_tokens_mmu) * uni_prompting.ignore_id,\n",
    "                    (torch.ones(input_ids_mmu.shape[0], 1) * uni_prompting.ignore_id).to(device),\n",
    "                    labels_mmu.to(device)\n",
    "                ], dim=1).long()\n",
    "        \n",
    "        \n",
    "        attention_mask_mmu = create_attention_mask_for_mmu(input_ids_mmu.to(input_ids.device),\n",
    "                                                               eoi_id=int(uni_prompting.sptids_dict['<|eoi|>']))\n",
    "        attention_mask_mmu = attention_mask_mmu.to(mask_dtype)\n",
    "        attention_mask = torch.cat([attention_mask, attention_mask_mmu], dim=0)\n",
    "        input_ids = torch.cat((input_ids, input_ids_mmu.to(input_ids.device)), dim=0)\n",
    "        labels = torch.cat((labels, labels_mmu.to(input_ids.device)), dim=0)\n",
    "        \n",
    "        optimizer.zero_grad()\n",
    "        \n",
    "        logits, loss_t2i, loss_lm, loss_mmu = model(\n",
    "                    input_ids=input_ids,\n",
    "                    input_embeddings=None,\n",
    "                    attention_mask=attention_mask,\n",
    "                    labels=labels,\n",
    "                    label_smoothing=0.0,\n",
    "                    batch_size_t2i=batch_size_t2i,\n",
    "                    batch_size_lm=0,\n",
    "                    batch_size_mmu=batch_size_mmu,\n",
    "                    max_seq_length=128,\n",
    "                )\n",
    "        loss = 0.8 * loss_t2i + 0.2 * loss_mmu\n",
    "        # loss = loss_t2i\n",
    "        loss.backward()\n",
    "        optimizer.step()\n",
    "        loss_list.append(loss.item())\n",
    "        loss_t2i_list.append(loss_t2i.item())\n",
    "        loss_mmu_list.append(loss_mmu.item())\n",
    "        # tqdm.set_postfix(loss=loss.item(), loss_t2i=loss_t2i.item(), loss_mmu=loss_mmu.item())\n",
    "        # tqdm.write(f\"loss: {loss.item()}, loss_t2i: {loss_t2i.item()}, loss_mmu: {loss_mmu.item()}\")\n",
    "        # 恢复原始权重\n",
    "        with torch.no_grad():\n",
    "            model.showo.get_input_embeddings().weight.data[index_no_updates] = orig_embeds[index_no_updates]\n",
    "            model.showo.lm_head.weight.data[index_no_updates] = orig_lm_head_weight[index_no_updates]\n",
    "            model.showo.lm_head.bias.data[index_no_updates] = orig_lm_head_bias[index_no_updates]\n",
    "    print(f\"Epoch {epoch+1} loss: {np.mean(loss_list)}, loss_t2i: {np.mean(loss_t2i_list)}, loss_mmu: {np.mean(loss_mmu_list)}\")\n",
    "    print(f\"  Token-Norm: {model.showo.get_input_embeddings().weight[new_token_ids].norm().item()}\")\n",
    "    print(f\"  index_no_updates-Token-Norm: {model.showo.get_input_embeddings().weight[index_no_updates].norm().item()}\")\n",
    "    print(f\"  LM-Head-Weight-Norm: {model.showo.lm_head.weight[new_token_ids].norm().item()}\")\n",
    "    print(f\"  index_no_updates-LM-Head-Weight-Norm: {model.showo.lm_head.weight[index_no_updates].norm().item()}\")\n",
    "    print(f\"  LM-Head-Bias-Norm: {model.showo.lm_head.bias[new_token_ids].norm().item()}\")\n",
    "    print(f\"  index_no_updates-LM-Head-Bias-Norm: {model.showo.lm_head.bias[index_no_updates].norm().item()}\")\n",
    "    \n",
    "    \n",
    "    # print(f\"Epoch {epoch} loss: {np.mean(loss_list)}, loss_t2i: {np.mean(loss_t2i_list)}\")\n",
    "    if (epoch+1) % 10 == 0:\n",
    "        save_path_embed = os.path.join(save_path, f\"epoch_{epoch+1}_embed.pt\")\n",
    "        save_path_lm_head_weight = os.path.join(save_path, f\"epoch_{epoch+1}_lm_head_weight.pt\")\n",
    "        save_path_lm_head_bias = os.path.join(save_path, f\"epoch_{epoch+1}_lm_head_bias.pt\")\n",
    "        \n",
    "        torch.save(model.showo.get_input_embeddings().weight.data[new_token_ids], save_path_embed)\n",
    "        torch.save(model.showo.lm_head.weight.data[new_token_ids], save_path_lm_head_weight)\n",
    "        torch.save(model.showo.lm_head.bias.data[new_token_ids], save_path_lm_head_bias)\n",
    "        \n",
    "        "
   ]
  },
  {
   "cell_type": "code",
   "execution_count": 12,
   "metadata": {},
   "outputs": [],
   "source": []
  },
  {
   "cell_type": "code",
   "execution_count": null,
   "metadata": {},
   "outputs": [
    {
     "data": {
      "text/plain": [
       "tensor([50301, 50296, 50424, 50872, 51385, 51136, 50904, 50617, 52184, 51160,\n",
       "        52201, 55256, 51161, 55191, 54775, 54521, 55265, 54745, 50940, 51326,\n",
       "        50361, 50425, 54282, 50616, 50693, 54285, 50696, 50644, 50793, 50793,\n",
       "        55400, 51160, 54680, 55257, 53000, 54266, 53434, 52915, 54007, 53498,\n",
       "        50425, 51214, 51208, 51716, 50440, 50661, 50648, 50661, 50665, 54745,\n",
       "        52914, 57539, 53191, 53451, 52930, 53962, 52942, 52918, 52986, 54278,\n",
       "        51144, 50438, 51188, 50376, 52130, 50646, 50868, 52674, 50831, 56715,\n",
       "        53765, 52738, 50498, 50371, 53938, 50563, 50946, 50930, 51938, 51187,\n",
       "        50898, 50851, 51380, 51915, 53434, 52523, 52411, 53939, 51401, 53683,\n",
       "        50329, 52382, 52915, 51363, 50846, 51350, 52435, 50342, 58049, 55858,\n",
       "        51610, 50498, 52890, 55492, 55162, 57550, 57645, 55678, 57633, 57612,\n",
       "        57732, 55793, 57868, 57788, 54390, 55508, 51860, 54089, 51353, 56126,\n",
       "        57689, 56021, 51416, 54329, 55499, 52473, 57702, 56985, 55897, 56161,\n",
       "        56534, 54882, 54567, 52818, 52263, 57955, 56419, 55421, 55202, 57130,\n",
       "        57673, 56911, 55431, 58274, 57263, 57926, 57689, 52055, 52505, 57150,\n",
       "        51422, 58216, 54617, 50649, 54537, 54970, 54988, 53928, 54747, 53593,\n",
       "        57716, 54745, 54942, 52124, 51634, 51530, 52774, 51526, 50983, 55774,\n",
       "        51034, 54454, 55516, 56067, 51873, 55126, 52246, 56282, 55145, 51986,\n",
       "        53674, 54006, 53578, 51946, 57699, 51431, 52633, 55324, 54711, 53553,\n",
       "        56561, 56102, 56238, 58217, 57047, 51686, 53538, 51566, 51490, 50536,\n",
       "        55963, 58423, 50399, 51753, 57931, 57511, 55017, 56168, 56171, 55470,\n",
       "        51564, 57090, 56198, 52516, 52106, 58146, 55782, 56414, 57234, 58490,\n",
       "        55692, 56166, 58129, 56169, 57224, 55927, 53615, 51919, 53988, 53412,\n",
       "        52054, 51434, 51495, 56177, 51498, 51095, 58271, 57890, 58354, 55767,\n",
       "        54129, 52895, 56589, 55255, 54006, 53542, 52519, 58470, 56623, 56624,\n",
       "        56718, 57982, 57714, 54166, 50342, 56677, 54798, 56704, 50297, 29904,\n",
       "           25, 10347,   345,  6216,   611,   428,   318,   220, 50305,   287,\n",
       "          262,  4590,    30, 24994,  8808,  8643,    25,   314,   460,  6216,\n",
       "          326,   428,   318,   407,   220, 50305,   287,   262,  4590,    13,\n",
       "        50256, 50295, 50295, 50295, 50295, 50295, 50295, 50295, 50295, 50295,\n",
       "        50295, 50295, 50295, 50295, 50295, 50295, 50295, 50295, 50295, 50295,\n",
       "        50295, 50295, 50295, 50295, 50295, 50295, 50295, 50295, 50295, 50295,\n",
       "        50295, 50295, 50295, 50295, 50295, 50295, 50295, 50295, 50295, 50295,\n",
       "        50295, 50295, 50295, 50295, 50295, 50295, 50295, 50295, 50295, 50295,\n",
       "        50295, 50295, 50295, 50295, 50295, 50295, 50295, 50295, 50295, 50295,\n",
       "        50295, 50295, 50295, 50295, 50295, 50295, 50295, 50295, 50295],\n",
       "       device='cuda:0')"
      ]
     },
     "execution_count": 15,
     "metadata": {},
     "output_type": "execute_result"
    }
   ],
   "source": []
  }
 ],
 "metadata": {
  "kernelspec": {
   "display_name": "showo",
   "language": "python",
   "name": "python3"
  },
  "language_info": {
   "codemirror_mode": {
    "name": "ipython",
    "version": 3
   },
   "file_extension": ".py",
   "mimetype": "text/x-python",
   "name": "python",
   "nbconvert_exporter": "python",
   "pygments_lexer": "ipython3",
   "version": "3.10.16"
  }
 },
 "nbformat": 4,
 "nbformat_minor": 2
}
