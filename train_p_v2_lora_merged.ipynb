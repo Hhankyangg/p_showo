{
 "cells": [
  {
   "cell_type": "code",
   "execution_count": 1,
   "metadata": {},
   "outputs": [
    {
     "name": "stdout",
     "output_type": "stream",
     "text": [
      "True\n"
     ]
    }
   ],
   "source": [
    "import torch\n",
    "print(torch.cuda.is_available())"
   ]
  },
  {
   "cell_type": "code",
   "execution_count": 2,
   "metadata": {},
   "outputs": [
    {
     "name": "stderr",
     "output_type": "stream",
     "text": [
      "/home/hpyky/miniconda3/envs/showo/lib/python3.10/site-packages/tqdm/auto.py:21: TqdmWarning: IProgress not found. Please update jupyter and ipywidgets. See https://ipywidgets.readthedocs.io/en/stable/user_install.html\n",
      "  from .autonotebook import tqdm as notebook_tqdm\n"
     ]
    },
    {
     "name": "stdout",
     "output_type": "stream",
     "text": [
      "[2025-03-16 20:07:09,298] [INFO] [real_accelerator.py:203:get_accelerator] Setting ds_accelerator to cuda (auto detect)\n"
     ]
    },
    {
     "name": "stderr",
     "output_type": "stream",
     "text": [
      "/home/hpyky/miniconda3/envs/showo/compiler_compat/ld: cannot find -laio: No such file or directory\n",
      "collect2: error: ld returned 1 exit status\n"
     ]
    },
    {
     "name": "stdout",
     "output_type": "stream",
     "text": [
      "\u001b[93m [WARNING] \u001b[0m async_io requires the dev libaio .so object and headers but these were not found.\n",
      "\u001b[93m [WARNING] \u001b[0m async_io: please install the libaio-dev package with apt\n",
      "\u001b[93m [WARNING] \u001b[0m If libaio is already installed (perhaps from source), try setting the CFLAGS and LDFLAGS environment variables to where it can be found.\n",
      "\u001b[93m [WARNING] \u001b[0m Please specify the CUTLASS repo directory as environment variable $CUTLASS_PATH\n",
      "\u001b[93m [WARNING] \u001b[0m sparse_attn requires a torch version >= 1.5 and < 2.0 but detected 2.2\n",
      "\u001b[93m [WARNING] \u001b[0m using untested triton version (2.2.0), only 1.0.0 is known to be compatible\n"
     ]
    }
   ],
   "source": [
    "from pdata import PersonalizedMMUDataset, PersonalizedT2IDataset, get_personalized_mmu_dataloader, get_personalized_t2i_dataloader\n",
    "from lightning.pytorch.utilities import CombinedLoader\n",
    "\n",
    "import torch\n",
    "from torch.utils.data import Dataset, DataLoader\n",
    "import torch.nn.functional as F\n",
    "import torch.nn as nn\n",
    "import numpy as np\n",
    "from tqdm import tqdm\n",
    "from PIL import Image\n",
    "\n",
    "from models import Showo, MAGVITv2, get_mask_chedule\n",
    "from training.prompting_utils import UniversalPrompting, create_attention_mask_predict_next, create_attention_mask_for_mmu\n",
    "from training.utils import get_config, flatten_omega_conf, mask_or_random_replace_tokens, AverageMeter\n",
    "from transformers import AutoTokenizer\n",
    "from models.clip_encoder import CLIPVisionTower\n",
    "from transformers import CLIPImageProcessor\n",
    "from llava.llava import conversation as conversation_lib\n",
    "\n",
    "conversation_lib.default_conversation = conversation_lib.conv_templates[\"phi1.5\"]\n",
    "\n",
    "import os\n",
    "from omegaconf import DictConfig, ListConfig, OmegaConf\n",
    "config = OmegaConf.load('configs/showo_demo.yaml')\n",
    "# device setup\n",
    "device = torch.device(\"cuda:7\")"
   ]
  },
  {
   "cell_type": "code",
   "execution_count": 3,
   "metadata": {},
   "outputs": [
    {
     "name": "stdout",
     "output_type": "stream",
     "text": [
      "Working with z of shape (1, 13, 16, 16) = 3328 dimensions.\n",
      "Look-up free quantizer with codebook size: 8192\n"
     ]
    },
    {
     "name": "stderr",
     "output_type": "stream",
     "text": [
      "The config attributes {'mask_token_id': 58497} were passed to Showo, but are not expected and will be ignored. Please verify your config.json configuration file.\n",
      "/home/hpyky/Show-o/models/modeling_showo.py:49: FutureWarning: Accessing config attribute `w_clip_vit` directly via 'Showo' object attribute is deprecated. Please access 'w_clip_vit' over 'Showo's config object instead, e.g. 'unet.config.w_clip_vit'.\n",
      "  if self.w_clip_vit:\n"
     ]
    },
    {
     "name": "stdout",
     "output_type": "stream",
     "text": [
      "attention implementation:  sdpa\n"
     ]
    }
   ],
   "source": [
    "# show o tokenizer setup and adding special tokens to universal prompting\n",
    "# llm model : 'microsoft/phi-1_5'\n",
    "tokenizer = AutoTokenizer.from_pretrained(config.model.showo.llm_model_path, padding_side =\"left\")\n",
    "uni_prompting = UniversalPrompting(tokenizer, max_text_len=config.dataset.preprocessing.max_seq_length,\n",
    "                                       special_tokens=(\"<|soi|>\", \"<|eoi|>\", \"<|sov|>\", \"<|eov|>\", \"<|t2i|>\", \"<|mmu|>\", \"<|t2v|>\", \"<|v2v|>\", \"<|lvg|>\"),\n",
    "                                       ignore_id=-100, cond_dropout_prob=config.training.cond_dropout_prob)\n",
    "\n",
    "# setting up the magvit-v2, for t2i\n",
    "vq_model = MAGVITv2.from_pretrained(config.model.vq_model.vq_model_name).to(device)\n",
    "# vq_model.requires_grad_(False)\n",
    "# vq_model.eval()\n",
    "\n",
    "# setting up vision tower: clip-vit only for mmu\n",
    "# vision_tower_name =config.clip_path\n",
    "# vision_tower = CLIPVisionTower(vision_tower_name).to(device)\n",
    "# clip_image_processor = CLIPImageProcessor.from_pretrained(vision_tower_name)\n",
    "\n",
    "# setting up the showo model \n",
    "model = Showo.from_pretrained(config.model.showo.pretrained_model_path).to(device)\n",
    "# model.eval()\n",
    "\n",
    "# setting up the parameters\n",
    "temperature = 1  # 1.0 = no change, < 1.0 = less random, > 1.0 = more random, in predictions\n",
    "top_k = 1  # retain only the top_k most likely tokens, clamp others to have 0 probability\n",
    "# LLAVA_SYSTEM_PROMPT = \"A chat between a curious user and an artificial intelligence assistant. \" \\\n",
    "#                 \"The assistant gives helpful, detailed, and polite answers to the user's questions.\"\n",
    "# LLAVA_SYSTEM_PROMPT_LEN = 28"
   ]
  },
  {
   "cell_type": "code",
   "execution_count": 4,
   "metadata": {},
   "outputs": [
    {
     "data": {
      "text/plain": [
       "torch.Size([58498])"
      ]
     },
     "execution_count": 4,
     "metadata": {},
     "output_type": "execute_result"
    }
   ],
   "source": [
    "# print(model.showo.get_input_embeddings())\n",
    "model.showo.get_input_embeddings().num_embeddings\n",
    "model.showo.get_input_embeddings().num_embeddings - len(tokenizer)\n",
    "model.showo.get_input_embeddings().weight.data.shape\n",
    "model.showo.lm_head.weight.shape\n",
    "model.showo.lm_head.bias.shape"
   ]
  },
  {
   "cell_type": "code",
   "execution_count": 5,
   "metadata": {},
   "outputs": [],
   "source": [
    "data_root = \"/home/hpyky/full_mcdata\"\n",
    "concept = \"dunpai\""
   ]
  },
  {
   "cell_type": "code",
   "execution_count": 6,
   "metadata": {},
   "outputs": [
    {
     "name": "stdout",
     "output_type": "stream",
     "text": [
      "新 token ID: [50305, 50306, 50307, 50308, 50309, 50310, 50311, 50312, 50313, 50314, 50315, 50316, 50317, 50318, 50319, 50320, 50321]\n",
      "新增文本 token ID: [50305, 50306, 50307, 50308, 50309, 50310, 50311, 50312, 50313, 50314, 50315, 50316, 50317, 50318, 50319, 50320, 50321]\n",
      "Concept Token '<dunpai>' 的新 ID: 50305\n",
      "嵌入层大小: torch.Size([58515, 2048])\n",
      "index_no_updates 中 False 的位置: tensor([50305, 50306, 50307, 50308, 50309, 50310, 50311, 50312, 50313, 50314,\n",
      "        50315, 50316, 50317, 50318, 50319, 50320, 50321])\n",
      "index_no_updates 中 True 的数量: tensor(58498)\n"
     ]
    }
   ],
   "source": [
    "nums_new_token_i = 16\n",
    "\n",
    "#################################\n",
    "new_tokens = [f\"<{concept}>\"] + [f\"<token_{i}>\" for i in range(nums_new_token_i)]\n",
    "num_new_tokens = len(new_tokens)  # 17\n",
    "\n",
    "# 已知的原始参数\n",
    "# 文本 token 数量（ID 0-50304）\n",
    "original_text_vocab_size = len(tokenizer)  \n",
    "# Image token 数量（原 ID 50305-58497）\n",
    "original_image_vocab_size = model.showo.get_input_embeddings().num_embeddings - len(tokenizer)\n",
    "\n",
    "original_total_vocab = original_text_vocab_size + original_image_vocab_size  # 58498\n",
    "\n",
    "# 新的参数\n",
    "new_text_vocab_size = original_text_vocab_size + num_new_tokens  # 50305 + 17 = 50322\n",
    "new_total_vocab = original_total_vocab + num_new_tokens          # 58498 + 17 = 58515\n",
    "\n",
    "# ------------------------------\n",
    "# Step 1: 修改 Tokenizer 的词汇表\n",
    "# ------------------------------\n",
    "\n",
    "# 添加新 token 到 50305-50321 的位置\n",
    "num_new_tokens = tokenizer.add_tokens(new_tokens)\n",
    "new_token_ids = tokenizer.convert_tokens_to_ids(new_tokens)\n",
    "print(\"新 token ID:\", new_token_ids)  # 应输出 50305-50321\n",
    "\n",
    "# ------------------------------\n",
    "# Step 2: 调整模型的权重\n",
    "# ------------------------------\n",
    "with torch.no_grad():\n",
    "    # 获取嵌入层权重\n",
    "    embeddings = model.showo.get_input_embeddings().weight.data\n",
    "    \n",
    "    # 扩展嵌入层（58498 -> 58515）\n",
    "    model.showo.resize_token_embeddings(new_total_vocab)\n",
    "    # new_embeddings = model.showo.get_input_embeddings().weight.data\n",
    "\n",
    "    # 将原 Image Token 权重后移 17 位\n",
    "    original_image_weights = embeddings[original_text_vocab_size:original_total_vocab].clone()\n",
    "    model.showo.get_input_embeddings().weight.data[new_text_vocab_size:new_total_vocab] = original_image_weights\n",
    "    \n",
    "    # 初始化新 token 的权重（用原文本最后 17 个 token）\n",
    "    # new_text_weights = embeddings[original_text_vocab_size - num_new_tokens : original_text_vocab_size].clone()\n",
    "    # model.showo.get_input_embeddings().weight.data[original_text_vocab_size : new_text_vocab_size] = new_text_weights\n",
    "    # print(model.showo.lm_head.weight.data.shape[1])\n",
    "    # 处理 lm_head（假设与嵌入层共享权重）\n",
    "    if model.showo.lm_head.weight.data.shape[0] == new_total_vocab:\n",
    "        # 扩展 lm_head 权重\n",
    "        lm_head = model.showo.lm_head\n",
    "        new_lm_head = torch.nn.Linear(\n",
    "            lm_head.in_features, \n",
    "            new_total_vocab, \n",
    "            bias=hasattr(lm_head, 'bias')\n",
    "        )\n",
    "        new_lm_head.weight.data = lm_head.weight.data.clone()\n",
    "        new_lm_head.weight.data[new_text_vocab_size:new_total_vocab] = lm_head.weight.data[original_text_vocab_size:original_total_vocab]\n",
    "        # new_lm_head.weight.data[original_text_vocab_size:new_text_vocab_size] = lm_head.weight.data[original_text_vocab_size - num_new_tokens : original_text_vocab_size]\n",
    "        if hasattr(lm_head, 'bias'):\n",
    "            new_lm_head.bias.data = lm_head.bias.data.clone()\n",
    "            new_lm_head.bias.data[new_text_vocab_size:new_total_vocab] = lm_head.bias.data[original_text_vocab_size:original_total_vocab]\n",
    "            # new_lm_head.bias.data[original_text_vocab_size:new_text_vocab_size] = lm_head.bias.data[original_text_vocab_size - num_new_tokens : original_text_vocab_size]\n",
    "        \n",
    "        model.showo.lm_head = new_lm_head\n",
    "    else:\n",
    "        raise ValueError(\"lm_head weights do not match the input embeddings!\")\n",
    "\n",
    "index_no_updates = torch.ones((new_total_vocab,), dtype=torch.bool)\n",
    "index_no_updates[new_token_ids] = False\n",
    "# ------------------------------\n",
    "# 验证\n",
    "# ------------------------------\n",
    "# 检查新 token 的 ID\n",
    "print(\"新增文本 token ID:\", [tokenizer.convert_tokens_to_ids(t) for t in new_tokens])  # 应输出 50305-50321\n",
    "\n",
    "# 检查一个原 Image Token 的新 ID\n",
    "sample_image_token = tokenizer.convert_ids_to_tokens(original_text_vocab_size)  # 原 ID 50305\n",
    "print(f\"Concept Token '{sample_image_token}' 的新 ID:\", tokenizer.convert_tokens_to_ids(sample_image_token))  # 应输出 50322\n",
    "\n",
    "# 检查嵌入层形状\n",
    "print(\"嵌入层大小:\", model.showo.get_input_embeddings().weight.shape)  # 应显示 torch.Size([58515, 2048])\n",
    "\n",
    "# 检查 index_no_updates 中 True 的位置和数量，True 应该是 new token ids\n",
    "print(\"index_no_updates 中 False 的位置:\", torch.nonzero(~index_no_updates).squeeze())  # 应输出 50305-50321\n",
    "print(\"index_no_updates 中 True 的数量:\", torch.sum(index_no_updates))  # 应输出 58498\n",
    "\n",
    "with torch.no_grad():\n",
    "    orig_embeds = model.showo.get_input_embeddings().weight.data.clone()\n",
    "    orig_lm_head_weight = model.showo.lm_head.weight.data.clone()\n",
    "    orig_lm_head_bias = model.showo.lm_head.bias.data.clone()"
   ]
  },
  {
   "cell_type": "code",
   "execution_count": 7,
   "metadata": {},
   "outputs": [],
   "source": [
    "concept_embeds = model.showo.get_input_embeddings().weight.data[new_token_ids]\n",
    "concept_lm_nead_wight = model.showo.lm_head.weight.data[new_token_ids]\n",
    "concept_lm_nead_bias = model.showo.lm_head.bias.data[new_token_ids]"
   ]
  },
  {
   "cell_type": "code",
   "execution_count": 8,
   "metadata": {},
   "outputs": [
    {
     "data": {
      "text/plain": [
       "(torch.Size([17, 2048]), torch.Size([17, 2048]), torch.Size([17]))"
      ]
     },
     "execution_count": 8,
     "metadata": {},
     "output_type": "execute_result"
    }
   ],
   "source": [
    "concept_embeds.shape, concept_lm_nead_wight.shape, concept_lm_nead_bias.shape"
   ]
  },
  {
   "cell_type": "code",
   "execution_count": 9,
   "metadata": {},
   "outputs": [
    {
     "data": {
      "text/plain": [
       "{'<|soi|>': tensor([50296]),\n",
       " '<|eoi|>': tensor([50297]),\n",
       " '<|sov|>': tensor([50298]),\n",
       " '<|eov|>': tensor([50299]),\n",
       " '<|t2i|>': tensor([50300]),\n",
       " '<|mmu|>': tensor([50301]),\n",
       " '<|t2v|>': tensor([50302]),\n",
       " '<|v2v|>': tensor([50303]),\n",
       " '<|lvg|>': tensor([50304]),\n",
       " '<|sot|>': tensor([50256]),\n",
       " '<|eot|>': tensor([50256]),\n",
       " '<|pad|>': tensor([50295])}"
      ]
     },
     "execution_count": 9,
     "metadata": {},
     "output_type": "execute_result"
    }
   ],
   "source": [
    "uni_prompting.sptids_dict"
   ]
  },
  {
   "cell_type": "code",
   "execution_count": 10,
   "metadata": {},
   "outputs": [],
   "source": [
    "from peft import LoraConfig, get_peft_model\n",
    "\n",
    "lora_config = LoraConfig(\n",
    "    r=8,  # 低秩矩阵的秩\n",
    "    lora_alpha=16,  # 调整LoRA层的系数\n",
    "    lora_dropout=0.0,  # Dropout率\n",
    "    task_type=\"CAUSAL_LM\",  # 任务类型为因果语言模型\n",
    "    target_modules = [\n",
    "    \"fc1\",\n",
    "    \"v_proj\",\n",
    "    \"q_proj\",\n",
    "    # \"k_proj\",\n",
    "    \"fc2\"\n",
    "  ]\n",
    ")\n",
    "\n",
    "model.showo = get_peft_model(model.showo, lora_config)"
   ]
  },
  {
   "cell_type": "code",
   "execution_count": 11,
   "metadata": {},
   "outputs": [
    {
     "data": {
      "text/plain": [
       "Showo(\n",
       "  (showo): PeftModelForCausalLM(\n",
       "    (base_model): LoraModel(\n",
       "      (model): PhiForCausalLM(\n",
       "        (model): PhiModel(\n",
       "          (embed_tokens): Embedding(58515, 2048)\n",
       "          (embed_dropout): Dropout(p=0.0, inplace=False)\n",
       "          (layers): ModuleList(\n",
       "            (0-23): 24 x PhiDecoderLayer(\n",
       "              (self_attn): PhiSdpaAttention(\n",
       "                (q_proj): lora.Linear(\n",
       "                  (base_layer): Linear(in_features=2048, out_features=2048, bias=True)\n",
       "                  (lora_dropout): ModuleDict(\n",
       "                    (default): Identity()\n",
       "                  )\n",
       "                  (lora_A): ModuleDict(\n",
       "                    (default): Linear(in_features=2048, out_features=8, bias=False)\n",
       "                  )\n",
       "                  (lora_B): ModuleDict(\n",
       "                    (default): Linear(in_features=8, out_features=2048, bias=False)\n",
       "                  )\n",
       "                  (lora_embedding_A): ParameterDict()\n",
       "                  (lora_embedding_B): ParameterDict()\n",
       "                )\n",
       "                (k_proj): Linear(in_features=2048, out_features=2048, bias=True)\n",
       "                (v_proj): lora.Linear(\n",
       "                  (base_layer): Linear(in_features=2048, out_features=2048, bias=True)\n",
       "                  (lora_dropout): ModuleDict(\n",
       "                    (default): Identity()\n",
       "                  )\n",
       "                  (lora_A): ModuleDict(\n",
       "                    (default): Linear(in_features=2048, out_features=8, bias=False)\n",
       "                  )\n",
       "                  (lora_B): ModuleDict(\n",
       "                    (default): Linear(in_features=8, out_features=2048, bias=False)\n",
       "                  )\n",
       "                  (lora_embedding_A): ParameterDict()\n",
       "                  (lora_embedding_B): ParameterDict()\n",
       "                )\n",
       "                (dense): Linear(in_features=2048, out_features=2048, bias=True)\n",
       "                (q_layernorm): LayerNorm((64,), eps=1e-05, elementwise_affine=True)\n",
       "                (k_layernorm): LayerNorm((64,), eps=1e-05, elementwise_affine=True)\n",
       "                (rotary_emb): PhiRotaryEmbedding()\n",
       "              )\n",
       "              (mlp): PhiMLP(\n",
       "                (activation_fn): NewGELUActivation()\n",
       "                (fc1): lora.Linear(\n",
       "                  (base_layer): Linear(in_features=2048, out_features=8192, bias=True)\n",
       "                  (lora_dropout): ModuleDict(\n",
       "                    (default): Identity()\n",
       "                  )\n",
       "                  (lora_A): ModuleDict(\n",
       "                    (default): Linear(in_features=2048, out_features=8, bias=False)\n",
       "                  )\n",
       "                  (lora_B): ModuleDict(\n",
       "                    (default): Linear(in_features=8, out_features=8192, bias=False)\n",
       "                  )\n",
       "                  (lora_embedding_A): ParameterDict()\n",
       "                  (lora_embedding_B): ParameterDict()\n",
       "                )\n",
       "                (fc2): lora.Linear(\n",
       "                  (base_layer): Linear(in_features=8192, out_features=2048, bias=True)\n",
       "                  (lora_dropout): ModuleDict(\n",
       "                    (default): Identity()\n",
       "                  )\n",
       "                  (lora_A): ModuleDict(\n",
       "                    (default): Linear(in_features=8192, out_features=8, bias=False)\n",
       "                  )\n",
       "                  (lora_B): ModuleDict(\n",
       "                    (default): Linear(in_features=8, out_features=2048, bias=False)\n",
       "                  )\n",
       "                  (lora_embedding_A): ParameterDict()\n",
       "                  (lora_embedding_B): ParameterDict()\n",
       "                )\n",
       "              )\n",
       "              (input_layernorm): LayerNorm((2048,), eps=1e-05, elementwise_affine=True)\n",
       "              (resid_dropout): Dropout(p=0.0, inplace=False)\n",
       "            )\n",
       "          )\n",
       "          (final_layernorm): LayerNorm((2048,), eps=1e-05, elementwise_affine=True)\n",
       "        )\n",
       "        (lm_head): Linear(in_features=2048, out_features=58515, bias=True)\n",
       "      )\n",
       "    )\n",
       "  )\n",
       ")"
      ]
     },
     "execution_count": 11,
     "metadata": {},
     "output_type": "execute_result"
    }
   ],
   "source": [
    "model"
   ]
  },
  {
   "cell_type": "code",
   "execution_count": 12,
   "metadata": {},
   "outputs": [
    {
     "name": "stdout",
     "output_type": "stream",
     "text": [
      "showo.base_model.model.model.embed_tokens.weight requires_grad\n",
      "showo.base_model.model.model.layers.0.self_attn.q_proj.lora_A.default.weight requires_grad\n",
      "showo.base_model.model.model.layers.0.self_attn.q_proj.lora_B.default.weight requires_grad\n",
      "showo.base_model.model.model.layers.0.self_attn.v_proj.lora_A.default.weight requires_grad\n",
      "showo.base_model.model.model.layers.0.self_attn.v_proj.lora_B.default.weight requires_grad\n",
      "showo.base_model.model.model.layers.0.mlp.fc1.lora_A.default.weight requires_grad\n",
      "showo.base_model.model.model.layers.0.mlp.fc1.lora_B.default.weight requires_grad\n",
      "showo.base_model.model.model.layers.0.mlp.fc2.lora_A.default.weight requires_grad\n",
      "showo.base_model.model.model.layers.0.mlp.fc2.lora_B.default.weight requires_grad\n",
      "showo.base_model.model.model.layers.1.self_attn.q_proj.lora_A.default.weight requires_grad\n",
      "showo.base_model.model.model.layers.1.self_attn.q_proj.lora_B.default.weight requires_grad\n",
      "showo.base_model.model.model.layers.1.self_attn.v_proj.lora_A.default.weight requires_grad\n",
      "showo.base_model.model.model.layers.1.self_attn.v_proj.lora_B.default.weight requires_grad\n",
      "showo.base_model.model.model.layers.1.mlp.fc1.lora_A.default.weight requires_grad\n",
      "showo.base_model.model.model.layers.1.mlp.fc1.lora_B.default.weight requires_grad\n",
      "showo.base_model.model.model.layers.1.mlp.fc2.lora_A.default.weight requires_grad\n",
      "showo.base_model.model.model.layers.1.mlp.fc2.lora_B.default.weight requires_grad\n",
      "showo.base_model.model.model.layers.2.self_attn.q_proj.lora_A.default.weight requires_grad\n",
      "showo.base_model.model.model.layers.2.self_attn.q_proj.lora_B.default.weight requires_grad\n",
      "showo.base_model.model.model.layers.2.self_attn.v_proj.lora_A.default.weight requires_grad\n",
      "showo.base_model.model.model.layers.2.self_attn.v_proj.lora_B.default.weight requires_grad\n",
      "showo.base_model.model.model.layers.2.mlp.fc1.lora_A.default.weight requires_grad\n",
      "showo.base_model.model.model.layers.2.mlp.fc1.lora_B.default.weight requires_grad\n",
      "showo.base_model.model.model.layers.2.mlp.fc2.lora_A.default.weight requires_grad\n",
      "showo.base_model.model.model.layers.2.mlp.fc2.lora_B.default.weight requires_grad\n",
      "showo.base_model.model.model.layers.3.self_attn.q_proj.lora_A.default.weight requires_grad\n",
      "showo.base_model.model.model.layers.3.self_attn.q_proj.lora_B.default.weight requires_grad\n",
      "showo.base_model.model.model.layers.3.self_attn.v_proj.lora_A.default.weight requires_grad\n",
      "showo.base_model.model.model.layers.3.self_attn.v_proj.lora_B.default.weight requires_grad\n",
      "showo.base_model.model.model.layers.3.mlp.fc1.lora_A.default.weight requires_grad\n",
      "showo.base_model.model.model.layers.3.mlp.fc1.lora_B.default.weight requires_grad\n",
      "showo.base_model.model.model.layers.3.mlp.fc2.lora_A.default.weight requires_grad\n",
      "showo.base_model.model.model.layers.3.mlp.fc2.lora_B.default.weight requires_grad\n",
      "showo.base_model.model.model.layers.4.self_attn.q_proj.lora_A.default.weight requires_grad\n",
      "showo.base_model.model.model.layers.4.self_attn.q_proj.lora_B.default.weight requires_grad\n",
      "showo.base_model.model.model.layers.4.self_attn.v_proj.lora_A.default.weight requires_grad\n",
      "showo.base_model.model.model.layers.4.self_attn.v_proj.lora_B.default.weight requires_grad\n",
      "showo.base_model.model.model.layers.4.mlp.fc1.lora_A.default.weight requires_grad\n",
      "showo.base_model.model.model.layers.4.mlp.fc1.lora_B.default.weight requires_grad\n",
      "showo.base_model.model.model.layers.4.mlp.fc2.lora_A.default.weight requires_grad\n",
      "showo.base_model.model.model.layers.4.mlp.fc2.lora_B.default.weight requires_grad\n",
      "showo.base_model.model.model.layers.5.self_attn.q_proj.lora_A.default.weight requires_grad\n",
      "showo.base_model.model.model.layers.5.self_attn.q_proj.lora_B.default.weight requires_grad\n",
      "showo.base_model.model.model.layers.5.self_attn.v_proj.lora_A.default.weight requires_grad\n",
      "showo.base_model.model.model.layers.5.self_attn.v_proj.lora_B.default.weight requires_grad\n",
      "showo.base_model.model.model.layers.5.mlp.fc1.lora_A.default.weight requires_grad\n",
      "showo.base_model.model.model.layers.5.mlp.fc1.lora_B.default.weight requires_grad\n",
      "showo.base_model.model.model.layers.5.mlp.fc2.lora_A.default.weight requires_grad\n",
      "showo.base_model.model.model.layers.5.mlp.fc2.lora_B.default.weight requires_grad\n",
      "showo.base_model.model.model.layers.6.self_attn.q_proj.lora_A.default.weight requires_grad\n",
      "showo.base_model.model.model.layers.6.self_attn.q_proj.lora_B.default.weight requires_grad\n",
      "showo.base_model.model.model.layers.6.self_attn.v_proj.lora_A.default.weight requires_grad\n",
      "showo.base_model.model.model.layers.6.self_attn.v_proj.lora_B.default.weight requires_grad\n",
      "showo.base_model.model.model.layers.6.mlp.fc1.lora_A.default.weight requires_grad\n",
      "showo.base_model.model.model.layers.6.mlp.fc1.lora_B.default.weight requires_grad\n",
      "showo.base_model.model.model.layers.6.mlp.fc2.lora_A.default.weight requires_grad\n",
      "showo.base_model.model.model.layers.6.mlp.fc2.lora_B.default.weight requires_grad\n",
      "showo.base_model.model.model.layers.7.self_attn.q_proj.lora_A.default.weight requires_grad\n",
      "showo.base_model.model.model.layers.7.self_attn.q_proj.lora_B.default.weight requires_grad\n",
      "showo.base_model.model.model.layers.7.self_attn.v_proj.lora_A.default.weight requires_grad\n",
      "showo.base_model.model.model.layers.7.self_attn.v_proj.lora_B.default.weight requires_grad\n",
      "showo.base_model.model.model.layers.7.mlp.fc1.lora_A.default.weight requires_grad\n",
      "showo.base_model.model.model.layers.7.mlp.fc1.lora_B.default.weight requires_grad\n",
      "showo.base_model.model.model.layers.7.mlp.fc2.lora_A.default.weight requires_grad\n",
      "showo.base_model.model.model.layers.7.mlp.fc2.lora_B.default.weight requires_grad\n",
      "showo.base_model.model.model.layers.8.self_attn.q_proj.lora_A.default.weight requires_grad\n",
      "showo.base_model.model.model.layers.8.self_attn.q_proj.lora_B.default.weight requires_grad\n",
      "showo.base_model.model.model.layers.8.self_attn.v_proj.lora_A.default.weight requires_grad\n",
      "showo.base_model.model.model.layers.8.self_attn.v_proj.lora_B.default.weight requires_grad\n",
      "showo.base_model.model.model.layers.8.mlp.fc1.lora_A.default.weight requires_grad\n",
      "showo.base_model.model.model.layers.8.mlp.fc1.lora_B.default.weight requires_grad\n",
      "showo.base_model.model.model.layers.8.mlp.fc2.lora_A.default.weight requires_grad\n",
      "showo.base_model.model.model.layers.8.mlp.fc2.lora_B.default.weight requires_grad\n",
      "showo.base_model.model.model.layers.9.self_attn.q_proj.lora_A.default.weight requires_grad\n",
      "showo.base_model.model.model.layers.9.self_attn.q_proj.lora_B.default.weight requires_grad\n",
      "showo.base_model.model.model.layers.9.self_attn.v_proj.lora_A.default.weight requires_grad\n",
      "showo.base_model.model.model.layers.9.self_attn.v_proj.lora_B.default.weight requires_grad\n",
      "showo.base_model.model.model.layers.9.mlp.fc1.lora_A.default.weight requires_grad\n",
      "showo.base_model.model.model.layers.9.mlp.fc1.lora_B.default.weight requires_grad\n",
      "showo.base_model.model.model.layers.9.mlp.fc2.lora_A.default.weight requires_grad\n",
      "showo.base_model.model.model.layers.9.mlp.fc2.lora_B.default.weight requires_grad\n",
      "showo.base_model.model.model.layers.10.self_attn.q_proj.lora_A.default.weight requires_grad\n",
      "showo.base_model.model.model.layers.10.self_attn.q_proj.lora_B.default.weight requires_grad\n",
      "showo.base_model.model.model.layers.10.self_attn.v_proj.lora_A.default.weight requires_grad\n",
      "showo.base_model.model.model.layers.10.self_attn.v_proj.lora_B.default.weight requires_grad\n",
      "showo.base_model.model.model.layers.10.mlp.fc1.lora_A.default.weight requires_grad\n",
      "showo.base_model.model.model.layers.10.mlp.fc1.lora_B.default.weight requires_grad\n",
      "showo.base_model.model.model.layers.10.mlp.fc2.lora_A.default.weight requires_grad\n",
      "showo.base_model.model.model.layers.10.mlp.fc2.lora_B.default.weight requires_grad\n",
      "showo.base_model.model.model.layers.11.self_attn.q_proj.lora_A.default.weight requires_grad\n",
      "showo.base_model.model.model.layers.11.self_attn.q_proj.lora_B.default.weight requires_grad\n",
      "showo.base_model.model.model.layers.11.self_attn.v_proj.lora_A.default.weight requires_grad\n",
      "showo.base_model.model.model.layers.11.self_attn.v_proj.lora_B.default.weight requires_grad\n",
      "showo.base_model.model.model.layers.11.mlp.fc1.lora_A.default.weight requires_grad\n",
      "showo.base_model.model.model.layers.11.mlp.fc1.lora_B.default.weight requires_grad\n",
      "showo.base_model.model.model.layers.11.mlp.fc2.lora_A.default.weight requires_grad\n",
      "showo.base_model.model.model.layers.11.mlp.fc2.lora_B.default.weight requires_grad\n",
      "showo.base_model.model.model.layers.12.self_attn.q_proj.lora_A.default.weight requires_grad\n",
      "showo.base_model.model.model.layers.12.self_attn.q_proj.lora_B.default.weight requires_grad\n",
      "showo.base_model.model.model.layers.12.self_attn.v_proj.lora_A.default.weight requires_grad\n",
      "showo.base_model.model.model.layers.12.self_attn.v_proj.lora_B.default.weight requires_grad\n",
      "showo.base_model.model.model.layers.12.mlp.fc1.lora_A.default.weight requires_grad\n",
      "showo.base_model.model.model.layers.12.mlp.fc1.lora_B.default.weight requires_grad\n",
      "showo.base_model.model.model.layers.12.mlp.fc2.lora_A.default.weight requires_grad\n",
      "showo.base_model.model.model.layers.12.mlp.fc2.lora_B.default.weight requires_grad\n",
      "showo.base_model.model.model.layers.13.self_attn.q_proj.lora_A.default.weight requires_grad\n",
      "showo.base_model.model.model.layers.13.self_attn.q_proj.lora_B.default.weight requires_grad\n",
      "showo.base_model.model.model.layers.13.self_attn.v_proj.lora_A.default.weight requires_grad\n",
      "showo.base_model.model.model.layers.13.self_attn.v_proj.lora_B.default.weight requires_grad\n",
      "showo.base_model.model.model.layers.13.mlp.fc1.lora_A.default.weight requires_grad\n",
      "showo.base_model.model.model.layers.13.mlp.fc1.lora_B.default.weight requires_grad\n",
      "showo.base_model.model.model.layers.13.mlp.fc2.lora_A.default.weight requires_grad\n",
      "showo.base_model.model.model.layers.13.mlp.fc2.lora_B.default.weight requires_grad\n",
      "showo.base_model.model.model.layers.14.self_attn.q_proj.lora_A.default.weight requires_grad\n",
      "showo.base_model.model.model.layers.14.self_attn.q_proj.lora_B.default.weight requires_grad\n",
      "showo.base_model.model.model.layers.14.self_attn.v_proj.lora_A.default.weight requires_grad\n",
      "showo.base_model.model.model.layers.14.self_attn.v_proj.lora_B.default.weight requires_grad\n",
      "showo.base_model.model.model.layers.14.mlp.fc1.lora_A.default.weight requires_grad\n",
      "showo.base_model.model.model.layers.14.mlp.fc1.lora_B.default.weight requires_grad\n",
      "showo.base_model.model.model.layers.14.mlp.fc2.lora_A.default.weight requires_grad\n",
      "showo.base_model.model.model.layers.14.mlp.fc2.lora_B.default.weight requires_grad\n",
      "showo.base_model.model.model.layers.15.self_attn.q_proj.lora_A.default.weight requires_grad\n",
      "showo.base_model.model.model.layers.15.self_attn.q_proj.lora_B.default.weight requires_grad\n",
      "showo.base_model.model.model.layers.15.self_attn.v_proj.lora_A.default.weight requires_grad\n",
      "showo.base_model.model.model.layers.15.self_attn.v_proj.lora_B.default.weight requires_grad\n",
      "showo.base_model.model.model.layers.15.mlp.fc1.lora_A.default.weight requires_grad\n",
      "showo.base_model.model.model.layers.15.mlp.fc1.lora_B.default.weight requires_grad\n",
      "showo.base_model.model.model.layers.15.mlp.fc2.lora_A.default.weight requires_grad\n",
      "showo.base_model.model.model.layers.15.mlp.fc2.lora_B.default.weight requires_grad\n",
      "showo.base_model.model.model.layers.16.self_attn.q_proj.lora_A.default.weight requires_grad\n",
      "showo.base_model.model.model.layers.16.self_attn.q_proj.lora_B.default.weight requires_grad\n",
      "showo.base_model.model.model.layers.16.self_attn.v_proj.lora_A.default.weight requires_grad\n",
      "showo.base_model.model.model.layers.16.self_attn.v_proj.lora_B.default.weight requires_grad\n",
      "showo.base_model.model.model.layers.16.mlp.fc1.lora_A.default.weight requires_grad\n",
      "showo.base_model.model.model.layers.16.mlp.fc1.lora_B.default.weight requires_grad\n",
      "showo.base_model.model.model.layers.16.mlp.fc2.lora_A.default.weight requires_grad\n",
      "showo.base_model.model.model.layers.16.mlp.fc2.lora_B.default.weight requires_grad\n",
      "showo.base_model.model.model.layers.17.self_attn.q_proj.lora_A.default.weight requires_grad\n",
      "showo.base_model.model.model.layers.17.self_attn.q_proj.lora_B.default.weight requires_grad\n",
      "showo.base_model.model.model.layers.17.self_attn.v_proj.lora_A.default.weight requires_grad\n",
      "showo.base_model.model.model.layers.17.self_attn.v_proj.lora_B.default.weight requires_grad\n",
      "showo.base_model.model.model.layers.17.mlp.fc1.lora_A.default.weight requires_grad\n",
      "showo.base_model.model.model.layers.17.mlp.fc1.lora_B.default.weight requires_grad\n",
      "showo.base_model.model.model.layers.17.mlp.fc2.lora_A.default.weight requires_grad\n",
      "showo.base_model.model.model.layers.17.mlp.fc2.lora_B.default.weight requires_grad\n",
      "showo.base_model.model.model.layers.18.self_attn.q_proj.lora_A.default.weight requires_grad\n",
      "showo.base_model.model.model.layers.18.self_attn.q_proj.lora_B.default.weight requires_grad\n",
      "showo.base_model.model.model.layers.18.self_attn.v_proj.lora_A.default.weight requires_grad\n",
      "showo.base_model.model.model.layers.18.self_attn.v_proj.lora_B.default.weight requires_grad\n",
      "showo.base_model.model.model.layers.18.mlp.fc1.lora_A.default.weight requires_grad\n",
      "showo.base_model.model.model.layers.18.mlp.fc1.lora_B.default.weight requires_grad\n",
      "showo.base_model.model.model.layers.18.mlp.fc2.lora_A.default.weight requires_grad\n",
      "showo.base_model.model.model.layers.18.mlp.fc2.lora_B.default.weight requires_grad\n",
      "showo.base_model.model.model.layers.19.self_attn.q_proj.lora_A.default.weight requires_grad\n",
      "showo.base_model.model.model.layers.19.self_attn.q_proj.lora_B.default.weight requires_grad\n",
      "showo.base_model.model.model.layers.19.self_attn.v_proj.lora_A.default.weight requires_grad\n",
      "showo.base_model.model.model.layers.19.self_attn.v_proj.lora_B.default.weight requires_grad\n",
      "showo.base_model.model.model.layers.19.mlp.fc1.lora_A.default.weight requires_grad\n",
      "showo.base_model.model.model.layers.19.mlp.fc1.lora_B.default.weight requires_grad\n",
      "showo.base_model.model.model.layers.19.mlp.fc2.lora_A.default.weight requires_grad\n",
      "showo.base_model.model.model.layers.19.mlp.fc2.lora_B.default.weight requires_grad\n",
      "showo.base_model.model.model.layers.20.self_attn.q_proj.lora_A.default.weight requires_grad\n",
      "showo.base_model.model.model.layers.20.self_attn.q_proj.lora_B.default.weight requires_grad\n",
      "showo.base_model.model.model.layers.20.self_attn.v_proj.lora_A.default.weight requires_grad\n",
      "showo.base_model.model.model.layers.20.self_attn.v_proj.lora_B.default.weight requires_grad\n",
      "showo.base_model.model.model.layers.20.mlp.fc1.lora_A.default.weight requires_grad\n",
      "showo.base_model.model.model.layers.20.mlp.fc1.lora_B.default.weight requires_grad\n",
      "showo.base_model.model.model.layers.20.mlp.fc2.lora_A.default.weight requires_grad\n",
      "showo.base_model.model.model.layers.20.mlp.fc2.lora_B.default.weight requires_grad\n",
      "showo.base_model.model.model.layers.21.self_attn.q_proj.lora_A.default.weight requires_grad\n",
      "showo.base_model.model.model.layers.21.self_attn.q_proj.lora_B.default.weight requires_grad\n",
      "showo.base_model.model.model.layers.21.self_attn.v_proj.lora_A.default.weight requires_grad\n",
      "showo.base_model.model.model.layers.21.self_attn.v_proj.lora_B.default.weight requires_grad\n",
      "showo.base_model.model.model.layers.21.mlp.fc1.lora_A.default.weight requires_grad\n",
      "showo.base_model.model.model.layers.21.mlp.fc1.lora_B.default.weight requires_grad\n",
      "showo.base_model.model.model.layers.21.mlp.fc2.lora_A.default.weight requires_grad\n",
      "showo.base_model.model.model.layers.21.mlp.fc2.lora_B.default.weight requires_grad\n",
      "showo.base_model.model.model.layers.22.self_attn.q_proj.lora_A.default.weight requires_grad\n",
      "showo.base_model.model.model.layers.22.self_attn.q_proj.lora_B.default.weight requires_grad\n",
      "showo.base_model.model.model.layers.22.self_attn.v_proj.lora_A.default.weight requires_grad\n",
      "showo.base_model.model.model.layers.22.self_attn.v_proj.lora_B.default.weight requires_grad\n",
      "showo.base_model.model.model.layers.22.mlp.fc1.lora_A.default.weight requires_grad\n",
      "showo.base_model.model.model.layers.22.mlp.fc1.lora_B.default.weight requires_grad\n",
      "showo.base_model.model.model.layers.22.mlp.fc2.lora_A.default.weight requires_grad\n",
      "showo.base_model.model.model.layers.22.mlp.fc2.lora_B.default.weight requires_grad\n",
      "showo.base_model.model.model.layers.23.self_attn.q_proj.lora_A.default.weight requires_grad\n",
      "showo.base_model.model.model.layers.23.self_attn.q_proj.lora_B.default.weight requires_grad\n",
      "showo.base_model.model.model.layers.23.self_attn.v_proj.lora_A.default.weight requires_grad\n",
      "showo.base_model.model.model.layers.23.self_attn.v_proj.lora_B.default.weight requires_grad\n",
      "showo.base_model.model.model.layers.23.mlp.fc1.lora_A.default.weight requires_grad\n",
      "showo.base_model.model.model.layers.23.mlp.fc1.lora_B.default.weight requires_grad\n",
      "showo.base_model.model.model.layers.23.mlp.fc2.lora_A.default.weight requires_grad\n",
      "showo.base_model.model.model.layers.23.mlp.fc2.lora_B.default.weight requires_grad\n",
      "showo.base_model.model.lm_head.weight requires_grad\n",
      "showo.base_model.model.lm_head.bias requires_grad\n",
      "LoRA parameters: 5505024\n",
      "Trainable parameters: 245240979\n"
     ]
    }
   ],
   "source": [
    "vq_model.requires_grad_ = False\n",
    "vq_model.eval()\n",
    "model.train()\n",
    "\n",
    "for name, param in model.named_parameters():\n",
    "    if \"lora\" in name or \"embed_tokens\" in name or \"lm_head\" in name:\n",
    "        param.requires_grad = True\n",
    "    else:\n",
    "        param.requires_grad = False\n",
    "\n",
    "# trainable_params = [model.showo.get_input_embeddings().weight, model.showo.lm_head.weight, model.showo.lm_head.bias]\n",
    "\n",
    "trainable_params = []\n",
    "for name, param in model.named_parameters():\n",
    "    if param.requires_grad:\n",
    "        # 将所有需要训练的参数添加到训练参数列表中\n",
    "        trainable_params.append(param)\n",
    "\n",
    "optimizer = torch.optim.AdamW(\n",
    "            trainable_params, # for optimize the embeddings and the head\n",
    "            lr=1e-2,\n",
    "            betas=(0.9, 0.999),\n",
    "            weight_decay=1e-2,\n",
    "            eps=1e-08,\n",
    "        )\n",
    "for names, p in model.named_parameters():\n",
    "    if p.requires_grad:\n",
    "        print(f\"{names} requires_grad\") # embed_token, lm_head会更新\n",
    "        \n",
    "#统计名称含有 \"lora\" 的模块的可训练参数数量\n",
    "lora_params = list(filter(lambda kv: \"lora\" in kv[0], model.named_parameters()))\n",
    "lora_params_num = sum(p.numel() for n, p in lora_params)\n",
    "print(f\"LoRA parameters: {lora_params_num}\")\n",
    "# LoRA: Q, V, mlp.fc1, mlp.fc2\n",
    "# token 可训练参数 2048*58515*2 + 58515 = 239735955\n",
    "# 统计所有可训练参数数量\n",
    "trainable_params_num = sum(p.numel() for p in trainable_params)\n",
    "print(f\"Trainable parameters: {trainable_params_num}\")"
   ]
  },
  {
   "cell_type": "code",
   "execution_count": 13,
   "metadata": {},
   "outputs": [],
   "source": [
    "model.config.mask_token_id = model.showo.get_input_embeddings().num_embeddings - 1\n",
    "model.mask_token_id = model.showo.get_input_embeddings().num_embeddings - 1"
   ]
  },
  {
   "cell_type": "code",
   "execution_count": 14,
   "metadata": {},
   "outputs": [],
   "source": [
    "mask_schedule = get_mask_chedule(config.training.get(\"mask_schedule\", \"cosine\"))\n",
    "mask_id = model.mask_token_id\n",
    "mask_dtype = model.showo.base_model.model.model.embed_tokens.weight.dtype"
   ]
  },
  {
   "cell_type": "code",
   "execution_count": 15,
   "metadata": {},
   "outputs": [
    {
     "name": "stdout",
     "output_type": "stream",
     "text": [
      "Formatting llava instruction data\n"
     ]
    }
   ],
   "source": [
    "\n",
    "# t2i_dataset = PersonalizedT2IDataset(data_root, concept)\n",
    "# t2i_dataloader = DataLoader(t2i_dataset, batch_size=5, shuffle=True, num_workers=10, pin_memory=True)\n",
    "\n",
    "mmu_dataloader = get_personalized_mmu_dataloader(data_root, concept, tokenizer, batch_size=5, num_workers=0, max_length=128)\n",
    "t2i_dataloader = get_personalized_t2i_dataloader(data_root, concept, tokenizer, batch_size=2, num_workers=0, max_length=128)\n",
    "\n",
    "\n",
    "iterables = {\n",
    "    'mmu_flow': mmu_dataloader,\n",
    "    't2i_flow': t2i_dataloader\n",
    "}\n",
    "\n",
    "\n",
    "combined_dataloader = CombinedLoader(iterables, mode=\"max_size_cycle\")\n",
    "\n",
    "# Before adding the new tokens, the vocab size is 58498\n",
    "# vocab size = 58498 = 50295  llm vocabsize\n",
    "#                    + 10     <|soi|> <|eoi|> <|sov|> <|eov|> <|t2i|> <|mmu|> <|t2v|> <|v2v|> <|lvg|> <|pad|>\n",
    "#                    + 8192   vq model codebook size\n",
    "#                    + 1      mask token (token id == 58497)\n",
    "from typing import Union\n",
    "\n",
    "\n",
    "uni_prompting.sptids_dict\n",
    "# {'<|soi|>': tensor([50296]),\n",
    "#  '<|eoi|>': tensor([50297]),\n",
    "#  '<|sov|>': tensor([50298]),\n",
    "#  '<|eov|>': tensor([50299]),\n",
    "#  '<|t2i|>': tensor([50300]),\n",
    "#  '<|mmu|>': tensor([50301]),\n",
    "#  '<|t2v|>': tensor([50302]),\n",
    "#  '<|v2v|>': tensor([50303]),\n",
    "#  '<|lvg|>': tensor([50304]),\n",
    "#  '<|sot|>': tensor([50256]),\n",
    "#  '<|eot|>': tensor([50256]),\n",
    "#  '<|pad|>': tensor([50295])}\n",
    "\n",
    "# uni_prompting.text_tokenizer == tokenizer\n",
    "def prepare_inputs_and_labels(\n",
    "        pixel_values_or_image_ids: Union[torch.FloatTensor, torch.LongTensor],\n",
    "        texts: Union[str, str],\n",
    "        min_masking_rate: float = 0.0,\n",
    "        is_train: bool = True,\n",
    "):\n",
    "\n",
    "    image_tokens = vq_model.get_code(pixel_values_or_image_ids)\n",
    "    image_tokens = image_tokens + len(uni_prompting.text_tokenizer)\n",
    "\n",
    "    # create MLM mask and labels\n",
    "    input_ids, labels, loss_weight, mask_prob = mask_or_random_replace_tokens(\n",
    "        image_tokens,\n",
    "        mask_id,\n",
    "        config,\n",
    "        mask_schedule=mask_schedule,\n",
    "        is_train=is_train,\n",
    "    )\n",
    "    input_ids, masks, labels = uni_prompting((texts, input_ids, labels), 't2i')\n",
    "\n",
    "    return input_ids, labels, mask_prob, image_tokens"
   ]
  },
  {
   "cell_type": "code",
   "execution_count": 16,
   "metadata": {},
   "outputs": [],
   "source": [
    "list_combined_dataloader = list(combined_dataloader)\n",
    "# one_batch_mmu = list_combined_dataloader[0][0]['mmu_flow']\n",
    "one_batch_t2i = list_combined_dataloader[0][0]['t2i_flow']\n",
    "\n",
    "# one_batch_mmu = next(iter(mmu_dataloader))"
   ]
  },
  {
   "cell_type": "code",
   "execution_count": null,
   "metadata": {},
   "outputs": [
    {
     "name": "stdout",
     "output_type": "stream",
     "text": [
      "Epoch 1\n"
     ]
    },
    {
     "name": "stderr",
     "output_type": "stream",
     "text": [
      "  0%|          | 0/48 [00:00<?, ?it/s]"
     ]
    },
    {
     "name": "stderr",
     "output_type": "stream",
     "text": [
      "100%|██████████| 48/48 [00:21<00:00,  2.24it/s]\n"
     ]
    },
    {
     "name": "stdout",
     "output_type": "stream",
     "text": [
      "Epoch 1 loss: 10.865355670452118, loss_t2i: 10.843851079543432, loss_mmu: 10.951373517513275\n",
      "  Token-Norm: 14.454191207885742\n",
      "  index_no_updates-Token-Norm: 475.90191650390625\n",
      "  LM-Head-Weight-Norm: 13.824005126953125\n",
      "  index_no_updates-LM-Head-Weight-Norm: 636.0464477539062\n",
      "  LM-Head-Bias-Norm: 1.1825370788574219\n",
      "  index_no_updates-LM-Head-Bias-Norm: 200.17538452148438\n",
      "Epoch 2\n"
     ]
    },
    {
     "name": "stderr",
     "output_type": "stream",
     "text": [
      "100%|██████████| 48/48 [00:20<00:00,  2.31it/s]\n"
     ]
    },
    {
     "name": "stdout",
     "output_type": "stream",
     "text": [
      "Epoch 2 loss: 8.393536498149237, loss_t2i: 8.941564778486887, loss_mmu: 6.201422800620397\n",
      "  Token-Norm: 15.549836158752441\n",
      "  index_no_updates-Token-Norm: 475.90191650390625\n",
      "  LM-Head-Weight-Norm: 13.853802680969238\n",
      "  index_no_updates-LM-Head-Weight-Norm: 636.0464477539062\n",
      "  LM-Head-Bias-Norm: 1.178760051727295\n",
      "  index_no_updates-LM-Head-Bias-Norm: 200.17538452148438\n",
      "Epoch 3\n"
     ]
    },
    {
     "name": "stderr",
     "output_type": "stream",
     "text": [
      "100%|██████████| 48/48 [00:20<00:00,  2.31it/s]\n"
     ]
    },
    {
     "name": "stdout",
     "output_type": "stream",
     "text": [
      "Epoch 3 loss: 7.670824448267619, loss_t2i: 8.503815541664759, loss_mmu: 4.338859980305036\n",
      "  Token-Norm: 15.899003028869629\n",
      "  index_no_updates-Token-Norm: 475.90191650390625\n",
      "  LM-Head-Weight-Norm: 13.808540344238281\n",
      "  index_no_updates-LM-Head-Weight-Norm: 636.0464477539062\n",
      "  LM-Head-Bias-Norm: 1.175623893737793\n",
      "  index_no_updates-LM-Head-Bias-Norm: 200.17538452148438\n",
      "Epoch 4\n"
     ]
    },
    {
     "name": "stderr",
     "output_type": "stream",
     "text": [
      "100%|██████████| 48/48 [00:20<00:00,  2.31it/s]\n"
     ]
    },
    {
     "name": "stdout",
     "output_type": "stream",
     "text": [
      "Epoch 4 loss: 7.384706387917201, loss_t2i: 8.313751220703125, loss_mmu: 3.668526530265808\n",
      "  Token-Norm: 17.502897262573242\n",
      "  index_no_updates-Token-Norm: 475.90191650390625\n",
      "  LM-Head-Weight-Norm: 13.794952392578125\n",
      "  index_no_updates-LM-Head-Weight-Norm: 636.0464477539062\n",
      "  LM-Head-Bias-Norm: 1.173599123954773\n",
      "  index_no_updates-LM-Head-Bias-Norm: 200.17538452148438\n",
      "Epoch 5\n"
     ]
    },
    {
     "name": "stderr",
     "output_type": "stream",
     "text": [
      "100%|██████████| 48/48 [00:20<00:00,  2.31it/s]\n"
     ]
    },
    {
     "name": "stdout",
     "output_type": "stream",
     "text": [
      "Epoch 5 loss: 7.303807278474172, loss_t2i: 8.280677189429602, loss_mmu: 3.3963273763656616\n",
      "  Token-Norm: 19.052400588989258\n",
      "  index_no_updates-Token-Norm: 475.90191650390625\n",
      "  LM-Head-Weight-Norm: 13.763790130615234\n",
      "  index_no_updates-LM-Head-Weight-Norm: 636.0464477539062\n",
      "  LM-Head-Bias-Norm: 1.1703484058380127\n",
      "  index_no_updates-LM-Head-Bias-Norm: 200.17538452148438\n",
      "Epoch 6\n"
     ]
    },
    {
     "name": "stderr",
     "output_type": "stream",
     "text": [
      "100%|██████████| 48/48 [00:20<00:00,  2.31it/s]\n"
     ]
    },
    {
     "name": "stdout",
     "output_type": "stream",
     "text": [
      "Epoch 6 loss: 7.2273218135039015, loss_t2i: 8.284037113189697, loss_mmu: 3.0004598100980124\n",
      "  Token-Norm: 19.699657440185547\n",
      "  index_no_updates-Token-Norm: 475.90191650390625\n",
      "  LM-Head-Weight-Norm: 13.721193313598633\n",
      "  index_no_updates-LM-Head-Weight-Norm: 636.0464477539062\n",
      "  LM-Head-Bias-Norm: 1.1643640995025635\n",
      "  index_no_updates-LM-Head-Bias-Norm: 200.17538452148438\n",
      "Epoch 7\n"
     ]
    },
    {
     "name": "stderr",
     "output_type": "stream",
     "text": [
      "100%|██████████| 48/48 [00:20<00:00,  2.31it/s]\n"
     ]
    },
    {
     "name": "stdout",
     "output_type": "stream",
     "text": [
      "Epoch 7 loss: 7.102208882570267, loss_t2i: 8.178779204686483, loss_mmu: 2.7959269881248474\n",
      "  Token-Norm: 20.798175811767578\n",
      "  index_no_updates-Token-Norm: 475.90191650390625\n",
      "  LM-Head-Weight-Norm: 13.649687767028809\n",
      "  index_no_updates-LM-Head-Weight-Norm: 636.0464477539062\n",
      "  LM-Head-Bias-Norm: 1.159875750541687\n",
      "  index_no_updates-LM-Head-Bias-Norm: 200.17538452148438\n",
      "Epoch 8\n"
     ]
    },
    {
     "name": "stderr",
     "output_type": "stream",
     "text": [
      "100%|██████████| 48/48 [00:20<00:00,  2.30it/s]\n"
     ]
    },
    {
     "name": "stdout",
     "output_type": "stream",
     "text": [
      "Epoch 8 loss: 6.996829082568486, loss_t2i: 8.085861712694168, loss_mmu: 2.6406981398661933\n",
      "  Token-Norm: 23.01668357849121\n",
      "  index_no_updates-Token-Norm: 475.90191650390625\n",
      "  LM-Head-Weight-Norm: 13.5972900390625\n",
      "  index_no_updates-LM-Head-Weight-Norm: 636.0464477539062\n",
      "  LM-Head-Bias-Norm: 1.1554630994796753\n",
      "  index_no_updates-LM-Head-Bias-Norm: 200.17538452148438\n",
      "Epoch 9\n"
     ]
    },
    {
     "name": "stderr",
     "output_type": "stream",
     "text": [
      "100%|██████████| 48/48 [00:20<00:00,  2.30it/s]\n"
     ]
    },
    {
     "name": "stdout",
     "output_type": "stream",
     "text": [
      "Epoch 9 loss: 6.845438142617543, loss_t2i: 7.908754567305247, loss_mmu: 2.592171862721443\n",
      "  Token-Norm: 24.90275764465332\n",
      "  index_no_updates-Token-Norm: 475.90191650390625\n",
      "  LM-Head-Weight-Norm: 13.535924911499023\n",
      "  index_no_updates-LM-Head-Weight-Norm: 636.0464477539062\n",
      "  LM-Head-Bias-Norm: 1.1497724056243896\n",
      "  index_no_updates-LM-Head-Bias-Norm: 200.17538452148438\n",
      "Epoch 10\n"
     ]
    },
    {
     "name": "stderr",
     "output_type": "stream",
     "text": [
      "100%|██████████| 48/48 [00:20<00:00,  2.30it/s]\n"
     ]
    },
    {
     "name": "stdout",
     "output_type": "stream",
     "text": [
      "Epoch 10 loss: 6.587938110033671, loss_t2i: 7.683952957391739, loss_mmu: 2.2038781717419624\n",
      "  Token-Norm: 25.285619735717773\n",
      "  index_no_updates-Token-Norm: 475.90191650390625\n",
      "  LM-Head-Weight-Norm: 13.477255821228027\n",
      "  index_no_updates-LM-Head-Weight-Norm: 636.0464477539062\n",
      "  LM-Head-Bias-Norm: 1.144661545753479\n",
      "  index_no_updates-LM-Head-Bias-Norm: 200.17538452148438\n"
     ]
    },
    {
     "name": "stderr",
     "output_type": "stream",
     "text": [
      "/home/hpyky/miniconda3/envs/showo/lib/python3.10/site-packages/peft/utils/save_and_load.py:154: UserWarning: Could not find a config file in /home/hpyky/.cache/huggingface/hub/models--microsoft--phi-1_5/snapshots/675aa382d814580b22651a30acb1a585d7c25963 - will assume that the vocabulary was not modified.\n",
      "  warnings.warn(\n"
     ]
    },
    {
     "name": "stdout",
     "output_type": "stream",
     "text": [
      "Epoch 11\n"
     ]
    },
    {
     "name": "stderr",
     "output_type": "stream",
     "text": [
      "100%|██████████| 48/48 [00:20<00:00,  2.31it/s]\n"
     ]
    },
    {
     "name": "stdout",
     "output_type": "stream",
     "text": [
      "Epoch 11 loss: 7.945301065842311, loss_t2i: 8.836096207300821, loss_mmu: 4.382119913895925\n",
      "  Token-Norm: 26.270259857177734\n",
      "  index_no_updates-Token-Norm: 475.90191650390625\n",
      "  LM-Head-Weight-Norm: 13.689845085144043\n",
      "  index_no_updates-LM-Head-Weight-Norm: 636.0464477539062\n",
      "  LM-Head-Bias-Norm: 1.1481105089187622\n",
      "  index_no_updates-LM-Head-Bias-Norm: 200.17538452148438\n",
      "Epoch 12\n"
     ]
    },
    {
     "name": "stderr",
     "output_type": "stream",
     "text": [
      "100%|██████████| 48/48 [00:20<00:00,  2.31it/s]\n"
     ]
    },
    {
     "name": "stdout",
     "output_type": "stream",
     "text": [
      "Epoch 12 loss: 8.603441655635834, loss_t2i: 9.216173201799393, loss_mmu: 6.152515113353729\n",
      "  Token-Norm: 26.943588256835938\n",
      "  index_no_updates-Token-Norm: 475.90191650390625\n",
      "  LM-Head-Weight-Norm: 13.846661567687988\n",
      "  index_no_updates-LM-Head-Weight-Norm: 636.0464477539062\n",
      "  LM-Head-Bias-Norm: 1.1419345140457153\n",
      "  index_no_updates-LM-Head-Bias-Norm: 200.17538452148438\n",
      "Epoch 13\n"
     ]
    },
    {
     "name": "stderr",
     "output_type": "stream",
     "text": [
      "100%|██████████| 48/48 [00:20<00:00,  2.31it/s]\n"
     ]
    },
    {
     "name": "stdout",
     "output_type": "stream",
     "text": [
      "Epoch 13 loss: 7.4240294098854065, loss_t2i: 8.268123507499695, loss_mmu: 4.04765238861243\n",
      "  Token-Norm: 27.009490966796875\n",
      "  index_no_updates-Token-Norm: 475.90191650390625\n",
      "  LM-Head-Weight-Norm: 13.83233642578125\n",
      "  index_no_updates-LM-Head-Weight-Norm: 636.0464477539062\n",
      "  LM-Head-Bias-Norm: 1.1353858709335327\n",
      "  index_no_updates-LM-Head-Bias-Norm: 200.17538452148438\n",
      "Epoch 14\n"
     ]
    },
    {
     "name": "stderr",
     "output_type": "stream",
     "text": [
      "100%|██████████| 48/48 [00:20<00:00,  2.30it/s]\n"
     ]
    },
    {
     "name": "stdout",
     "output_type": "stream",
     "text": [
      "Epoch 14 loss: 7.256800363461177, loss_t2i: 8.150108834107717, loss_mmu: 3.683565859993299\n",
      "  Token-Norm: 27.358455657958984\n",
      "  index_no_updates-Token-Norm: 475.90191650390625\n",
      "  LM-Head-Weight-Norm: 13.81070613861084\n",
      "  index_no_updates-LM-Head-Weight-Norm: 636.0464477539062\n",
      "  LM-Head-Bias-Norm: 1.1302770376205444\n",
      "  index_no_updates-LM-Head-Bias-Norm: 200.17538452148438\n",
      "Epoch 15\n"
     ]
    },
    {
     "name": "stderr",
     "output_type": "stream",
     "text": [
      "100%|██████████| 48/48 [00:20<00:00,  2.30it/s]\n"
     ]
    },
    {
     "name": "stdout",
     "output_type": "stream",
     "text": [
      "Epoch 15 loss: 7.198319802681605, loss_t2i: 8.108300775289536, loss_mmu: 3.558395425478617\n",
      "  Token-Norm: 27.359344482421875\n",
      "  index_no_updates-Token-Norm: 475.90191650390625\n",
      "  LM-Head-Weight-Norm: 13.763711929321289\n",
      "  index_no_updates-LM-Head-Weight-Norm: 636.0464477539062\n",
      "  LM-Head-Bias-Norm: 1.1257214546203613\n",
      "  index_no_updates-LM-Head-Bias-Norm: 200.17538452148438\n",
      "Epoch 16\n"
     ]
    },
    {
     "name": "stderr",
     "output_type": "stream",
     "text": [
      "100%|██████████| 48/48 [00:20<00:00,  2.30it/s]\n"
     ]
    },
    {
     "name": "stdout",
     "output_type": "stream",
     "text": [
      "Epoch 16 loss: 7.018386234839757, loss_t2i: 7.966349840164185, loss_mmu: 3.2265315552552543\n",
      "  Token-Norm: 27.245519638061523\n",
      "  index_no_updates-Token-Norm: 475.90191650390625\n",
      "  LM-Head-Weight-Norm: 13.697855949401855\n",
      "  index_no_updates-LM-Head-Weight-Norm: 636.0464477539062\n",
      "  LM-Head-Bias-Norm: 1.1211599111557007\n",
      "  index_no_updates-LM-Head-Bias-Norm: 200.17538452148438\n",
      "Epoch 17\n"
     ]
    },
    {
     "name": "stderr",
     "output_type": "stream",
     "text": [
      "100%|██████████| 48/48 [00:20<00:00,  2.30it/s]\n"
     ]
    },
    {
     "name": "stdout",
     "output_type": "stream",
     "text": [
      "Epoch 17 loss: 9.23206259806951, loss_t2i: 9.814344863096872, loss_mmu: 6.902932946880658\n",
      "  Token-Norm: 27.338457107543945\n",
      "  index_no_updates-Token-Norm: 475.90191650390625\n",
      "  LM-Head-Weight-Norm: 15.7680025100708\n",
      "  index_no_updates-LM-Head-Weight-Norm: 636.0464477539062\n",
      "  LM-Head-Bias-Norm: 1.2171483039855957\n",
      "  index_no_updates-LM-Head-Bias-Norm: 200.17538452148438\n",
      "Epoch 18\n"
     ]
    },
    {
     "name": "stderr",
     "output_type": "stream",
     "text": [
      "100%|██████████| 48/48 [00:20<00:00,  2.31it/s]\n"
     ]
    },
    {
     "name": "stdout",
     "output_type": "stream",
     "text": [
      "Epoch 18 loss: 9.231357326110205, loss_t2i: 9.513540675242742, loss_mmu: 8.102623691161474\n",
      "  Token-Norm: 28.573163986206055\n",
      "  index_no_updates-Token-Norm: 475.90191650390625\n",
      "  LM-Head-Weight-Norm: 19.60980224609375\n",
      "  index_no_updates-LM-Head-Weight-Norm: 636.0464477539062\n",
      "  LM-Head-Bias-Norm: 1.3151681423187256\n",
      "  index_no_updates-LM-Head-Bias-Norm: 200.17538452148438\n",
      "Epoch 19\n"
     ]
    },
    {
     "name": "stderr",
     "output_type": "stream",
     "text": [
      "100%|██████████| 48/48 [00:20<00:00,  2.31it/s]\n"
     ]
    },
    {
     "name": "stdout",
     "output_type": "stream",
     "text": [
      "Epoch 19 loss: 8.256396571795145, loss_t2i: 8.79797508319219, loss_mmu: 6.090081969896953\n",
      "  Token-Norm: 28.643707275390625\n",
      "  index_no_updates-Token-Norm: 475.90191650390625\n",
      "  LM-Head-Weight-Norm: 19.5428466796875\n",
      "  index_no_updates-LM-Head-Weight-Norm: 636.0464477539062\n",
      "  LM-Head-Bias-Norm: 1.3090159893035889\n",
      "  index_no_updates-LM-Head-Bias-Norm: 200.17538452148438\n",
      "Epoch 20\n"
     ]
    },
    {
     "name": "stderr",
     "output_type": "stream",
     "text": [
      "100%|██████████| 48/48 [00:20<00:00,  2.29it/s]\n"
     ]
    },
    {
     "name": "stdout",
     "output_type": "stream",
     "text": [
      "Epoch 20 loss: 7.862963378429413, loss_t2i: 8.539485057195028, loss_mmu: 5.156876628597577\n",
      "  Token-Norm: 28.528396606445312\n",
      "  index_no_updates-Token-Norm: 475.90191650390625\n",
      "  LM-Head-Weight-Norm: 19.44778060913086\n",
      "  index_no_updates-LM-Head-Weight-Norm: 636.0464477539062\n",
      "  LM-Head-Bias-Norm: 1.3025290966033936\n",
      "  index_no_updates-LM-Head-Bias-Norm: 200.17538452148438\n",
      "Epoch 21\n"
     ]
    },
    {
     "name": "stderr",
     "output_type": "stream",
     "text": [
      "100%|██████████| 48/48 [00:20<00:00,  2.29it/s]\n"
     ]
    },
    {
     "name": "stdout",
     "output_type": "stream",
     "text": [
      "Epoch 21 loss: 7.660030881563823, loss_t2i: 8.380016793807348, loss_mmu: 4.780086616675059\n",
      "  Token-Norm: 28.445343017578125\n",
      "  index_no_updates-Token-Norm: 475.90191650390625\n",
      "  LM-Head-Weight-Norm: 19.35334014892578\n",
      "  index_no_updates-LM-Head-Weight-Norm: 636.0464477539062\n",
      "  LM-Head-Bias-Norm: 1.2961338758468628\n",
      "  index_no_updates-LM-Head-Bias-Norm: 200.17538452148438\n",
      "Epoch 22\n"
     ]
    },
    {
     "name": "stderr",
     "output_type": "stream",
     "text": [
      "100%|██████████| 48/48 [00:20<00:00,  2.29it/s]\n"
     ]
    },
    {
     "name": "stdout",
     "output_type": "stream",
     "text": [
      "Epoch 22 loss: 7.671692957480748, loss_t2i: 8.430013984441757, loss_mmu: 4.638408238689105\n",
      "  Token-Norm: 28.36886978149414\n",
      "  index_no_updates-Token-Norm: 475.90191650390625\n",
      "  LM-Head-Weight-Norm: 19.254558563232422\n",
      "  index_no_updates-LM-Head-Weight-Norm: 636.0464477539062\n",
      "  LM-Head-Bias-Norm: 1.290259838104248\n",
      "  index_no_updates-LM-Head-Bias-Norm: 200.17538452148438\n",
      "Epoch 23\n"
     ]
    },
    {
     "name": "stderr",
     "output_type": "stream",
     "text": [
      "100%|██████████| 48/48 [00:21<00:00,  2.28it/s]\n"
     ]
    },
    {
     "name": "stdout",
     "output_type": "stream",
     "text": [
      "Epoch 23 loss: 7.591305106878281, loss_t2i: 8.379498273134232, loss_mmu: 4.438531960050265\n",
      "  Token-Norm: 28.2534236907959\n",
      "  index_no_updates-Token-Norm: 475.90191650390625\n",
      "  LM-Head-Weight-Norm: 19.15986442565918\n",
      "  index_no_updates-LM-Head-Weight-Norm: 636.0464477539062\n",
      "  LM-Head-Bias-Norm: 1.2842377424240112\n",
      "  index_no_updates-LM-Head-Bias-Norm: 200.17538452148438\n",
      "Epoch 24\n"
     ]
    },
    {
     "name": "stderr",
     "output_type": "stream",
     "text": [
      "100%|██████████| 48/48 [00:21<00:00,  2.28it/s]\n"
     ]
    },
    {
     "name": "stdout",
     "output_type": "stream",
     "text": [
      "Epoch 24 loss: 7.569946736097336, loss_t2i: 8.383324573437372, loss_mmu: 4.31643471121788\n",
      "  Token-Norm: 28.13694190979004\n",
      "  index_no_updates-Token-Norm: 475.90191650390625\n",
      "  LM-Head-Weight-Norm: 19.066606521606445\n",
      "  index_no_updates-LM-Head-Weight-Norm: 636.0464477539062\n",
      "  LM-Head-Bias-Norm: 1.2784144878387451\n",
      "  index_no_updates-LM-Head-Bias-Norm: 200.17538452148438\n",
      "Epoch 25\n"
     ]
    },
    {
     "name": "stderr",
     "output_type": "stream",
     "text": [
      "100%|██████████| 48/48 [00:20<00:00,  2.29it/s]\n"
     ]
    },
    {
     "name": "stdout",
     "output_type": "stream",
     "text": [
      "Epoch 25 loss: 7.619782169659932, loss_t2i: 8.446120609839758, loss_mmu: 4.314427554607391\n",
      "  Token-Norm: 28.044862747192383\n",
      "  index_no_updates-Token-Norm: 475.90191650390625\n",
      "  LM-Head-Weight-Norm: 18.981704711914062\n",
      "  index_no_updates-LM-Head-Weight-Norm: 636.0464477539062\n",
      "  LM-Head-Bias-Norm: 1.2721514701843262\n",
      "  index_no_updates-LM-Head-Bias-Norm: 200.17538452148438\n",
      "Epoch 26\n"
     ]
    },
    {
     "name": "stderr",
     "output_type": "stream",
     "text": [
      "100%|██████████| 48/48 [00:20<00:00,  2.30it/s]\n"
     ]
    },
    {
     "name": "stdout",
     "output_type": "stream",
     "text": [
      "Epoch 26 loss: 7.42216153939565, loss_t2i: 8.279497643311819, loss_mmu: 3.992816686630249\n",
      "  Token-Norm: 27.96575927734375\n",
      "  index_no_updates-Token-Norm: 475.90191650390625\n",
      "  LM-Head-Weight-Norm: 18.893775939941406\n",
      "  index_no_updates-LM-Head-Weight-Norm: 636.0464477539062\n",
      "  LM-Head-Bias-Norm: 1.2661018371582031\n",
      "  index_no_updates-LM-Head-Bias-Norm: 200.17538452148438\n",
      "Epoch 27\n"
     ]
    },
    {
     "name": "stderr",
     "output_type": "stream",
     "text": [
      "100%|██████████| 48/48 [00:20<00:00,  2.29it/s]\n"
     ]
    },
    {
     "name": "stdout",
     "output_type": "stream",
     "text": [
      "Epoch 27 loss: 7.367426723241806, loss_t2i: 8.2759980460008, loss_mmu: 3.7331409553686776\n",
      "  Token-Norm: 27.844745635986328\n",
      "  index_no_updates-Token-Norm: 475.90191650390625\n",
      "  LM-Head-Weight-Norm: 18.804616928100586\n",
      "  index_no_updates-LM-Head-Weight-Norm: 636.0464477539062\n",
      "  LM-Head-Bias-Norm: 1.2599728107452393\n",
      "  index_no_updates-LM-Head-Bias-Norm: 200.17538452148438\n",
      "Epoch 28\n"
     ]
    },
    {
     "name": "stderr",
     "output_type": "stream",
     "text": [
      "100%|██████████| 48/48 [00:20<00:00,  2.31it/s]\n"
     ]
    },
    {
     "name": "stdout",
     "output_type": "stream",
     "text": [
      "Epoch 28 loss: 9.213299105564753, loss_t2i: 9.13698723912239, loss_mmu: 9.518546218673388\n",
      "  Token-Norm: 28.213224411010742\n",
      "  index_no_updates-Token-Norm: 475.90191650390625\n",
      "  LM-Head-Weight-Norm: 19.332439422607422\n",
      "  index_no_updates-LM-Head-Weight-Norm: 636.0464477539062\n",
      "  LM-Head-Bias-Norm: 1.3096034526824951\n",
      "  index_no_updates-LM-Head-Bias-Norm: 200.17538452148438\n",
      "Epoch 29\n"
     ]
    },
    {
     "name": "stderr",
     "output_type": "stream",
     "text": [
      "100%|██████████| 48/48 [00:20<00:00,  2.29it/s]\n"
     ]
    },
    {
     "name": "stdout",
     "output_type": "stream",
     "text": [
      "Epoch 29 loss: 13.472679873307547, loss_t2i: 9.048200408617655, loss_mmu: 31.170597076416016\n",
      "  Token-Norm: 28.462142944335938\n",
      "  index_no_updates-Token-Norm: 475.90191650390625\n",
      "  LM-Head-Weight-Norm: 19.325098037719727\n",
      "  index_no_updates-LM-Head-Weight-Norm: 636.0464477539062\n",
      "  LM-Head-Bias-Norm: 1.3658875226974487\n",
      "  index_no_updates-LM-Head-Bias-Norm: 200.17538452148438\n",
      "Epoch 30\n"
     ]
    },
    {
     "name": "stderr",
     "output_type": "stream",
     "text": [
      "100%|██████████| 48/48 [00:20<00:00,  2.30it/s]\n"
     ]
    },
    {
     "name": "stdout",
     "output_type": "stream",
     "text": [
      "Epoch 30 loss: 11.804857015609741, loss_t2i: 8.993310948212942, loss_mmu: 23.051040669282276\n",
      "  Token-Norm: 28.320363998413086\n",
      "  index_no_updates-Token-Norm: 475.90191650390625\n",
      "  LM-Head-Weight-Norm: 18.52890396118164\n",
      "  index_no_updates-LM-Head-Weight-Norm: 636.0464477539062\n",
      "  LM-Head-Bias-Norm: 1.3676973581314087\n",
      "  index_no_updates-LM-Head-Bias-Norm: 200.17538452148438\n",
      "Epoch 31\n"
     ]
    },
    {
     "name": "stderr",
     "output_type": "stream",
     "text": [
      "100%|██████████| 48/48 [00:20<00:00,  2.30it/s]\n"
     ]
    },
    {
     "name": "stdout",
     "output_type": "stream",
     "text": [
      "Epoch 31 loss: 11.097132166226706, loss_t2i: 8.637360135714212, loss_mmu: 20.93621959288915\n",
      "  Token-Norm: 28.185548782348633\n",
      "  index_no_updates-Token-Norm: 475.90191650390625\n",
      "  LM-Head-Weight-Norm: 17.54062843322754\n",
      "  index_no_updates-LM-Head-Weight-Norm: 636.0464477539062\n",
      "  LM-Head-Bias-Norm: 1.3072396516799927\n",
      "  index_no_updates-LM-Head-Bias-Norm: 200.17538452148438\n",
      "Epoch 32\n"
     ]
    },
    {
     "name": "stderr",
     "output_type": "stream",
     "text": [
      "100%|██████████| 48/48 [00:20<00:00,  2.29it/s]\n"
     ]
    },
    {
     "name": "stdout",
     "output_type": "stream",
     "text": [
      "Epoch 32 loss: 10.18279422322909, loss_t2i: 8.56276418765386, loss_mmu: 16.662913779417675\n",
      "  Token-Norm: 28.051042556762695\n",
      "  index_no_updates-Token-Norm: 475.90191650390625\n",
      "  LM-Head-Weight-Norm: 17.262489318847656\n",
      "  index_no_updates-LM-Head-Weight-Norm: 636.0464477539062\n",
      "  LM-Head-Bias-Norm: 1.3121824264526367\n",
      "  index_no_updates-LM-Head-Bias-Norm: 200.17538452148438\n",
      "Epoch 33\n"
     ]
    },
    {
     "name": "stderr",
     "output_type": "stream",
     "text": [
      "100%|██████████| 48/48 [00:21<00:00,  2.28it/s]\n"
     ]
    },
    {
     "name": "stdout",
     "output_type": "stream",
     "text": [
      "Epoch 33 loss: 8.466030498345694, loss_t2i: 8.52150958776474, loss_mmu: 8.244113584359487\n",
      "  Token-Norm: 27.915834426879883\n",
      "  index_no_updates-Token-Norm: 475.90191650390625\n",
      "  LM-Head-Weight-Norm: 17.06137466430664\n",
      "  index_no_updates-LM-Head-Weight-Norm: 636.0464477539062\n",
      "  LM-Head-Bias-Norm: 1.280839204788208\n",
      "  index_no_updates-LM-Head-Bias-Norm: 200.17538452148438\n",
      "Epoch 34\n"
     ]
    },
    {
     "name": "stderr",
     "output_type": "stream",
     "text": [
      "100%|██████████| 48/48 [00:21<00:00,  2.28it/s]\n"
     ]
    },
    {
     "name": "stdout",
     "output_type": "stream",
     "text": [
      "Epoch 34 loss: 7.994070112705231, loss_t2i: 8.443796863158544, loss_mmu: 6.195162465174993\n",
      "  Token-Norm: 27.781299591064453\n",
      "  index_no_updates-Token-Norm: 475.90191650390625\n",
      "  LM-Head-Weight-Norm: 16.982593536376953\n",
      "  index_no_updates-LM-Head-Weight-Norm: 636.0464477539062\n",
      "  LM-Head-Bias-Norm: 1.2739356756210327\n",
      "  index_no_updates-LM-Head-Bias-Norm: 200.17538452148438\n",
      "Epoch 35\n"
     ]
    },
    {
     "name": "stderr",
     "output_type": "stream",
     "text": [
      "100%|██████████| 48/48 [00:20<00:00,  2.30it/s]\n"
     ]
    },
    {
     "name": "stdout",
     "output_type": "stream",
     "text": [
      "Epoch 35 loss: 8.019786755243937, loss_t2i: 8.491315484046936, loss_mmu: 6.133671432733536\n",
      "  Token-Norm: 27.647489547729492\n",
      "  index_no_updates-Token-Norm: 475.90191650390625\n",
      "  LM-Head-Weight-Norm: 16.90554428100586\n",
      "  index_no_updates-LM-Head-Weight-Norm: 636.0464477539062\n",
      "  LM-Head-Bias-Norm: 1.2675070762634277\n",
      "  index_no_updates-LM-Head-Bias-Norm: 200.17538452148438\n",
      "Epoch 36\n"
     ]
    },
    {
     "name": "stderr",
     "output_type": "stream",
     "text": [
      "100%|██████████| 48/48 [00:20<00:00,  2.29it/s]\n"
     ]
    },
    {
     "name": "stdout",
     "output_type": "stream",
     "text": [
      "Epoch 36 loss: 7.976222803195317, loss_t2i: 8.449283599853516, loss_mmu: 6.083978533744812\n",
      "  Token-Norm: 27.5140438079834\n",
      "  index_no_updates-Token-Norm: 475.90191650390625\n",
      "  LM-Head-Weight-Norm: 16.829959869384766\n",
      "  index_no_updates-LM-Head-Weight-Norm: 636.0464477539062\n",
      "  LM-Head-Bias-Norm: 1.2611151933670044\n",
      "  index_no_updates-LM-Head-Bias-Norm: 200.17538452148438\n",
      "Epoch 37\n"
     ]
    },
    {
     "name": "stderr",
     "output_type": "stream",
     "text": [
      "100%|██████████| 48/48 [00:20<00:00,  2.29it/s]\n"
     ]
    },
    {
     "name": "stdout",
     "output_type": "stream",
     "text": [
      "Epoch 37 loss: 8.01864324013392, loss_t2i: 8.515019724766413, loss_mmu: 6.033136655886968\n",
      "  Token-Norm: 27.38048553466797\n",
      "  index_no_updates-Token-Norm: 475.90191650390625\n",
      "  LM-Head-Weight-Norm: 16.755870819091797\n",
      "  index_no_updates-LM-Head-Weight-Norm: 636.0464477539062\n",
      "  LM-Head-Bias-Norm: 1.2548410892486572\n",
      "  index_no_updates-LM-Head-Bias-Norm: 200.17538452148438\n",
      "Epoch 38\n"
     ]
    },
    {
     "name": "stderr",
     "output_type": "stream",
     "text": [
      "100%|██████████| 48/48 [00:21<00:00,  2.27it/s]\n"
     ]
    },
    {
     "name": "stdout",
     "output_type": "stream",
     "text": [
      "Epoch 38 loss: 8.015269140402475, loss_t2i: 8.525553623835245, loss_mmu: 5.974130531152089\n",
      "  Token-Norm: 27.246509552001953\n",
      "  index_no_updates-Token-Norm: 475.90191650390625\n",
      "  LM-Head-Weight-Norm: 16.68366813659668\n",
      "  index_no_updates-LM-Head-Weight-Norm: 636.0464477539062\n",
      "  LM-Head-Bias-Norm: 1.2485591173171997\n",
      "  index_no_updates-LM-Head-Bias-Norm: 200.17538452148438\n",
      "Epoch 39\n"
     ]
    },
    {
     "name": "stderr",
     "output_type": "stream",
     "text": [
      "100%|██████████| 48/48 [00:20<00:00,  2.29it/s]\n"
     ]
    },
    {
     "name": "stdout",
     "output_type": "stream",
     "text": [
      "Epoch 39 loss: 7.957617829243342, loss_t2i: 8.471510450045267, loss_mmu: 5.902046819527944\n",
      "  Token-Norm: 27.11189842224121\n",
      "  index_no_updates-Token-Norm: 475.90191650390625\n",
      "  LM-Head-Weight-Norm: 16.613460540771484\n",
      "  index_no_updates-LM-Head-Weight-Norm: 636.0464477539062\n",
      "  LM-Head-Bias-Norm: 1.2423028945922852\n",
      "  index_no_updates-LM-Head-Bias-Norm: 200.17538452148438\n",
      "Epoch 40\n"
     ]
    },
    {
     "name": "stderr",
     "output_type": "stream",
     "text": [
      "100%|██████████| 48/48 [00:20<00:00,  2.29it/s]\n"
     ]
    },
    {
     "name": "stdout",
     "output_type": "stream",
     "text": [
      "Epoch 40 loss: 7.877192536989848, loss_t2i: 8.402299960454306, loss_mmu: 5.776762584845225\n",
      "  Token-Norm: 26.976478576660156\n",
      "  index_no_updates-Token-Norm: 475.90191650390625\n",
      "  LM-Head-Weight-Norm: 16.545089721679688\n",
      "  index_no_updates-LM-Head-Weight-Norm: 636.0464477539062\n",
      "  LM-Head-Bias-Norm: 1.236090898513794\n",
      "  index_no_updates-LM-Head-Bias-Norm: 200.17538452148438\n",
      "Epoch 41\n"
     ]
    },
    {
     "name": "stderr",
     "output_type": "stream",
     "text": [
      "100%|██████████| 48/48 [00:20<00:00,  2.30it/s]\n"
     ]
    },
    {
     "name": "stdout",
     "output_type": "stream",
     "text": [
      "Epoch 41 loss: 7.792798360188802, loss_t2i: 8.359210828940073, loss_mmu: 5.52714787920316\n",
      "  Token-Norm: 26.859943389892578\n",
      "  index_no_updates-Token-Norm: 475.90191650390625\n",
      "  LM-Head-Weight-Norm: 16.478212356567383\n",
      "  index_no_updates-LM-Head-Weight-Norm: 636.0464477539062\n",
      "  LM-Head-Bias-Norm: 1.2300289869308472\n",
      "  index_no_updates-LM-Head-Bias-Norm: 200.17538452148438\n",
      "Epoch 42\n"
     ]
    },
    {
     "name": "stderr",
     "output_type": "stream",
     "text": [
      "100%|██████████| 48/48 [00:21<00:00,  2.28it/s]\n"
     ]
    },
    {
     "name": "stdout",
     "output_type": "stream",
     "text": [
      "Epoch 42 loss: 7.686404834191005, loss_t2i: 8.3388631939888, loss_mmu: 5.076570878426234\n",
      "  Token-Norm: 26.733474731445312\n",
      "  index_no_updates-Token-Norm: 475.90191650390625\n",
      "  LM-Head-Weight-Norm: 16.412179946899414\n",
      "  index_no_updates-LM-Head-Weight-Norm: 636.0464477539062\n",
      "  LM-Head-Bias-Norm: 1.2240372896194458\n",
      "  index_no_updates-LM-Head-Bias-Norm: 200.17538452148438\n",
      "Epoch 43\n"
     ]
    },
    {
     "name": "stderr",
     "output_type": "stream",
     "text": [
      "100%|██████████| 48/48 [00:21<00:00,  2.28it/s]\n"
     ]
    },
    {
     "name": "stdout",
     "output_type": "stream",
     "text": [
      "Epoch 43 loss: 7.506288558244705, loss_t2i: 8.195865094661713, loss_mmu: 4.747982169191043\n",
      "  Token-Norm: 26.604782104492188\n",
      "  index_no_updates-Token-Norm: 475.90191650390625\n",
      "  LM-Head-Weight-Norm: 16.345821380615234\n",
      "  index_no_updates-LM-Head-Weight-Norm: 636.0464477539062\n",
      "  LM-Head-Bias-Norm: 1.2184085845947266\n",
      "  index_no_updates-LM-Head-Bias-Norm: 200.17538452148438\n",
      "Epoch 44\n"
     ]
    },
    {
     "name": "stderr",
     "output_type": "stream",
     "text": [
      "100%|██████████| 48/48 [00:21<00:00,  2.28it/s]\n"
     ]
    },
    {
     "name": "stdout",
     "output_type": "stream",
     "text": [
      "Epoch 44 loss: 7.486316084861755, loss_t2i: 8.216873248418173, loss_mmu: 4.5640867700179415\n",
      "  Token-Norm: 26.4749698638916\n",
      "  index_no_updates-Token-Norm: 475.90191650390625\n",
      "  LM-Head-Weight-Norm: 16.28056526184082\n",
      "  index_no_updates-LM-Head-Weight-Norm: 636.0464477539062\n",
      "  LM-Head-Bias-Norm: 1.2128158807754517\n",
      "  index_no_updates-LM-Head-Bias-Norm: 200.17538452148438\n",
      "Epoch 45\n"
     ]
    },
    {
     "name": "stderr",
     "output_type": "stream",
     "text": [
      "100%|██████████| 48/48 [00:21<00:00,  2.28it/s]\n"
     ]
    },
    {
     "name": "stdout",
     "output_type": "stream",
     "text": [
      "Epoch 45 loss: 7.448493460814158, loss_t2i: 8.210157612959543, loss_mmu: 4.401836554209392\n",
      "  Token-Norm: 26.346141815185547\n",
      "  index_no_updates-Token-Norm: 475.90191650390625\n",
      "  LM-Head-Weight-Norm: 16.213842391967773\n",
      "  index_no_updates-LM-Head-Weight-Norm: 636.0464477539062\n",
      "  LM-Head-Bias-Norm: 1.2073421478271484\n",
      "  index_no_updates-LM-Head-Bias-Norm: 200.17538452148438\n",
      "Epoch 46\n"
     ]
    },
    {
     "name": "stderr",
     "output_type": "stream",
     "text": [
      "100%|██████████| 48/48 [00:21<00:00,  2.28it/s]\n"
     ]
    },
    {
     "name": "stdout",
     "output_type": "stream",
     "text": [
      "Epoch 46 loss: 7.4266160527865095, loss_t2i: 8.224230448404947, loss_mmu: 4.2361578692992525\n",
      "  Token-Norm: 26.215227127075195\n",
      "  index_no_updates-Token-Norm: 475.90191650390625\n",
      "  LM-Head-Weight-Norm: 16.14394187927246\n",
      "  index_no_updates-LM-Head-Weight-Norm: 636.0464477539062\n",
      "  LM-Head-Bias-Norm: 1.2017756700515747\n",
      "  index_no_updates-LM-Head-Bias-Norm: 200.17538452148438\n",
      "Epoch 47\n"
     ]
    },
    {
     "name": "stderr",
     "output_type": "stream",
     "text": [
      "100%|██████████| 48/48 [00:21<00:00,  2.28it/s]\n"
     ]
    },
    {
     "name": "stdout",
     "output_type": "stream",
     "text": [
      "Epoch 47 loss: 7.374415695667267, loss_t2i: 8.20280314485232, loss_mmu: 4.060865685343742\n",
      "  Token-Norm: 26.08405113220215\n",
      "  index_no_updates-Token-Norm: 475.90191650390625\n",
      "  LM-Head-Weight-Norm: 16.071592330932617\n",
      "  index_no_updates-LM-Head-Weight-Norm: 636.0464477539062\n",
      "  LM-Head-Bias-Norm: 1.1960328817367554\n",
      "  index_no_updates-LM-Head-Bias-Norm: 200.17538452148438\n",
      "Epoch 48\n"
     ]
    },
    {
     "name": "stderr",
     "output_type": "stream",
     "text": [
      "100%|██████████| 48/48 [00:20<00:00,  2.29it/s]\n"
     ]
    },
    {
     "name": "stdout",
     "output_type": "stream",
     "text": [
      "Epoch 48 loss: 7.361426850159963, loss_t2i: 8.21841753522555, loss_mmu: 3.933463469147682\n",
      "  Token-Norm: 25.959753036499023\n",
      "  index_no_updates-Token-Norm: 475.90191650390625\n",
      "  LM-Head-Weight-Norm: 15.996892929077148\n",
      "  index_no_updates-LM-Head-Weight-Norm: 636.0464477539062\n",
      "  LM-Head-Bias-Norm: 1.1906276941299438\n",
      "  index_no_updates-LM-Head-Bias-Norm: 200.17538452148438\n",
      "Epoch 49\n"
     ]
    },
    {
     "name": "stderr",
     "output_type": "stream",
     "text": [
      "100%|██████████| 48/48 [00:20<00:00,  2.29it/s]\n"
     ]
    },
    {
     "name": "stdout",
     "output_type": "stream",
     "text": [
      "Epoch 49 loss: 7.307281335194905, loss_t2i: 8.174810429414114, loss_mmu: 3.837164431810379\n",
      "  Token-Norm: 25.84428596496582\n",
      "  index_no_updates-Token-Norm: 475.90191650390625\n",
      "  LM-Head-Weight-Norm: 15.921435356140137\n",
      "  index_no_updates-LM-Head-Weight-Norm: 636.0464477539062\n",
      "  LM-Head-Bias-Norm: 1.1851052045822144\n",
      "  index_no_updates-LM-Head-Bias-Norm: 200.17538452148438\n",
      "Epoch 50\n"
     ]
    },
    {
     "name": "stderr",
     "output_type": "stream",
     "text": [
      "100%|██████████| 48/48 [00:21<00:00,  2.29it/s]\n"
     ]
    },
    {
     "name": "stdout",
     "output_type": "stream",
     "text": [
      "Epoch 50 loss: 7.3405086894830065, loss_t2i: 8.235409826040268, loss_mmu: 3.760903815428416\n",
      "  Token-Norm: 25.735336303710938\n",
      "  index_no_updates-Token-Norm: 475.90191650390625\n",
      "  LM-Head-Weight-Norm: 15.846116065979004\n",
      "  index_no_updates-LM-Head-Weight-Norm: 636.0464477539062\n",
      "  LM-Head-Bias-Norm: 1.1793378591537476\n",
      "  index_no_updates-LM-Head-Bias-Norm: 200.17538452148438\n",
      "Epoch 51\n"
     ]
    },
    {
     "name": "stderr",
     "output_type": "stream",
     "text": [
      "100%|██████████| 48/48 [00:21<00:00,  2.28it/s]\n"
     ]
    },
    {
     "name": "stdout",
     "output_type": "stream",
     "text": [
      "Epoch 51 loss: 7.208513846000035, loss_t2i: 8.093508700529734, loss_mmu: 3.66853396097819\n",
      "  Token-Norm: 25.631122589111328\n",
      "  index_no_updates-Token-Norm: 475.90191650390625\n",
      "  LM-Head-Weight-Norm: 15.770600318908691\n",
      "  index_no_updates-LM-Head-Weight-Norm: 636.0464477539062\n",
      "  LM-Head-Bias-Norm: 1.1738297939300537\n",
      "  index_no_updates-LM-Head-Bias-Norm: 200.17538452148438\n",
      "Epoch 52\n"
     ]
    },
    {
     "name": "stderr",
     "output_type": "stream",
     "text": [
      "100%|██████████| 48/48 [00:21<00:00,  2.28it/s]\n"
     ]
    },
    {
     "name": "stdout",
     "output_type": "stream",
     "text": [
      "Epoch 52 loss: 7.251741190751393, loss_t2i: 8.16887096563975, loss_mmu: 3.5832216093937554\n",
      "  Token-Norm: 25.528791427612305\n",
      "  index_no_updates-Token-Norm: 475.90191650390625\n",
      "  LM-Head-Weight-Norm: 15.695255279541016\n",
      "  index_no_updates-LM-Head-Weight-Norm: 636.0464477539062\n",
      "  LM-Head-Bias-Norm: 1.1683405637741089\n",
      "  index_no_updates-LM-Head-Bias-Norm: 200.17538452148438\n",
      "Epoch 53\n"
     ]
    },
    {
     "name": "stderr",
     "output_type": "stream",
     "text": [
      "100%|██████████| 48/48 [00:20<00:00,  2.29it/s]\n"
     ]
    },
    {
     "name": "stdout",
     "output_type": "stream",
     "text": [
      "Epoch 53 loss: 7.210392991701762, loss_t2i: 8.131917744874954, loss_mmu: 3.524293541908264\n",
      "  Token-Norm: 25.442378997802734\n",
      "  index_no_updates-Token-Norm: 475.90191650390625\n",
      "  LM-Head-Weight-Norm: 15.620787620544434\n",
      "  index_no_updates-LM-Head-Weight-Norm: 636.0464477539062\n",
      "  LM-Head-Bias-Norm: 1.1626496315002441\n",
      "  index_no_updates-LM-Head-Bias-Norm: 200.17538452148438\n",
      "Epoch 54\n"
     ]
    },
    {
     "name": "stderr",
     "output_type": "stream",
     "text": [
      "100%|██████████| 48/48 [00:20<00:00,  2.30it/s]\n"
     ]
    },
    {
     "name": "stdout",
     "output_type": "stream",
     "text": [
      "Epoch 54 loss: 7.245721717675527, loss_t2i: 8.192980647087097, loss_mmu: 3.4566854486862817\n",
      "  Token-Norm: 25.36246681213379\n",
      "  index_no_updates-Token-Norm: 475.90191650390625\n",
      "  LM-Head-Weight-Norm: 15.54625415802002\n",
      "  index_no_updates-LM-Head-Weight-Norm: 636.0464477539062\n",
      "  LM-Head-Bias-Norm: 1.1572248935699463\n",
      "  index_no_updates-LM-Head-Bias-Norm: 200.17538452148438\n",
      "Epoch 55\n"
     ]
    },
    {
     "name": "stderr",
     "output_type": "stream",
     "text": [
      "100%|██████████| 48/48 [00:21<00:00,  2.29it/s]\n"
     ]
    },
    {
     "name": "stdout",
     "output_type": "stream",
     "text": [
      "Epoch 55 loss: 7.190127591292064, loss_t2i: 8.132287244002024, loss_mmu: 3.421488508582115\n",
      "  Token-Norm: 25.270999908447266\n",
      "  index_no_updates-Token-Norm: 475.90191650390625\n",
      "  LM-Head-Weight-Norm: 15.472622871398926\n",
      "  index_no_updates-LM-Head-Weight-Norm: 636.0464477539062\n",
      "  LM-Head-Bias-Norm: 1.1517033576965332\n",
      "  index_no_updates-LM-Head-Bias-Norm: 200.17538452148438\n",
      "Epoch 56\n"
     ]
    },
    {
     "name": "stderr",
     "output_type": "stream",
     "text": [
      "100%|██████████| 48/48 [00:20<00:00,  2.29it/s]\n"
     ]
    },
    {
     "name": "stdout",
     "output_type": "stream",
     "text": [
      "Epoch 56 loss: 7.198233246803284, loss_t2i: 8.16506185134252, loss_mmu: 3.3309182475010553\n",
      "  Token-Norm: 25.509706497192383\n",
      "  index_no_updates-Token-Norm: 475.90191650390625\n",
      "  LM-Head-Weight-Norm: 15.399002075195312\n",
      "  index_no_updates-LM-Head-Weight-Norm: 636.0464477539062\n",
      "  LM-Head-Bias-Norm: 1.1464353799819946\n",
      "  index_no_updates-LM-Head-Bias-Norm: 200.17538452148438\n",
      "Epoch 57\n"
     ]
    },
    {
     "name": "stderr",
     "output_type": "stream",
     "text": [
      "100%|██████████| 48/48 [00:20<00:00,  2.30it/s]\n"
     ]
    },
    {
     "name": "stdout",
     "output_type": "stream",
     "text": [
      "Epoch 57 loss: 7.179299513498942, loss_t2i: 8.156728784243265, loss_mmu: 3.2695818344751992\n",
      "  Token-Norm: 25.499683380126953\n",
      "  index_no_updates-Token-Norm: 475.90191650390625\n",
      "  LM-Head-Weight-Norm: 15.326632499694824\n",
      "  index_no_updates-LM-Head-Weight-Norm: 636.0464477539062\n",
      "  LM-Head-Bias-Norm: 1.1408486366271973\n",
      "  index_no_updates-LM-Head-Bias-Norm: 200.17538452148438\n",
      "Epoch 58\n"
     ]
    },
    {
     "name": "stderr",
     "output_type": "stream",
     "text": [
      "100%|██████████| 48/48 [00:20<00:00,  2.30it/s]\n"
     ]
    },
    {
     "name": "stdout",
     "output_type": "stream",
     "text": [
      "Epoch 58 loss: 7.13822329044342, loss_t2i: 8.120607068141302, loss_mmu: 3.20868789156278\n",
      "  Token-Norm: 25.566150665283203\n",
      "  index_no_updates-Token-Norm: 475.90191650390625\n",
      "  LM-Head-Weight-Norm: 15.254216194152832\n",
      "  index_no_updates-LM-Head-Weight-Norm: 636.0464477539062\n",
      "  LM-Head-Bias-Norm: 1.135570764541626\n",
      "  index_no_updates-LM-Head-Bias-Norm: 200.17538452148438\n",
      "Epoch 59\n"
     ]
    },
    {
     "name": "stderr",
     "output_type": "stream",
     "text": [
      "100%|██████████| 48/48 [00:20<00:00,  2.30it/s]\n"
     ]
    },
    {
     "name": "stdout",
     "output_type": "stream",
     "text": [
      "Epoch 59 loss: 7.105698734521866, loss_t2i: 8.072201629479727, loss_mmu: 3.2396866778532663\n",
      "  Token-Norm: 25.625844955444336\n",
      "  index_no_updates-Token-Norm: 475.90191650390625\n",
      "  LM-Head-Weight-Norm: 15.182363510131836\n",
      "  index_no_updates-LM-Head-Weight-Norm: 636.0464477539062\n",
      "  LM-Head-Bias-Norm: 1.130399465560913\n",
      "  index_no_updates-LM-Head-Bias-Norm: 200.17538452148438\n",
      "Epoch 60\n"
     ]
    },
    {
     "name": "stderr",
     "output_type": "stream",
     "text": [
      "100%|██████████| 48/48 [00:20<00:00,  2.30it/s]\n"
     ]
    },
    {
     "name": "stdout",
     "output_type": "stream",
     "text": [
      "Epoch 60 loss: 7.292371571063995, loss_t2i: 8.155084609985352, loss_mmu: 3.8415188093980155\n",
      "  Token-Norm: 25.560060501098633\n",
      "  index_no_updates-Token-Norm: 475.90191650390625\n",
      "  LM-Head-Weight-Norm: 15.109790802001953\n",
      "  index_no_updates-LM-Head-Weight-Norm: 636.0464477539062\n",
      "  LM-Head-Bias-Norm: 1.125038743019104\n",
      "  index_no_updates-LM-Head-Bias-Norm: 200.17538452148438\n",
      "Epoch 61\n"
     ]
    },
    {
     "name": "stderr",
     "output_type": "stream",
     "text": [
      "100%|██████████| 48/48 [00:20<00:00,  2.29it/s]\n"
     ]
    },
    {
     "name": "stdout",
     "output_type": "stream",
     "text": [
      "Epoch 61 loss: 7.216396311918895, loss_t2i: 8.139334479967753, loss_mmu: 3.5246431678533554\n",
      "  Token-Norm: 25.448522567749023\n",
      "  index_no_updates-Token-Norm: 475.90191650390625\n",
      "  LM-Head-Weight-Norm: 15.038612365722656\n",
      "  index_no_updates-LM-Head-Weight-Norm: 636.0464477539062\n",
      "  LM-Head-Bias-Norm: 1.1194368600845337\n",
      "  index_no_updates-LM-Head-Bias-Norm: 200.17538452148438\n",
      "Epoch 62\n"
     ]
    },
    {
     "name": "stderr",
     "output_type": "stream",
     "text": [
      "100%|██████████| 48/48 [00:20<00:00,  2.30it/s]\n"
     ]
    },
    {
     "name": "stdout",
     "output_type": "stream",
     "text": [
      "Epoch 62 loss: 7.145271003246307, loss_t2i: 8.085493902365366, loss_mmu: 3.3843791484832764\n",
      "  Token-Norm: 25.357585906982422\n",
      "  index_no_updates-Token-Norm: 475.90191650390625\n",
      "  LM-Head-Weight-Norm: 14.967955589294434\n",
      "  index_no_updates-LM-Head-Weight-Norm: 636.0464477539062\n",
      "  LM-Head-Bias-Norm: 1.1140341758728027\n",
      "  index_no_updates-LM-Head-Bias-Norm: 200.17538452148438\n",
      "Epoch 63\n"
     ]
    },
    {
     "name": "stderr",
     "output_type": "stream",
     "text": [
      "100%|██████████| 48/48 [00:20<00:00,  2.30it/s]\n"
     ]
    },
    {
     "name": "stdout",
     "output_type": "stream",
     "text": [
      "Epoch 63 loss: 7.137410591046016, loss_t2i: 8.102143734693527, loss_mmu: 3.278477946917216\n",
      "  Token-Norm: 25.255483627319336\n",
      "  index_no_updates-Token-Norm: 475.90191650390625\n",
      "  LM-Head-Weight-Norm: 14.898026466369629\n",
      "  index_no_updates-LM-Head-Weight-Norm: 636.0464477539062\n",
      "  LM-Head-Bias-Norm: 1.1087305545806885\n",
      "  index_no_updates-LM-Head-Bias-Norm: 200.17538452148438\n",
      "Epoch 64\n"
     ]
    },
    {
     "name": "stderr",
     "output_type": "stream",
     "text": [
      "100%|██████████| 48/48 [00:20<00:00,  2.30it/s]\n"
     ]
    },
    {
     "name": "stdout",
     "output_type": "stream",
     "text": [
      "Epoch 64 loss: 7.160056461890538, loss_t2i: 8.16324520111084, loss_mmu: 3.1473012069861093\n",
      "  Token-Norm: 25.15001106262207\n",
      "  index_no_updates-Token-Norm: 475.90191650390625\n",
      "  LM-Head-Weight-Norm: 14.828169822692871\n",
      "  index_no_updates-LM-Head-Weight-Norm: 636.0464477539062\n",
      "  LM-Head-Bias-Norm: 1.1033860445022583\n",
      "  index_no_updates-LM-Head-Bias-Norm: 200.17538452148438\n",
      "Epoch 65\n"
     ]
    },
    {
     "name": "stderr",
     "output_type": "stream",
     "text": [
      "100%|██████████| 48/48 [00:20<00:00,  2.30it/s]\n"
     ]
    },
    {
     "name": "stdout",
     "output_type": "stream",
     "text": [
      "Epoch 65 loss: 7.124063402414322, loss_t2i: 8.137532790501913, loss_mmu: 3.0701852589845657\n",
      "  Token-Norm: 25.070058822631836\n",
      "  index_no_updates-Token-Norm: 475.90191650390625\n",
      "  LM-Head-Weight-Norm: 14.758926391601562\n",
      "  index_no_updates-LM-Head-Weight-Norm: 636.0464477539062\n",
      "  LM-Head-Bias-Norm: 1.0982307195663452\n",
      "  index_no_updates-LM-Head-Bias-Norm: 200.17538452148438\n",
      "Epoch 66\n"
     ]
    },
    {
     "name": "stderr",
     "output_type": "stream",
     "text": [
      "100%|██████████| 48/48 [00:20<00:00,  2.30it/s]\n"
     ]
    },
    {
     "name": "stdout",
     "output_type": "stream",
     "text": [
      "Epoch 66 loss: 7.247274617354075, loss_t2i: 8.160946736733118, loss_mmu: 3.5925856828689575\n",
      "  Token-Norm: 25.13626480102539\n",
      "  index_no_updates-Token-Norm: 475.90191650390625\n",
      "  LM-Head-Weight-Norm: 14.679394721984863\n",
      "  index_no_updates-LM-Head-Weight-Norm: 636.0464477539062\n",
      "  LM-Head-Bias-Norm: 1.0936615467071533\n",
      "  index_no_updates-LM-Head-Bias-Norm: 200.17538452148438\n",
      "Epoch 67\n"
     ]
    },
    {
     "name": "stderr",
     "output_type": "stream",
     "text": [
      "100%|██████████| 48/48 [00:20<00:00,  2.30it/s]\n"
     ]
    },
    {
     "name": "stdout",
     "output_type": "stream",
     "text": [
      "Epoch 67 loss: 7.130293657382329, loss_t2i: 8.121182839075724, loss_mmu: 3.1667362451553345\n",
      "  Token-Norm: 25.348979949951172\n",
      "  index_no_updates-Token-Norm: 475.90191650390625\n",
      "  LM-Head-Weight-Norm: 14.616009712219238\n",
      "  index_no_updates-LM-Head-Weight-Norm: 636.0464477539062\n",
      "  LM-Head-Bias-Norm: 1.0886435508728027\n",
      "  index_no_updates-LM-Head-Bias-Norm: 200.17538452148438\n",
      "Epoch 68\n"
     ]
    },
    {
     "name": "stderr",
     "output_type": "stream",
     "text": [
      "100%|██████████| 48/48 [00:20<00:00,  2.30it/s]\n"
     ]
    },
    {
     "name": "stdout",
     "output_type": "stream",
     "text": [
      "Epoch 68 loss: 7.084809323151906, loss_t2i: 8.11127973596255, loss_mmu: 2.9789275377988815\n",
      "  Token-Norm: 25.3231201171875\n",
      "  index_no_updates-Token-Norm: 475.90191650390625\n",
      "  LM-Head-Weight-Norm: 14.547607421875\n",
      "  index_no_updates-LM-Head-Weight-Norm: 636.0464477539062\n",
      "  LM-Head-Bias-Norm: 1.0830761194229126\n",
      "  index_no_updates-LM-Head-Bias-Norm: 200.17538452148438\n",
      "Epoch 69\n"
     ]
    },
    {
     "name": "stderr",
     "output_type": "stream",
     "text": [
      "100%|██████████| 48/48 [00:20<00:00,  2.30it/s]\n"
     ]
    },
    {
     "name": "stdout",
     "output_type": "stream",
     "text": [
      "Epoch 69 loss: 7.037900269031525, loss_t2i: 8.073155760765076, loss_mmu: 2.896877775589625\n",
      "  Token-Norm: 25.268247604370117\n",
      "  index_no_updates-Token-Norm: 475.90191650390625\n",
      "  LM-Head-Weight-Norm: 14.48034954071045\n",
      "  index_no_updates-LM-Head-Weight-Norm: 636.0464477539062\n",
      "  LM-Head-Bias-Norm: 1.0777709484100342\n",
      "  index_no_updates-LM-Head-Bias-Norm: 200.17538452148438\n",
      "Epoch 70\n"
     ]
    },
    {
     "name": "stderr",
     "output_type": "stream",
     "text": [
      "100%|██████████| 48/48 [00:20<00:00,  2.30it/s]\n"
     ]
    },
    {
     "name": "stdout",
     "output_type": "stream",
     "text": [
      "Epoch 70 loss: 6.977181911468506, loss_t2i: 8.017594377199808, loss_mmu: 2.8155315021673837\n",
      "  Token-Norm: 25.24619483947754\n",
      "  index_no_updates-Token-Norm: 475.90191650390625\n",
      "  LM-Head-Weight-Norm: 14.41353988647461\n",
      "  index_no_updates-LM-Head-Weight-Norm: 636.0464477539062\n",
      "  LM-Head-Bias-Norm: 1.0728152990341187\n",
      "  index_no_updates-LM-Head-Bias-Norm: 200.17538452148438\n",
      "Epoch 71\n"
     ]
    },
    {
     "name": "stderr",
     "output_type": "stream",
     "text": [
      "100%|██████████| 48/48 [00:20<00:00,  2.29it/s]\n"
     ]
    },
    {
     "name": "stdout",
     "output_type": "stream",
     "text": [
      "Epoch 71 loss: 6.996980865796407, loss_t2i: 8.05286051829656, loss_mmu: 2.7734615206718445\n",
      "  Token-Norm: 25.310205459594727\n",
      "  index_no_updates-Token-Norm: 475.90191650390625\n",
      "  LM-Head-Weight-Norm: 14.347918510437012\n",
      "  index_no_updates-LM-Head-Weight-Norm: 636.0464477539062\n",
      "  LM-Head-Bias-Norm: 1.0676554441452026\n",
      "  index_no_updates-LM-Head-Bias-Norm: 200.17538452148438\n",
      "Epoch 72\n"
     ]
    },
    {
     "name": "stderr",
     "output_type": "stream",
     "text": [
      "100%|██████████| 48/48 [00:20<00:00,  2.30it/s]\n"
     ]
    },
    {
     "name": "stdout",
     "output_type": "stream",
     "text": [
      "Epoch 72 loss: 7.03707813223203, loss_t2i: 8.120871037244797, loss_mmu: 2.7019059658050537\n",
      "  Token-Norm: 25.482410430908203\n",
      "  index_no_updates-Token-Norm: 475.90191650390625\n",
      "  LM-Head-Weight-Norm: 14.282635688781738\n",
      "  index_no_updates-LM-Head-Weight-Norm: 636.0464477539062\n",
      "  LM-Head-Bias-Norm: 1.0627003908157349\n",
      "  index_no_updates-LM-Head-Bias-Norm: 200.17538452148438\n",
      "Epoch 73\n"
     ]
    },
    {
     "name": "stderr",
     "output_type": "stream",
     "text": [
      "100%|██████████| 48/48 [00:20<00:00,  2.29it/s]\n"
     ]
    },
    {
     "name": "stdout",
     "output_type": "stream",
     "text": [
      "Epoch 73 loss: 6.986692577600479, loss_t2i: 8.071338921785355, loss_mmu: 2.648106766243776\n",
      "  Token-Norm: 25.856277465820312\n",
      "  index_no_updates-Token-Norm: 475.90191650390625\n",
      "  LM-Head-Weight-Norm: 14.21785831451416\n",
      "  index_no_updates-LM-Head-Weight-Norm: 636.0464477539062\n",
      "  LM-Head-Bias-Norm: 1.0577692985534668\n",
      "  index_no_updates-LM-Head-Bias-Norm: 200.17538452148438\n",
      "Epoch 74\n"
     ]
    },
    {
     "name": "stderr",
     "output_type": "stream",
     "text": [
      "100%|██████████| 48/48 [00:20<00:00,  2.29it/s]\n"
     ]
    },
    {
     "name": "stdout",
     "output_type": "stream",
     "text": [
      "Epoch 74 loss: 6.977768083413442, loss_t2i: 8.068759590387344, loss_mmu: 2.613801675538222\n",
      "  Token-Norm: 26.364482879638672\n",
      "  index_no_updates-Token-Norm: 475.90191650390625\n",
      "  LM-Head-Weight-Norm: 14.153717994689941\n",
      "  index_no_updates-LM-Head-Weight-Norm: 636.0464477539062\n",
      "  LM-Head-Bias-Norm: 1.052801489830017\n",
      "  index_no_updates-LM-Head-Bias-Norm: 200.17538452148438\n",
      "Epoch 75\n"
     ]
    },
    {
     "name": "stderr",
     "output_type": "stream",
     "text": [
      "100%|██████████| 48/48 [00:20<00:00,  2.29it/s]\n"
     ]
    },
    {
     "name": "stdout",
     "output_type": "stream",
     "text": [
      "Epoch 75 loss: 6.936667998631795, loss_t2i: 8.03520879149437, loss_mmu: 2.5425043304761252\n",
      "  Token-Norm: 27.717041015625\n",
      "  index_no_updates-Token-Norm: 475.90191650390625\n",
      "  LM-Head-Weight-Norm: 14.089875221252441\n",
      "  index_no_updates-LM-Head-Weight-Norm: 636.0464477539062\n",
      "  LM-Head-Bias-Norm: 1.0479947328567505\n",
      "  index_no_updates-LM-Head-Bias-Norm: 200.17538452148438\n",
      "Epoch 76\n"
     ]
    },
    {
     "name": "stderr",
     "output_type": "stream",
     "text": [
      "100%|██████████| 48/48 [00:20<00:00,  2.30it/s]\n"
     ]
    },
    {
     "name": "stdout",
     "output_type": "stream",
     "text": [
      "Epoch 76 loss: 6.979634215434392, loss_t2i: 8.091482808192572, loss_mmu: 2.5322395687301955\n",
      "  Token-Norm: 28.79987335205078\n",
      "  index_no_updates-Token-Norm: 475.90191650390625\n",
      "  LM-Head-Weight-Norm: 14.027582168579102\n",
      "  index_no_updates-LM-Head-Weight-Norm: 636.0464477539062\n",
      "  LM-Head-Bias-Norm: 1.0428252220153809\n",
      "  index_no_updates-LM-Head-Bias-Norm: 200.17538452148438\n",
      "Epoch 77\n"
     ]
    },
    {
     "name": "stderr",
     "output_type": "stream",
     "text": [
      "100%|██████████| 48/48 [00:20<00:00,  2.30it/s]\n"
     ]
    },
    {
     "name": "stdout",
     "output_type": "stream",
     "text": [
      "Epoch 77 loss: 6.9662792682647705, loss_t2i: 8.081053594748179, loss_mmu: 2.5071812520424523\n",
      "  Token-Norm: 29.998228073120117\n",
      "  index_no_updates-Token-Norm: 475.90191650390625\n",
      "  LM-Head-Weight-Norm: 13.964673042297363\n",
      "  index_no_updates-LM-Head-Weight-Norm: 636.0464477539062\n",
      "  LM-Head-Bias-Norm: 1.037931203842163\n",
      "  index_no_updates-LM-Head-Bias-Norm: 200.17538452148438\n",
      "Epoch 78\n"
     ]
    },
    {
     "name": "stderr",
     "output_type": "stream",
     "text": [
      "100%|██████████| 48/48 [00:20<00:00,  2.29it/s]\n"
     ]
    },
    {
     "name": "stdout",
     "output_type": "stream",
     "text": [
      "Epoch 78 loss: 6.968024363120397, loss_t2i: 8.088867723941803, loss_mmu: 2.4846503709753356\n",
      "  Token-Norm: 30.591245651245117\n",
      "  index_no_updates-Token-Norm: 475.90191650390625\n",
      "  LM-Head-Weight-Norm: 13.902726173400879\n",
      "  index_no_updates-LM-Head-Weight-Norm: 636.0464477539062\n",
      "  LM-Head-Bias-Norm: 1.032645583152771\n",
      "  index_no_updates-LM-Head-Bias-Norm: 200.17538452148438\n",
      "Epoch 79\n"
     ]
    },
    {
     "name": "stderr",
     "output_type": "stream",
     "text": [
      "100%|██████████| 48/48 [00:20<00:00,  2.29it/s]\n"
     ]
    },
    {
     "name": "stdout",
     "output_type": "stream",
     "text": [
      "Epoch 79 loss: 6.9249100883801775, loss_t2i: 8.063150743643442, loss_mmu: 2.3719467371702194\n",
      "  Token-Norm: 31.475263595581055\n",
      "  index_no_updates-Token-Norm: 475.90191650390625\n",
      "  LM-Head-Weight-Norm: 13.840121269226074\n",
      "  index_no_updates-LM-Head-Weight-Norm: 636.0464477539062\n",
      "  LM-Head-Bias-Norm: 1.0282002687454224\n",
      "  index_no_updates-LM-Head-Bias-Norm: 200.17538452148438\n",
      "Epoch 80\n"
     ]
    },
    {
     "name": "stderr",
     "output_type": "stream",
     "text": [
      "100%|██████████| 48/48 [00:20<00:00,  2.29it/s]\n"
     ]
    },
    {
     "name": "stdout",
     "output_type": "stream",
     "text": [
      "Epoch 80 loss: 6.915484348932902, loss_t2i: 8.062464108069738, loss_mmu: 2.327564942340056\n",
      "  Token-Norm: 32.23976516723633\n",
      "  index_no_updates-Token-Norm: 475.90191650390625\n",
      "  LM-Head-Weight-Norm: 13.779500961303711\n",
      "  index_no_updates-LM-Head-Weight-Norm: 636.0464477539062\n",
      "  LM-Head-Bias-Norm: 1.0233442783355713\n",
      "  index_no_updates-LM-Head-Bias-Norm: 200.17538452148438\n",
      "Epoch 81\n"
     ]
    },
    {
     "name": "stderr",
     "output_type": "stream",
     "text": [
      "100%|██████████| 48/48 [00:20<00:00,  2.30it/s]\n"
     ]
    },
    {
     "name": "stdout",
     "output_type": "stream",
     "text": [
      "Epoch 81 loss: 6.927460938692093, loss_t2i: 8.085422098636627, loss_mmu: 2.2956159114837646\n",
      "  Token-Norm: 33.181575775146484\n",
      "  index_no_updates-Token-Norm: 475.90191650390625\n",
      "  LM-Head-Weight-Norm: 13.718730926513672\n",
      "  index_no_updates-LM-Head-Weight-Norm: 636.0464477539062\n",
      "  LM-Head-Bias-Norm: 1.0187925100326538\n",
      "  index_no_updates-LM-Head-Bias-Norm: 200.17538452148438\n",
      "Epoch 82\n"
     ]
    },
    {
     "name": "stderr",
     "output_type": "stream",
     "text": [
      "100%|██████████| 48/48 [00:20<00:00,  2.31it/s]\n"
     ]
    },
    {
     "name": "stdout",
     "output_type": "stream",
     "text": [
      "Epoch 82 loss: 6.937272588411967, loss_t2i: 8.109816799561182, loss_mmu: 2.2470953638354936\n",
      "  Token-Norm: 34.496299743652344\n",
      "  index_no_updates-Token-Norm: 475.90191650390625\n",
      "  LM-Head-Weight-Norm: 13.659082412719727\n",
      "  index_no_updates-LM-Head-Weight-Norm: 636.0464477539062\n",
      "  LM-Head-Bias-Norm: 1.0141956806182861\n",
      "  index_no_updates-LM-Head-Bias-Norm: 200.17538452148438\n",
      "Epoch 83\n"
     ]
    },
    {
     "name": "stderr",
     "output_type": "stream",
     "text": [
      "100%|██████████| 48/48 [00:20<00:00,  2.30it/s]\n"
     ]
    },
    {
     "name": "stdout",
     "output_type": "stream",
     "text": [
      "Epoch 83 loss: 6.913683623075485, loss_t2i: 8.080860416094461, loss_mmu: 2.24497606108586\n",
      "  Token-Norm: 36.987552642822266\n",
      "  index_no_updates-Token-Norm: 475.90191650390625\n",
      "  LM-Head-Weight-Norm: 13.599445343017578\n",
      "  index_no_updates-LM-Head-Weight-Norm: 636.0464477539062\n",
      "  LM-Head-Bias-Norm: 1.0095821619033813\n",
      "  index_no_updates-LM-Head-Bias-Norm: 200.17538452148438\n",
      "Epoch 84\n"
     ]
    },
    {
     "name": "stderr",
     "output_type": "stream",
     "text": [
      "100%|██████████| 48/48 [00:20<00:00,  2.29it/s]\n"
     ]
    },
    {
     "name": "stdout",
     "output_type": "stream",
     "text": [
      "Epoch 84 loss: 6.881568868954976, loss_t2i: 8.02518997589747, loss_mmu: 2.307084066172441\n",
      "  Token-Norm: 40.34861755371094\n",
      "  index_no_updates-Token-Norm: 475.90191650390625\n",
      "  LM-Head-Weight-Norm: 13.541482925415039\n",
      "  index_no_updates-LM-Head-Weight-Norm: 636.0464477539062\n",
      "  LM-Head-Bias-Norm: 1.004733681678772\n",
      "  index_no_updates-LM-Head-Bias-Norm: 200.17538452148438\n",
      "Epoch 85\n"
     ]
    },
    {
     "name": "stderr",
     "output_type": "stream",
     "text": [
      "100%|██████████| 48/48 [00:20<00:00,  2.30it/s]\n"
     ]
    },
    {
     "name": "stdout",
     "output_type": "stream",
     "text": [
      "Epoch 85 loss: 7.621260831753413, loss_t2i: 8.363426138957342, loss_mmu: 4.65259924530983\n",
      "  Token-Norm: 44.339698791503906\n",
      "  index_no_updates-Token-Norm: 475.90191650390625\n",
      "  LM-Head-Weight-Norm: 13.439655303955078\n",
      "  index_no_updates-LM-Head-Weight-Norm: 636.0464477539062\n",
      "  LM-Head-Bias-Norm: 0.9958420991897583\n",
      "  index_no_updates-LM-Head-Bias-Norm: 200.17538452148438\n",
      "Epoch 86\n"
     ]
    },
    {
     "name": "stderr",
     "output_type": "stream",
     "text": [
      "100%|██████████| 48/48 [00:20<00:00,  2.30it/s]\n"
     ]
    },
    {
     "name": "stdout",
     "output_type": "stream",
     "text": [
      "Epoch 86 loss: 7.074240495761235, loss_t2i: 8.139461398124695, loss_mmu: 2.8133563175797462\n",
      "  Token-Norm: 45.335262298583984\n",
      "  index_no_updates-Token-Norm: 475.90191650390625\n",
      "  LM-Head-Weight-Norm: 13.399426460266113\n",
      "  index_no_updates-LM-Head-Weight-Norm: 636.0464477539062\n",
      "  LM-Head-Bias-Norm: 0.9920075535774231\n",
      "  index_no_updates-LM-Head-Bias-Norm: 200.17538452148438\n",
      "Epoch 87\n"
     ]
    },
    {
     "name": "stderr",
     "output_type": "stream",
     "text": [
      "100%|██████████| 48/48 [00:20<00:00,  2.29it/s]\n"
     ]
    },
    {
     "name": "stdout",
     "output_type": "stream",
     "text": [
      "Epoch 87 loss: 6.970055470863978, loss_t2i: 8.08204871416092, loss_mmu: 2.522081988553206\n",
      "  Token-Norm: 45.4487190246582\n",
      "  index_no_updates-Token-Norm: 475.90191650390625\n",
      "  LM-Head-Weight-Norm: 13.346549034118652\n",
      "  index_no_updates-LM-Head-Weight-Norm: 636.0464477539062\n",
      "  LM-Head-Bias-Norm: 0.9878353476524353\n",
      "  index_no_updates-LM-Head-Bias-Norm: 200.17538452148438\n",
      "Epoch 88\n"
     ]
    },
    {
     "name": "stderr",
     "output_type": "stream",
     "text": [
      "100%|██████████| 48/48 [00:20<00:00,  2.29it/s]\n"
     ]
    },
    {
     "name": "stdout",
     "output_type": "stream",
     "text": [
      "Epoch 88 loss: 6.943551550308864, loss_t2i: 8.08209420243899, loss_mmu: 2.3893806462486586\n",
      "  Token-Norm: 45.80156326293945\n",
      "  index_no_updates-Token-Norm: 475.90191650390625\n",
      "  LM-Head-Weight-Norm: 13.29959774017334\n",
      "  index_no_updates-LM-Head-Weight-Norm: 636.0464477539062\n",
      "  LM-Head-Bias-Norm: 0.9830363392829895\n",
      "  index_no_updates-LM-Head-Bias-Norm: 200.17538452148438\n",
      "Epoch 89\n"
     ]
    },
    {
     "name": "stderr",
     "output_type": "stream",
     "text": [
      "100%|██████████| 48/48 [00:20<00:00,  2.29it/s]\n"
     ]
    },
    {
     "name": "stdout",
     "output_type": "stream",
     "text": [
      "Epoch 89 loss: 6.912873486677806, loss_t2i: 8.060096750656763, loss_mmu: 2.3239800284306207\n",
      "  Token-Norm: 46.35676193237305\n",
      "  index_no_updates-Token-Norm: 475.90191650390625\n",
      "  LM-Head-Weight-Norm: 13.253681182861328\n",
      "  index_no_updates-LM-Head-Weight-Norm: 636.0464477539062\n",
      "  LM-Head-Bias-Norm: 0.9795443415641785\n",
      "  index_no_updates-LM-Head-Bias-Norm: 200.17538452148438\n",
      "Epoch 90\n"
     ]
    },
    {
     "name": "stderr",
     "output_type": "stream",
     "text": [
      "100%|██████████| 48/48 [00:20<00:00,  2.29it/s]\n"
     ]
    },
    {
     "name": "stdout",
     "output_type": "stream",
     "text": [
      "Epoch 90 loss: 6.8822576105594635, loss_t2i: 8.035156816244125, loss_mmu: 2.270660209159056\n",
      "  Token-Norm: 46.899322509765625\n",
      "  index_no_updates-Token-Norm: 475.90191650390625\n",
      "  LM-Head-Weight-Norm: 13.200599670410156\n",
      "  index_no_updates-LM-Head-Weight-Norm: 636.0464477539062\n",
      "  LM-Head-Bias-Norm: 0.9751623272895813\n",
      "  index_no_updates-LM-Head-Bias-Norm: 200.17538452148438\n",
      "Epoch 91\n"
     ]
    },
    {
     "name": "stderr",
     "output_type": "stream",
     "text": [
      "100%|██████████| 48/48 [00:20<00:00,  2.30it/s]\n"
     ]
    },
    {
     "name": "stdout",
     "output_type": "stream",
     "text": [
      "Epoch 91 loss: 6.904372930526733, loss_t2i: 8.062516043583551, loss_mmu: 2.2718001330892243\n",
      "  Token-Norm: 47.823856353759766\n",
      "  index_no_updates-Token-Norm: 475.90191650390625\n",
      "  LM-Head-Weight-Norm: 13.153745651245117\n",
      "  index_no_updates-LM-Head-Weight-Norm: 636.0464477539062\n",
      "  LM-Head-Bias-Norm: 0.9706076979637146\n",
      "  index_no_updates-LM-Head-Bias-Norm: 200.17538452148438\n",
      "Epoch 92\n"
     ]
    },
    {
     "name": "stderr",
     "output_type": "stream",
     "text": [
      "100%|██████████| 48/48 [00:20<00:00,  2.30it/s]\n"
     ]
    },
    {
     "name": "stdout",
     "output_type": "stream",
     "text": [
      "Epoch 92 loss: 6.862288902203242, loss_t2i: 8.028508832057318, loss_mmu: 2.1974088872472444\n",
      "  Token-Norm: 49.07587814331055\n",
      "  index_no_updates-Token-Norm: 475.90191650390625\n",
      "  LM-Head-Weight-Norm: 13.102005958557129\n",
      "  index_no_updates-LM-Head-Weight-Norm: 636.0464477539062\n",
      "  LM-Head-Bias-Norm: 0.9665385484695435\n",
      "  index_no_updates-LM-Head-Bias-Norm: 200.17538452148438\n",
      "Epoch 93\n"
     ]
    },
    {
     "name": "stderr",
     "output_type": "stream",
     "text": [
      "100%|██████████| 48/48 [00:20<00:00,  2.30it/s]\n"
     ]
    },
    {
     "name": "stdout",
     "output_type": "stream",
     "text": [
      "Epoch 93 loss: 6.886916399002075, loss_t2i: 8.04565054178238, loss_mmu: 2.251979341109594\n",
      "  Token-Norm: 50.5617561340332\n",
      "  index_no_updates-Token-Norm: 475.90191650390625\n",
      "  LM-Head-Weight-Norm: 13.046346664428711\n",
      "  index_no_updates-LM-Head-Weight-Norm: 636.0464477539062\n",
      "  LM-Head-Bias-Norm: 0.961997389793396\n",
      "  index_no_updates-LM-Head-Bias-Norm: 200.17538452148438\n",
      "Epoch 94\n"
     ]
    },
    {
     "name": "stderr",
     "output_type": "stream",
     "text": [
      "100%|██████████| 48/48 [00:20<00:00,  2.29it/s]\n"
     ]
    },
    {
     "name": "stdout",
     "output_type": "stream",
     "text": [
      "Epoch 94 loss: 6.847931146621704, loss_t2i: 8.02557705839475, loss_mmu: 2.1373471344510713\n",
      "  Token-Norm: 51.46027374267578\n",
      "  index_no_updates-Token-Norm: 475.90191650390625\n",
      "  LM-Head-Weight-Norm: 12.994990348815918\n",
      "  index_no_updates-LM-Head-Weight-Norm: 636.0464477539062\n",
      "  LM-Head-Bias-Norm: 0.9573250412940979\n",
      "  index_no_updates-LM-Head-Bias-Norm: 200.17538452148438\n",
      "Epoch 95\n"
     ]
    },
    {
     "name": "stderr",
     "output_type": "stream",
     "text": [
      "100%|██████████| 48/48 [00:20<00:00,  2.29it/s]\n"
     ]
    },
    {
     "name": "stdout",
     "output_type": "stream",
     "text": [
      "Epoch 95 loss: 6.849728186925252, loss_t2i: 8.027865678071976, loss_mmu: 2.1371775195002556\n",
      "  Token-Norm: 52.85623550415039\n",
      "  index_no_updates-Token-Norm: 475.90191650390625\n",
      "  LM-Head-Weight-Norm: 12.940752029418945\n",
      "  index_no_updates-LM-Head-Weight-Norm: 636.0464477539062\n",
      "  LM-Head-Bias-Norm: 0.952927827835083\n",
      "  index_no_updates-LM-Head-Bias-Norm: 200.17538452148438\n",
      "Epoch 96\n"
     ]
    },
    {
     "name": "stderr",
     "output_type": "stream",
     "text": [
      "100%|██████████| 48/48 [00:20<00:00,  2.30it/s]\n"
     ]
    },
    {
     "name": "stdout",
     "output_type": "stream",
     "text": [
      "Epoch 96 loss: 6.828349471092224, loss_t2i: 8.022865682840347, loss_mmu: 2.0502839808662734\n",
      "  Token-Norm: 53.76259231567383\n",
      "  index_no_updates-Token-Norm: 475.90191650390625\n",
      "  LM-Head-Weight-Norm: 12.885242462158203\n",
      "  index_no_updates-LM-Head-Weight-Norm: 636.0464477539062\n",
      "  LM-Head-Bias-Norm: 0.9485701322555542\n",
      "  index_no_updates-LM-Head-Bias-Norm: 200.17538452148438\n",
      "Epoch 97\n"
     ]
    },
    {
     "name": "stderr",
     "output_type": "stream",
     "text": [
      "100%|██████████| 48/48 [00:20<00:00,  2.29it/s]\n"
     ]
    },
    {
     "name": "stdout",
     "output_type": "stream",
     "text": [
      "Epoch 97 loss: 6.857771138350169, loss_t2i: 8.077137817939123, loss_mmu: 1.9803041194876034\n",
      "  Token-Norm: 54.71633529663086\n",
      "  index_no_updates-Token-Norm: 475.90191650390625\n",
      "  LM-Head-Weight-Norm: 12.830612182617188\n",
      "  index_no_updates-LM-Head-Weight-Norm: 636.0464477539062\n",
      "  LM-Head-Bias-Norm: 0.9441001415252686\n",
      "  index_no_updates-LM-Head-Bias-Norm: 200.17538452148438\n",
      "Epoch 98\n"
     ]
    },
    {
     "name": "stderr",
     "output_type": "stream",
     "text": [
      "100%|██████████| 48/48 [00:20<00:00,  2.29it/s]\n"
     ]
    },
    {
     "name": "stdout",
     "output_type": "stream",
     "text": [
      "Epoch 98 loss: 6.881348629792531, loss_t2i: 8.09593641757965, loss_mmu: 2.0229969521363578\n",
      "  Token-Norm: 55.899681091308594\n",
      "  index_no_updates-Token-Norm: 475.90191650390625\n",
      "  LM-Head-Weight-Norm: 12.776533126831055\n",
      "  index_no_updates-LM-Head-Weight-Norm: 636.0464477539062\n",
      "  LM-Head-Bias-Norm: 0.9394505023956299\n",
      "  index_no_updates-LM-Head-Bias-Norm: 200.17538452148438\n",
      "Epoch 99\n"
     ]
    },
    {
     "name": "stderr",
     "output_type": "stream",
     "text": [
      "100%|██████████| 48/48 [00:20<00:00,  2.29it/s]\n"
     ]
    },
    {
     "name": "stdout",
     "output_type": "stream",
     "text": [
      "Epoch 99 loss: 6.895149578650792, loss_t2i: 8.106335947910944, loss_mmu: 2.0504035154978433\n",
      "  Token-Norm: 57.391170501708984\n",
      "  index_no_updates-Token-Norm: 475.90191650390625\n",
      "  LM-Head-Weight-Norm: 12.722235679626465\n",
      "  index_no_updates-LM-Head-Weight-Norm: 636.0464477539062\n",
      "  LM-Head-Bias-Norm: 0.9350435733795166\n",
      "  index_no_updates-LM-Head-Bias-Norm: 200.17538452148438\n",
      "Epoch 100\n"
     ]
    },
    {
     "name": "stderr",
     "output_type": "stream",
     "text": [
      "100%|██████████| 48/48 [00:20<00:00,  2.30it/s]\n"
     ]
    },
    {
     "name": "stdout",
     "output_type": "stream",
     "text": [
      "Epoch 100 loss: 6.799709568421046, loss_t2i: 8.007088919480642, loss_mmu: 1.9701913545529048\n",
      "  Token-Norm: 59.136512756347656\n",
      "  index_no_updates-Token-Norm: 475.90191650390625\n",
      "  LM-Head-Weight-Norm: 12.66917896270752\n",
      "  index_no_updates-LM-Head-Weight-Norm: 636.0464477539062\n",
      "  LM-Head-Bias-Norm: 0.9310660362243652\n",
      "  index_no_updates-LM-Head-Bias-Norm: 200.17538452148438\n",
      "Epoch 101\n"
     ]
    },
    {
     "name": "stderr",
     "output_type": "stream",
     "text": [
      "100%|██████████| 48/48 [00:20<00:00,  2.30it/s]\n"
     ]
    },
    {
     "name": "stdout",
     "output_type": "stream",
     "text": [
      "Epoch 101 loss: 6.805187404155731, loss_t2i: 8.036131183306376, loss_mmu: 1.881411741177241\n",
      "  Token-Norm: 60.00718688964844\n",
      "  index_no_updates-Token-Norm: 475.90191650390625\n",
      "  LM-Head-Weight-Norm: 12.617263793945312\n",
      "  index_no_updates-LM-Head-Weight-Norm: 636.0464477539062\n",
      "  LM-Head-Bias-Norm: 0.9269139170646667\n",
      "  index_no_updates-LM-Head-Bias-Norm: 200.17538452148438\n",
      "Epoch 102\n"
     ]
    },
    {
     "name": "stderr",
     "output_type": "stream",
     "text": [
      "100%|██████████| 48/48 [00:20<00:00,  2.30it/s]\n"
     ]
    },
    {
     "name": "stdout",
     "output_type": "stream",
     "text": [
      "Epoch 102 loss: 6.85394416252772, loss_t2i: 8.089621553818384, loss_mmu: 1.9112339441974957\n",
      "  Token-Norm: 61.1043815612793\n",
      "  index_no_updates-Token-Norm: 475.90191650390625\n",
      "  LM-Head-Weight-Norm: 12.568216323852539\n",
      "  index_no_updates-LM-Head-Weight-Norm: 636.0464477539062\n",
      "  LM-Head-Bias-Norm: 0.9225580096244812\n",
      "  index_no_updates-LM-Head-Bias-Norm: 200.17538452148438\n",
      "Epoch 103\n"
     ]
    },
    {
     "name": "stderr",
     "output_type": "stream",
     "text": [
      "100%|██████████| 48/48 [00:20<00:00,  2.30it/s]\n"
     ]
    },
    {
     "name": "stdout",
     "output_type": "stream",
     "text": [
      "Epoch 103 loss: 6.835430880387624, loss_t2i: 8.073386192321777, loss_mmu: 1.8836092179020245\n",
      "  Token-Norm: 63.395408630371094\n",
      "  index_no_updates-Token-Norm: 475.90191650390625\n",
      "  LM-Head-Weight-Norm: 12.517241477966309\n",
      "  index_no_updates-LM-Head-Weight-Norm: 636.0464477539062\n",
      "  LM-Head-Bias-Norm: 0.9182079434394836\n",
      "  index_no_updates-LM-Head-Bias-Norm: 200.17538452148438\n",
      "Epoch 104\n"
     ]
    },
    {
     "name": "stderr",
     "output_type": "stream",
     "text": [
      "100%|██████████| 48/48 [00:20<00:00,  2.30it/s]\n"
     ]
    },
    {
     "name": "stdout",
     "output_type": "stream",
     "text": [
      "Epoch 104 loss: 6.791562924782435, loss_t2i: 8.03755979736646, loss_mmu: 1.8075749451915424\n",
      "  Token-Norm: 64.33905029296875\n",
      "  index_no_updates-Token-Norm: 475.90191650390625\n",
      "  LM-Head-Weight-Norm: 12.4649076461792\n",
      "  index_no_updates-LM-Head-Weight-Norm: 636.0464477539062\n",
      "  LM-Head-Bias-Norm: 0.9137971997261047\n",
      "  index_no_updates-LM-Head-Bias-Norm: 200.17538452148438\n",
      "Epoch 105\n"
     ]
    },
    {
     "name": "stderr",
     "output_type": "stream",
     "text": [
      "100%|██████████| 48/48 [00:20<00:00,  2.30it/s]\n"
     ]
    },
    {
     "name": "stdout",
     "output_type": "stream",
     "text": [
      "Epoch 105 loss: 6.803349862496058, loss_t2i: 8.053153137365976, loss_mmu: 1.804136022925377\n",
      "  Token-Norm: 65.8409423828125\n",
      "  index_no_updates-Token-Norm: 475.90191650390625\n",
      "  LM-Head-Weight-Norm: 12.414203643798828\n",
      "  index_no_updates-LM-Head-Weight-Norm: 636.0464477539062\n",
      "  LM-Head-Bias-Norm: 0.9098901748657227\n",
      "  index_no_updates-LM-Head-Bias-Norm: 200.17538452148438\n",
      "Epoch 106\n"
     ]
    },
    {
     "name": "stderr",
     "output_type": "stream",
     "text": [
      "100%|██████████| 48/48 [00:20<00:00,  2.29it/s]\n"
     ]
    },
    {
     "name": "stdout",
     "output_type": "stream",
     "text": [
      "Epoch 106 loss: 6.847602307796478, loss_t2i: 8.044571548700333, loss_mmu: 2.0597249368826547\n",
      "  Token-Norm: 68.86734771728516\n",
      "  index_no_updates-Token-Norm: 475.90191650390625\n",
      "  LM-Head-Weight-Norm: 12.366707801818848\n",
      "  index_no_updates-LM-Head-Weight-Norm: 636.0464477539062\n",
      "  LM-Head-Bias-Norm: 0.9072664380073547\n",
      "  index_no_updates-LM-Head-Bias-Norm: 200.17538452148438\n",
      "Epoch 107\n"
     ]
    },
    {
     "name": "stderr",
     "output_type": "stream",
     "text": [
      "100%|██████████| 48/48 [00:20<00:00,  2.29it/s]\n"
     ]
    },
    {
     "name": "stdout",
     "output_type": "stream",
     "text": [
      "Epoch 107 loss: 6.860886712869008, loss_t2i: 8.063048442204794, loss_mmu: 2.0522394503156343\n",
      "  Token-Norm: 70.48419952392578\n",
      "  index_no_updates-Token-Norm: 475.90191650390625\n",
      "  LM-Head-Weight-Norm: 12.321935653686523\n",
      "  index_no_updates-LM-Head-Weight-Norm: 636.0464477539062\n",
      "  LM-Head-Bias-Norm: 0.9011537432670593\n",
      "  index_no_updates-LM-Head-Bias-Norm: 200.17538452148438\n",
      "Epoch 108\n"
     ]
    },
    {
     "name": "stderr",
     "output_type": "stream",
     "text": [
      "100%|██████████| 48/48 [00:20<00:00,  2.30it/s]\n"
     ]
    },
    {
     "name": "stdout",
     "output_type": "stream",
     "text": [
      "Epoch 108 loss: 6.807801554600398, loss_t2i: 8.034542322158813, loss_mmu: 1.9008381143212318\n",
      "  Token-Norm: 71.81793975830078\n",
      "  index_no_updates-Token-Norm: 475.90191650390625\n",
      "  LM-Head-Weight-Norm: 12.267535209655762\n",
      "  index_no_updates-LM-Head-Weight-Norm: 636.0464477539062\n",
      "  LM-Head-Bias-Norm: 0.898316502571106\n",
      "  index_no_updates-LM-Head-Bias-Norm: 200.17538452148438\n",
      "Epoch 109\n"
     ]
    },
    {
     "name": "stderr",
     "output_type": "stream",
     "text": [
      "100%|██████████| 48/48 [00:20<00:00,  2.29it/s]\n"
     ]
    },
    {
     "name": "stdout",
     "output_type": "stream",
     "text": [
      "Epoch 109 loss: 6.819710503021876, loss_t2i: 8.056735187768936, loss_mmu: 1.871611165503661\n",
      "  Token-Norm: 72.53639221191406\n",
      "  index_no_updates-Token-Norm: 475.90191650390625\n",
      "  LM-Head-Weight-Norm: 12.216475486755371\n",
      "  index_no_updates-LM-Head-Weight-Norm: 636.0464477539062\n",
      "  LM-Head-Bias-Norm: 0.8946409225463867\n",
      "  index_no_updates-LM-Head-Bias-Norm: 200.17538452148438\n",
      "Epoch 110\n"
     ]
    },
    {
     "name": "stderr",
     "output_type": "stream",
     "text": [
      "100%|██████████| 48/48 [00:20<00:00,  2.29it/s]\n"
     ]
    },
    {
     "name": "stdout",
     "output_type": "stream",
     "text": [
      "Epoch 110 loss: 6.74763552347819, loss_t2i: 7.993873119354248, loss_mmu: 1.7626844843228657\n",
      "  Token-Norm: 73.44625091552734\n",
      "  index_no_updates-Token-Norm: 475.90191650390625\n",
      "  LM-Head-Weight-Norm: 12.165635108947754\n",
      "  index_no_updates-LM-Head-Weight-Norm: 636.0464477539062\n",
      "  LM-Head-Bias-Norm: 0.8901683688163757\n",
      "  index_no_updates-LM-Head-Bias-Norm: 200.17538452148438\n",
      "Epoch 111\n"
     ]
    },
    {
     "name": "stderr",
     "output_type": "stream",
     "text": [
      "100%|██████████| 48/48 [00:20<00:00,  2.30it/s]\n"
     ]
    },
    {
     "name": "stdout",
     "output_type": "stream",
     "text": [
      "Epoch 111 loss: 6.8554457028706866, loss_t2i: 8.073199301958084, loss_mmu: 1.9844308917721112\n",
      "  Token-Norm: 74.52228546142578\n",
      "  index_no_updates-Token-Norm: 475.90191650390625\n",
      "  LM-Head-Weight-Norm: 12.121428489685059\n",
      "  index_no_updates-LM-Head-Weight-Norm: 636.0464477539062\n",
      "  LM-Head-Bias-Norm: 0.8856784701347351\n",
      "  index_no_updates-LM-Head-Bias-Norm: 200.17538452148438\n",
      "Epoch 112\n"
     ]
    },
    {
     "name": "stderr",
     "output_type": "stream",
     "text": [
      "100%|██████████| 48/48 [00:20<00:00,  2.30it/s]\n"
     ]
    },
    {
     "name": "stdout",
     "output_type": "stream",
     "text": [
      "Epoch 112 loss: 6.748820722103119, loss_t2i: 7.976992090543111, loss_mmu: 1.8361345554391544\n",
      "  Token-Norm: 75.56472778320312\n",
      "  index_no_updates-Token-Norm: 475.90191650390625\n",
      "  LM-Head-Weight-Norm: 12.067829132080078\n",
      "  index_no_updates-LM-Head-Weight-Norm: 636.0464477539062\n",
      "  LM-Head-Bias-Norm: 0.8812661170959473\n",
      "  index_no_updates-LM-Head-Bias-Norm: 200.17538452148438\n",
      "Epoch 113\n"
     ]
    },
    {
     "name": "stderr",
     "output_type": "stream",
     "text": [
      "100%|██████████| 48/48 [00:20<00:00,  2.31it/s]\n"
     ]
    },
    {
     "name": "stdout",
     "output_type": "stream",
     "text": [
      "Epoch 113 loss: 6.726895143588384, loss_t2i: 8.003199170033136, loss_mmu: 1.6216785808404286\n",
      "  Token-Norm: 76.06278228759766\n",
      "  index_no_updates-Token-Norm: 475.90191650390625\n",
      "  LM-Head-Weight-Norm: 12.01384162902832\n",
      "  index_no_updates-LM-Head-Weight-Norm: 636.0464477539062\n",
      "  LM-Head-Bias-Norm: 0.8772501349449158\n",
      "  index_no_updates-LM-Head-Bias-Norm: 200.17538452148438\n",
      "Epoch 114\n"
     ]
    },
    {
     "name": "stderr",
     "output_type": "stream",
     "text": [
      "100%|██████████| 48/48 [00:20<00:00,  2.30it/s]\n"
     ]
    },
    {
     "name": "stdout",
     "output_type": "stream",
     "text": [
      "Epoch 114 loss: 6.642565121253331, loss_t2i: 7.899004568656285, loss_mmu: 1.6168069106837113\n",
      "  Token-Norm: 76.6508560180664\n",
      "  index_no_updates-Token-Norm: 475.90191650390625\n",
      "  LM-Head-Weight-Norm: 11.947857856750488\n",
      "  index_no_updates-LM-Head-Weight-Norm: 636.0464477539062\n",
      "  LM-Head-Bias-Norm: 0.8727392554283142\n",
      "  index_no_updates-LM-Head-Bias-Norm: 200.17538452148438\n",
      "Epoch 115\n"
     ]
    },
    {
     "name": "stderr",
     "output_type": "stream",
     "text": [
      "100%|██████████| 48/48 [00:20<00:00,  2.30it/s]\n"
     ]
    },
    {
     "name": "stdout",
     "output_type": "stream",
     "text": [
      "Epoch 115 loss: 8.681488186120987, loss_t2i: 8.278830895821253, loss_mmu: 10.292116815845171\n",
      "  Token-Norm: 79.05474090576172\n",
      "  index_no_updates-Token-Norm: 475.90191650390625\n",
      "  LM-Head-Weight-Norm: 12.745149612426758\n",
      "  index_no_updates-LM-Head-Weight-Norm: 636.0464477539062\n",
      "  LM-Head-Bias-Norm: 0.9242942333221436\n",
      "  index_no_updates-LM-Head-Bias-Norm: 200.17538452148438\n",
      "Epoch 116\n"
     ]
    },
    {
     "name": "stderr",
     "output_type": "stream",
     "text": [
      "100%|██████████| 48/48 [00:20<00:00,  2.29it/s]\n"
     ]
    },
    {
     "name": "stdout",
     "output_type": "stream",
     "text": [
      "Epoch 116 loss: 11.731374084949493, loss_t2i: 8.87183345357577, loss_mmu: 23.169535567363102\n",
      "  Token-Norm: 80.40349578857422\n",
      "  index_no_updates-Token-Norm: 475.90191650390625\n",
      "  LM-Head-Weight-Norm: 13.889830589294434\n",
      "  index_no_updates-LM-Head-Weight-Norm: 636.0464477539062\n",
      "  LM-Head-Bias-Norm: 0.9662200212478638\n",
      "  index_no_updates-LM-Head-Bias-Norm: 200.17538452148438\n",
      "Epoch 117\n"
     ]
    },
    {
     "name": "stderr",
     "output_type": "stream",
     "text": [
      "100%|██████████| 48/48 [00:20<00:00,  2.29it/s]\n"
     ]
    },
    {
     "name": "stdout",
     "output_type": "stream",
     "text": [
      "Epoch 117 loss: 11.857768873373667, loss_t2i: 8.26800168553988, loss_mmu: 26.21683657169342\n",
      "  Token-Norm: 80.31900024414062\n",
      "  index_no_updates-Token-Norm: 475.90191650390625\n",
      "  LM-Head-Weight-Norm: 12.6360502243042\n",
      "  index_no_updates-LM-Head-Weight-Norm: 636.0464477539062\n",
      "  LM-Head-Bias-Norm: 1.002785563468933\n",
      "  index_no_updates-LM-Head-Bias-Norm: 200.17538452148438\n",
      "Epoch 118\n"
     ]
    },
    {
     "name": "stderr",
     "output_type": "stream",
     "text": [
      "100%|██████████| 48/48 [00:20<00:00,  2.30it/s]\n"
     ]
    },
    {
     "name": "stdout",
     "output_type": "stream",
     "text": [
      "Epoch 118 loss: 8.993486603101095, loss_t2i: 8.19385767976443, loss_mmu: 12.192001312971115\n",
      "  Token-Norm: 79.97252655029297\n",
      "  index_no_updates-Token-Norm: 475.90191650390625\n",
      "  LM-Head-Weight-Norm: 12.172016143798828\n",
      "  index_no_updates-LM-Head-Weight-Norm: 636.0464477539062\n",
      "  LM-Head-Bias-Norm: 0.9631059765815735\n",
      "  index_no_updates-LM-Head-Bias-Norm: 200.17538452148438\n",
      "Epoch 119\n"
     ]
    },
    {
     "name": "stderr",
     "output_type": "stream",
     "text": [
      "100%|██████████| 48/48 [00:21<00:00,  2.28it/s]\n"
     ]
    },
    {
     "name": "stdout",
     "output_type": "stream",
     "text": [
      "Epoch 119 loss: 8.21965636809667, loss_t2i: 8.159412006537119, loss_mmu: 8.460633317629496\n",
      "  Token-Norm: 79.59700012207031\n",
      "  index_no_updates-Token-Norm: 475.90191650390625\n",
      "  LM-Head-Weight-Norm: 12.05583381652832\n",
      "  index_no_updates-LM-Head-Weight-Norm: 636.0464477539062\n",
      "  LM-Head-Bias-Norm: 0.9200453162193298\n",
      "  index_no_updates-LM-Head-Bias-Norm: 200.17538452148438\n",
      "Epoch 120\n"
     ]
    },
    {
     "name": "stderr",
     "output_type": "stream",
     "text": [
      "100%|██████████| 48/48 [00:20<00:00,  2.29it/s]\n"
     ]
    },
    {
     "name": "stdout",
     "output_type": "stream",
     "text": [
      "Epoch 120 loss: 7.754716446002324, loss_t2i: 8.158512940009436, loss_mmu: 6.139529635508855\n",
      "  Token-Norm: 79.25090026855469\n",
      "  index_no_updates-Token-Norm: 475.90191650390625\n",
      "  LM-Head-Weight-Norm: 11.91607666015625\n",
      "  index_no_updates-LM-Head-Weight-Norm: 636.0464477539062\n",
      "  LM-Head-Bias-Norm: 0.9201977252960205\n",
      "  index_no_updates-LM-Head-Bias-Norm: 200.17538452148438\n",
      "Epoch 121\n"
     ]
    },
    {
     "name": "stderr",
     "output_type": "stream",
     "text": [
      "100%|██████████| 48/48 [00:20<00:00,  2.30it/s]\n"
     ]
    },
    {
     "name": "stdout",
     "output_type": "stream",
     "text": [
      "Epoch 121 loss: 7.677590837081273, loss_t2i: 8.164068847894669, loss_mmu: 5.731678267319997\n",
      "  Token-Norm: 78.8958511352539\n",
      "  index_no_updates-Token-Norm: 475.90191650390625\n",
      "  LM-Head-Weight-Norm: 11.859827041625977\n",
      "  index_no_updates-LM-Head-Weight-Norm: 636.0464477539062\n",
      "  LM-Head-Bias-Norm: 0.9093326926231384\n",
      "  index_no_updates-LM-Head-Bias-Norm: 200.17538452148438\n",
      "Epoch 122\n"
     ]
    },
    {
     "name": "stderr",
     "output_type": "stream",
     "text": [
      "100%|██████████| 48/48 [00:20<00:00,  2.30it/s]\n"
     ]
    },
    {
     "name": "stdout",
     "output_type": "stream",
     "text": [
      "Epoch 122 loss: 7.78411387403806, loss_t2i: 8.199560672044754, loss_mmu: 6.122326175371806\n",
      "  Token-Norm: 78.54850769042969\n",
      "  index_no_updates-Token-Norm: 475.90191650390625\n",
      "  LM-Head-Weight-Norm: 11.723384857177734\n",
      "  index_no_updates-LM-Head-Weight-Norm: 636.0464477539062\n",
      "  LM-Head-Bias-Norm: 0.9086171388626099\n",
      "  index_no_updates-LM-Head-Bias-Norm: 200.17538452148438\n",
      "Epoch 123\n"
     ]
    },
    {
     "name": "stderr",
     "output_type": "stream",
     "text": [
      "100%|██████████| 48/48 [00:20<00:00,  2.30it/s]\n"
     ]
    },
    {
     "name": "stdout",
     "output_type": "stream",
     "text": [
      "Epoch 123 loss: 7.823312213023503, loss_t2i: 8.143939803044, loss_mmu: 6.540801256895065\n",
      "  Token-Norm: 78.2699203491211\n",
      "  index_no_updates-Token-Norm: 475.90191650390625\n",
      "  LM-Head-Weight-Norm: 11.64596176147461\n",
      "  index_no_updates-LM-Head-Weight-Norm: 636.0464477539062\n",
      "  LM-Head-Bias-Norm: 0.8959476351737976\n",
      "  index_no_updates-LM-Head-Bias-Norm: 200.17538452148438\n",
      "Epoch 124\n"
     ]
    },
    {
     "name": "stderr",
     "output_type": "stream",
     "text": [
      "100%|██████████| 48/48 [00:21<00:00,  2.28it/s]\n"
     ]
    },
    {
     "name": "stdout",
     "output_type": "stream",
     "text": [
      "Epoch 124 loss: 7.628392388423284, loss_t2i: 8.146947065989176, loss_mmu: 5.5541729380687075\n",
      "  Token-Norm: 77.97882843017578\n",
      "  index_no_updates-Token-Norm: 475.90191650390625\n",
      "  LM-Head-Weight-Norm: 11.562573432922363\n",
      "  index_no_updates-LM-Head-Weight-Norm: 636.0464477539062\n",
      "  LM-Head-Bias-Norm: 0.8915209770202637\n",
      "  index_no_updates-LM-Head-Bias-Norm: 200.17538452148438\n",
      "Epoch 125\n"
     ]
    },
    {
     "name": "stderr",
     "output_type": "stream",
     "text": [
      "100%|██████████| 48/48 [00:21<00:00,  2.28it/s]\n"
     ]
    },
    {
     "name": "stdout",
     "output_type": "stream",
     "text": [
      "Epoch 125 loss: 7.387644628683726, loss_t2i: 8.103192836046219, loss_mmu: 4.52545140683651\n",
      "  Token-Norm: 77.90473937988281\n",
      "  index_no_updates-Token-Norm: 475.90191650390625\n",
      "  LM-Head-Weight-Norm: 11.535118103027344\n",
      "  index_no_updates-LM-Head-Weight-Norm: 636.0464477539062\n",
      "  LM-Head-Bias-Norm: 0.8859699368476868\n",
      "  index_no_updates-LM-Head-Bias-Norm: 200.17538452148438\n",
      "Epoch 126\n"
     ]
    },
    {
     "name": "stderr",
     "output_type": "stream",
     "text": [
      "100%|██████████| 48/48 [00:21<00:00,  2.28it/s]\n"
     ]
    },
    {
     "name": "stdout",
     "output_type": "stream",
     "text": [
      "Epoch 126 loss: 7.442320823669434, loss_t2i: 8.160652389129003, loss_mmu: 4.56899419426918\n",
      "  Token-Norm: 78.2182388305664\n",
      "  index_no_updates-Token-Norm: 475.90191650390625\n",
      "  LM-Head-Weight-Norm: 11.49575138092041\n",
      "  index_no_updates-LM-Head-Weight-Norm: 636.0464477539062\n",
      "  LM-Head-Bias-Norm: 0.8811028599739075\n",
      "  index_no_updates-LM-Head-Bias-Norm: 200.17538452148438\n",
      "Epoch 127\n"
     ]
    },
    {
     "name": "stderr",
     "output_type": "stream",
     "text": [
      "100%|██████████| 48/48 [00:21<00:00,  2.28it/s]\n"
     ]
    },
    {
     "name": "stdout",
     "output_type": "stream",
     "text": [
      "Epoch 127 loss: 7.4383542736371355, loss_t2i: 8.10513311624527, loss_mmu: 4.771238178014755\n",
      "  Token-Norm: 78.10670471191406\n",
      "  index_no_updates-Token-Norm: 475.90191650390625\n",
      "  LM-Head-Weight-Norm: 11.49069881439209\n",
      "  index_no_updates-LM-Head-Weight-Norm: 636.0464477539062\n",
      "  LM-Head-Bias-Norm: 0.8783476948738098\n",
      "  index_no_updates-LM-Head-Bias-Norm: 200.17538452148438\n",
      "Epoch 128\n"
     ]
    },
    {
     "name": "stderr",
     "output_type": "stream",
     "text": [
      "100%|██████████| 48/48 [00:21<00:00,  2.28it/s]\n"
     ]
    },
    {
     "name": "stdout",
     "output_type": "stream",
     "text": [
      "Epoch 128 loss: 7.39859985311826, loss_t2i: 8.153839121262232, loss_mmu: 4.377642343441646\n",
      "  Token-Norm: 77.78330993652344\n",
      "  index_no_updates-Token-Norm: 475.90191650390625\n",
      "  LM-Head-Weight-Norm: 11.434549331665039\n",
      "  index_no_updates-LM-Head-Weight-Norm: 636.0464477539062\n",
      "  LM-Head-Bias-Norm: 0.8751779198646545\n",
      "  index_no_updates-LM-Head-Bias-Norm: 200.17538452148438\n",
      "Epoch 129\n"
     ]
    },
    {
     "name": "stderr",
     "output_type": "stream",
     "text": [
      "100%|██████████| 48/48 [00:20<00:00,  2.30it/s]\n"
     ]
    },
    {
     "name": "stdout",
     "output_type": "stream",
     "text": [
      "Epoch 129 loss: 7.406472831964493, loss_t2i: 8.10188403725624, loss_mmu: 4.624827499190967\n",
      "  Token-Norm: 77.72364044189453\n",
      "  index_no_updates-Token-Norm: 475.90191650390625\n",
      "  LM-Head-Weight-Norm: 11.352398872375488\n",
      "  index_no_updates-LM-Head-Weight-Norm: 636.0464477539062\n",
      "  LM-Head-Bias-Norm: 0.870741605758667\n",
      "  index_no_updates-LM-Head-Bias-Norm: 200.17538452148438\n",
      "Epoch 130\n"
     ]
    },
    {
     "name": "stderr",
     "output_type": "stream",
     "text": [
      "100%|██████████| 48/48 [00:20<00:00,  2.30it/s]\n"
     ]
    },
    {
     "name": "stdout",
     "output_type": "stream",
     "text": [
      "Epoch 130 loss: 7.284562806288402, loss_t2i: 8.105131189028421, loss_mmu: 4.0022886743148165\n",
      "  Token-Norm: 78.0854721069336\n",
      "  index_no_updates-Token-Norm: 475.90191650390625\n",
      "  LM-Head-Weight-Norm: 11.282690048217773\n",
      "  index_no_updates-LM-Head-Weight-Norm: 636.0464477539062\n",
      "  LM-Head-Bias-Norm: 0.867407500743866\n",
      "  index_no_updates-LM-Head-Bias-Norm: 200.17538452148438\n",
      "Epoch 131\n"
     ]
    },
    {
     "name": "stderr",
     "output_type": "stream",
     "text": [
      "100%|██████████| 48/48 [00:21<00:00,  2.28it/s]\n"
     ]
    },
    {
     "name": "stdout",
     "output_type": "stream",
     "text": [
      "Epoch 131 loss: 7.424176136652629, loss_t2i: 8.058808982372284, loss_mmu: 4.885644326607387\n",
      "  Token-Norm: 79.93312072753906\n",
      "  index_no_updates-Token-Norm: 475.90191650390625\n",
      "  LM-Head-Weight-Norm: 11.219087600708008\n",
      "  index_no_updates-LM-Head-Weight-Norm: 636.0464477539062\n",
      "  LM-Head-Bias-Norm: 0.8619001507759094\n",
      "  index_no_updates-LM-Head-Bias-Norm: 200.17538452148438\n",
      "Epoch 132\n"
     ]
    },
    {
     "name": "stderr",
     "output_type": "stream",
     "text": [
      "100%|██████████| 48/48 [00:21<00:00,  2.28it/s]\n"
     ]
    },
    {
     "name": "stdout",
     "output_type": "stream",
     "text": [
      "Epoch 132 loss: 7.336550364891688, loss_t2i: 8.152329862117767, loss_mmu: 4.07343206803004\n",
      "  Token-Norm: 79.96827697753906\n",
      "  index_no_updates-Token-Norm: 475.90191650390625\n",
      "  LM-Head-Weight-Norm: 11.185650825500488\n",
      "  index_no_updates-LM-Head-Weight-Norm: 636.0464477539062\n",
      "  LM-Head-Bias-Norm: 0.8579576015472412\n",
      "  index_no_updates-LM-Head-Bias-Norm: 200.17538452148438\n",
      "Epoch 133\n"
     ]
    },
    {
     "name": "stderr",
     "output_type": "stream",
     "text": [
      "100%|██████████| 48/48 [00:21<00:00,  2.28it/s]\n"
     ]
    },
    {
     "name": "stdout",
     "output_type": "stream",
     "text": [
      "Epoch 133 loss: 7.231661111116409, loss_t2i: 8.14191069205602, loss_mmu: 3.5906621714433036\n",
      "  Token-Norm: 80.451416015625\n",
      "  index_no_updates-Token-Norm: 475.90191650390625\n",
      "  LM-Head-Weight-Norm: 11.135047912597656\n",
      "  index_no_updates-LM-Head-Weight-Norm: 636.0464477539062\n",
      "  LM-Head-Bias-Norm: 0.8544374704360962\n",
      "  index_no_updates-LM-Head-Bias-Norm: 200.17538452148438\n",
      "Epoch 134\n"
     ]
    },
    {
     "name": "stderr",
     "output_type": "stream",
     "text": [
      "100%|██████████| 48/48 [00:20<00:00,  2.29it/s]\n"
     ]
    },
    {
     "name": "stdout",
     "output_type": "stream",
     "text": [
      "Epoch 134 loss: 7.1371710896492, loss_t2i: 8.074667225281397, loss_mmu: 3.3871861547231674\n",
      "  Token-Norm: 81.06169128417969\n",
      "  index_no_updates-Token-Norm: 475.90191650390625\n",
      "  LM-Head-Weight-Norm: 11.090781211853027\n",
      "  index_no_updates-LM-Head-Weight-Norm: 636.0464477539062\n",
      "  LM-Head-Bias-Norm: 0.8499370217323303\n",
      "  index_no_updates-LM-Head-Bias-Norm: 200.17538452148438\n",
      "Epoch 135\n"
     ]
    },
    {
     "name": "stderr",
     "output_type": "stream",
     "text": [
      "100%|██████████| 48/48 [00:20<00:00,  2.30it/s]\n"
     ]
    },
    {
     "name": "stdout",
     "output_type": "stream",
     "text": [
      "Epoch 135 loss: 7.143608540296555, loss_t2i: 8.112805217504501, loss_mmu: 3.266821344693502\n",
      "  Token-Norm: 81.67509460449219\n",
      "  index_no_updates-Token-Norm: 475.90191650390625\n",
      "  LM-Head-Weight-Norm: 11.039864540100098\n",
      "  index_no_updates-LM-Head-Weight-Norm: 636.0464477539062\n",
      "  LM-Head-Bias-Norm: 0.846331775188446\n",
      "  index_no_updates-LM-Head-Bias-Norm: 200.17538452148438\n",
      "Epoch 136\n"
     ]
    },
    {
     "name": "stderr",
     "output_type": "stream",
     "text": [
      "100%|██████████| 48/48 [00:20<00:00,  2.30it/s]\n"
     ]
    },
    {
     "name": "stdout",
     "output_type": "stream",
     "text": [
      "Epoch 136 loss: 7.124019900957744, loss_t2i: 8.114392499128977, loss_mmu: 3.162529061237971\n",
      "  Token-Norm: 82.28058624267578\n",
      "  index_no_updates-Token-Norm: 475.90191650390625\n",
      "  LM-Head-Weight-Norm: 10.993879318237305\n",
      "  index_no_updates-LM-Head-Weight-Norm: 636.0464477539062\n",
      "  LM-Head-Bias-Norm: 0.8421326279640198\n",
      "  index_no_updates-LM-Head-Bias-Norm: 200.17538452148438\n",
      "Epoch 137\n"
     ]
    },
    {
     "name": "stderr",
     "output_type": "stream",
     "text": [
      "100%|██████████| 48/48 [00:20<00:00,  2.30it/s]\n"
     ]
    },
    {
     "name": "stdout",
     "output_type": "stream",
     "text": [
      "Epoch 137 loss: 7.127389967441559, loss_t2i: 8.13879711429278, loss_mmu: 3.0817608137925467\n",
      "  Token-Norm: 82.73246765136719\n",
      "  index_no_updates-Token-Norm: 475.90191650390625\n",
      "  LM-Head-Weight-Norm: 10.948692321777344\n",
      "  index_no_updates-LM-Head-Weight-Norm: 636.0464477539062\n",
      "  LM-Head-Bias-Norm: 0.8379440307617188\n",
      "  index_no_updates-LM-Head-Bias-Norm: 200.17538452148438\n",
      "Epoch 138\n"
     ]
    },
    {
     "name": "stderr",
     "output_type": "stream",
     "text": [
      "100%|██████████| 48/48 [00:20<00:00,  2.30it/s]\n"
     ]
    },
    {
     "name": "stdout",
     "output_type": "stream",
     "text": [
      "Epoch 138 loss: 7.110946148633957, loss_t2i: 8.134902407725653, loss_mmu: 3.0151206205288568\n",
      "  Token-Norm: 83.38953399658203\n",
      "  index_no_updates-Token-Norm: 475.90191650390625\n",
      "  LM-Head-Weight-Norm: 10.902987480163574\n",
      "  index_no_updates-LM-Head-Weight-Norm: 636.0464477539062\n",
      "  LM-Head-Bias-Norm: 0.8339653611183167\n",
      "  index_no_updates-LM-Head-Bias-Norm: 200.17538452148438\n",
      "Epoch 139\n"
     ]
    },
    {
     "name": "stderr",
     "output_type": "stream",
     "text": [
      "100%|██████████| 48/48 [00:20<00:00,  2.29it/s]\n"
     ]
    },
    {
     "name": "stdout",
     "output_type": "stream",
     "text": [
      "Epoch 139 loss: 7.076218545436859, loss_t2i: 8.100663860638937, loss_mmu: 2.978436678647995\n",
      "  Token-Norm: 83.73661041259766\n",
      "  index_no_updates-Token-Norm: 475.90191650390625\n",
      "  LM-Head-Weight-Norm: 10.857260704040527\n",
      "  index_no_updates-LM-Head-Weight-Norm: 636.0464477539062\n",
      "  LM-Head-Bias-Norm: 0.8301510214805603\n",
      "  index_no_updates-LM-Head-Bias-Norm: 200.17538452148438\n",
      "Epoch 140\n"
     ]
    },
    {
     "name": "stderr",
     "output_type": "stream",
     "text": [
      "100%|██████████| 48/48 [00:21<00:00,  2.23it/s]\n"
     ]
    },
    {
     "name": "stdout",
     "output_type": "stream",
     "text": [
      "Epoch 140 loss: 7.020867506663005, loss_t2i: 8.04763999581337, loss_mmu: 2.913777232170105\n",
      "  Token-Norm: 84.08892059326172\n",
      "  index_no_updates-Token-Norm: 475.90191650390625\n",
      "  LM-Head-Weight-Norm: 10.812057495117188\n",
      "  index_no_updates-LM-Head-Weight-Norm: 636.0464477539062\n",
      "  LM-Head-Bias-Norm: 0.826286792755127\n",
      "  index_no_updates-LM-Head-Bias-Norm: 200.17538452148438\n",
      "Epoch 141\n"
     ]
    },
    {
     "name": "stderr",
     "output_type": "stream",
     "text": [
      "100%|██████████| 48/48 [00:20<00:00,  2.29it/s]\n"
     ]
    },
    {
     "name": "stdout",
     "output_type": "stream",
     "text": [
      "Epoch 141 loss: 7.049019972483317, loss_t2i: 8.070585588614145, loss_mmu: 2.96275702615579\n",
      "  Token-Norm: 85.82439422607422\n",
      "  index_no_updates-Token-Norm: 475.90191650390625\n",
      "  LM-Head-Weight-Norm: 10.770773887634277\n",
      "  index_no_updates-LM-Head-Weight-Norm: 636.0464477539062\n",
      "  LM-Head-Bias-Norm: 0.822228193283081\n",
      "  index_no_updates-LM-Head-Bias-Norm: 200.17538452148438\n",
      "Epoch 142\n"
     ]
    },
    {
     "name": "stderr",
     "output_type": "stream",
     "text": [
      "100%|██████████| 48/48 [00:20<00:00,  2.31it/s]\n"
     ]
    },
    {
     "name": "stdout",
     "output_type": "stream",
     "text": [
      "Epoch 142 loss: 7.063227345546086, loss_t2i: 8.104880541563034, loss_mmu: 2.896614005168279\n",
      "  Token-Norm: 88.41668701171875\n",
      "  index_no_updates-Token-Norm: 475.90191650390625\n",
      "  LM-Head-Weight-Norm: 10.726693153381348\n",
      "  index_no_updates-LM-Head-Weight-Norm: 636.0464477539062\n",
      "  LM-Head-Bias-Norm: 0.8186630606651306\n",
      "  index_no_updates-LM-Head-Bias-Norm: 200.17538452148438\n",
      "Epoch 143\n"
     ]
    },
    {
     "name": "stderr",
     "output_type": "stream",
     "text": [
      "100%|██████████| 48/48 [00:20<00:00,  2.31it/s]\n"
     ]
    },
    {
     "name": "stdout",
     "output_type": "stream",
     "text": [
      "Epoch 143 loss: 7.158115029335022, loss_t2i: 8.129777391751608, loss_mmu: 3.2714650432268777\n",
      "  Token-Norm: 93.55294799804688\n",
      "  index_no_updates-Token-Norm: 475.90191650390625\n",
      "  LM-Head-Weight-Norm: 10.695401191711426\n",
      "  index_no_updates-LM-Head-Weight-Norm: 636.0464477539062\n",
      "  LM-Head-Bias-Norm: 0.8135254383087158\n",
      "  index_no_updates-LM-Head-Bias-Norm: 200.17538452148438\n",
      "Epoch 144\n"
     ]
    },
    {
     "name": "stderr",
     "output_type": "stream",
     "text": [
      "100%|██████████| 48/48 [00:20<00:00,  2.30it/s]\n"
     ]
    },
    {
     "name": "stdout",
     "output_type": "stream",
     "text": [
      "Epoch 144 loss: 7.134462634722392, loss_t2i: 8.148802151282629, loss_mmu: 3.0771041562159858\n",
      "  Token-Norm: 95.25424194335938\n",
      "  index_no_updates-Token-Norm: 475.90191650390625\n",
      "  LM-Head-Weight-Norm: 10.646580696105957\n",
      "  index_no_updates-LM-Head-Weight-Norm: 636.0464477539062\n",
      "  LM-Head-Bias-Norm: 0.8105453848838806\n",
      "  index_no_updates-LM-Head-Bias-Norm: 200.17538452148438\n",
      "Epoch 145\n"
     ]
    },
    {
     "name": "stderr",
     "output_type": "stream",
     "text": [
      "100%|██████████| 48/48 [00:20<00:00,  2.30it/s]\n"
     ]
    },
    {
     "name": "stdout",
     "output_type": "stream",
     "text": [
      "Epoch 145 loss: 7.071756134430568, loss_t2i: 8.115338106950125, loss_mmu: 2.8974278469880423\n",
      "  Token-Norm: 95.32485961914062\n",
      "  index_no_updates-Token-Norm: 475.90191650390625\n",
      "  LM-Head-Weight-Norm: 10.601452827453613\n",
      "  index_no_updates-LM-Head-Weight-Norm: 636.0464477539062\n",
      "  LM-Head-Bias-Norm: 0.807387113571167\n",
      "  index_no_updates-LM-Head-Bias-Norm: 200.17538452148438\n",
      "Epoch 146\n"
     ]
    },
    {
     "name": "stderr",
     "output_type": "stream",
     "text": [
      "100%|██████████| 48/48 [00:20<00:00,  2.30it/s]\n"
     ]
    },
    {
     "name": "stdout",
     "output_type": "stream",
     "text": [
      "Epoch 146 loss: 7.091855774323146, loss_t2i: 8.075102070967356, loss_mmu: 3.1588703046242395\n",
      "  Token-Norm: 98.44822692871094\n",
      "  index_no_updates-Token-Norm: 475.90191650390625\n",
      "  LM-Head-Weight-Norm: 10.556159019470215\n",
      "  index_no_updates-LM-Head-Weight-Norm: 636.0464477539062\n",
      "  LM-Head-Bias-Norm: 0.8039330840110779\n",
      "  index_no_updates-LM-Head-Bias-Norm: 200.17538452148438\n",
      "Epoch 147\n"
     ]
    },
    {
     "name": "stderr",
     "output_type": "stream",
     "text": [
      "100%|██████████| 48/48 [00:20<00:00,  2.29it/s]\n"
     ]
    },
    {
     "name": "stdout",
     "output_type": "stream",
     "text": [
      "Epoch 147 loss: 7.04454289873441, loss_t2i: 8.086613555749258, loss_mmu: 2.8762597342332206\n",
      "  Token-Norm: 98.51593780517578\n",
      "  index_no_updates-Token-Norm: 475.90191650390625\n",
      "  LM-Head-Weight-Norm: 10.51276969909668\n",
      "  index_no_updates-LM-Head-Weight-Norm: 636.0464477539062\n",
      "  LM-Head-Bias-Norm: 0.8004534840583801\n",
      "  index_no_updates-LM-Head-Bias-Norm: 200.17538452148438\n",
      "Epoch 148\n"
     ]
    },
    {
     "name": "stderr",
     "output_type": "stream",
     "text": [
      "100%|██████████| 48/48 [00:20<00:00,  2.29it/s]\n"
     ]
    },
    {
     "name": "stdout",
     "output_type": "stream",
     "text": [
      "Epoch 148 loss: 7.071733266115189, loss_t2i: 8.157830248276392, loss_mmu: 2.7273448978861174\n",
      "  Token-Norm: 98.54621887207031\n",
      "  index_no_updates-Token-Norm: 475.90191650390625\n",
      "  LM-Head-Weight-Norm: 10.470620155334473\n",
      "  index_no_updates-LM-Head-Weight-Norm: 636.0464477539062\n",
      "  LM-Head-Bias-Norm: 0.7971505522727966\n",
      "  index_no_updates-LM-Head-Bias-Norm: 200.17538452148438\n",
      "Epoch 149\n"
     ]
    },
    {
     "name": "stderr",
     "output_type": "stream",
     "text": [
      "100%|██████████| 48/48 [00:20<00:00,  2.29it/s]\n"
     ]
    },
    {
     "name": "stdout",
     "output_type": "stream",
     "text": [
      "Epoch 149 loss: 7.006687253713608, loss_t2i: 8.099149684111277, loss_mmu: 2.6368373384078345\n",
      "  Token-Norm: 98.4352035522461\n",
      "  index_no_updates-Token-Norm: 475.90191650390625\n",
      "  LM-Head-Weight-Norm: 10.44390869140625\n",
      "  index_no_updates-LM-Head-Weight-Norm: 636.0464477539062\n",
      "  LM-Head-Bias-Norm: 0.793641984462738\n",
      "  index_no_updates-LM-Head-Bias-Norm: 200.17538452148438\n",
      "Epoch 150\n"
     ]
    },
    {
     "name": "stderr",
     "output_type": "stream",
     "text": [
      "100%|██████████| 48/48 [00:21<00:00,  2.28it/s]\n"
     ]
    },
    {
     "name": "stdout",
     "output_type": "stream",
     "text": [
      "Epoch 150 loss: 6.952210625012715, loss_t2i: 8.039435267448425, loss_mmu: 2.6033117150266967\n",
      "  Token-Norm: 98.37755584716797\n",
      "  index_no_updates-Token-Norm: 475.90191650390625\n",
      "  LM-Head-Weight-Norm: 10.418782234191895\n",
      "  index_no_updates-LM-Head-Weight-Norm: 636.0464477539062\n",
      "  LM-Head-Bias-Norm: 0.7891553044319153\n",
      "  index_no_updates-LM-Head-Bias-Norm: 200.17538452148438\n",
      "Epoch 151\n"
     ]
    },
    {
     "name": "stderr",
     "output_type": "stream",
     "text": [
      "100%|██████████| 48/48 [00:21<00:00,  2.28it/s]\n"
     ]
    },
    {
     "name": "stdout",
     "output_type": "stream",
     "text": [
      "Epoch 151 loss: 7.001927495002747, loss_t2i: 8.109785556793213, loss_mmu: 2.5704950069387755\n",
      "  Token-Norm: 98.83889770507812\n",
      "  index_no_updates-Token-Norm: 475.90191650390625\n",
      "  LM-Head-Weight-Norm: 10.373679161071777\n",
      "  index_no_updates-LM-Head-Weight-Norm: 636.0464477539062\n",
      "  LM-Head-Bias-Norm: 0.7858299016952515\n",
      "  index_no_updates-LM-Head-Bias-Norm: 200.17538452148438\n",
      "Epoch 152\n"
     ]
    },
    {
     "name": "stderr",
     "output_type": "stream",
     "text": [
      "100%|██████████| 48/48 [00:21<00:00,  2.28it/s]\n"
     ]
    },
    {
     "name": "stdout",
     "output_type": "stream",
     "text": [
      "Epoch 152 loss: 6.978725065787633, loss_t2i: 8.091775675614675, loss_mmu: 2.52652216454347\n",
      "  Token-Norm: 98.7804946899414\n",
      "  index_no_updates-Token-Norm: 475.90191650390625\n",
      "  LM-Head-Weight-Norm: 10.333552360534668\n",
      "  index_no_updates-LM-Head-Weight-Norm: 636.0464477539062\n",
      "  LM-Head-Bias-Norm: 0.7818940877914429\n",
      "  index_no_updates-LM-Head-Bias-Norm: 200.17538452148438\n",
      "Epoch 153\n"
     ]
    },
    {
     "name": "stderr",
     "output_type": "stream",
     "text": [
      "100%|██████████| 48/48 [00:20<00:00,  2.29it/s]\n"
     ]
    },
    {
     "name": "stdout",
     "output_type": "stream",
     "text": [
      "Epoch 153 loss: 6.993044296900432, loss_t2i: 8.079982668161392, loss_mmu: 2.6452902629971504\n",
      "  Token-Norm: 98.91466522216797\n",
      "  index_no_updates-Token-Norm: 475.90191650390625\n",
      "  LM-Head-Weight-Norm: 10.294394493103027\n",
      "  index_no_updates-LM-Head-Weight-Norm: 636.0464477539062\n",
      "  LM-Head-Bias-Norm: 0.7779471278190613\n",
      "  index_no_updates-LM-Head-Bias-Norm: 200.17538452148438\n",
      "Epoch 154\n"
     ]
    },
    {
     "name": "stderr",
     "output_type": "stream",
     "text": [
      "100%|██████████| 48/48 [00:20<00:00,  2.29it/s]\n"
     ]
    },
    {
     "name": "stdout",
     "output_type": "stream",
     "text": [
      "Epoch 154 loss: 7.000834554433823, loss_t2i: 8.066947738329569, loss_mmu: 2.73638125260671\n",
      "  Token-Norm: 99.75912475585938\n",
      "  index_no_updates-Token-Norm: 475.90191650390625\n",
      "  LM-Head-Weight-Norm: 10.257169723510742\n",
      "  index_no_updates-LM-Head-Weight-Norm: 636.0464477539062\n",
      "  LM-Head-Bias-Norm: 0.7743979096412659\n",
      "  index_no_updates-LM-Head-Bias-Norm: 200.17538452148438\n",
      "Epoch 155\n"
     ]
    },
    {
     "name": "stderr",
     "output_type": "stream",
     "text": [
      "100%|██████████| 48/48 [00:21<00:00,  2.28it/s]\n"
     ]
    },
    {
     "name": "stdout",
     "output_type": "stream",
     "text": [
      "Epoch 155 loss: 6.94829844435056, loss_t2i: 8.00710184375445, loss_mmu: 2.713084541261196\n",
      "  Token-Norm: 101.6461181640625\n",
      "  index_no_updates-Token-Norm: 475.90191650390625\n",
      "  LM-Head-Weight-Norm: 10.21510124206543\n",
      "  index_no_updates-LM-Head-Weight-Norm: 636.0464477539062\n",
      "  LM-Head-Bias-Norm: 0.7708145380020142\n",
      "  index_no_updates-LM-Head-Bias-Norm: 200.17538452148438\n",
      "Epoch 156\n"
     ]
    },
    {
     "name": "stderr",
     "output_type": "stream",
     "text": [
      "100%|██████████| 48/48 [00:21<00:00,  2.28it/s]\n"
     ]
    },
    {
     "name": "stdout",
     "output_type": "stream",
     "text": [
      "Epoch 156 loss: 6.956580579280853, loss_t2i: 8.058349768320719, loss_mmu: 2.549503487845262\n",
      "  Token-Norm: 101.95295715332031\n",
      "  index_no_updates-Token-Norm: 475.90191650390625\n",
      "  LM-Head-Weight-Norm: 10.177488327026367\n",
      "  index_no_updates-LM-Head-Weight-Norm: 636.0464477539062\n",
      "  LM-Head-Bias-Norm: 0.7669529914855957\n",
      "  index_no_updates-LM-Head-Bias-Norm: 200.17538452148438\n",
      "Epoch 157\n"
     ]
    },
    {
     "name": "stderr",
     "output_type": "stream",
     "text": [
      "100%|██████████| 48/48 [00:20<00:00,  2.29it/s]\n"
     ]
    },
    {
     "name": "stdout",
     "output_type": "stream",
     "text": [
      "Epoch 157 loss: 6.90941721200943, loss_t2i: 8.044141411781311, loss_mmu: 2.370519566039244\n",
      "  Token-Norm: 101.89106750488281\n",
      "  index_no_updates-Token-Norm: 475.90191650390625\n",
      "  LM-Head-Weight-Norm: 10.13724422454834\n",
      "  index_no_updates-LM-Head-Weight-Norm: 636.0464477539062\n",
      "  LM-Head-Bias-Norm: 0.7630759477615356\n",
      "  index_no_updates-LM-Head-Bias-Norm: 200.17538452148438\n",
      "Epoch 158\n"
     ]
    },
    {
     "name": "stderr",
     "output_type": "stream",
     "text": [
      "100%|██████████| 48/48 [00:20<00:00,  2.29it/s]\n"
     ]
    },
    {
     "name": "stdout",
     "output_type": "stream",
     "text": [
      "Epoch 158 loss: 6.847658018271129, loss_t2i: 7.979853490988414, loss_mmu: 2.3188759411374726\n",
      "  Token-Norm: 101.68511199951172\n",
      "  index_no_updates-Token-Norm: 475.90191650390625\n",
      "  LM-Head-Weight-Norm: 10.090071678161621\n",
      "  index_no_updates-LM-Head-Weight-Norm: 636.0464477539062\n",
      "  LM-Head-Bias-Norm: 0.7599080204963684\n",
      "  index_no_updates-LM-Head-Bias-Norm: 200.17538452148438\n",
      "Epoch 159\n"
     ]
    },
    {
     "name": "stderr",
     "output_type": "stream",
     "text": [
      "100%|██████████| 48/48 [00:21<00:00,  2.28it/s]\n"
     ]
    },
    {
     "name": "stdout",
     "output_type": "stream",
     "text": [
      "Epoch 159 loss: 6.843299309412639, loss_t2i: 7.983879874149959, loss_mmu: 2.280976583560308\n",
      "  Token-Norm: 101.79236602783203\n",
      "  index_no_updates-Token-Norm: 475.90191650390625\n",
      "  LM-Head-Weight-Norm: 10.047720909118652\n",
      "  index_no_updates-LM-Head-Weight-Norm: 636.0464477539062\n",
      "  LM-Head-Bias-Norm: 0.7562493681907654\n",
      "  index_no_updates-LM-Head-Bias-Norm: 200.17538452148438\n",
      "Epoch 160\n"
     ]
    },
    {
     "name": "stderr",
     "output_type": "stream",
     "text": [
      "100%|██████████| 48/48 [00:20<00:00,  2.29it/s]\n"
     ]
    },
    {
     "name": "stdout",
     "output_type": "stream",
     "text": [
      "Epoch 160 loss: 6.855553835630417, loss_t2i: 8.01555891831716, loss_mmu: 2.2155329709251723\n",
      "  Token-Norm: 101.77851867675781\n",
      "  index_no_updates-Token-Norm: 475.90191650390625\n",
      "  LM-Head-Weight-Norm: 10.005253791809082\n",
      "  index_no_updates-LM-Head-Weight-Norm: 636.0464477539062\n",
      "  LM-Head-Bias-Norm: 0.7525882720947266\n",
      "  index_no_updates-LM-Head-Bias-Norm: 200.17538452148438\n",
      "Epoch 161\n"
     ]
    },
    {
     "name": "stderr",
     "output_type": "stream",
     "text": [
      "100%|██████████| 48/48 [00:20<00:00,  2.30it/s]\n"
     ]
    },
    {
     "name": "stdout",
     "output_type": "stream",
     "text": [
      "Epoch 161 loss: 6.876078834136327, loss_t2i: 8.05672029654185, loss_mmu: 2.153512326379617\n",
      "  Token-Norm: 101.8283462524414\n",
      "  index_no_updates-Token-Norm: 475.90191650390625\n",
      "  LM-Head-Weight-Norm: 9.958587646484375\n",
      "  index_no_updates-LM-Head-Weight-Norm: 636.0464477539062\n",
      "  LM-Head-Bias-Norm: 0.7494211196899414\n",
      "  index_no_updates-LM-Head-Bias-Norm: 200.17538452148438\n",
      "Epoch 162\n"
     ]
    },
    {
     "name": "stderr",
     "output_type": "stream",
     "text": [
      "100%|██████████| 48/48 [00:20<00:00,  2.29it/s]\n"
     ]
    },
    {
     "name": "stdout",
     "output_type": "stream",
     "text": [
      "Epoch 162 loss: 6.8233040769894915, loss_t2i: 7.994561562935512, loss_mmu: 2.1382736613353095\n",
      "  Token-Norm: 102.07085418701172\n",
      "  index_no_updates-Token-Norm: 475.90191650390625\n",
      "  LM-Head-Weight-Norm: 9.910269737243652\n",
      "  index_no_updates-LM-Head-Weight-Norm: 636.0464477539062\n",
      "  LM-Head-Bias-Norm: 0.7462946176528931\n",
      "  index_no_updates-LM-Head-Bias-Norm: 200.17538452148438\n",
      "Epoch 163\n"
     ]
    },
    {
     "name": "stderr",
     "output_type": "stream",
     "text": [
      "100%|██████████| 48/48 [00:21<00:00,  2.28it/s]\n"
     ]
    },
    {
     "name": "stdout",
     "output_type": "stream",
     "text": [
      "Epoch 163 loss: 6.784065783023834, loss_t2i: 7.95575937628746, loss_mmu: 2.0972907741864524\n",
      "  Token-Norm: 102.15902709960938\n",
      "  index_no_updates-Token-Norm: 475.90191650390625\n",
      "  LM-Head-Weight-Norm: 9.864580154418945\n",
      "  index_no_updates-LM-Head-Weight-Norm: 636.0464477539062\n",
      "  LM-Head-Bias-Norm: 0.74289870262146\n",
      "  index_no_updates-LM-Head-Bias-Norm: 200.17538452148438\n",
      "Epoch 164\n"
     ]
    },
    {
     "name": "stderr",
     "output_type": "stream",
     "text": [
      "100%|██████████| 48/48 [00:20<00:00,  2.30it/s]\n"
     ]
    },
    {
     "name": "stdout",
     "output_type": "stream",
     "text": [
      "Epoch 164 loss: 6.862995475530624, loss_t2i: 8.044379860162735, loss_mmu: 2.1374574477473893\n",
      "  Token-Norm: 102.85772705078125\n",
      "  index_no_updates-Token-Norm: 475.90191650390625\n",
      "  LM-Head-Weight-Norm: 9.82121753692627\n",
      "  index_no_updates-LM-Head-Weight-Norm: 636.0464477539062\n",
      "  LM-Head-Bias-Norm: 0.7393571734428406\n",
      "  index_no_updates-LM-Head-Bias-Norm: 200.17538452148438\n",
      "Epoch 165\n"
     ]
    },
    {
     "name": "stderr",
     "output_type": "stream",
     "text": [
      "100%|██████████| 48/48 [00:20<00:00,  2.29it/s]\n"
     ]
    },
    {
     "name": "stdout",
     "output_type": "stream",
     "text": [
      "Epoch 165 loss: 6.793514470259349, loss_t2i: 7.956922223170598, loss_mmu: 2.1398828054467836\n",
      "  Token-Norm: 103.64280700683594\n",
      "  index_no_updates-Token-Norm: 475.90191650390625\n",
      "  LM-Head-Weight-Norm: 9.784958839416504\n",
      "  index_no_updates-LM-Head-Weight-Norm: 636.0464477539062\n",
      "  LM-Head-Bias-Norm: 0.7354221343994141\n",
      "  index_no_updates-LM-Head-Bias-Norm: 200.17538452148438\n",
      "Epoch 166\n"
     ]
    },
    {
     "name": "stderr",
     "output_type": "stream",
     "text": [
      "100%|██████████| 48/48 [00:20<00:00,  2.30it/s]\n"
     ]
    },
    {
     "name": "stdout",
     "output_type": "stream",
     "text": [
      "Epoch 166 loss: 6.7632407148679095, loss_t2i: 7.96110259493192, loss_mmu: 1.9717929785450299\n",
      "  Token-Norm: 103.6263198852539\n",
      "  index_no_updates-Token-Norm: 475.90191650390625\n",
      "  LM-Head-Weight-Norm: 9.740608215332031\n",
      "  index_no_updates-LM-Head-Weight-Norm: 636.0464477539062\n",
      "  LM-Head-Bias-Norm: 0.731899619102478\n",
      "  index_no_updates-LM-Head-Bias-Norm: 200.17538452148438\n",
      "Epoch 167\n"
     ]
    },
    {
     "name": "stderr",
     "output_type": "stream",
     "text": [
      "100%|██████████| 48/48 [00:20<00:00,  2.30it/s]\n"
     ]
    },
    {
     "name": "stdout",
     "output_type": "stream",
     "text": [
      "Epoch 167 loss: 6.77334847052892, loss_t2i: 7.960982918739319, loss_mmu: 2.022810516258081\n",
      "  Token-Norm: 103.80140686035156\n",
      "  index_no_updates-Token-Norm: 475.90191650390625\n",
      "  LM-Head-Weight-Norm: 9.708589553833008\n",
      "  index_no_updates-LM-Head-Weight-Norm: 636.0464477539062\n",
      "  LM-Head-Bias-Norm: 0.7273412346839905\n",
      "  index_no_updates-LM-Head-Bias-Norm: 200.17538452148438\n",
      "Epoch 168\n"
     ]
    },
    {
     "name": "stderr",
     "output_type": "stream",
     "text": [
      "100%|██████████| 48/48 [00:20<00:00,  2.30it/s]\n"
     ]
    },
    {
     "name": "stdout",
     "output_type": "stream",
     "text": [
      "Epoch 168 loss: 6.703375885883967, loss_t2i: 7.8900785346825915, loss_mmu: 1.9565649156769116\n",
      "  Token-Norm: 104.16316223144531\n",
      "  index_no_updates-Token-Norm: 475.90191650390625\n",
      "  LM-Head-Weight-Norm: 9.664220809936523\n",
      "  index_no_updates-LM-Head-Weight-Norm: 636.0464477539062\n",
      "  LM-Head-Bias-Norm: 0.7241273522377014\n",
      "  index_no_updates-LM-Head-Bias-Norm: 200.17538452148438\n",
      "Epoch 169\n"
     ]
    },
    {
     "name": "stderr",
     "output_type": "stream",
     "text": [
      "100%|██████████| 48/48 [00:20<00:00,  2.29it/s]\n"
     ]
    },
    {
     "name": "stdout",
     "output_type": "stream",
     "text": [
      "Epoch 169 loss: 6.631553987661998, loss_t2i: 7.818551202615102, loss_mmu: 1.8835647975405057\n",
      "  Token-Norm: 104.30728149414062\n",
      "  index_no_updates-Token-Norm: 475.90191650390625\n",
      "  LM-Head-Weight-Norm: 9.61767578125\n",
      "  index_no_updates-LM-Head-Weight-Norm: 636.0464477539062\n",
      "  LM-Head-Bias-Norm: 0.7209184765815735\n",
      "  index_no_updates-LM-Head-Bias-Norm: 200.17538452148438\n",
      "Epoch 170\n"
     ]
    },
    {
     "name": "stderr",
     "output_type": "stream",
     "text": [
      "100%|██████████| 48/48 [00:20<00:00,  2.29it/s]\n"
     ]
    },
    {
     "name": "stdout",
     "output_type": "stream",
     "text": [
      "Epoch 170 loss: 6.675219416618347, loss_t2i: 7.876555323600769, loss_mmu: 1.8698753093679745\n",
      "  Token-Norm: 104.45269775390625\n",
      "  index_no_updates-Token-Norm: 475.90191650390625\n",
      "  LM-Head-Weight-Norm: 9.561781883239746\n",
      "  index_no_updates-LM-Head-Weight-Norm: 636.0464477539062\n",
      "  LM-Head-Bias-Norm: 0.7189338207244873\n",
      "  index_no_updates-LM-Head-Bias-Norm: 200.17538452148438\n",
      "Epoch 171\n"
     ]
    },
    {
     "name": "stderr",
     "output_type": "stream",
     "text": [
      "100%|██████████| 48/48 [00:21<00:00,  2.26it/s]\n"
     ]
    },
    {
     "name": "stdout",
     "output_type": "stream",
     "text": [
      "Epoch 171 loss: 6.591707597176234, loss_t2i: 7.788000265757243, loss_mmu: 1.8065365180373192\n",
      "  Token-Norm: 104.70032501220703\n",
      "  index_no_updates-Token-Norm: 475.90191650390625\n",
      "  LM-Head-Weight-Norm: 9.515815734863281\n",
      "  index_no_updates-LM-Head-Weight-Norm: 636.0464477539062\n",
      "  LM-Head-Bias-Norm: 0.7162051796913147\n",
      "  index_no_updates-LM-Head-Bias-Norm: 200.17538452148438\n",
      "Epoch 172\n"
     ]
    },
    {
     "name": "stderr",
     "output_type": "stream",
     "text": [
      "100%|██████████| 48/48 [00:21<00:00,  2.28it/s]\n"
     ]
    },
    {
     "name": "stdout",
     "output_type": "stream",
     "text": [
      "Epoch 172 loss: 6.581673234701157, loss_t2i: 7.800044397513072, loss_mmu: 1.7081882481773694\n",
      "  Token-Norm: 105.14568328857422\n",
      "  index_no_updates-Token-Norm: 475.90191650390625\n",
      "  LM-Head-Weight-Norm: 9.470129013061523\n",
      "  index_no_updates-LM-Head-Weight-Norm: 636.0464477539062\n",
      "  LM-Head-Bias-Norm: 0.7136027216911316\n",
      "  index_no_updates-LM-Head-Bias-Norm: 200.17538452148438\n",
      "Epoch 173\n"
     ]
    },
    {
     "name": "stderr",
     "output_type": "stream",
     "text": [
      "100%|██████████| 48/48 [00:20<00:00,  2.29it/s]\n"
     ]
    },
    {
     "name": "stdout",
     "output_type": "stream",
     "text": [
      "Epoch 173 loss: 6.538625468810399, loss_t2i: 7.724162568648656, loss_mmu: 1.7964766348401706\n",
      "  Token-Norm: 106.25257110595703\n",
      "  index_no_updates-Token-Norm: 475.90191650390625\n",
      "  LM-Head-Weight-Norm: 9.427692413330078\n",
      "  index_no_updates-LM-Head-Weight-Norm: 636.0464477539062\n",
      "  LM-Head-Bias-Norm: 0.7104900479316711\n",
      "  index_no_updates-LM-Head-Bias-Norm: 200.17538452148438\n",
      "Epoch 174\n"
     ]
    },
    {
     "name": "stderr",
     "output_type": "stream",
     "text": [
      "100%|██████████| 48/48 [00:20<00:00,  2.29it/s]\n"
     ]
    },
    {
     "name": "stdout",
     "output_type": "stream",
     "text": [
      "Epoch 174 loss: 6.492598434289296, loss_t2i: 7.69517594575882, loss_mmu: 1.6822879165410995\n",
      "  Token-Norm: 106.8423843383789\n",
      "  index_no_updates-Token-Norm: 475.90191650390625\n",
      "  LM-Head-Weight-Norm: 9.390076637268066\n",
      "  index_no_updates-LM-Head-Weight-Norm: 636.0464477539062\n",
      "  LM-Head-Bias-Norm: 0.7067033052444458\n",
      "  index_no_updates-LM-Head-Bias-Norm: 200.17538452148438\n",
      "Epoch 175\n"
     ]
    },
    {
     "name": "stderr",
     "output_type": "stream",
     "text": [
      "100%|██████████| 48/48 [00:20<00:00,  2.30it/s]\n"
     ]
    },
    {
     "name": "stdout",
     "output_type": "stream",
     "text": [
      "Epoch 175 loss: 6.483239491780599, loss_t2i: 7.707204192876816, loss_mmu: 1.5873801137010257\n",
      "  Token-Norm: 107.33280181884766\n",
      "  index_no_updates-Token-Norm: 475.90191650390625\n",
      "  LM-Head-Weight-Norm: 9.440967559814453\n",
      "  index_no_updates-LM-Head-Weight-Norm: 636.0464477539062\n",
      "  LM-Head-Bias-Norm: 0.7076622843742371\n",
      "  index_no_updates-LM-Head-Bias-Norm: 200.17538452148438\n",
      "Epoch 176\n"
     ]
    },
    {
     "name": "stderr",
     "output_type": "stream",
     "text": [
      "100%|██████████| 48/48 [00:20<00:00,  2.30it/s]\n"
     ]
    },
    {
     "name": "stdout",
     "output_type": "stream",
     "text": [
      "Epoch 176 loss: 6.5246012806892395, loss_t2i: 7.684937079747518, loss_mmu: 1.8832576672236125\n",
      "  Token-Norm: 108.55961608886719\n",
      "  index_no_updates-Token-Norm: 475.90191650390625\n",
      "  LM-Head-Weight-Norm: 9.443241119384766\n",
      "  index_no_updates-LM-Head-Weight-Norm: 636.0464477539062\n",
      "  LM-Head-Bias-Norm: 0.7055084705352783\n",
      "  index_no_updates-LM-Head-Bias-Norm: 200.17538452148438\n",
      "Epoch 177\n"
     ]
    },
    {
     "name": "stderr",
     "output_type": "stream",
     "text": [
      "100%|██████████| 48/48 [00:20<00:00,  2.31it/s]\n"
     ]
    },
    {
     "name": "stdout",
     "output_type": "stream",
     "text": [
      "Epoch 177 loss: 6.415197789669037, loss_t2i: 7.629262348016103, loss_mmu: 1.5589391340812047\n",
      "  Token-Norm: 108.99739837646484\n",
      "  index_no_updates-Token-Norm: 475.90191650390625\n",
      "  LM-Head-Weight-Norm: 9.392630577087402\n",
      "  index_no_updates-LM-Head-Weight-Norm: 636.0464477539062\n",
      "  LM-Head-Bias-Norm: 0.702921450138092\n",
      "  index_no_updates-LM-Head-Bias-Norm: 200.17538452148438\n",
      "Epoch 178\n"
     ]
    },
    {
     "name": "stderr",
     "output_type": "stream",
     "text": [
      "100%|██████████| 48/48 [00:20<00:00,  2.30it/s]\n"
     ]
    },
    {
     "name": "stdout",
     "output_type": "stream",
     "text": [
      "Epoch 178 loss: 6.478000342845917, loss_t2i: 7.737315734227498, loss_mmu: 1.4407383960982163\n",
      "  Token-Norm: 109.14401245117188\n",
      "  index_no_updates-Token-Norm: 475.90191650390625\n",
      "  LM-Head-Weight-Norm: 9.339394569396973\n",
      "  index_no_updates-LM-Head-Weight-Norm: 636.0464477539062\n",
      "  LM-Head-Bias-Norm: 0.700771689414978\n",
      "  index_no_updates-LM-Head-Bias-Norm: 200.17538452148438\n",
      "Epoch 179\n"
     ]
    },
    {
     "name": "stderr",
     "output_type": "stream",
     "text": [
      "100%|██████████| 48/48 [00:20<00:00,  2.30it/s]\n"
     ]
    },
    {
     "name": "stdout",
     "output_type": "stream",
     "text": [
      "Epoch 179 loss: 6.253909324606259, loss_t2i: 7.479117155075073, loss_mmu: 1.353077846268813\n",
      "  Token-Norm: 110.04364776611328\n",
      "  index_no_updates-Token-Norm: 475.90191650390625\n",
      "  LM-Head-Weight-Norm: 9.303701400756836\n",
      "  index_no_updates-LM-Head-Weight-Norm: 636.0464477539062\n",
      "  LM-Head-Bias-Norm: 0.6971632838249207\n",
      "  index_no_updates-LM-Head-Bias-Norm: 200.17538452148438\n",
      "Epoch 180\n"
     ]
    },
    {
     "name": "stderr",
     "output_type": "stream",
     "text": [
      "100%|██████████| 48/48 [00:21<00:00,  2.28it/s]\n"
     ]
    },
    {
     "name": "stdout",
     "output_type": "stream",
     "text": [
      "Epoch 180 loss: 6.1499532262484236, loss_t2i: 7.376884490251541, loss_mmu: 1.2422278883556526\n",
      "  Token-Norm: 110.21238708496094\n",
      "  index_no_updates-Token-Norm: 475.90191650390625\n",
      "  LM-Head-Weight-Norm: 9.253931045532227\n",
      "  index_no_updates-LM-Head-Weight-Norm: 636.0464477539062\n",
      "  LM-Head-Bias-Norm: 0.6946027278900146\n",
      "  index_no_updates-LM-Head-Bias-Norm: 200.17538452148438\n",
      "Epoch 181\n"
     ]
    },
    {
     "name": "stderr",
     "output_type": "stream",
     "text": [
      "100%|██████████| 48/48 [00:21<00:00,  2.28it/s]\n"
     ]
    },
    {
     "name": "stdout",
     "output_type": "stream",
     "text": [
      "Epoch 181 loss: 6.068415989478429, loss_t2i: 7.287730157375336, loss_mmu: 1.191159022351106\n",
      "  Token-Norm: 110.53137969970703\n",
      "  index_no_updates-Token-Norm: 475.90191650390625\n",
      "  LM-Head-Weight-Norm: 9.204492568969727\n",
      "  index_no_updates-LM-Head-Weight-Norm: 636.0464477539062\n",
      "  LM-Head-Bias-Norm: 0.692205011844635\n",
      "  index_no_updates-LM-Head-Bias-Norm: 200.17538452148438\n",
      "Epoch 182\n"
     ]
    },
    {
     "name": "stderr",
     "output_type": "stream",
     "text": [
      "100%|██████████| 48/48 [00:21<00:00,  2.28it/s]\n"
     ]
    },
    {
     "name": "stdout",
     "output_type": "stream",
     "text": [
      "Epoch 182 loss: 6.131653000911077, loss_t2i: 7.34491824110349, loss_mmu: 1.2785917036235332\n",
      "  Token-Norm: 111.27301025390625\n",
      "  index_no_updates-Token-Norm: 475.90191650390625\n",
      "  LM-Head-Weight-Norm: 9.181118965148926\n",
      "  index_no_updates-LM-Head-Weight-Norm: 636.0464477539062\n",
      "  LM-Head-Bias-Norm: 0.6900314688682556\n",
      "  index_no_updates-LM-Head-Bias-Norm: 200.17538452148438\n",
      "Epoch 183\n"
     ]
    },
    {
     "name": "stderr",
     "output_type": "stream",
     "text": [
      "100%|██████████| 48/48 [00:21<00:00,  2.28it/s]\n"
     ]
    },
    {
     "name": "stdout",
     "output_type": "stream",
     "text": [
      "Epoch 183 loss: 6.025356262922287, loss_t2i: 7.2227140466372175, loss_mmu: 1.2359246475001175\n",
      "  Token-Norm: 111.8300552368164\n",
      "  index_no_updates-Token-Norm: 475.90191650390625\n",
      "  LM-Head-Weight-Norm: 17.422740936279297\n",
      "  index_no_updates-LM-Head-Weight-Norm: 636.0464477539062\n",
      "  LM-Head-Bias-Norm: 0.9639138579368591\n",
      "  index_no_updates-LM-Head-Bias-Norm: 200.17538452148438\n",
      "Epoch 184\n"
     ]
    },
    {
     "name": "stderr",
     "output_type": "stream",
     "text": [
      "100%|██████████| 48/48 [00:21<00:00,  2.28it/s]\n"
     ]
    },
    {
     "name": "stdout",
     "output_type": "stream",
     "text": [
      "Epoch 184 loss: 5.851343949635823, loss_t2i: 7.033729841311772, loss_mmu: 1.1217998458693426\n",
      "  Token-Norm: 111.83494567871094\n",
      "  index_no_updates-Token-Norm: 475.90191650390625\n",
      "  LM-Head-Weight-Norm: 17.474515914916992\n",
      "  index_no_updates-LM-Head-Weight-Norm: 636.0464477539062\n",
      "  LM-Head-Bias-Norm: 0.9625416994094849\n",
      "  index_no_updates-LM-Head-Bias-Norm: 200.17538452148438\n",
      "Epoch 185\n"
     ]
    },
    {
     "name": "stderr",
     "output_type": "stream",
     "text": [
      "100%|██████████| 48/48 [00:21<00:00,  2.28it/s]\n"
     ]
    },
    {
     "name": "stdout",
     "output_type": "stream",
     "text": [
      "Epoch 185 loss: 5.8052935401598615, loss_t2i: 6.9529759387175245, loss_mmu: 1.2145632679263751\n",
      "  Token-Norm: 112.4570083618164\n",
      "  index_no_updates-Token-Norm: 475.90191650390625\n",
      "  LM-Head-Weight-Norm: 17.390832901000977\n",
      "  index_no_updates-LM-Head-Weight-Norm: 636.0464477539062\n",
      "  LM-Head-Bias-Norm: 0.9584760069847107\n",
      "  index_no_updates-LM-Head-Bias-Norm: 200.17538452148438\n",
      "Epoch 186\n"
     ]
    },
    {
     "name": "stderr",
     "output_type": "stream",
     "text": [
      "100%|██████████| 48/48 [00:20<00:00,  2.30it/s]\n"
     ]
    },
    {
     "name": "stdout",
     "output_type": "stream",
     "text": [
      "Epoch 186 loss: 6.025999426841736, loss_t2i: 7.09177350004514, loss_mmu: 1.7629025566081207\n",
      "  Token-Norm: 115.47976684570312\n",
      "  index_no_updates-Token-Norm: 475.90191650390625\n",
      "  LM-Head-Weight-Norm: 17.714252471923828\n",
      "  index_no_updates-LM-Head-Weight-Norm: 636.0464477539062\n",
      "  LM-Head-Bias-Norm: 0.9682196974754333\n",
      "  index_no_updates-LM-Head-Bias-Norm: 200.17538452148438\n",
      "Epoch 187\n"
     ]
    },
    {
     "name": "stderr",
     "output_type": "stream",
     "text": [
      "100%|██████████| 48/48 [00:21<00:00,  2.28it/s]\n"
     ]
    },
    {
     "name": "stdout",
     "output_type": "stream",
     "text": [
      "Epoch 187 loss: 6.0040898223718004, loss_t2i: 7.081691751877467, loss_mmu: 1.693681535621484\n",
      "  Token-Norm: 116.47676086425781\n",
      "  index_no_updates-Token-Norm: 475.90191650390625\n",
      "  LM-Head-Weight-Norm: 17.788957595825195\n",
      "  index_no_updates-LM-Head-Weight-Norm: 636.0464477539062\n",
      "  LM-Head-Bias-Norm: 0.9656820893287659\n",
      "  index_no_updates-LM-Head-Bias-Norm: 200.17538452148438\n",
      "Epoch 188\n"
     ]
    },
    {
     "name": "stderr",
     "output_type": "stream",
     "text": [
      "100%|██████████| 48/48 [00:20<00:00,  2.30it/s]\n"
     ]
    },
    {
     "name": "stdout",
     "output_type": "stream",
     "text": [
      "Epoch 188 loss: 5.59502379099528, loss_t2i: 6.664675364891688, loss_mmu: 1.3164168832202752\n",
      "  Token-Norm: 116.23532104492188\n",
      "  index_no_updates-Token-Norm: 475.90191650390625\n",
      "  LM-Head-Weight-Norm: 17.704622268676758\n",
      "  index_no_updates-LM-Head-Weight-Norm: 636.0464477539062\n",
      "  LM-Head-Bias-Norm: 0.9615446925163269\n",
      "  index_no_updates-LM-Head-Bias-Norm: 200.17538452148438\n",
      "Epoch 189\n"
     ]
    },
    {
     "name": "stderr",
     "output_type": "stream",
     "text": [
      "100%|██████████| 48/48 [00:20<00:00,  2.30it/s]\n"
     ]
    },
    {
     "name": "stdout",
     "output_type": "stream",
     "text": [
      "Epoch 189 loss: 6.940804968277614, loss_t2i: 7.519258747498195, loss_mmu: 4.626989305019379\n",
      "  Token-Norm: 121.85354614257812\n",
      "  index_no_updates-Token-Norm: 475.90191650390625\n",
      "  LM-Head-Weight-Norm: 17.67864227294922\n",
      "  index_no_updates-LM-Head-Weight-Norm: 636.0464477539062\n",
      "  LM-Head-Bias-Norm: 0.9527794718742371\n",
      "  index_no_updates-LM-Head-Bias-Norm: 200.17538452148438\n",
      "Epoch 190\n"
     ]
    },
    {
     "name": "stderr",
     "output_type": "stream",
     "text": [
      "100%|██████████| 48/48 [00:20<00:00,  2.30it/s]\n"
     ]
    },
    {
     "name": "stdout",
     "output_type": "stream",
     "text": [
      "Epoch 190 loss: 7.533314406871796, loss_t2i: 8.262043158213297, loss_mmu: 4.618398850162824\n",
      "  Token-Norm: 122.2867431640625\n",
      "  index_no_updates-Token-Norm: 475.90191650390625\n",
      "  LM-Head-Weight-Norm: 17.642635345458984\n",
      "  index_no_updates-LM-Head-Weight-Norm: 636.0464477539062\n",
      "  LM-Head-Bias-Norm: 0.9498299956321716\n",
      "  index_no_updates-LM-Head-Bias-Norm: 200.17538452148438\n",
      "Epoch 191\n"
     ]
    },
    {
     "name": "stderr",
     "output_type": "stream",
     "text": [
      "100%|██████████| 48/48 [00:20<00:00,  2.30it/s]\n"
     ]
    },
    {
     "name": "stdout",
     "output_type": "stream",
     "text": [
      "Epoch 191 loss: 7.353588263193767, loss_t2i: 8.244747420152029, loss_mmu: 3.7889512379964194\n",
      "  Token-Norm: 121.73495483398438\n",
      "  index_no_updates-Token-Norm: 475.90191650390625\n",
      "  LM-Head-Weight-Norm: 17.5588321685791\n",
      "  index_no_updates-LM-Head-Weight-Norm: 636.0464477539062\n",
      "  LM-Head-Bias-Norm: 0.945395290851593\n",
      "  index_no_updates-LM-Head-Bias-Norm: 200.17538452148438\n",
      "Epoch 192\n"
     ]
    },
    {
     "name": "stderr",
     "output_type": "stream",
     "text": [
      "100%|██████████| 48/48 [00:20<00:00,  2.30it/s]\n"
     ]
    },
    {
     "name": "stdout",
     "output_type": "stream",
     "text": [
      "Epoch 192 loss: 7.0477063457171125, loss_t2i: 7.99822136759758, loss_mmu: 3.245645766456922\n",
      "  Token-Norm: 121.1722640991211\n",
      "  index_no_updates-Token-Norm: 475.90191650390625\n",
      "  LM-Head-Weight-Norm: 17.474794387817383\n",
      "  index_no_updates-LM-Head-Weight-Norm: 636.0464477539062\n",
      "  LM-Head-Bias-Norm: 0.9408926963806152\n",
      "  index_no_updates-LM-Head-Bias-Norm: 200.17538452148438\n",
      "Epoch 193\n"
     ]
    },
    {
     "name": "stderr",
     "output_type": "stream",
     "text": [
      "100%|██████████| 48/48 [00:20<00:00,  2.30it/s]\n"
     ]
    },
    {
     "name": "stdout",
     "output_type": "stream",
     "text": [
      "Epoch 193 loss: 6.937206635872523, loss_t2i: 7.901864280303319, loss_mmu: 3.078575477004051\n",
      "  Token-Norm: 120.60531616210938\n",
      "  index_no_updates-Token-Norm: 475.90191650390625\n",
      "  LM-Head-Weight-Norm: 17.400117874145508\n",
      "  index_no_updates-LM-Head-Weight-Norm: 636.0464477539062\n",
      "  LM-Head-Bias-Norm: 0.9368822574615479\n",
      "  index_no_updates-LM-Head-Bias-Norm: 200.17538452148438\n",
      "Epoch 194\n"
     ]
    },
    {
     "name": "stderr",
     "output_type": "stream",
     "text": [
      "100%|██████████| 48/48 [00:20<00:00,  2.30it/s]\n"
     ]
    },
    {
     "name": "stdout",
     "output_type": "stream",
     "text": [
      "Epoch 194 loss: 7.397765398025513, loss_t2i: 8.28239885965983, loss_mmu: 3.8592311094204583\n",
      "  Token-Norm: 120.04045867919922\n",
      "  index_no_updates-Token-Norm: 475.90191650390625\n",
      "  LM-Head-Weight-Norm: 18.81865882873535\n",
      "  index_no_updates-LM-Head-Weight-Norm: 636.0464477539062\n",
      "  LM-Head-Bias-Norm: 1.0136847496032715\n",
      "  index_no_updates-LM-Head-Bias-Norm: 200.17538452148438\n",
      "Epoch 195\n"
     ]
    },
    {
     "name": "stderr",
     "output_type": "stream",
     "text": [
      "100%|██████████| 48/48 [00:20<00:00,  2.30it/s]\n"
     ]
    },
    {
     "name": "stdout",
     "output_type": "stream",
     "text": [
      "Epoch 195 loss: 7.227596988280614, loss_t2i: 8.214737743139267, loss_mmu: 3.2790336509545646\n",
      "  Token-Norm: 119.4532699584961\n",
      "  index_no_updates-Token-Norm: 475.90191650390625\n",
      "  LM-Head-Weight-Norm: 18.884113311767578\n",
      "  index_no_updates-LM-Head-Weight-Norm: 636.0464477539062\n",
      "  LM-Head-Bias-Norm: 1.013766884803772\n",
      "  index_no_updates-LM-Head-Bias-Norm: 200.17538452148438\n",
      "Epoch 196\n"
     ]
    },
    {
     "name": "stderr",
     "output_type": "stream",
     "text": [
      "100%|██████████| 48/48 [00:20<00:00,  2.29it/s]\n"
     ]
    },
    {
     "name": "stdout",
     "output_type": "stream",
     "text": [
      "Epoch 196 loss: 7.042142142852147, loss_t2i: 8.051173200209936, loss_mmu: 3.006017411748568\n",
      "  Token-Norm: 118.89317321777344\n",
      "  index_no_updates-Token-Norm: 475.90191650390625\n",
      "  LM-Head-Weight-Norm: 18.793197631835938\n",
      "  index_no_updates-LM-Head-Weight-Norm: 636.0464477539062\n",
      "  LM-Head-Bias-Norm: 1.0093485116958618\n",
      "  index_no_updates-LM-Head-Bias-Norm: 200.17538452148438\n",
      "Epoch 197\n"
     ]
    },
    {
     "name": "stderr",
     "output_type": "stream",
     "text": [
      "100%|██████████| 48/48 [00:20<00:00,  2.30it/s]\n"
     ]
    },
    {
     "name": "stdout",
     "output_type": "stream",
     "text": [
      "Epoch 197 loss: 6.9865124722321825, loss_t2i: 8.007622828086218, loss_mmu: 2.9020706514517465\n",
      "  Token-Norm: 118.33473205566406\n",
      "  index_no_updates-Token-Norm: 475.90191650390625\n",
      "  LM-Head-Weight-Norm: 18.703311920166016\n",
      "  index_no_updates-LM-Head-Weight-Norm: 636.0464477539062\n",
      "  LM-Head-Bias-Norm: 1.0046638250350952\n",
      "  index_no_updates-LM-Head-Bias-Norm: 200.17538452148438\n",
      "Epoch 198\n"
     ]
    },
    {
     "name": "stderr",
     "output_type": "stream",
     "text": [
      "100%|██████████| 48/48 [00:20<00:00,  2.30it/s]\n"
     ]
    },
    {
     "name": "stdout",
     "output_type": "stream",
     "text": [
      "Epoch 198 loss: 6.924308687448502, loss_t2i: 7.960726271073024, loss_mmu: 2.7786379804213843\n",
      "  Token-Norm: 117.77584075927734\n",
      "  index_no_updates-Token-Norm: 475.90191650390625\n",
      "  LM-Head-Weight-Norm: 18.616527557373047\n",
      "  index_no_updates-LM-Head-Weight-Norm: 636.0464477539062\n",
      "  LM-Head-Bias-Norm: 0.9997529983520508\n",
      "  index_no_updates-LM-Head-Bias-Norm: 200.17538452148438\n",
      "Epoch 199\n"
     ]
    },
    {
     "name": "stderr",
     "output_type": "stream",
     "text": [
      "100%|██████████| 48/48 [00:20<00:00,  2.30it/s]\n"
     ]
    },
    {
     "name": "stdout",
     "output_type": "stream",
     "text": [
      "Epoch 199 loss: 6.895702034235001, loss_t2i: 7.94969720641772, loss_mmu: 2.679721288383007\n",
      "  Token-Norm: 117.22529602050781\n",
      "  index_no_updates-Token-Norm: 475.90191650390625\n",
      "  LM-Head-Weight-Norm: 18.52452850341797\n",
      "  index_no_updates-LM-Head-Weight-Norm: 636.0464477539062\n",
      "  LM-Head-Bias-Norm: 0.9953433275222778\n",
      "  index_no_updates-LM-Head-Bias-Norm: 200.17538452148438\n",
      "Epoch 200\n"
     ]
    },
    {
     "name": "stderr",
     "output_type": "stream",
     "text": [
      "100%|██████████| 48/48 [00:20<00:00,  2.31it/s]\n"
     ]
    },
    {
     "name": "stdout",
     "output_type": "stream",
     "text": [
      "Epoch 200 loss: 6.861366579929988, loss_t2i: 7.924980739752452, loss_mmu: 2.606909193098545\n",
      "  Token-Norm: 116.6851806640625\n",
      "  index_no_updates-Token-Norm: 475.90191650390625\n",
      "  LM-Head-Weight-Norm: 18.447843551635742\n",
      "  index_no_updates-LM-Head-Weight-Norm: 636.0464477539062\n",
      "  LM-Head-Bias-Norm: 0.989849328994751\n",
      "  index_no_updates-LM-Head-Bias-Norm: 200.17538452148438\n",
      "Epoch 201\n"
     ]
    },
    {
     "name": "stderr",
     "output_type": "stream",
     "text": [
      "100%|██████████| 48/48 [00:20<00:00,  2.31it/s]\n"
     ]
    },
    {
     "name": "stdout",
     "output_type": "stream",
     "text": [
      "Epoch 201 loss: 6.7762348254521685, loss_t2i: 7.817176312208176, loss_mmu: 2.6124685357014337\n",
      "  Token-Norm: 116.1588134765625\n",
      "  index_no_updates-Token-Norm: 475.90191650390625\n",
      "  LM-Head-Weight-Norm: 18.379974365234375\n",
      "  index_no_updates-LM-Head-Weight-Norm: 636.0464477539062\n",
      "  LM-Head-Bias-Norm: 0.9842883944511414\n",
      "  index_no_updates-LM-Head-Bias-Norm: 200.17538452148438\n",
      "Epoch 202\n"
     ]
    },
    {
     "name": "stderr",
     "output_type": "stream",
     "text": [
      "100%|██████████| 48/48 [00:20<00:00,  2.31it/s]\n"
     ]
    },
    {
     "name": "stdout",
     "output_type": "stream",
     "text": [
      "Epoch 202 loss: 6.658023953437805, loss_t2i: 7.674976706504822, loss_mmu: 2.5902123525738716\n",
      "  Token-Norm: 115.67208862304688\n",
      "  index_no_updates-Token-Norm: 475.90191650390625\n",
      "  LM-Head-Weight-Norm: 18.305204391479492\n",
      "  index_no_updates-LM-Head-Weight-Norm: 636.0464477539062\n",
      "  LM-Head-Bias-Norm: 0.9792913794517517\n",
      "  index_no_updates-LM-Head-Bias-Norm: 200.17538452148438\n",
      "Epoch 203\n"
     ]
    },
    {
     "name": "stderr",
     "output_type": "stream",
     "text": [
      "100%|██████████| 48/48 [00:20<00:00,  2.29it/s]\n"
     ]
    },
    {
     "name": "stdout",
     "output_type": "stream",
     "text": [
      "Epoch 203 loss: 6.412484586238861, loss_t2i: 7.425707896550496, loss_mmu: 2.359590840836366\n",
      "  Token-Norm: 115.29119873046875\n",
      "  index_no_updates-Token-Norm: 475.90191650390625\n",
      "  LM-Head-Weight-Norm: 18.244760513305664\n",
      "  index_no_updates-LM-Head-Weight-Norm: 636.0464477539062\n",
      "  LM-Head-Bias-Norm: 0.9742992520332336\n",
      "  index_no_updates-LM-Head-Bias-Norm: 200.17538452148438\n",
      "Epoch 204\n"
     ]
    },
    {
     "name": "stderr",
     "output_type": "stream",
     "text": [
      "100%|██████████| 48/48 [00:21<00:00,  2.28it/s]\n"
     ]
    },
    {
     "name": "stdout",
     "output_type": "stream",
     "text": [
      "Epoch 204 loss: 6.222638423244159, loss_t2i: 7.20781072974205, loss_mmu: 2.2819488967458406\n",
      "  Token-Norm: 115.04093933105469\n",
      "  index_no_updates-Token-Norm: 475.90191650390625\n",
      "  LM-Head-Weight-Norm: 18.143474578857422\n",
      "  index_no_updates-LM-Head-Weight-Norm: 636.0464477539062\n",
      "  LM-Head-Bias-Norm: 0.9709912538528442\n",
      "  index_no_updates-LM-Head-Bias-Norm: 200.17538452148438\n",
      "Epoch 205\n"
     ]
    },
    {
     "name": "stderr",
     "output_type": "stream",
     "text": [
      "100%|██████████| 48/48 [00:20<00:00,  2.29it/s]\n"
     ]
    },
    {
     "name": "stdout",
     "output_type": "stream",
     "text": [
      "Epoch 205 loss: 5.767795672019322, loss_t2i: 6.700154314438502, loss_mmu: 2.0383607372641563\n",
      "  Token-Norm: 115.50587463378906\n",
      "  index_no_updates-Token-Norm: 475.90191650390625\n",
      "  LM-Head-Weight-Norm: 18.05590057373047\n",
      "  index_no_updates-LM-Head-Weight-Norm: 636.0464477539062\n",
      "  LM-Head-Bias-Norm: 0.9668124914169312\n",
      "  index_no_updates-LM-Head-Bias-Norm: 200.17538452148438\n",
      "Epoch 206\n"
     ]
    },
    {
     "name": "stderr",
     "output_type": "stream",
     "text": [
      "100%|██████████| 48/48 [00:20<00:00,  2.29it/s]\n"
     ]
    },
    {
     "name": "stdout",
     "output_type": "stream",
     "text": [
      "Epoch 206 loss: 5.563900917768478, loss_t2i: 6.476596653461456, loss_mmu: 1.9131175602475803\n",
      "  Token-Norm: 115.34916687011719\n",
      "  index_no_updates-Token-Norm: 475.90191650390625\n",
      "  LM-Head-Weight-Norm: 17.966529846191406\n",
      "  index_no_updates-LM-Head-Weight-Norm: 636.0464477539062\n",
      "  LM-Head-Bias-Norm: 0.9630408883094788\n",
      "  index_no_updates-LM-Head-Bias-Norm: 200.17538452148438\n",
      "Epoch 207\n"
     ]
    },
    {
     "name": "stderr",
     "output_type": "stream",
     "text": [
      "100%|██████████| 48/48 [00:20<00:00,  2.30it/s]\n"
     ]
    },
    {
     "name": "stdout",
     "output_type": "stream",
     "text": [
      "Epoch 207 loss: 5.283855949838956, loss_t2i: 6.174150576194127, loss_mmu: 1.722677042086919\n",
      "  Token-Norm: 115.39710998535156\n",
      "  index_no_updates-Token-Norm: 475.90191650390625\n",
      "  LM-Head-Weight-Norm: 17.88437843322754\n",
      "  index_no_updates-LM-Head-Weight-Norm: 636.0464477539062\n",
      "  LM-Head-Bias-Norm: 0.9591214060783386\n",
      "  index_no_updates-LM-Head-Bias-Norm: 200.17538452148438\n",
      "Epoch 208\n"
     ]
    },
    {
     "name": "stderr",
     "output_type": "stream",
     "text": [
      "100%|██████████| 48/48 [00:20<00:00,  2.29it/s]\n"
     ]
    },
    {
     "name": "stdout",
     "output_type": "stream",
     "text": [
      "Epoch 208 loss: 6.625155394275983, loss_t2i: 7.164365236957868, loss_mmu: 4.468315561612447\n",
      "  Token-Norm: 116.64131164550781\n",
      "  index_no_updates-Token-Norm: 475.90191650390625\n",
      "  LM-Head-Weight-Norm: 18.99565315246582\n",
      "  index_no_updates-LM-Head-Weight-Norm: 636.0464477539062\n",
      "  LM-Head-Bias-Norm: 1.010856032371521\n",
      "  index_no_updates-LM-Head-Bias-Norm: 200.17538452148438\n",
      "Epoch 209\n"
     ]
    },
    {
     "name": "stderr",
     "output_type": "stream",
     "text": [
      "100%|██████████| 48/48 [00:20<00:00,  2.31it/s]\n"
     ]
    },
    {
     "name": "stdout",
     "output_type": "stream",
     "text": [
      "Epoch 209 loss: 6.952983170747757, loss_t2i: 7.80039718747139, loss_mmu: 3.5633264432350793\n",
      "  Token-Norm: 116.466064453125\n",
      "  index_no_updates-Token-Norm: 475.90191650390625\n",
      "  LM-Head-Weight-Norm: 19.203489303588867\n",
      "  index_no_updates-LM-Head-Weight-Norm: 636.0464477539062\n",
      "  LM-Head-Bias-Norm: 1.0157158374786377\n",
      "  index_no_updates-LM-Head-Bias-Norm: 200.17538452148438\n",
      "Epoch 210\n"
     ]
    },
    {
     "name": "stderr",
     "output_type": "stream",
     "text": [
      "100%|██████████| 48/48 [00:21<00:00,  2.24it/s]\n"
     ]
    },
    {
     "name": "stdout",
     "output_type": "stream",
     "text": [
      "Epoch 210 loss: 6.480369995037715, loss_t2i: 7.33211949467659, loss_mmu: 3.073371628920237\n",
      "  Token-Norm: 116.17558288574219\n",
      "  index_no_updates-Token-Norm: 475.90191650390625\n",
      "  LM-Head-Weight-Norm: 19.10298728942871\n",
      "  index_no_updates-LM-Head-Weight-Norm: 636.0464477539062\n",
      "  LM-Head-Bias-Norm: 1.013120412826538\n",
      "  index_no_updates-LM-Head-Bias-Norm: 200.17538452148438\n",
      "Epoch 211\n"
     ]
    },
    {
     "name": "stderr",
     "output_type": "stream",
     "text": [
      "100%|██████████| 48/48 [00:21<00:00,  2.28it/s]\n"
     ]
    },
    {
     "name": "stdout",
     "output_type": "stream",
     "text": [
      "Epoch 211 loss: 5.6409731805324554, loss_t2i: 6.324604680140813, loss_mmu: 2.9064466382066407\n",
      "  Token-Norm: 116.15772247314453\n",
      "  index_no_updates-Token-Norm: 475.90191650390625\n",
      "  LM-Head-Weight-Norm: 19.084516525268555\n",
      "  index_no_updates-LM-Head-Weight-Norm: 636.0464477539062\n",
      "  LM-Head-Bias-Norm: 1.012921690940857\n",
      "  index_no_updates-LM-Head-Bias-Norm: 200.17538452148438\n",
      "Epoch 212\n"
     ]
    },
    {
     "name": "stderr",
     "output_type": "stream",
     "text": [
      "100%|██████████| 48/48 [00:20<00:00,  2.30it/s]\n"
     ]
    },
    {
     "name": "stdout",
     "output_type": "stream",
     "text": [
      "Epoch 212 loss: 5.27197880546252, loss_t2i: 5.9876452932755155, loss_mmu: 2.4093123227357864\n",
      "  Token-Norm: 116.32633209228516\n",
      "  index_no_updates-Token-Norm: 475.90191650390625\n",
      "  LM-Head-Weight-Norm: 18.998817443847656\n",
      "  index_no_updates-LM-Head-Weight-Norm: 636.0464477539062\n",
      "  LM-Head-Bias-Norm: 1.008299708366394\n",
      "  index_no_updates-LM-Head-Bias-Norm: 200.17538452148438\n",
      "Epoch 213\n"
     ]
    },
    {
     "name": "stderr",
     "output_type": "stream",
     "text": [
      "100%|██████████| 48/48 [00:20<00:00,  2.29it/s]\n"
     ]
    },
    {
     "name": "stdout",
     "output_type": "stream",
     "text": [
      "Epoch 213 loss: 5.269798209269841, loss_t2i: 5.904847929875056, loss_mmu: 2.7295989990234375\n",
      "  Token-Norm: 116.83305358886719\n",
      "  index_no_updates-Token-Norm: 475.90191650390625\n",
      "  LM-Head-Weight-Norm: 18.91016387939453\n",
      "  index_no_updates-LM-Head-Weight-Norm: 636.0464477539062\n",
      "  LM-Head-Bias-Norm: 1.0037931203842163\n",
      "  index_no_updates-LM-Head-Bias-Norm: 200.17538452148438\n",
      "Epoch 214\n"
     ]
    },
    {
     "name": "stderr",
     "output_type": "stream",
     "text": [
      "100%|██████████| 48/48 [00:20<00:00,  2.29it/s]\n"
     ]
    },
    {
     "name": "stdout",
     "output_type": "stream",
     "text": [
      "Epoch 214 loss: 4.698616474866867, loss_t2i: 5.3105254371960955, loss_mmu: 2.250980337460836\n",
      "  Token-Norm: 116.505615234375\n",
      "  index_no_updates-Token-Norm: 475.90191650390625\n",
      "  LM-Head-Weight-Norm: 18.803234100341797\n",
      "  index_no_updates-LM-Head-Weight-Norm: 636.0464477539062\n",
      "  LM-Head-Bias-Norm: 1.0056583881378174\n",
      "  index_no_updates-LM-Head-Bias-Norm: 200.17538452148438\n",
      "Epoch 215\n"
     ]
    },
    {
     "name": "stderr",
     "output_type": "stream",
     "text": [
      "100%|██████████| 48/48 [00:21<00:00,  2.27it/s]\n"
     ]
    },
    {
     "name": "stdout",
     "output_type": "stream",
     "text": [
      "Epoch 215 loss: 4.493336945772171, loss_t2i: 5.074202875296275, loss_mmu: 2.16987286756436\n",
      "  Token-Norm: 116.27740478515625\n",
      "  index_no_updates-Token-Norm: 475.90191650390625\n",
      "  LM-Head-Weight-Norm: 18.72344207763672\n",
      "  index_no_updates-LM-Head-Weight-Norm: 636.0464477539062\n",
      "  LM-Head-Bias-Norm: 1.001833200454712\n",
      "  index_no_updates-LM-Head-Bias-Norm: 200.17538452148438\n",
      "Epoch 216\n"
     ]
    },
    {
     "name": "stderr",
     "output_type": "stream",
     "text": [
      "100%|██████████| 48/48 [00:21<00:00,  2.29it/s]\n"
     ]
    },
    {
     "name": "stdout",
     "output_type": "stream",
     "text": [
      "Epoch 216 loss: 4.250481074055036, loss_t2i: 4.822117447853088, loss_mmu: 1.9639353056748707\n",
      "  Token-Norm: 116.39752960205078\n",
      "  index_no_updates-Token-Norm: 475.90191650390625\n",
      "  LM-Head-Weight-Norm: 18.639406204223633\n",
      "  index_no_updates-LM-Head-Weight-Norm: 636.0464477539062\n",
      "  LM-Head-Bias-Norm: 0.999286949634552\n",
      "  index_no_updates-LM-Head-Bias-Norm: 200.17538452148438\n",
      "Epoch 217\n"
     ]
    },
    {
     "name": "stderr",
     "output_type": "stream",
     "text": [
      "100%|██████████| 48/48 [00:20<00:00,  2.29it/s]\n"
     ]
    },
    {
     "name": "stdout",
     "output_type": "stream",
     "text": [
      "Epoch 217 loss: 4.154531439145406, loss_t2i: 4.700819452603658, loss_mmu: 1.9693791742126148\n",
      "  Token-Norm: 116.64607238769531\n",
      "  index_no_updates-Token-Norm: 475.90191650390625\n",
      "  LM-Head-Weight-Norm: 18.870092391967773\n",
      "  index_no_updates-LM-Head-Weight-Norm: 636.0464477539062\n",
      "  LM-Head-Bias-Norm: 1.031636118888855\n",
      "  index_no_updates-LM-Head-Bias-Norm: 200.17538452148438\n",
      "Epoch 218\n"
     ]
    },
    {
     "name": "stderr",
     "output_type": "stream",
     "text": [
      "100%|██████████| 48/48 [00:20<00:00,  2.29it/s]\n"
     ]
    },
    {
     "name": "stdout",
     "output_type": "stream",
     "text": [
      "Epoch 218 loss: 3.788123182952404, loss_t2i: 4.296686579783757, loss_mmu: 1.7538694068789482\n",
      "  Token-Norm: 116.24201202392578\n",
      "  index_no_updates-Token-Norm: 475.90191650390625\n",
      "  LM-Head-Weight-Norm: 18.803306579589844\n",
      "  index_no_updates-LM-Head-Weight-Norm: 636.0464477539062\n",
      "  LM-Head-Bias-Norm: 1.0283054113388062\n",
      "  index_no_updates-LM-Head-Bias-Norm: 200.17538452148438\n",
      "Epoch 219\n"
     ]
    },
    {
     "name": "stderr",
     "output_type": "stream",
     "text": [
      "100%|██████████| 48/48 [00:20<00:00,  2.31it/s]\n"
     ]
    },
    {
     "name": "stdout",
     "output_type": "stream",
     "text": [
      "Epoch 219 loss: 3.6452900717655816, loss_t2i: 4.14204063018163, loss_mmu: 1.6582877586285274\n",
      "  Token-Norm: 115.89221954345703\n",
      "  index_no_updates-Token-Norm: 475.90191650390625\n",
      "  LM-Head-Weight-Norm: 18.70808219909668\n",
      "  index_no_updates-LM-Head-Weight-Norm: 636.0464477539062\n",
      "  LM-Head-Bias-Norm: 1.0281504392623901\n",
      "  index_no_updates-LM-Head-Bias-Norm: 200.17538452148438\n",
      "Epoch 220\n"
     ]
    },
    {
     "name": "stderr",
     "output_type": "stream",
     "text": [
      "100%|██████████| 48/48 [00:20<00:00,  2.31it/s]\n"
     ]
    },
    {
     "name": "stdout",
     "output_type": "stream",
     "text": [
      "Epoch 220 loss: 3.4089647978544235, loss_t2i: 3.889264650642872, loss_mmu: 1.4877651010950406\n",
      "  Token-Norm: 115.7474594116211\n",
      "  index_no_updates-Token-Norm: 475.90191650390625\n",
      "  LM-Head-Weight-Norm: 18.624780654907227\n",
      "  index_no_updates-LM-Head-Weight-Norm: 636.0464477539062\n",
      "  LM-Head-Bias-Norm: 1.0240190029144287\n",
      "  index_no_updates-LM-Head-Bias-Norm: 200.17538452148438\n",
      "Epoch 221\n"
     ]
    },
    {
     "name": "stderr",
     "output_type": "stream",
     "text": [
      "100%|██████████| 48/48 [00:20<00:00,  2.31it/s]\n"
     ]
    },
    {
     "name": "stdout",
     "output_type": "stream",
     "text": [
      "Epoch 221 loss: 3.322583923737208, loss_t2i: 3.695388371745745, loss_mmu: 1.831365776558717\n",
      "  Token-Norm: 115.62042236328125\n",
      "  index_no_updates-Token-Norm: 475.90191650390625\n",
      "  LM-Head-Weight-Norm: 18.545515060424805\n",
      "  index_no_updates-LM-Head-Weight-Norm: 636.0464477539062\n",
      "  LM-Head-Bias-Norm: 1.0201983451843262\n",
      "  index_no_updates-LM-Head-Bias-Norm: 200.17538452148438\n",
      "Epoch 222\n"
     ]
    },
    {
     "name": "stderr",
     "output_type": "stream",
     "text": [
      "100%|██████████| 48/48 [00:20<00:00,  2.30it/s]\n"
     ]
    },
    {
     "name": "stdout",
     "output_type": "stream",
     "text": [
      "Epoch 222 loss: 3.120489368836085, loss_t2i: 3.5351733217636743, loss_mmu: 1.461753398180008\n",
      "  Token-Norm: 115.1605453491211\n",
      "  index_no_updates-Token-Norm: 475.90191650390625\n",
      "  LM-Head-Weight-Norm: 18.496009826660156\n",
      "  index_no_updates-LM-Head-Weight-Norm: 636.0464477539062\n",
      "  LM-Head-Bias-Norm: 1.0239591598510742\n",
      "  index_no_updates-LM-Head-Bias-Norm: 200.17538452148438\n",
      "Epoch 223\n"
     ]
    },
    {
     "name": "stderr",
     "output_type": "stream",
     "text": [
      "100%|██████████| 48/48 [00:20<00:00,  2.31it/s]\n"
     ]
    },
    {
     "name": "stdout",
     "output_type": "stream",
     "text": [
      "Epoch 223 loss: 3.2201502372821174, loss_t2i: 3.674417863289515, loss_mmu: 1.4030794973174732\n",
      "  Token-Norm: 114.74114990234375\n",
      "  index_no_updates-Token-Norm: 475.90191650390625\n",
      "  LM-Head-Weight-Norm: 18.417509078979492\n",
      "  index_no_updates-LM-Head-Weight-Norm: 636.0464477539062\n",
      "  LM-Head-Bias-Norm: 1.0203814506530762\n",
      "  index_no_updates-LM-Head-Bias-Norm: 200.17538452148438\n",
      "Epoch 224\n"
     ]
    },
    {
     "name": "stderr",
     "output_type": "stream",
     "text": [
      "100%|██████████| 48/48 [00:20<00:00,  2.30it/s]\n"
     ]
    },
    {
     "name": "stdout",
     "output_type": "stream",
     "text": [
      "Epoch 224 loss: 2.8228897228837013, loss_t2i: 3.195050910115242, loss_mmu: 1.3342447044948738\n",
      "  Token-Norm: 114.56166076660156\n",
      "  index_no_updates-Token-Norm: 475.90191650390625\n",
      "  LM-Head-Weight-Norm: 18.339508056640625\n",
      "  index_no_updates-LM-Head-Weight-Norm: 636.0464477539062\n",
      "  LM-Head-Bias-Norm: 1.016822099685669\n",
      "  index_no_updates-LM-Head-Bias-Norm: 200.17538452148438\n",
      "Epoch 225\n"
     ]
    },
    {
     "name": "stderr",
     "output_type": "stream",
     "text": [
      "100%|██████████| 48/48 [00:21<00:00,  2.29it/s]\n"
     ]
    },
    {
     "name": "stdout",
     "output_type": "stream",
     "text": [
      "Epoch 225 loss: 2.9041469941536584, loss_t2i: 3.292799159884453, loss_mmu: 1.3495382517576218\n",
      "  Token-Norm: 114.4058837890625\n",
      "  index_no_updates-Token-Norm: 475.90191650390625\n",
      "  LM-Head-Weight-Norm: 18.237199783325195\n",
      "  index_no_updates-LM-Head-Weight-Norm: 636.0464477539062\n",
      "  LM-Head-Bias-Norm: 1.0184284448623657\n",
      "  index_no_updates-LM-Head-Bias-Norm: 200.17538452148438\n",
      "Epoch 226\n"
     ]
    },
    {
     "name": "stderr",
     "output_type": "stream",
     "text": [
      "100%|██████████| 48/48 [00:20<00:00,  2.29it/s]\n"
     ]
    },
    {
     "name": "stdout",
     "output_type": "stream",
     "text": [
      "Epoch 226 loss: 2.715922969082991, loss_t2i: 3.092642871042093, loss_mmu: 1.2090430619815986\n",
      "  Token-Norm: 114.03842163085938\n",
      "  index_no_updates-Token-Norm: 475.90191650390625\n",
      "  LM-Head-Weight-Norm: 18.158039093017578\n",
      "  index_no_updates-LM-Head-Weight-Norm: 636.0464477539062\n",
      "  LM-Head-Bias-Norm: 1.0151574611663818\n",
      "  index_no_updates-LM-Head-Bias-Norm: 200.17538452148438\n",
      "Epoch 227\n"
     ]
    },
    {
     "name": "stderr",
     "output_type": "stream",
     "text": [
      "100%|██████████| 48/48 [00:21<00:00,  2.28it/s]\n"
     ]
    },
    {
     "name": "stdout",
     "output_type": "stream",
     "text": [
      "Epoch 227 loss: 2.9726510643959045, loss_t2i: 3.357822258025408, loss_mmu: 1.4319660315910976\n",
      "  Token-Norm: 114.70417785644531\n",
      "  index_no_updates-Token-Norm: 475.90191650390625\n",
      "  LM-Head-Weight-Norm: 18.555301666259766\n",
      "  index_no_updates-LM-Head-Weight-Norm: 636.0464477539062\n",
      "  LM-Head-Bias-Norm: 1.0596669912338257\n",
      "  index_no_updates-LM-Head-Bias-Norm: 200.17538452148438\n",
      "Epoch 228\n"
     ]
    },
    {
     "name": "stderr",
     "output_type": "stream",
     "text": [
      "100%|██████████| 48/48 [00:20<00:00,  2.31it/s]\n"
     ]
    },
    {
     "name": "stdout",
     "output_type": "stream",
     "text": [
      "Epoch 228 loss: 2.59428812811772, loss_t2i: 2.9117285075287023, loss_mmu: 1.324526349703471\n",
      "  Token-Norm: 114.50325012207031\n",
      "  index_no_updates-Token-Norm: 475.90191650390625\n",
      "  LM-Head-Weight-Norm: 18.79095458984375\n",
      "  index_no_updates-LM-Head-Weight-Norm: 636.0464477539062\n",
      "  LM-Head-Bias-Norm: 1.087414026260376\n",
      "  index_no_updates-LM-Head-Bias-Norm: 200.17538452148438\n",
      "Epoch 229\n"
     ]
    },
    {
     "name": "stderr",
     "output_type": "stream",
     "text": [
      "100%|██████████| 48/48 [00:21<00:00,  2.24it/s]\n"
     ]
    },
    {
     "name": "stdout",
     "output_type": "stream",
     "text": [
      "Epoch 229 loss: 2.5026616975665092, loss_t2i: 2.8457734435796738, loss_mmu: 1.1302145048975945\n",
      "  Token-Norm: 114.08071899414062\n",
      "  index_no_updates-Token-Norm: 475.90191650390625\n",
      "  LM-Head-Weight-Norm: 18.70746612548828\n",
      "  index_no_updates-LM-Head-Weight-Norm: 636.0464477539062\n",
      "  LM-Head-Bias-Norm: 1.0837098360061646\n",
      "  index_no_updates-LM-Head-Bias-Norm: 200.17538452148438\n",
      "Epoch 230\n"
     ]
    },
    {
     "name": "stderr",
     "output_type": "stream",
     "text": [
      "100%|██████████| 48/48 [00:20<00:00,  2.29it/s]\n"
     ]
    },
    {
     "name": "stdout",
     "output_type": "stream",
     "text": [
      "Epoch 230 loss: 2.3269794968267283, loss_t2i: 2.63826033907632, loss_mmu: 1.0818558484315872\n",
      "  Token-Norm: 113.695068359375\n",
      "  index_no_updates-Token-Norm: 475.90191650390625\n",
      "  LM-Head-Weight-Norm: 18.622936248779297\n",
      "  index_no_updates-LM-Head-Weight-Norm: 636.0464477539062\n",
      "  LM-Head-Bias-Norm: 1.0792019367218018\n",
      "  index_no_updates-LM-Head-Bias-Norm: 200.17538452148438\n",
      "Epoch 231\n"
     ]
    },
    {
     "name": "stderr",
     "output_type": "stream",
     "text": [
      "100%|██████████| 48/48 [00:21<00:00,  2.28it/s]\n"
     ]
    },
    {
     "name": "stdout",
     "output_type": "stream",
     "text": [
      "Epoch 231 loss: 2.3311244770884514, loss_t2i: 2.667025533815225, loss_mmu: 0.987520094960928\n",
      "  Token-Norm: 113.27769470214844\n",
      "  index_no_updates-Token-Norm: 475.90191650390625\n",
      "  LM-Head-Weight-Norm: 18.544315338134766\n",
      "  index_no_updates-LM-Head-Weight-Norm: 636.0464477539062\n",
      "  LM-Head-Bias-Norm: 1.0884830951690674\n",
      "  index_no_updates-LM-Head-Bias-Norm: 200.17538452148438\n",
      "Epoch 232\n"
     ]
    },
    {
     "name": "stderr",
     "output_type": "stream",
     "text": [
      "100%|██████████| 48/48 [00:21<00:00,  2.28it/s]\n"
     ]
    },
    {
     "name": "stdout",
     "output_type": "stream",
     "text": [
      "Epoch 232 loss: 2.358411761621634, loss_t2i: 2.715378620972236, loss_mmu: 0.9305440330257019\n",
      "  Token-Norm: 112.8438720703125\n",
      "  index_no_updates-Token-Norm: 475.90191650390625\n",
      "  LM-Head-Weight-Norm: 18.49978256225586\n",
      "  index_no_updates-LM-Head-Weight-Norm: 636.0464477539062\n",
      "  LM-Head-Bias-Norm: 1.0922415256500244\n",
      "  index_no_updates-LM-Head-Bias-Norm: 200.17538452148438\n",
      "Epoch 233\n"
     ]
    },
    {
     "name": "stderr",
     "output_type": "stream",
     "text": [
      "100%|██████████| 48/48 [00:20<00:00,  2.29it/s]\n"
     ]
    },
    {
     "name": "stdout",
     "output_type": "stream",
     "text": [
      "Epoch 233 loss: 2.2161996886134148, loss_t2i: 2.542113366226355, loss_mmu: 0.9125447583695253\n",
      "  Token-Norm: 112.51554870605469\n",
      "  index_no_updates-Token-Norm: 475.90191650390625\n",
      "  LM-Head-Weight-Norm: 18.414966583251953\n",
      "  index_no_updates-LM-Head-Weight-Norm: 636.0464477539062\n",
      "  LM-Head-Bias-Norm: 1.0883408784866333\n",
      "  index_no_updates-LM-Head-Bias-Norm: 200.17538452148438\n",
      "Epoch 234\n"
     ]
    },
    {
     "name": "stderr",
     "output_type": "stream",
     "text": [
      "100%|██████████| 48/48 [00:21<00:00,  2.28it/s]\n"
     ]
    },
    {
     "name": "stdout",
     "output_type": "stream",
     "text": [
      "Epoch 234 loss: 2.077522767086824, loss_t2i: 2.382180944085121, loss_mmu: 0.8588898498564959\n",
      "  Token-Norm: 112.18060302734375\n",
      "  index_no_updates-Token-Norm: 475.90191650390625\n",
      "  LM-Head-Weight-Norm: 18.334026336669922\n",
      "  index_no_updates-LM-Head-Weight-Norm: 636.0464477539062\n",
      "  LM-Head-Bias-Norm: 1.0842167139053345\n",
      "  index_no_updates-LM-Head-Bias-Norm: 200.17538452148438\n",
      "Epoch 235\n"
     ]
    },
    {
     "name": "stderr",
     "output_type": "stream",
     "text": [
      "100%|██████████| 48/48 [00:20<00:00,  2.29it/s]\n"
     ]
    },
    {
     "name": "stdout",
     "output_type": "stream",
     "text": [
      "Epoch 235 loss: 2.1516087042788663, loss_t2i: 2.490558732300997, loss_mmu: 0.7958083717773358\n",
      "  Token-Norm: 111.77822875976562\n",
      "  index_no_updates-Token-Norm: 475.90191650390625\n",
      "  LM-Head-Weight-Norm: 18.24012565612793\n",
      "  index_no_updates-LM-Head-Weight-Norm: 636.0464477539062\n",
      "  LM-Head-Bias-Norm: 1.0846545696258545\n",
      "  index_no_updates-LM-Head-Bias-Norm: 200.17538452148438\n",
      "Epoch 236\n"
     ]
    },
    {
     "name": "stderr",
     "output_type": "stream",
     "text": [
      "100%|██████████| 48/48 [00:20<00:00,  2.29it/s]\n"
     ]
    },
    {
     "name": "stdout",
     "output_type": "stream",
     "text": [
      "Epoch 236 loss: 2.1126160447796187, loss_t2i: 2.431948810815811, loss_mmu: 0.8352848521123329\n",
      "  Token-Norm: 111.45226287841797\n",
      "  index_no_updates-Token-Norm: 475.90191650390625\n",
      "  LM-Head-Weight-Norm: 18.1577205657959\n",
      "  index_no_updates-LM-Head-Weight-Norm: 636.0464477539062\n",
      "  LM-Head-Bias-Norm: 1.0825397968292236\n",
      "  index_no_updates-LM-Head-Bias-Norm: 200.17538452148438\n",
      "Epoch 237\n"
     ]
    },
    {
     "name": "stderr",
     "output_type": "stream",
     "text": [
      "100%|██████████| 48/48 [00:20<00:00,  2.30it/s]\n"
     ]
    },
    {
     "name": "stdout",
     "output_type": "stream",
     "text": [
      "Epoch 237 loss: 2.0695229756335416, loss_t2i: 2.3811033492287, loss_mmu: 0.8232012676695982\n",
      "  Token-Norm: 111.14022064208984\n",
      "  index_no_updates-Token-Norm: 475.90191650390625\n",
      "  LM-Head-Weight-Norm: 18.1929988861084\n",
      "  index_no_updates-LM-Head-Weight-Norm: 636.0464477539062\n",
      "  LM-Head-Bias-Norm: 1.1075234413146973\n",
      "  index_no_updates-LM-Head-Bias-Norm: 200.17538452148438\n",
      "Epoch 238\n"
     ]
    },
    {
     "name": "stderr",
     "output_type": "stream",
     "text": [
      "100%|██████████| 48/48 [00:21<00:00,  2.28it/s]\n"
     ]
    },
    {
     "name": "stdout",
     "output_type": "stream",
     "text": [
      "Epoch 238 loss: 2.036040926973025, loss_t2i: 2.35560484106342, loss_mmu: 0.7577852091441551\n",
      "  Token-Norm: 110.8351058959961\n",
      "  index_no_updates-Token-Norm: 475.90191650390625\n",
      "  LM-Head-Weight-Norm: 18.12468147277832\n",
      "  index_no_updates-LM-Head-Weight-Norm: 636.0464477539062\n",
      "  LM-Head-Bias-Norm: 1.1043049097061157\n",
      "  index_no_updates-LM-Head-Bias-Norm: 200.17538452148438\n",
      "Epoch 239\n"
     ]
    },
    {
     "name": "stderr",
     "output_type": "stream",
     "text": [
      "100%|██████████| 48/48 [00:21<00:00,  2.28it/s]\n"
     ]
    },
    {
     "name": "stdout",
     "output_type": "stream",
     "text": [
      "Epoch 239 loss: 2.13042792926232, loss_t2i: 2.479495162765185, loss_mmu: 0.7341588089863459\n",
      "  Token-Norm: 110.55757904052734\n",
      "  index_no_updates-Token-Norm: 475.90191650390625\n",
      "  LM-Head-Weight-Norm: 18.042203903198242\n",
      "  index_no_updates-LM-Head-Weight-Norm: 636.0464477539062\n",
      "  LM-Head-Bias-Norm: 1.1000946760177612\n",
      "  index_no_updates-LM-Head-Bias-Norm: 200.17538452148438\n",
      "Epoch 240\n"
     ]
    },
    {
     "name": "stderr",
     "output_type": "stream",
     "text": [
      "100%|██████████| 48/48 [00:20<00:00,  2.29it/s]\n"
     ]
    },
    {
     "name": "stdout",
     "output_type": "stream",
     "text": [
      "Epoch 240 loss: 1.8076843259235222, loss_t2i: 2.0886452371875444, loss_mmu: 0.6838404772182306\n",
      "  Token-Norm: 110.2519302368164\n",
      "  index_no_updates-Token-Norm: 475.90191650390625\n",
      "  LM-Head-Weight-Norm: 17.961769104003906\n",
      "  index_no_updates-LM-Head-Weight-Norm: 636.0464477539062\n",
      "  LM-Head-Bias-Norm: 1.0959078073501587\n",
      "  index_no_updates-LM-Head-Bias-Norm: 200.17538452148438\n",
      "Epoch 241\n"
     ]
    },
    {
     "name": "stderr",
     "output_type": "stream",
     "text": [
      "100%|██████████| 48/48 [00:20<00:00,  2.30it/s]\n"
     ]
    },
    {
     "name": "stdout",
     "output_type": "stream",
     "text": [
      "Epoch 241 loss: 1.9306221355994542, loss_t2i: 2.237334199870626, loss_mmu: 0.7037736481676499\n",
      "  Token-Norm: 110.11088562011719\n",
      "  index_no_updates-Token-Norm: 475.90191650390625\n",
      "  LM-Head-Weight-Norm: 17.87983512878418\n",
      "  index_no_updates-LM-Head-Weight-Norm: 636.0464477539062\n",
      "  LM-Head-Bias-Norm: 1.0919692516326904\n",
      "  index_no_updates-LM-Head-Bias-Norm: 200.17538452148438\n",
      "Epoch 242\n"
     ]
    },
    {
     "name": "stderr",
     "output_type": "stream",
     "text": [
      "100%|██████████| 48/48 [00:20<00:00,  2.29it/s]\n"
     ]
    },
    {
     "name": "stdout",
     "output_type": "stream",
     "text": [
      "Epoch 242 loss: 1.745162246748805, loss_t2i: 2.0230363281443715, loss_mmu: 0.6336657280723254\n",
      "  Token-Norm: 109.78163146972656\n",
      "  index_no_updates-Token-Norm: 475.90191650390625\n",
      "  LM-Head-Weight-Norm: 17.798593521118164\n",
      "  index_no_updates-LM-Head-Weight-Norm: 636.0464477539062\n",
      "  LM-Head-Bias-Norm: 1.0876160860061646\n",
      "  index_no_updates-LM-Head-Bias-Norm: 200.17538452148438\n",
      "Epoch 243\n"
     ]
    },
    {
     "name": "stderr",
     "output_type": "stream",
     "text": [
      "100%|██████████| 48/48 [00:20<00:00,  2.29it/s]\n"
     ]
    },
    {
     "name": "stdout",
     "output_type": "stream",
     "text": [
      "Epoch 243 loss: 1.7689811326563358, loss_t2i: 2.0471448991447687, loss_mmu: 0.6563258816798528\n",
      "  Token-Norm: 109.53730773925781\n",
      "  index_no_updates-Token-Norm: 475.90191650390625\n",
      "  LM-Head-Weight-Norm: 17.71725082397461\n",
      "  index_no_updates-LM-Head-Weight-Norm: 636.0464477539062\n",
      "  LM-Head-Bias-Norm: 1.084462285041809\n",
      "  index_no_updates-LM-Head-Bias-Norm: 200.17538452148438\n",
      "Epoch 244\n"
     ]
    },
    {
     "name": "stderr",
     "output_type": "stream",
     "text": [
      "100%|██████████| 48/48 [00:20<00:00,  2.30it/s]\n"
     ]
    },
    {
     "name": "stdout",
     "output_type": "stream",
     "text": [
      "Epoch 244 loss: 2.0064409573872886, loss_t2i: 2.2937180809676647, loss_mmu: 0.8573322705924511\n",
      "  Token-Norm: 109.6410903930664\n",
      "  index_no_updates-Token-Norm: 475.90191650390625\n",
      "  LM-Head-Weight-Norm: 17.630178451538086\n",
      "  index_no_updates-LM-Head-Weight-Norm: 636.0464477539062\n",
      "  LM-Head-Bias-Norm: 1.0813839435577393\n",
      "  index_no_updates-LM-Head-Bias-Norm: 200.17538452148438\n",
      "Epoch 245\n"
     ]
    },
    {
     "name": "stderr",
     "output_type": "stream",
     "text": [
      "100%|██████████| 48/48 [00:20<00:00,  2.30it/s]\n"
     ]
    },
    {
     "name": "stdout",
     "output_type": "stream",
     "text": [
      "Epoch 245 loss: 1.7501211973528068, loss_t2i: 2.0280579080184302, loss_mmu: 0.6383742373436689\n",
      "  Token-Norm: 109.49199676513672\n",
      "  index_no_updates-Token-Norm: 475.90191650390625\n",
      "  LM-Head-Weight-Norm: 17.550029754638672\n",
      "  index_no_updates-LM-Head-Weight-Norm: 636.0464477539062\n",
      "  LM-Head-Bias-Norm: 1.076913595199585\n",
      "  index_no_updates-LM-Head-Bias-Norm: 200.17538452148438\n",
      "Epoch 246\n"
     ]
    },
    {
     "name": "stderr",
     "output_type": "stream",
     "text": [
      "100%|██████████| 48/48 [00:20<00:00,  2.30it/s]\n"
     ]
    },
    {
     "name": "stdout",
     "output_type": "stream",
     "text": [
      "Epoch 246 loss: 1.7817646612723668, loss_t2i: 2.042482564225793, loss_mmu: 0.738892937079072\n",
      "  Token-Norm: 110.278564453125\n",
      "  index_no_updates-Token-Norm: 475.90191650390625\n",
      "  LM-Head-Weight-Norm: 17.46978187561035\n",
      "  index_no_updates-LM-Head-Weight-Norm: 636.0464477539062\n",
      "  LM-Head-Bias-Norm: 1.0727252960205078\n",
      "  index_no_updates-LM-Head-Bias-Norm: 200.17538452148438\n",
      "Epoch 247\n"
     ]
    },
    {
     "name": "stderr",
     "output_type": "stream",
     "text": [
      "100%|██████████| 48/48 [00:20<00:00,  2.29it/s]\n"
     ]
    },
    {
     "name": "stdout",
     "output_type": "stream",
     "text": [
      "Epoch 247 loss: 1.7657275379945834, loss_t2i: 2.038764695947369, loss_mmu: 0.6735787376140555\n",
      "  Token-Norm: 110.27996063232422\n",
      "  index_no_updates-Token-Norm: 475.90191650390625\n",
      "  LM-Head-Weight-Norm: 17.555753707885742\n",
      "  index_no_updates-LM-Head-Weight-Norm: 636.0464477539062\n",
      "  LM-Head-Bias-Norm: 1.1073260307312012\n",
      "  index_no_updates-LM-Head-Bias-Norm: 200.17538452148438\n",
      "Epoch 248\n"
     ]
    },
    {
     "name": "stderr",
     "output_type": "stream",
     "text": [
      "100%|██████████| 48/48 [00:20<00:00,  2.29it/s]\n"
     ]
    },
    {
     "name": "stdout",
     "output_type": "stream",
     "text": [
      "Epoch 248 loss: 1.9209806720415752, loss_t2i: 2.167462505400181, loss_mmu: 0.9350532454748949\n",
      "  Token-Norm: 111.26658630371094\n",
      "  index_no_updates-Token-Norm: 475.90191650390625\n",
      "  LM-Head-Weight-Norm: 17.880491256713867\n",
      "  index_no_updates-LM-Head-Weight-Norm: 636.0464477539062\n",
      "  LM-Head-Bias-Norm: 1.1439274549484253\n",
      "  index_no_updates-LM-Head-Bias-Norm: 200.17538452148438\n",
      "Epoch 249\n"
     ]
    },
    {
     "name": "stderr",
     "output_type": "stream",
     "text": [
      "100%|██████████| 48/48 [00:20<00:00,  2.29it/s]\n"
     ]
    },
    {
     "name": "stdout",
     "output_type": "stream",
     "text": [
      "Epoch 249 loss: 1.6035399915029604, loss_t2i: 1.838195643387735, loss_mmu: 0.6649171908696493\n",
      "  Token-Norm: 111.03345489501953\n",
      "  index_no_updates-Token-Norm: 475.90191650390625\n",
      "  LM-Head-Weight-Norm: 17.806686401367188\n",
      "  index_no_updates-LM-Head-Weight-Norm: 636.0464477539062\n",
      "  LM-Head-Bias-Norm: 1.140190601348877\n",
      "  index_no_updates-LM-Head-Bias-Norm: 200.17538452148438\n",
      "Epoch 250\n"
     ]
    },
    {
     "name": "stderr",
     "output_type": "stream",
     "text": [
      "100%|██████████| 48/48 [00:21<00:00,  2.28it/s]\n"
     ]
    },
    {
     "name": "stdout",
     "output_type": "stream",
     "text": [
      "Epoch 250 loss: 1.2338796528056264, loss_t2i: 1.4020088181520503, loss_mmu: 0.5613629076008996\n",
      "  Token-Norm: 110.71505737304688\n",
      "  index_no_updates-Token-Norm: 475.90191650390625\n",
      "  LM-Head-Weight-Norm: 17.72574806213379\n",
      "  index_no_updates-LM-Head-Weight-Norm: 636.0464477539062\n",
      "  LM-Head-Bias-Norm: 1.1355388164520264\n",
      "  index_no_updates-LM-Head-Bias-Norm: 200.17538452148438\n",
      "Epoch 251\n"
     ]
    },
    {
     "name": "stderr",
     "output_type": "stream",
     "text": [
      "100%|██████████| 48/48 [00:21<00:00,  2.28it/s]\n"
     ]
    },
    {
     "name": "stdout",
     "output_type": "stream",
     "text": [
      "Epoch 251 loss: 1.5665970221161842, loss_t2i: 1.7780501879751682, loss_mmu: 0.7207842307786146\n",
      "  Token-Norm: 110.43831634521484\n",
      "  index_no_updates-Token-Norm: 475.90191650390625\n",
      "  LM-Head-Weight-Norm: 17.765487670898438\n",
      "  index_no_updates-LM-Head-Weight-Norm: 636.0464477539062\n",
      "  LM-Head-Bias-Norm: 1.1346815824508667\n",
      "  index_no_updates-LM-Head-Bias-Norm: 200.17538452148438\n",
      "Epoch 252\n"
     ]
    },
    {
     "name": "stderr",
     "output_type": "stream",
     "text": [
      "100%|██████████| 48/48 [00:20<00:00,  2.29it/s]\n"
     ]
    },
    {
     "name": "stdout",
     "output_type": "stream",
     "text": [
      "Epoch 252 loss: 1.5304312265167634, loss_t2i: 1.7662626057863235, loss_mmu: 0.5871056060617169\n",
      "  Token-Norm: 110.11985778808594\n",
      "  index_no_updates-Token-Norm: 475.90191650390625\n",
      "  LM-Head-Weight-Norm: 17.765405654907227\n",
      "  index_no_updates-LM-Head-Weight-Norm: 636.0464477539062\n",
      "  LM-Head-Bias-Norm: 1.1425716876983643\n",
      "  index_no_updates-LM-Head-Bias-Norm: 200.17538452148438\n",
      "Epoch 253\n"
     ]
    },
    {
     "name": "stderr",
     "output_type": "stream",
     "text": [
      "100%|██████████| 48/48 [00:21<00:00,  2.28it/s]\n"
     ]
    },
    {
     "name": "stdout",
     "output_type": "stream",
     "text": [
      "Epoch 253 loss: 1.636660414437453, loss_t2i: 1.9336500807354848, loss_mmu: 0.4487016014754772\n",
      "  Token-Norm: 109.79569244384766\n",
      "  index_no_updates-Token-Norm: 475.90191650390625\n",
      "  LM-Head-Weight-Norm: 17.685245513916016\n",
      "  index_no_updates-LM-Head-Weight-Norm: 636.0464477539062\n",
      "  LM-Head-Bias-Norm: 1.1383012533187866\n",
      "  index_no_updates-LM-Head-Bias-Norm: 200.17538452148438\n",
      "Epoch 254\n"
     ]
    },
    {
     "name": "stderr",
     "output_type": "stream",
     "text": [
      "100%|██████████| 48/48 [00:20<00:00,  2.30it/s]\n"
     ]
    },
    {
     "name": "stdout",
     "output_type": "stream",
     "text": [
      "Epoch 254 loss: 1.5966729583839576, loss_t2i: 1.8836782382180293, loss_mmu: 0.4486517213905851\n",
      "  Token-Norm: 109.48516845703125\n",
      "  index_no_updates-Token-Norm: 475.90191650390625\n",
      "  LM-Head-Weight-Norm: 17.60331916809082\n",
      "  index_no_updates-LM-Head-Weight-Norm: 636.0464477539062\n",
      "  LM-Head-Bias-Norm: 1.1339329481124878\n",
      "  index_no_updates-LM-Head-Bias-Norm: 200.17538452148438\n",
      "Epoch 255\n"
     ]
    },
    {
     "name": "stderr",
     "output_type": "stream",
     "text": [
      "100%|██████████| 48/48 [00:21<00:00,  2.29it/s]\n"
     ]
    },
    {
     "name": "stdout",
     "output_type": "stream",
     "text": [
      "Epoch 255 loss: 1.3530297788480918, loss_t2i: 1.585422954832514, loss_mmu: 0.4234569404895107\n",
      "  Token-Norm: 109.20524597167969\n",
      "  index_no_updates-Token-Norm: 475.90191650390625\n",
      "  LM-Head-Weight-Norm: 17.52397346496582\n",
      "  index_no_updates-LM-Head-Weight-Norm: 636.0464477539062\n",
      "  LM-Head-Bias-Norm: 1.1292753219604492\n",
      "  index_no_updates-LM-Head-Bias-Norm: 200.17538452148438\n",
      "Epoch 256\n"
     ]
    },
    {
     "name": "stderr",
     "output_type": "stream",
     "text": [
      "100%|██████████| 48/48 [00:21<00:00,  2.27it/s]\n"
     ]
    },
    {
     "name": "stdout",
     "output_type": "stream",
     "text": [
      "Epoch 256 loss: 1.2641462379445632, loss_t2i: 1.4771969374269247, loss_mmu: 0.41194336240490276\n",
      "  Token-Norm: 108.86669158935547\n",
      "  index_no_updates-Token-Norm: 475.90191650390625\n",
      "  LM-Head-Weight-Norm: 17.443716049194336\n",
      "  index_no_updates-LM-Head-Weight-Norm: 636.0464477539062\n",
      "  LM-Head-Bias-Norm: 1.1251726150512695\n",
      "  index_no_updates-LM-Head-Bias-Norm: 200.17538452148438\n",
      "Epoch 257\n"
     ]
    },
    {
     "name": "stderr",
     "output_type": "stream",
     "text": [
      "100%|██████████| 48/48 [00:21<00:00,  2.28it/s]\n"
     ]
    },
    {
     "name": "stdout",
     "output_type": "stream",
     "text": [
      "Epoch 257 loss: 1.5687289951990049, loss_t2i: 1.7963722571730614, loss_mmu: 0.6581558703134457\n",
      "  Token-Norm: 108.57730102539062\n",
      "  index_no_updates-Token-Norm: 475.90191650390625\n",
      "  LM-Head-Weight-Norm: 17.415502548217773\n",
      "  index_no_updates-LM-Head-Weight-Norm: 636.0464477539062\n",
      "  LM-Head-Bias-Norm: 1.1125688552856445\n",
      "  index_no_updates-LM-Head-Bias-Norm: 200.17538452148438\n",
      "Epoch 258\n"
     ]
    },
    {
     "name": "stderr",
     "output_type": "stream",
     "text": [
      "100%|██████████| 48/48 [00:20<00:00,  2.30it/s]\n"
     ]
    },
    {
     "name": "stdout",
     "output_type": "stream",
     "text": [
      "Epoch 258 loss: 1.9044288670023282, loss_t2i: 2.1125494396934905, loss_mmu: 1.0719463638961315\n",
      "  Token-Norm: 109.01939392089844\n",
      "  index_no_updates-Token-Norm: 475.90191650390625\n",
      "  LM-Head-Weight-Norm: 17.26944923400879\n",
      "  index_no_updates-LM-Head-Weight-Norm: 636.0464477539062\n",
      "  LM-Head-Bias-Norm: 1.1084940433502197\n",
      "  index_no_updates-LM-Head-Bias-Norm: 200.17538452148438\n",
      "Epoch 259\n"
     ]
    },
    {
     "name": "stderr",
     "output_type": "stream",
     "text": [
      "100%|██████████| 48/48 [00:20<00:00,  2.29it/s]\n"
     ]
    },
    {
     "name": "stdout",
     "output_type": "stream",
     "text": [
      "Epoch 259 loss: 1.826242994517088, loss_t2i: 2.0012624971568584, loss_mmu: 1.1261649119357269\n",
      "  Token-Norm: 109.77359771728516\n",
      "  index_no_updates-Token-Norm: 475.90191650390625\n",
      "  LM-Head-Weight-Norm: 17.188594818115234\n",
      "  index_no_updates-LM-Head-Weight-Norm: 636.0464477539062\n",
      "  LM-Head-Bias-Norm: 1.1034773588180542\n",
      "  index_no_updates-LM-Head-Bias-Norm: 200.17538452148438\n",
      "Epoch 260\n"
     ]
    },
    {
     "name": "stderr",
     "output_type": "stream",
     "text": [
      "100%|██████████| 48/48 [00:20<00:00,  2.29it/s]\n"
     ]
    },
    {
     "name": "stdout",
     "output_type": "stream",
     "text": [
      "Epoch 260 loss: 1.5958716583748658, loss_t2i: 1.7906610034406185, loss_mmu: 0.8167142116775116\n",
      "  Token-Norm: 109.9194564819336\n",
      "  index_no_updates-Token-Norm: 475.90191650390625\n",
      "  LM-Head-Weight-Norm: 17.126005172729492\n",
      "  index_no_updates-LM-Head-Weight-Norm: 636.0464477539062\n",
      "  LM-Head-Bias-Norm: 1.1074305772781372\n",
      "  index_no_updates-LM-Head-Bias-Norm: 200.17538452148438\n",
      "Epoch 261\n"
     ]
    },
    {
     "name": "stderr",
     "output_type": "stream",
     "text": [
      "100%|██████████| 48/48 [00:20<00:00,  2.29it/s]\n"
     ]
    },
    {
     "name": "stdout",
     "output_type": "stream",
     "text": [
      "Epoch 261 loss: 1.5176187635709841, loss_t2i: 1.7148869894444942, loss_mmu: 0.7285457241038481\n",
      "  Token-Norm: 109.74455261230469\n",
      "  index_no_updates-Token-Norm: 475.90191650390625\n",
      "  LM-Head-Weight-Norm: 17.054550170898438\n",
      "  index_no_updates-LM-Head-Weight-Norm: 636.0464477539062\n",
      "  LM-Head-Bias-Norm: 1.103711724281311\n",
      "  index_no_updates-LM-Head-Bias-Norm: 200.17538452148438\n",
      "Epoch 262\n"
     ]
    },
    {
     "name": "stderr",
     "output_type": "stream",
     "text": [
      "100%|██████████| 48/48 [00:20<00:00,  2.30it/s]\n"
     ]
    },
    {
     "name": "stdout",
     "output_type": "stream",
     "text": [
      "Epoch 262 loss: 1.5187773238867521, loss_t2i: 1.7424323000013828, loss_mmu: 0.6241573011502624\n",
      "  Token-Norm: 109.54376220703125\n",
      "  index_no_updates-Token-Norm: 475.90191650390625\n",
      "  LM-Head-Weight-Norm: 16.976465225219727\n",
      "  index_no_updates-LM-Head-Weight-Norm: 636.0464477539062\n",
      "  LM-Head-Bias-Norm: 1.0989960432052612\n",
      "  index_no_updates-LM-Head-Bias-Norm: 200.17538452148438\n",
      "Epoch 263\n"
     ]
    },
    {
     "name": "stderr",
     "output_type": "stream",
     "text": [
      "100%|██████████| 48/48 [00:20<00:00,  2.30it/s]\n"
     ]
    },
    {
     "name": "stdout",
     "output_type": "stream",
     "text": [
      "Epoch 263 loss: 1.3522377392898004, loss_t2i: 1.572034605468313, loss_mmu: 0.4730502280096213\n",
      "  Token-Norm: 109.2626953125\n",
      "  index_no_updates-Token-Norm: 475.90191650390625\n",
      "  LM-Head-Weight-Norm: 16.898643493652344\n",
      "  index_no_updates-LM-Head-Weight-Norm: 636.0464477539062\n",
      "  LM-Head-Bias-Norm: 1.0942827463150024\n",
      "  index_no_updates-LM-Head-Bias-Norm: 200.17538452148438\n",
      "Epoch 264\n"
     ]
    },
    {
     "name": "stderr",
     "output_type": "stream",
     "text": [
      "100%|██████████| 48/48 [00:20<00:00,  2.31it/s]\n"
     ]
    },
    {
     "name": "stdout",
     "output_type": "stream",
     "text": [
      "Epoch 264 loss: 1.4061011634767056, loss_t2i: 1.6470193836527567, loss_mmu: 0.44242817039291066\n",
      "  Token-Norm: 109.02085876464844\n",
      "  index_no_updates-Token-Norm: 475.90191650390625\n",
      "  LM-Head-Weight-Norm: 16.822851181030273\n",
      "  index_no_updates-LM-Head-Weight-Norm: 636.0464477539062\n",
      "  LM-Head-Bias-Norm: 1.089880108833313\n",
      "  index_no_updates-LM-Head-Bias-Norm: 200.17538452148438\n",
      "Epoch 265\n"
     ]
    },
    {
     "name": "stderr",
     "output_type": "stream",
     "text": [
      "100%|██████████| 48/48 [00:20<00:00,  2.30it/s]\n"
     ]
    },
    {
     "name": "stdout",
     "output_type": "stream",
     "text": [
      "Epoch 265 loss: 1.3001653840765357, loss_t2i: 1.5288957295318444, loss_mmu: 0.3852438349276781\n",
      "  Token-Norm: 108.96015930175781\n",
      "  index_no_updates-Token-Norm: 475.90191650390625\n",
      "  LM-Head-Weight-Norm: 16.745941162109375\n",
      "  index_no_updates-LM-Head-Weight-Norm: 636.0464477539062\n",
      "  LM-Head-Bias-Norm: 1.0853337049484253\n",
      "  index_no_updates-LM-Head-Bias-Norm: 200.17538452148438\n",
      "Epoch 266\n"
     ]
    },
    {
     "name": "stderr",
     "output_type": "stream",
     "text": [
      "100%|██████████| 48/48 [00:20<00:00,  2.31it/s]\n"
     ]
    },
    {
     "name": "stdout",
     "output_type": "stream",
     "text": [
      "Epoch 266 loss: 1.0911342669278383, loss_t2i: 1.2747200418574114, loss_mmu: 0.35679109549770754\n",
      "  Token-Norm: 108.56595611572266\n",
      "  index_no_updates-Token-Norm: 475.90191650390625\n",
      "  LM-Head-Weight-Norm: 16.670303344726562\n",
      "  index_no_updates-LM-Head-Weight-Norm: 636.0464477539062\n",
      "  LM-Head-Bias-Norm: 1.0810643434524536\n",
      "  index_no_updates-LM-Head-Bias-Norm: 200.17538452148438\n",
      "Epoch 267\n"
     ]
    },
    {
     "name": "stderr",
     "output_type": "stream",
     "text": [
      "100%|██████████| 48/48 [00:20<00:00,  2.30it/s]\n"
     ]
    },
    {
     "name": "stdout",
     "output_type": "stream",
     "text": [
      "Epoch 267 loss: 1.1440003517394264, loss_t2i: 1.3450345403204362, loss_mmu: 0.33986355861028034\n",
      "  Token-Norm: 108.30950927734375\n",
      "  index_no_updates-Token-Norm: 475.90191650390625\n",
      "  LM-Head-Weight-Norm: 16.59563636779785\n",
      "  index_no_updates-LM-Head-Weight-Norm: 636.0464477539062\n",
      "  LM-Head-Bias-Norm: 1.076817512512207\n",
      "  index_no_updates-LM-Head-Bias-Norm: 200.17538452148438\n",
      "Epoch 268\n"
     ]
    },
    {
     "name": "stderr",
     "output_type": "stream",
     "text": [
      "100%|██████████| 48/48 [00:20<00:00,  2.31it/s]\n"
     ]
    },
    {
     "name": "stdout",
     "output_type": "stream",
     "text": [
      "Epoch 268 loss: 1.1910700319955747, loss_t2i: 1.408897887604932, loss_mmu: 0.3197585344314575\n",
      "  Token-Norm: 108.00897979736328\n",
      "  index_no_updates-Token-Norm: 475.90191650390625\n",
      "  LM-Head-Weight-Norm: 16.984111785888672\n",
      "  index_no_updates-LM-Head-Weight-Norm: 636.0464477539062\n",
      "  LM-Head-Bias-Norm: 1.1354504823684692\n",
      "  index_no_updates-LM-Head-Bias-Norm: 200.17538452148438\n",
      "Epoch 269\n"
     ]
    },
    {
     "name": "stderr",
     "output_type": "stream",
     "text": [
      "100%|██████████| 48/48 [00:20<00:00,  2.30it/s]\n"
     ]
    },
    {
     "name": "stdout",
     "output_type": "stream",
     "text": [
      "Epoch 269 loss: 1.070277472647528, loss_t2i: 1.2588002160191536, loss_mmu: 0.3161863995095094\n",
      "  Token-Norm: 107.7403335571289\n",
      "  index_no_updates-Token-Norm: 475.90191650390625\n",
      "  LM-Head-Weight-Norm: 18.45919418334961\n",
      "  index_no_updates-LM-Head-Weight-Norm: 636.0464477539062\n",
      "  LM-Head-Bias-Norm: 1.3513810634613037\n",
      "  index_no_updates-LM-Head-Bias-Norm: 200.17538452148438\n",
      "Epoch 270\n"
     ]
    },
    {
     "name": "stderr",
     "output_type": "stream",
     "text": [
      "100%|██████████| 48/48 [00:20<00:00,  2.31it/s]\n"
     ]
    },
    {
     "name": "stdout",
     "output_type": "stream",
     "text": [
      "Epoch 270 loss: 0.9832894426460067, loss_t2i: 1.1539057921618223, loss_mmu: 0.30082398901383084\n",
      "  Token-Norm: 107.46527099609375\n",
      "  index_no_updates-Token-Norm: 475.90191650390625\n",
      "  LM-Head-Weight-Norm: 18.644119262695312\n",
      "  index_no_updates-LM-Head-Weight-Norm: 636.0464477539062\n",
      "  LM-Head-Bias-Norm: 1.384960651397705\n",
      "  index_no_updates-LM-Head-Bias-Norm: 200.17538452148438\n",
      "Epoch 271\n"
     ]
    },
    {
     "name": "stderr",
     "output_type": "stream",
     "text": [
      "100%|██████████| 48/48 [00:20<00:00,  2.30it/s]\n"
     ]
    },
    {
     "name": "stdout",
     "output_type": "stream",
     "text": [
      "Epoch 271 loss: 1.0805673253101606, loss_t2i: 1.2749131619930267, loss_mmu: 0.303183906711638\n",
      "  Token-Norm: 107.218017578125\n",
      "  index_no_updates-Token-Norm: 475.90191650390625\n",
      "  LM-Head-Weight-Norm: 18.7600040435791\n",
      "  index_no_updates-LM-Head-Weight-Norm: 636.0464477539062\n",
      "  LM-Head-Bias-Norm: 1.43717360496521\n",
      "  index_no_updates-LM-Head-Bias-Norm: 200.17538452148438\n",
      "Epoch 272\n"
     ]
    },
    {
     "name": "stderr",
     "output_type": "stream",
     "text": [
      "100%|██████████| 48/48 [00:20<00:00,  2.29it/s]\n"
     ]
    },
    {
     "name": "stdout",
     "output_type": "stream",
     "text": [
      "Epoch 272 loss: 0.8613873769839605, loss_t2i: 1.0063676959834993, loss_mmu: 0.2814660056804617\n",
      "  Token-Norm: 106.97148132324219\n",
      "  index_no_updates-Token-Norm: 475.90191650390625\n",
      "  LM-Head-Weight-Norm: 18.68400001525879\n",
      "  index_no_updates-LM-Head-Weight-Norm: 636.0464477539062\n",
      "  LM-Head-Bias-Norm: 1.4318562746047974\n",
      "  index_no_updates-LM-Head-Bias-Norm: 200.17538452148438\n",
      "Epoch 273\n"
     ]
    },
    {
     "name": "stderr",
     "output_type": "stream",
     "text": [
      "100%|██████████| 48/48 [00:20<00:00,  2.29it/s]\n"
     ]
    },
    {
     "name": "stdout",
     "output_type": "stream",
     "text": [
      "Epoch 273 loss: 0.9048843343431751, loss_t2i: 1.0676368409767747, loss_mmu: 0.2538742452549438\n",
      "  Token-Norm: 106.77530670166016\n",
      "  index_no_updates-Token-Norm: 475.90191650390625\n",
      "  LM-Head-Weight-Norm: 18.59791374206543\n",
      "  index_no_updates-LM-Head-Weight-Norm: 636.0464477539062\n",
      "  LM-Head-Bias-Norm: 1.4255262613296509\n",
      "  index_no_updates-LM-Head-Bias-Norm: 200.17538452148438\n",
      "Epoch 274\n"
     ]
    },
    {
     "name": "stderr",
     "output_type": "stream",
     "text": [
      "100%|██████████| 48/48 [00:21<00:00,  2.29it/s]\n"
     ]
    },
    {
     "name": "stdout",
     "output_type": "stream",
     "text": [
      "Epoch 274 loss: 1.0737528686101239, loss_t2i: 1.2592343520373106, loss_mmu: 0.3318268652074039\n",
      "  Token-Norm: 108.02316284179688\n",
      "  index_no_updates-Token-Norm: 475.90191650390625\n",
      "  LM-Head-Weight-Norm: 18.51174545288086\n",
      "  index_no_updates-LM-Head-Weight-Norm: 636.0464477539062\n",
      "  LM-Head-Bias-Norm: 1.419166922569275\n",
      "  index_no_updates-LM-Head-Bias-Norm: 200.17538452148438\n",
      "Epoch 275\n"
     ]
    },
    {
     "name": "stderr",
     "output_type": "stream",
     "text": [
      "100%|██████████| 48/48 [00:20<00:00,  2.30it/s]\n"
     ]
    },
    {
     "name": "stdout",
     "output_type": "stream",
     "text": [
      "Epoch 275 loss: 1.1588689863371353, loss_t2i: 1.364317290795346, loss_mmu: 0.3370757467734317\n",
      "  Token-Norm: 109.08654022216797\n",
      "  index_no_updates-Token-Norm: 475.90191650390625\n",
      "  LM-Head-Weight-Norm: 18.42620277404785\n",
      "  index_no_updates-LM-Head-Weight-Norm: 636.0464477539062\n",
      "  LM-Head-Bias-Norm: 1.4128612279891968\n",
      "  index_no_updates-LM-Head-Bias-Norm: 200.17538452148438\n",
      "Epoch 276\n"
     ]
    },
    {
     "name": "stderr",
     "output_type": "stream",
     "text": [
      "100%|██████████| 48/48 [00:20<00:00,  2.29it/s]\n"
     ]
    },
    {
     "name": "stdout",
     "output_type": "stream",
     "text": [
      "Epoch 276 loss: 1.0209579036260645, loss_t2i: 1.215736563007037, loss_mmu: 0.24184319019938508\n",
      "  Token-Norm: 108.8853759765625\n",
      "  index_no_updates-Token-Norm: 475.90191650390625\n",
      "  LM-Head-Weight-Norm: 18.34139060974121\n",
      "  index_no_updates-LM-Head-Weight-Norm: 636.0464477539062\n",
      "  LM-Head-Bias-Norm: 1.4066935777664185\n",
      "  index_no_updates-LM-Head-Bias-Norm: 200.17538452148438\n",
      "Epoch 277\n"
     ]
    },
    {
     "name": "stderr",
     "output_type": "stream",
     "text": [
      "100%|██████████| 48/48 [00:20<00:00,  2.29it/s]\n"
     ]
    },
    {
     "name": "stdout",
     "output_type": "stream",
     "text": [
      "Epoch 277 loss: 0.9710314723973473, loss_t2i: 1.1572835054248571, loss_mmu: 0.22602326143532991\n",
      "  Token-Norm: 108.5814437866211\n",
      "  index_no_updates-Token-Norm: 475.90191650390625\n",
      "  LM-Head-Weight-Norm: 18.25650978088379\n",
      "  index_no_updates-LM-Head-Weight-Norm: 636.0464477539062\n",
      "  LM-Head-Bias-Norm: 1.4006484746932983\n",
      "  index_no_updates-LM-Head-Bias-Norm: 200.17538452148438\n",
      "Epoch 278\n"
     ]
    },
    {
     "name": "stderr",
     "output_type": "stream",
     "text": [
      "100%|██████████| 48/48 [00:20<00:00,  2.29it/s]\n"
     ]
    },
    {
     "name": "stdout",
     "output_type": "stream",
     "text": [
      "Epoch 278 loss: 0.7798565064246455, loss_t2i: 0.9131253299613794, loss_mmu: 0.24678111417839924\n",
      "  Token-Norm: 108.46875\n",
      "  index_no_updates-Token-Norm: 475.90191650390625\n",
      "  LM-Head-Weight-Norm: 18.17243766784668\n",
      "  index_no_updates-LM-Head-Weight-Norm: 636.0464477539062\n",
      "  LM-Head-Bias-Norm: 1.394519567489624\n",
      "  index_no_updates-LM-Head-Bias-Norm: 200.17538452148438\n",
      "Epoch 279\n"
     ]
    },
    {
     "name": "stderr",
     "output_type": "stream",
     "text": [
      "100%|██████████| 48/48 [00:20<00:00,  2.29it/s]\n"
     ]
    },
    {
     "name": "stdout",
     "output_type": "stream",
     "text": [
      "Epoch 279 loss: 1.002976714943846, loss_t2i: 1.1280280137434602, loss_mmu: 0.502771422577401\n",
      "  Token-Norm: 108.86418914794922\n",
      "  index_no_updates-Token-Norm: 475.90191650390625\n",
      "  LM-Head-Weight-Norm: 19.148548126220703\n",
      "  index_no_updates-LM-Head-Weight-Norm: 636.0464477539062\n",
      "  LM-Head-Bias-Norm: 1.3646972179412842\n",
      "  index_no_updates-LM-Head-Bias-Norm: 200.17538452148438\n",
      "Epoch 280\n"
     ]
    },
    {
     "name": "stderr",
     "output_type": "stream",
     "text": [
      "100%|██████████| 48/48 [00:20<00:00,  2.29it/s]\n"
     ]
    },
    {
     "name": "stdout",
     "output_type": "stream",
     "text": [
      "Epoch 280 loss: 1.1296483622863889, loss_t2i: 1.2965032712866862, loss_mmu: 0.4622286253919204\n",
      "  Token-Norm: 109.25691986083984\n",
      "  index_no_updates-Token-Norm: 475.90191650390625\n",
      "  LM-Head-Weight-Norm: 19.40093231201172\n",
      "  index_no_updates-LM-Head-Weight-Norm: 636.0464477539062\n",
      "  LM-Head-Bias-Norm: 1.3673571348190308\n",
      "  index_no_updates-LM-Head-Bias-Norm: 200.17538452148438\n",
      "Epoch 281\n"
     ]
    },
    {
     "name": "stderr",
     "output_type": "stream",
     "text": [
      "100%|██████████| 48/48 [00:20<00:00,  2.30it/s]\n"
     ]
    },
    {
     "name": "stdout",
     "output_type": "stream",
     "text": [
      "Epoch 281 loss: 0.9302543322555721, loss_t2i: 1.0814266838133335, loss_mmu: 0.32556486036628485\n",
      "  Token-Norm: 109.19093322753906\n",
      "  index_no_updates-Token-Norm: 475.90191650390625\n",
      "  LM-Head-Weight-Norm: 19.30613136291504\n",
      "  index_no_updates-LM-Head-Weight-Norm: 636.0464477539062\n",
      "  LM-Head-Bias-Norm: 1.3633427619934082\n",
      "  index_no_updates-LM-Head-Bias-Norm: 200.17538452148438\n",
      "Epoch 282\n"
     ]
    },
    {
     "name": "stderr",
     "output_type": "stream",
     "text": [
      "100%|██████████| 48/48 [00:20<00:00,  2.29it/s]\n"
     ]
    },
    {
     "name": "stdout",
     "output_type": "stream",
     "text": [
      "Epoch 282 loss: 0.9660823857411742, loss_t2i: 1.1537542312095563, loss_mmu: 0.21539500433330735\n",
      "  Token-Norm: 108.98896026611328\n",
      "  index_no_updates-Token-Norm: 475.90191650390625\n",
      "  LM-Head-Weight-Norm: 19.21559715270996\n",
      "  index_no_updates-LM-Head-Weight-Norm: 636.0464477539062\n",
      "  LM-Head-Bias-Norm: 1.3572474718093872\n",
      "  index_no_updates-LM-Head-Bias-Norm: 200.17538452148438\n",
      "Epoch 283\n"
     ]
    },
    {
     "name": "stderr",
     "output_type": "stream",
     "text": [
      "100%|██████████| 48/48 [00:21<00:00,  2.28it/s]\n"
     ]
    },
    {
     "name": "stdout",
     "output_type": "stream",
     "text": [
      "Epoch 283 loss: 1.0109771117568016, loss_t2i: 1.2124336535731952, loss_mmu: 0.20515091988878945\n",
      "  Token-Norm: 108.7453384399414\n",
      "  index_no_updates-Token-Norm: 475.90191650390625\n",
      "  LM-Head-Weight-Norm: 19.127534866333008\n",
      "  index_no_updates-LM-Head-Weight-Norm: 636.0464477539062\n",
      "  LM-Head-Bias-Norm: 1.3554555177688599\n",
      "  index_no_updates-LM-Head-Bias-Norm: 200.17538452148438\n",
      "Epoch 284\n"
     ]
    },
    {
     "name": "stderr",
     "output_type": "stream",
     "text": [
      "100%|██████████| 48/48 [00:21<00:00,  2.28it/s]\n"
     ]
    },
    {
     "name": "stdout",
     "output_type": "stream",
     "text": [
      "Epoch 284 loss: 0.7003555855092903, loss_t2i: 0.8271254746553799, loss_mmu: 0.19327598080659905\n",
      "  Token-Norm: 108.48348999023438\n",
      "  index_no_updates-Token-Norm: 475.90191650390625\n",
      "  LM-Head-Weight-Norm: 19.04088020324707\n",
      "  index_no_updates-LM-Head-Weight-Norm: 636.0464477539062\n",
      "  LM-Head-Bias-Norm: 1.3500615358352661\n",
      "  index_no_updates-LM-Head-Bias-Norm: 200.17538452148438\n",
      "Epoch 285\n"
     ]
    },
    {
     "name": "stderr",
     "output_type": "stream",
     "text": [
      "100%|██████████| 48/48 [00:20<00:00,  2.29it/s]\n"
     ]
    },
    {
     "name": "stdout",
     "output_type": "stream",
     "text": [
      "Epoch 285 loss: 1.1776485278581579, loss_t2i: 1.415970746582995, loss_mmu: 0.22435963231449327\n",
      "  Token-Norm: 108.35387420654297\n",
      "  index_no_updates-Token-Norm: 475.90191650390625\n",
      "  LM-Head-Weight-Norm: 18.951940536499023\n",
      "  index_no_updates-LM-Head-Weight-Norm: 636.0464477539062\n",
      "  LM-Head-Bias-Norm: 1.3441250324249268\n",
      "  index_no_updates-LM-Head-Bias-Norm: 200.17538452148438\n",
      "Epoch 286\n"
     ]
    },
    {
     "name": "stderr",
     "output_type": "stream",
     "text": [
      "100%|██████████| 48/48 [00:20<00:00,  2.30it/s]\n"
     ]
    },
    {
     "name": "stdout",
     "output_type": "stream",
     "text": [
      "Epoch 286 loss: 1.035975663146625, loss_t2i: 1.2429874118727942, loss_mmu: 0.20792857146201035\n",
      "  Token-Norm: 108.21869659423828\n",
      "  index_no_updates-Token-Norm: 475.90191650390625\n",
      "  LM-Head-Weight-Norm: 18.8636417388916\n",
      "  index_no_updates-LM-Head-Weight-Norm: 636.0464477539062\n",
      "  LM-Head-Bias-Norm: 1.3382927179336548\n",
      "  index_no_updates-LM-Head-Bias-Norm: 200.17538452148438\n",
      "Epoch 287\n"
     ]
    },
    {
     "name": "stderr",
     "output_type": "stream",
     "text": [
      "100%|██████████| 48/48 [00:20<00:00,  2.31it/s]\n"
     ]
    },
    {
     "name": "stdout",
     "output_type": "stream",
     "text": [
      "Epoch 287 loss: 1.5178342095265787, loss_t2i: 1.7828110037371516, loss_mmu: 0.4579269516592224\n",
      "  Token-Norm: 108.4917984008789\n",
      "  index_no_updates-Token-Norm: 475.90191650390625\n",
      "  LM-Head-Weight-Norm: 18.775657653808594\n",
      "  index_no_updates-LM-Head-Weight-Norm: 636.0464477539062\n",
      "  LM-Head-Bias-Norm: 1.3323417901992798\n",
      "  index_no_updates-LM-Head-Bias-Norm: 200.17538452148438\n",
      "Epoch 288\n"
     ]
    },
    {
     "name": "stderr",
     "output_type": "stream",
     "text": [
      "100%|██████████| 48/48 [00:20<00:00,  2.30it/s]\n"
     ]
    },
    {
     "name": "stdout",
     "output_type": "stream",
     "text": [
      "Epoch 288 loss: 1.0730682881549, loss_t2i: 1.2601988445967436, loss_mmu: 0.3245459543541074\n",
      "  Token-Norm: 108.39275360107422\n",
      "  index_no_updates-Token-Norm: 475.90191650390625\n",
      "  LM-Head-Weight-Norm: 18.6876277923584\n",
      "  index_no_updates-LM-Head-Weight-Norm: 636.0464477539062\n",
      "  LM-Head-Bias-Norm: 1.3264037370681763\n",
      "  index_no_updates-LM-Head-Bias-Norm: 200.17538452148438\n",
      "Epoch 289\n"
     ]
    },
    {
     "name": "stderr",
     "output_type": "stream",
     "text": [
      "100%|██████████| 48/48 [00:20<00:00,  2.29it/s]\n"
     ]
    },
    {
     "name": "stdout",
     "output_type": "stream",
     "text": [
      "Epoch 289 loss: 1.0147582814097404, loss_t2i: 1.199524893425405, loss_mmu: 0.2756918005955716\n",
      "  Token-Norm: 108.34013366699219\n",
      "  index_no_updates-Token-Norm: 475.90191650390625\n",
      "  LM-Head-Weight-Norm: 18.599811553955078\n",
      "  index_no_updates-LM-Head-Weight-Norm: 636.0464477539062\n",
      "  LM-Head-Bias-Norm: 1.3204855918884277\n",
      "  index_no_updates-LM-Head-Bias-Norm: 200.17538452148438\n",
      "Epoch 290\n"
     ]
    },
    {
     "name": "stderr",
     "output_type": "stream",
     "text": [
      "100%|██████████| 48/48 [00:20<00:00,  2.30it/s]\n"
     ]
    },
    {
     "name": "stdout",
     "output_type": "stream",
     "text": [
      "Epoch 290 loss: 1.5634410753846169, loss_t2i: 1.513396826883157, loss_mmu: 1.7636179483185213\n",
      "  Token-Norm: 111.97444152832031\n",
      "  index_no_updates-Token-Norm: 475.90191650390625\n",
      "  LM-Head-Weight-Norm: 20.306161880493164\n",
      "  index_no_updates-LM-Head-Weight-Norm: 636.0464477539062\n",
      "  LM-Head-Bias-Norm: 1.2984733581542969\n",
      "  index_no_updates-LM-Head-Bias-Norm: 200.17538452148438\n",
      "Epoch 291\n"
     ]
    },
    {
     "name": "stderr",
     "output_type": "stream",
     "text": [
      "100%|██████████| 48/48 [00:20<00:00,  2.29it/s]\n"
     ]
    },
    {
     "name": "stdout",
     "output_type": "stream",
     "text": [
      "Epoch 291 loss: 1.0845205305765073, loss_t2i: 1.1526636152217786, loss_mmu: 0.8119480771323045\n",
      "  Token-Norm: 113.46530151367188\n",
      "  index_no_updates-Token-Norm: 475.90191650390625\n",
      "  LM-Head-Weight-Norm: 20.471649169921875\n",
      "  index_no_updates-LM-Head-Weight-Norm: 636.0464477539062\n",
      "  LM-Head-Bias-Norm: 1.310619592666626\n",
      "  index_no_updates-LM-Head-Bias-Norm: 200.17538452148438\n",
      "Epoch 292\n"
     ]
    },
    {
     "name": "stderr",
     "output_type": "stream",
     "text": [
      "100%|██████████| 48/48 [00:21<00:00,  2.28it/s]\n"
     ]
    },
    {
     "name": "stdout",
     "output_type": "stream",
     "text": [
      "Epoch 292 loss: 0.7445620329429706, loss_t2i: 0.8118890194843212, loss_mmu: 0.4752540440919499\n",
      "  Token-Norm: 113.55525970458984\n",
      "  index_no_updates-Token-Norm: 475.90191650390625\n",
      "  LM-Head-Weight-Norm: 20.38258171081543\n",
      "  index_no_updates-LM-Head-Weight-Norm: 636.0464477539062\n",
      "  LM-Head-Bias-Norm: 1.3102474212646484\n",
      "  index_no_updates-LM-Head-Bias-Norm: 200.17538452148438\n",
      "Epoch 293\n"
     ]
    },
    {
     "name": "stderr",
     "output_type": "stream",
     "text": [
      "100%|██████████| 48/48 [00:20<00:00,  2.29it/s]\n"
     ]
    },
    {
     "name": "stdout",
     "output_type": "stream",
     "text": [
      "Epoch 293 loss: 1.1685196192314227, loss_t2i: 1.3590350880598028, loss_mmu: 0.4064576073239247\n",
      "  Token-Norm: 113.484130859375\n",
      "  index_no_updates-Token-Norm: 475.90191650390625\n",
      "  LM-Head-Weight-Norm: 20.302120208740234\n",
      "  index_no_updates-LM-Head-Weight-Norm: 636.0464477539062\n",
      "  LM-Head-Bias-Norm: 1.3080451488494873\n",
      "  index_no_updates-LM-Head-Bias-Norm: 200.17538452148438\n",
      "Epoch 294\n"
     ]
    },
    {
     "name": "stderr",
     "output_type": "stream",
     "text": [
      "100%|██████████| 48/48 [00:20<00:00,  2.29it/s]\n"
     ]
    },
    {
     "name": "stdout",
     "output_type": "stream",
     "text": [
      "Epoch 294 loss: 0.8338356309880813, loss_t2i: 0.921113240144526, loss_mmu: 0.4847251319636901\n",
      "  Token-Norm: 113.78091430664062\n",
      "  index_no_updates-Token-Norm: 475.90191650390625\n",
      "  LM-Head-Weight-Norm: 20.229557037353516\n",
      "  index_no_updates-LM-Head-Weight-Norm: 636.0464477539062\n",
      "  LM-Head-Bias-Norm: 1.3047751188278198\n",
      "  index_no_updates-LM-Head-Bias-Norm: 200.17538452148438\n",
      "Epoch 295\n"
     ]
    },
    {
     "name": "stderr",
     "output_type": "stream",
     "text": [
      "100%|██████████| 48/48 [00:20<00:00,  2.30it/s]\n"
     ]
    },
    {
     "name": "stdout",
     "output_type": "stream",
     "text": [
      "Epoch 295 loss: 1.0889910322924454, loss_t2i: 1.2680834806524217, loss_mmu: 0.37262112740427256\n",
      "  Token-Norm: 113.9118881225586\n",
      "  index_no_updates-Token-Norm: 475.90191650390625\n",
      "  LM-Head-Weight-Norm: 20.17523193359375\n",
      "  index_no_updates-LM-Head-Weight-Norm: 636.0464477539062\n",
      "  LM-Head-Bias-Norm: 1.3165279626846313\n",
      "  index_no_updates-LM-Head-Bias-Norm: 200.17538452148438\n",
      "Epoch 296\n"
     ]
    },
    {
     "name": "stderr",
     "output_type": "stream",
     "text": [
      "100%|██████████| 48/48 [00:20<00:00,  2.29it/s]\n"
     ]
    },
    {
     "name": "stdout",
     "output_type": "stream",
     "text": [
      "Epoch 296 loss: 0.8240584707818925, loss_t2i: 0.9675939672936996, loss_mmu: 0.24991638585925102\n",
      "  Token-Norm: 113.68873596191406\n",
      "  index_no_updates-Token-Norm: 475.90191650390625\n",
      "  LM-Head-Weight-Norm: 20.094970703125\n",
      "  index_no_updates-LM-Head-Weight-Norm: 636.0464477539062\n",
      "  LM-Head-Bias-Norm: 1.3146424293518066\n",
      "  index_no_updates-LM-Head-Bias-Norm: 200.17538452148438\n",
      "Epoch 297\n"
     ]
    },
    {
     "name": "stderr",
     "output_type": "stream",
     "text": [
      "100%|██████████| 48/48 [00:20<00:00,  2.29it/s]\n"
     ]
    },
    {
     "name": "stdout",
     "output_type": "stream",
     "text": [
      "Epoch 297 loss: 0.8091840138658881, loss_t2i: 0.9642249733830491, loss_mmu: 0.18902010408540568\n",
      "  Token-Norm: 113.34967041015625\n",
      "  index_no_updates-Token-Norm: 475.90191650390625\n",
      "  LM-Head-Weight-Norm: 20.000457763671875\n",
      "  index_no_updates-LM-Head-Weight-Norm: 636.0464477539062\n",
      "  LM-Head-Bias-Norm: 1.308638095855713\n",
      "  index_no_updates-LM-Head-Bias-Norm: 200.17538452148438\n",
      "Epoch 298\n"
     ]
    },
    {
     "name": "stderr",
     "output_type": "stream",
     "text": [
      "100%|██████████| 48/48 [00:20<00:00,  2.29it/s]\n"
     ]
    },
    {
     "name": "stdout",
     "output_type": "stream",
     "text": [
      "Epoch 298 loss: 0.8353530030387143, loss_t2i: 0.9972956391672293, loss_mmu: 0.18758239364251494\n",
      "  Token-Norm: 113.04457092285156\n",
      "  index_no_updates-Token-Norm: 475.90191650390625\n",
      "  LM-Head-Weight-Norm: 19.905731201171875\n",
      "  index_no_updates-LM-Head-Weight-Norm: 636.0464477539062\n",
      "  LM-Head-Bias-Norm: 1.3103889226913452\n",
      "  index_no_updates-LM-Head-Bias-Norm: 200.17538452148438\n",
      "Epoch 299\n"
     ]
    },
    {
     "name": "stderr",
     "output_type": "stream",
     "text": [
      "100%|██████████| 48/48 [00:20<00:00,  2.29it/s]\n"
     ]
    },
    {
     "name": "stdout",
     "output_type": "stream",
     "text": [
      "Epoch 299 loss: 0.7800075467675924, loss_t2i: 0.9304095528398951, loss_mmu: 0.17839943757280707\n",
      "  Token-Norm: 112.65304565429688\n",
      "  index_no_updates-Token-Norm: 475.90191650390625\n",
      "  LM-Head-Weight-Norm: 19.81248664855957\n",
      "  index_no_updates-LM-Head-Weight-Norm: 636.0464477539062\n",
      "  LM-Head-Bias-Norm: 1.3044575452804565\n",
      "  index_no_updates-LM-Head-Bias-Norm: 200.17538452148438\n",
      "Epoch 300\n"
     ]
    },
    {
     "name": "stderr",
     "output_type": "stream",
     "text": [
      "100%|██████████| 48/48 [00:20<00:00,  2.29it/s]\n"
     ]
    },
    {
     "name": "stdout",
     "output_type": "stream",
     "text": [
      "Epoch 300 loss: 0.8374923641482989, loss_t2i: 1.0025503849610686, loss_mmu: 0.17726021190173924\n",
      "  Token-Norm: 112.30144500732422\n",
      "  index_no_updates-Token-Norm: 475.90191650390625\n",
      "  LM-Head-Weight-Norm: 19.71980094909668\n",
      "  index_no_updates-LM-Head-Weight-Norm: 636.0464477539062\n",
      "  LM-Head-Bias-Norm: 1.2985553741455078\n",
      "  index_no_updates-LM-Head-Bias-Norm: 200.17538452148438\n",
      "Epoch 301\n"
     ]
    },
    {
     "name": "stderr",
     "output_type": "stream",
     "text": [
      "100%|██████████| 48/48 [00:21<00:00,  2.28it/s]\n"
     ]
    },
    {
     "name": "stdout",
     "output_type": "stream",
     "text": [
      "Epoch 301 loss: 0.9515784778632224, loss_t2i: 1.1433388766211767, loss_mmu: 0.1845368007197976\n",
      "  Token-Norm: 111.98924255371094\n",
      "  index_no_updates-Token-Norm: 475.90191650390625\n",
      "  LM-Head-Weight-Norm: 19.633686065673828\n",
      "  index_no_updates-LM-Head-Weight-Norm: 636.0464477539062\n",
      "  LM-Head-Bias-Norm: 1.2983460426330566\n",
      "  index_no_updates-LM-Head-Bias-Norm: 200.17538452148438\n",
      "Epoch 302\n"
     ]
    },
    {
     "name": "stderr",
     "output_type": "stream",
     "text": [
      "100%|██████████| 48/48 [00:20<00:00,  2.29it/s]\n"
     ]
    },
    {
     "name": "stdout",
     "output_type": "stream",
     "text": [
      "Epoch 302 loss: 0.7534004229431351, loss_t2i: 0.9032001177159449, loss_mmu: 0.1542015594895929\n",
      "  Token-Norm: 111.72762298583984\n",
      "  index_no_updates-Token-Norm: 475.90191650390625\n",
      "  LM-Head-Weight-Norm: 19.543500900268555\n",
      "  index_no_updates-LM-Head-Weight-Norm: 636.0464477539062\n",
      "  LM-Head-Bias-Norm: 1.2928688526153564\n",
      "  index_no_updates-LM-Head-Bias-Norm: 200.17538452148438\n",
      "Epoch 303\n"
     ]
    },
    {
     "name": "stderr",
     "output_type": "stream",
     "text": [
      "100%|██████████| 48/48 [00:20<00:00,  2.29it/s]\n"
     ]
    },
    {
     "name": "stdout",
     "output_type": "stream",
     "text": [
      "Epoch 303 loss: 0.7273181482839087, loss_t2i: 0.8711034037793676, loss_mmu: 0.15217710643385848\n",
      "  Token-Norm: 111.40377044677734\n",
      "  index_no_updates-Token-Norm: 475.90191650390625\n",
      "  LM-Head-Weight-Norm: 19.452037811279297\n",
      "  index_no_updates-LM-Head-Weight-Norm: 636.0464477539062\n",
      "  LM-Head-Bias-Norm: 1.2870121002197266\n",
      "  index_no_updates-LM-Head-Bias-Norm: 200.17538452148438\n",
      "Epoch 304\n"
     ]
    },
    {
     "name": "stderr",
     "output_type": "stream",
     "text": [
      "100%|██████████| 48/48 [00:21<00:00,  2.28it/s]\n"
     ]
    },
    {
     "name": "stdout",
     "output_type": "stream",
     "text": [
      "Epoch 304 loss: 0.7457141592167318, loss_t2i: 0.8864913698441038, loss_mmu: 0.18260527479772767\n",
      "  Token-Norm: 111.31026458740234\n",
      "  index_no_updates-Token-Norm: 475.90191650390625\n",
      "  LM-Head-Weight-Norm: 19.36142349243164\n",
      "  index_no_updates-LM-Head-Weight-Norm: 636.0464477539062\n",
      "  LM-Head-Bias-Norm: 1.2812565565109253\n",
      "  index_no_updates-LM-Head-Bias-Norm: 200.17538452148438\n",
      "Epoch 305\n"
     ]
    },
    {
     "name": "stderr",
     "output_type": "stream",
     "text": [
      "100%|██████████| 48/48 [00:20<00:00,  2.29it/s]\n"
     ]
    },
    {
     "name": "stdout",
     "output_type": "stream",
     "text": [
      "Epoch 305 loss: 0.7033799778049191, loss_t2i: 0.8351513914919148, loss_mmu: 0.17629425010333458\n",
      "  Token-Norm: 111.20703125\n",
      "  index_no_updates-Token-Norm: 475.90191650390625\n",
      "  LM-Head-Weight-Norm: 19.27104377746582\n",
      "  index_no_updates-LM-Head-Weight-Norm: 636.0464477539062\n",
      "  LM-Head-Bias-Norm: 1.275499939918518\n",
      "  index_no_updates-LM-Head-Bias-Norm: 200.17538452148438\n",
      "Epoch 306\n"
     ]
    },
    {
     "name": "stderr",
     "output_type": "stream",
     "text": [
      "100%|██████████| 48/48 [00:21<00:00,  2.28it/s]\n"
     ]
    },
    {
     "name": "stdout",
     "output_type": "stream",
     "text": [
      "Epoch 306 loss: 0.8925967887043953, loss_t2i: 1.0757548437298585, loss_mmu: 0.1599644822999835\n",
      "  Token-Norm: 111.03083038330078\n",
      "  index_no_updates-Token-Norm: 475.90191650390625\n",
      "  LM-Head-Weight-Norm: 19.181289672851562\n",
      "  index_no_updates-LM-Head-Weight-Norm: 636.0464477539062\n",
      "  LM-Head-Bias-Norm: 1.2698220014572144\n",
      "  index_no_updates-LM-Head-Bias-Norm: 200.17538452148438\n",
      "Epoch 307\n"
     ]
    },
    {
     "name": "stderr",
     "output_type": "stream",
     "text": [
      "100%|██████████| 48/48 [00:21<00:00,  2.28it/s]\n"
     ]
    },
    {
     "name": "stdout",
     "output_type": "stream",
     "text": [
      "Epoch 307 loss: 0.781820162354658, loss_t2i: 0.9410363235510886, loss_mmu: 0.14495546518204114\n",
      "  Token-Norm: 110.76668548583984\n",
      "  index_no_updates-Token-Norm: 475.90191650390625\n",
      "  LM-Head-Weight-Norm: 19.092575073242188\n",
      "  index_no_updates-LM-Head-Weight-Norm: 636.0464477539062\n",
      "  LM-Head-Bias-Norm: 1.2642544507980347\n",
      "  index_no_updates-LM-Head-Bias-Norm: 200.17538452148438\n",
      "Epoch 308\n"
     ]
    },
    {
     "name": "stderr",
     "output_type": "stream",
     "text": [
      "100%|██████████| 48/48 [00:20<00:00,  2.29it/s]\n"
     ]
    },
    {
     "name": "stdout",
     "output_type": "stream",
     "text": [
      "Epoch 308 loss: 0.641732033342123, loss_t2i: 0.774093314850082, loss_mmu: 0.11228682861352961\n",
      "  Token-Norm: 110.50406646728516\n",
      "  index_no_updates-Token-Norm: 475.90191650390625\n",
      "  LM-Head-Weight-Norm: 19.003257751464844\n",
      "  index_no_updates-LM-Head-Weight-Norm: 636.0464477539062\n",
      "  LM-Head-Bias-Norm: 1.258610486984253\n",
      "  index_no_updates-LM-Head-Bias-Norm: 200.17538452148438\n",
      "Epoch 309\n"
     ]
    },
    {
     "name": "stderr",
     "output_type": "stream",
     "text": [
      "100%|██████████| 48/48 [00:20<00:00,  2.29it/s]\n"
     ]
    },
    {
     "name": "stdout",
     "output_type": "stream",
     "text": [
      "Epoch 309 loss: 0.8553884451587995, loss_t2i: 1.0353471896766375, loss_mmu: 0.1355533441528678\n",
      "  Token-Norm: 110.28126525878906\n",
      "  index_no_updates-Token-Norm: 475.90191650390625\n",
      "  LM-Head-Weight-Norm: 18.970041275024414\n",
      "  index_no_updates-LM-Head-Weight-Norm: 636.0464477539062\n",
      "  LM-Head-Bias-Norm: 1.2833436727523804\n",
      "  index_no_updates-LM-Head-Bias-Norm: 200.17538452148438\n",
      "Epoch 310\n"
     ]
    },
    {
     "name": "stderr",
     "output_type": "stream",
     "text": [
      "100%|██████████| 48/48 [00:20<00:00,  2.29it/s]\n"
     ]
    },
    {
     "name": "stdout",
     "output_type": "stream",
     "text": [
      "Epoch 310 loss: 0.5679793338446567, loss_t2i: 0.6830456437698255, loss_mmu: 0.10771404575401296\n",
      "  Token-Norm: 110.01976013183594\n",
      "  index_no_updates-Token-Norm: 475.90191650390625\n",
      "  LM-Head-Weight-Norm: 19.020408630371094\n",
      "  index_no_updates-LM-Head-Weight-Norm: 636.0464477539062\n",
      "  LM-Head-Bias-Norm: 1.298810362815857\n",
      "  index_no_updates-LM-Head-Bias-Norm: 200.17538452148438\n",
      "Epoch 311\n"
     ]
    },
    {
     "name": "stderr",
     "output_type": "stream",
     "text": [
      "100%|██████████| 48/48 [00:20<00:00,  2.29it/s]\n"
     ]
    },
    {
     "name": "stdout",
     "output_type": "stream",
     "text": [
      "Epoch 311 loss: 1.0900530284270644, loss_t2i: 1.1652040964302917, loss_mmu: 0.789448710779349\n",
      "  Token-Norm: 121.12655639648438\n",
      "  index_no_updates-Token-Norm: 475.90191650390625\n",
      "  LM-Head-Weight-Norm: 18.510665893554688\n",
      "  index_no_updates-LM-Head-Weight-Norm: 636.0464477539062\n",
      "  LM-Head-Bias-Norm: 1.2882720232009888\n",
      "  index_no_updates-LM-Head-Bias-Norm: 200.17538452148438\n",
      "Epoch 312\n"
     ]
    },
    {
     "name": "stderr",
     "output_type": "stream",
     "text": [
      "100%|██████████| 48/48 [00:21<00:00,  2.28it/s]\n"
     ]
    },
    {
     "name": "stdout",
     "output_type": "stream",
     "text": [
      "Epoch 312 loss: 0.5196422867787381, loss_t2i: 0.5696289769451445, loss_mmu: 0.3196954907228549\n",
      "  Token-Norm: 121.4229736328125\n",
      "  index_no_updates-Token-Norm: 475.90191650390625\n",
      "  LM-Head-Weight-Norm: 18.451486587524414\n",
      "  index_no_updates-LM-Head-Weight-Norm: 636.0464477539062\n",
      "  LM-Head-Bias-Norm: 1.281138300895691\n",
      "  index_no_updates-LM-Head-Bias-Norm: 200.17538452148438\n",
      "Epoch 313\n"
     ]
    },
    {
     "name": "stderr",
     "output_type": "stream",
     "text": [
      "100%|██████████| 48/48 [00:21<00:00,  2.28it/s]\n"
     ]
    },
    {
     "name": "stdout",
     "output_type": "stream",
     "text": [
      "Epoch 313 loss: 0.7071032929234207, loss_t2i: 0.8420385230953494, loss_mmu: 0.16736233358581862\n",
      "  Token-Norm: 120.95781707763672\n",
      "  index_no_updates-Token-Norm: 475.90191650390625\n",
      "  LM-Head-Weight-Norm: 18.36492347717285\n",
      "  index_no_updates-LM-Head-Weight-Norm: 636.0464477539062\n",
      "  LM-Head-Bias-Norm: 1.275241494178772\n",
      "  index_no_updates-LM-Head-Bias-Norm: 200.17538452148438\n",
      "Epoch 314\n"
     ]
    },
    {
     "name": "stderr",
     "output_type": "stream",
     "text": [
      "100%|██████████| 48/48 [00:20<00:00,  2.29it/s]\n"
     ]
    },
    {
     "name": "stdout",
     "output_type": "stream",
     "text": [
      "Epoch 314 loss: 0.6556469717373451, loss_t2i: 0.775093648970748, loss_mmu: 0.1778601659461856\n",
      "  Token-Norm: 120.48348236083984\n",
      "  index_no_updates-Token-Norm: 475.90191650390625\n",
      "  LM-Head-Weight-Norm: 18.279666900634766\n",
      "  index_no_updates-LM-Head-Weight-Norm: 636.0464477539062\n",
      "  LM-Head-Bias-Norm: 1.2695653438568115\n",
      "  index_no_updates-LM-Head-Bias-Norm: 200.17538452148438\n",
      "Epoch 315\n"
     ]
    },
    {
     "name": "stderr",
     "output_type": "stream",
     "text": [
      "100%|██████████| 48/48 [00:20<00:00,  2.29it/s]\n"
     ]
    },
    {
     "name": "stdout",
     "output_type": "stream",
     "text": [
      "Epoch 315 loss: 0.9066952696690956, loss_t2i: 1.067742780316621, loss_mmu: 0.2625052017780642\n",
      "  Token-Norm: 120.0633773803711\n",
      "  index_no_updates-Token-Norm: 475.90191650390625\n",
      "  LM-Head-Weight-Norm: 18.19886589050293\n",
      "  index_no_updates-LM-Head-Weight-Norm: 636.0464477539062\n",
      "  LM-Head-Bias-Norm: 1.2790199518203735\n",
      "  index_no_updates-LM-Head-Bias-Norm: 200.17538452148438\n",
      "Epoch 316\n"
     ]
    },
    {
     "name": "stderr",
     "output_type": "stream",
     "text": [
      "100%|██████████| 48/48 [00:20<00:00,  2.30it/s]\n"
     ]
    },
    {
     "name": "stdout",
     "output_type": "stream",
     "text": [
      "Epoch 316 loss: 0.7345004704159995, loss_t2i: 0.865264728354911, loss_mmu: 0.21144341017740467\n",
      "  Token-Norm: 119.70138549804688\n",
      "  index_no_updates-Token-Norm: 475.90191650390625\n",
      "  LM-Head-Weight-Norm: 18.113277435302734\n",
      "  index_no_updates-LM-Head-Weight-Norm: 636.0464477539062\n",
      "  LM-Head-Bias-Norm: 1.2833114862442017\n",
      "  index_no_updates-LM-Head-Bias-Norm: 200.17538452148438\n",
      "Epoch 317\n"
     ]
    },
    {
     "name": "stderr",
     "output_type": "stream",
     "text": [
      "100%|██████████| 48/48 [00:21<00:00,  2.28it/s]\n"
     ]
    },
    {
     "name": "stdout",
     "output_type": "stream",
     "text": [
      "Epoch 317 loss: 0.6933782584965229, loss_t2i: 0.7762806065535793, loss_mmu: 0.3617688766680658\n",
      "  Token-Norm: 119.7056884765625\n",
      "  index_no_updates-Token-Norm: 475.90191650390625\n",
      "  LM-Head-Weight-Norm: 18.063501358032227\n",
      "  index_no_updates-LM-Head-Weight-Norm: 636.0464477539062\n",
      "  LM-Head-Bias-Norm: 1.2862153053283691\n",
      "  index_no_updates-LM-Head-Bias-Norm: 200.17538452148438\n",
      "Epoch 318\n"
     ]
    },
    {
     "name": "stderr",
     "output_type": "stream",
     "text": [
      "100%|██████████| 48/48 [00:20<00:00,  2.29it/s]\n"
     ]
    },
    {
     "name": "stdout",
     "output_type": "stream",
     "text": [
      "Epoch 318 loss: 0.9237829894603541, loss_t2i: 1.0930593194595228, loss_mmu: 0.2466775719076395\n",
      "  Token-Norm: 119.30350494384766\n",
      "  index_no_updates-Token-Norm: 475.90191650390625\n",
      "  LM-Head-Weight-Norm: 17.96721076965332\n",
      "  index_no_updates-LM-Head-Weight-Norm: 636.0464477539062\n",
      "  LM-Head-Bias-Norm: 1.2815319299697876\n",
      "  index_no_updates-LM-Head-Bias-Norm: 200.17538452148438\n",
      "Epoch 319\n"
     ]
    },
    {
     "name": "stderr",
     "output_type": "stream",
     "text": [
      "100%|██████████| 48/48 [00:21<00:00,  2.28it/s]\n"
     ]
    },
    {
     "name": "stdout",
     "output_type": "stream",
     "text": [
      "Epoch 319 loss: 0.8355882428586483, loss_t2i: 0.9804963367059827, loss_mmu: 0.2559557978529483\n",
      "  Token-Norm: 119.1256332397461\n",
      "  index_no_updates-Token-Norm: 475.90191650390625\n",
      "  LM-Head-Weight-Norm: 17.800506591796875\n",
      "  index_no_updates-LM-Head-Weight-Norm: 636.0464477539062\n",
      "  LM-Head-Bias-Norm: 1.285186767578125\n",
      "  index_no_updates-LM-Head-Bias-Norm: 200.17538452148438\n",
      "Epoch 320\n"
     ]
    },
    {
     "name": "stderr",
     "output_type": "stream",
     "text": [
      "100%|██████████| 48/48 [00:20<00:00,  2.29it/s]\n"
     ]
    },
    {
     "name": "stdout",
     "output_type": "stream",
     "text": [
      "Epoch 320 loss: 0.936157729011029, loss_t2i: 1.1143422961855929, loss_mmu: 0.2234193601179868\n",
      "  Token-Norm: 118.76872253417969\n",
      "  index_no_updates-Token-Norm: 475.90191650390625\n",
      "  LM-Head-Weight-Norm: 17.714426040649414\n",
      "  index_no_updates-LM-Head-Weight-Norm: 636.0464477539062\n",
      "  LM-Head-Bias-Norm: 1.280539631843567\n",
      "  index_no_updates-LM-Head-Bias-Norm: 200.17538452148438\n",
      "Epoch 321\n"
     ]
    },
    {
     "name": "stderr",
     "output_type": "stream",
     "text": [
      "100%|██████████| 48/48 [00:21<00:00,  2.28it/s]\n"
     ]
    },
    {
     "name": "stdout",
     "output_type": "stream",
     "text": [
      "Epoch 321 loss: 0.8000970762223005, loss_t2i: 0.9641160584675769, loss_mmu: 0.14402104475690672\n",
      "  Token-Norm: 118.30777740478516\n",
      "  index_no_updates-Token-Norm: 475.90191650390625\n",
      "  LM-Head-Weight-Norm: 17.631275177001953\n",
      "  index_no_updates-LM-Head-Weight-Norm: 636.0464477539062\n",
      "  LM-Head-Bias-Norm: 1.2753026485443115\n",
      "  index_no_updates-LM-Head-Bias-Norm: 200.17538452148438\n",
      "Epoch 322\n"
     ]
    },
    {
     "name": "stderr",
     "output_type": "stream",
     "text": [
      "100%|██████████| 48/48 [00:21<00:00,  2.29it/s]\n"
     ]
    },
    {
     "name": "stdout",
     "output_type": "stream",
     "text": [
      "Epoch 322 loss: 0.7921533932288488, loss_t2i: 0.8957763581226269, loss_mmu: 0.37766152651359636\n",
      "  Token-Norm: 118.10265350341797\n",
      "  index_no_updates-Token-Norm: 475.90191650390625\n",
      "  LM-Head-Weight-Norm: 17.549097061157227\n",
      "  index_no_updates-LM-Head-Weight-Norm: 636.0464477539062\n",
      "  LM-Head-Bias-Norm: 1.269565224647522\n",
      "  index_no_updates-LM-Head-Bias-Norm: 200.17538452148438\n",
      "Epoch 323\n"
     ]
    },
    {
     "name": "stderr",
     "output_type": "stream",
     "text": [
      "100%|██████████| 48/48 [00:20<00:00,  2.29it/s]\n"
     ]
    },
    {
     "name": "stdout",
     "output_type": "stream",
     "text": [
      "Epoch 323 loss: 1.098323972740521, loss_t2i: 1.289270159167548, loss_mmu: 0.3345391162050267\n",
      "  Token-Norm: 117.82426452636719\n",
      "  index_no_updates-Token-Norm: 475.90191650390625\n",
      "  LM-Head-Weight-Norm: 17.467164993286133\n",
      "  index_no_updates-LM-Head-Weight-Norm: 636.0464477539062\n",
      "  LM-Head-Bias-Norm: 1.2638139724731445\n",
      "  index_no_updates-LM-Head-Bias-Norm: 200.17538452148438\n",
      "Epoch 324\n"
     ]
    },
    {
     "name": "stderr",
     "output_type": "stream",
     "text": [
      "100%|██████████| 48/48 [00:20<00:00,  2.29it/s]\n"
     ]
    },
    {
     "name": "stdout",
     "output_type": "stream",
     "text": [
      "Epoch 324 loss: 0.816595647794505, loss_t2i: 0.9738188042926291, loss_mmu: 0.1877029030583799\n",
      "  Token-Norm: 117.40519714355469\n",
      "  index_no_updates-Token-Norm: 475.90191650390625\n",
      "  LM-Head-Weight-Norm: 17.384740829467773\n",
      "  index_no_updates-LM-Head-Weight-Norm: 636.0464477539062\n",
      "  LM-Head-Bias-Norm: 1.259021520614624\n",
      "  index_no_updates-LM-Head-Bias-Norm: 200.17538452148438\n",
      "Epoch 325\n"
     ]
    },
    {
     "name": "stderr",
     "output_type": "stream",
     "text": [
      "100%|██████████| 48/48 [00:20<00:00,  2.29it/s]\n"
     ]
    },
    {
     "name": "stdout",
     "output_type": "stream",
     "text": [
      "Epoch 325 loss: 0.6217380414406458, loss_t2i: 0.7428905265405774, loss_mmu: 0.13712807395495474\n",
      "  Token-Norm: 116.94831848144531\n",
      "  index_no_updates-Token-Norm: 475.90191650390625\n",
      "  LM-Head-Weight-Norm: 17.303266525268555\n",
      "  index_no_updates-LM-Head-Weight-Norm: 636.0464477539062\n",
      "  LM-Head-Bias-Norm: 1.2533711194992065\n",
      "  index_no_updates-LM-Head-Bias-Norm: 200.17538452148438\n",
      "Epoch 326\n"
     ]
    },
    {
     "name": "stderr",
     "output_type": "stream",
     "text": [
      "100%|██████████| 48/48 [00:21<00:00,  2.28it/s]\n"
     ]
    },
    {
     "name": "stdout",
     "output_type": "stream",
     "text": [
      "Epoch 326 loss: 0.7648781267926097, loss_t2i: 0.9272295952153703, loss_mmu: 0.1154721959028393\n",
      "  Token-Norm: 116.4947280883789\n",
      "  index_no_updates-Token-Norm: 475.90191650390625\n",
      "  LM-Head-Weight-Norm: 17.22093963623047\n",
      "  index_no_updates-LM-Head-Weight-Norm: 636.0464477539062\n",
      "  LM-Head-Bias-Norm: 1.2480653524398804\n",
      "  index_no_updates-LM-Head-Bias-Norm: 200.17538452148438\n",
      "Epoch 327\n"
     ]
    },
    {
     "name": "stderr",
     "output_type": "stream",
     "text": [
      "100%|██████████| 48/48 [00:21<00:00,  2.28it/s]\n"
     ]
    },
    {
     "name": "stdout",
     "output_type": "stream",
     "text": [
      "Epoch 327 loss: 0.6527246110296497, loss_t2i: 0.7772161668011298, loss_mmu: 0.15475837203363577\n",
      "  Token-Norm: 116.07683563232422\n",
      "  index_no_updates-Token-Norm: 475.90191650390625\n",
      "  LM-Head-Weight-Norm: 17.14079475402832\n",
      "  index_no_updates-LM-Head-Weight-Norm: 636.0464477539062\n",
      "  LM-Head-Bias-Norm: 1.24250066280365\n",
      "  index_no_updates-LM-Head-Bias-Norm: 200.17538452148438\n",
      "Epoch 328\n"
     ]
    },
    {
     "name": "stderr",
     "output_type": "stream",
     "text": [
      "100%|██████████| 48/48 [00:21<00:00,  2.28it/s]\n"
     ]
    },
    {
     "name": "stdout",
     "output_type": "stream",
     "text": [
      "Epoch 328 loss: 0.6172995797824115, loss_t2i: 0.7394621920927117, loss_mmu: 0.1286490373313427\n",
      "  Token-Norm: 115.72713470458984\n",
      "  index_no_updates-Token-Norm: 475.90191650390625\n",
      "  LM-Head-Weight-Norm: 17.07617950439453\n",
      "  index_no_updates-LM-Head-Weight-Norm: 636.0464477539062\n",
      "  LM-Head-Bias-Norm: 1.243711233139038\n",
      "  index_no_updates-LM-Head-Bias-Norm: 200.17538452148438\n",
      "Epoch 329\n"
     ]
    },
    {
     "name": "stderr",
     "output_type": "stream",
     "text": [
      "100%|██████████| 48/48 [00:21<00:00,  2.28it/s]\n"
     ]
    },
    {
     "name": "stdout",
     "output_type": "stream",
     "text": [
      "Epoch 329 loss: 0.6956672371986011, loss_t2i: 0.8480335922601322, loss_mmu: 0.08620174201981474\n",
      "  Token-Norm: 115.24725341796875\n",
      "  index_no_updates-Token-Norm: 475.90191650390625\n",
      "  LM-Head-Weight-Norm: 16.997663497924805\n",
      "  index_no_updates-LM-Head-Weight-Norm: 636.0464477539062\n",
      "  LM-Head-Bias-Norm: 1.2382844686508179\n",
      "  index_no_updates-LM-Head-Bias-Norm: 200.17538452148438\n",
      "Epoch 330\n"
     ]
    },
    {
     "name": "stderr",
     "output_type": "stream",
     "text": [
      "100%|██████████| 48/48 [00:21<00:00,  2.28it/s]\n"
     ]
    },
    {
     "name": "stdout",
     "output_type": "stream",
     "text": [
      "Epoch 330 loss: 0.6274726006668061, loss_t2i: 0.7569092304135362, loss_mmu: 0.10972605474914114\n",
      "  Token-Norm: 114.81967163085938\n",
      "  index_no_updates-Token-Norm: 475.90191650390625\n",
      "  LM-Head-Weight-Norm: 16.91826820373535\n",
      "  index_no_updates-LM-Head-Weight-Norm: 636.0464477539062\n",
      "  LM-Head-Bias-Norm: 1.232663631439209\n",
      "  index_no_updates-LM-Head-Bias-Norm: 200.17538452148438\n",
      "Epoch 331\n"
     ]
    },
    {
     "name": "stderr",
     "output_type": "stream",
     "text": [
      "100%|██████████| 48/48 [00:21<00:00,  2.28it/s]\n"
     ]
    },
    {
     "name": "stdout",
     "output_type": "stream",
     "text": [
      "Epoch 331 loss: 0.7000364179257303, loss_t2i: 0.8414395859775444, loss_mmu: 0.1344237196414421\n",
      "  Token-Norm: 114.41444396972656\n",
      "  index_no_updates-Token-Norm: 475.90191650390625\n",
      "  LM-Head-Weight-Norm: 17.867538452148438\n",
      "  index_no_updates-LM-Head-Weight-Norm: 636.0464477539062\n",
      "  LM-Head-Bias-Norm: 1.3651219606399536\n",
      "  index_no_updates-LM-Head-Bias-Norm: 200.17538452148438\n",
      "Epoch 332\n"
     ]
    },
    {
     "name": "stderr",
     "output_type": "stream",
     "text": [
      "100%|██████████| 48/48 [00:20<00:00,  2.29it/s]\n"
     ]
    },
    {
     "name": "stdout",
     "output_type": "stream",
     "text": [
      "Epoch 332 loss: 0.6876478008925915, loss_t2i: 0.8331201260443777, loss_mmu: 0.10575839791757365\n",
      "  Token-Norm: 114.091064453125\n",
      "  index_no_updates-Token-Norm: 475.90191650390625\n",
      "  LM-Head-Weight-Norm: 21.858877182006836\n",
      "  index_no_updates-LM-Head-Weight-Norm: 636.0464477539062\n",
      "  LM-Head-Bias-Norm: 1.820245385169983\n",
      "  index_no_updates-LM-Head-Bias-Norm: 200.17538452148438\n",
      "Epoch 333\n"
     ]
    },
    {
     "name": "stderr",
     "output_type": "stream",
     "text": [
      "100%|██████████| 48/48 [00:21<00:00,  2.28it/s]\n"
     ]
    },
    {
     "name": "stdout",
     "output_type": "stream",
     "text": [
      "Epoch 333 loss: 0.4236767441810419, loss_t2i: 0.5100812157616019, loss_mmu: 0.07805880733455221\n",
      "  Token-Norm: 113.69247436523438\n",
      "  index_no_updates-Token-Norm: 475.90191650390625\n",
      "  LM-Head-Weight-Norm: 22.800073623657227\n",
      "  index_no_updates-LM-Head-Weight-Norm: 636.0464477539062\n",
      "  LM-Head-Bias-Norm: 1.969330906867981\n",
      "  index_no_updates-LM-Head-Bias-Norm: 200.17538452148438\n",
      "Epoch 334\n"
     ]
    },
    {
     "name": "stderr",
     "output_type": "stream",
     "text": [
      "100%|██████████| 48/48 [00:21<00:00,  2.28it/s]\n"
     ]
    },
    {
     "name": "stdout",
     "output_type": "stream",
     "text": [
      "Epoch 334 loss: 0.7095698449217404, loss_t2i: 0.8596868661697954, loss_mmu: 0.10910167964175344\n",
      "  Token-Norm: 113.30104064941406\n",
      "  index_no_updates-Token-Norm: 475.90191650390625\n",
      "  LM-Head-Weight-Norm: 22.792570114135742\n",
      "  index_no_updates-LM-Head-Weight-Norm: 636.0464477539062\n",
      "  LM-Head-Bias-Norm: 1.9681577682495117\n",
      "  index_no_updates-LM-Head-Bias-Norm: 200.17538452148438\n",
      "Epoch 335\n"
     ]
    },
    {
     "name": "stderr",
     "output_type": "stream",
     "text": [
      "100%|██████████| 48/48 [00:20<00:00,  2.29it/s]\n"
     ]
    },
    {
     "name": "stdout",
     "output_type": "stream",
     "text": [
      "Epoch 335 loss: 0.5140316549999019, loss_t2i: 0.6046296885857979, loss_mmu: 0.15163947292603552\n",
      "  Token-Norm: 113.22974395751953\n",
      "  index_no_updates-Token-Norm: 475.90191650390625\n",
      "  LM-Head-Weight-Norm: 22.685596466064453\n",
      "  index_no_updates-LM-Head-Weight-Norm: 636.0464477539062\n",
      "  LM-Head-Bias-Norm: 1.95897376537323\n",
      "  index_no_updates-LM-Head-Bias-Norm: 200.17538452148438\n",
      "Epoch 336\n"
     ]
    },
    {
     "name": "stderr",
     "output_type": "stream",
     "text": [
      "100%|██████████| 48/48 [00:20<00:00,  2.29it/s]\n"
     ]
    },
    {
     "name": "stdout",
     "output_type": "stream",
     "text": [
      "Epoch 336 loss: 0.6325570922344923, loss_t2i: 0.7623126150574535, loss_mmu: 0.11353496978214632\n",
      "  Token-Norm: 112.9175033569336\n",
      "  index_no_updates-Token-Norm: 475.90191650390625\n",
      "  LM-Head-Weight-Norm: 22.577877044677734\n",
      "  index_no_updates-LM-Head-Weight-Norm: 636.0464477539062\n",
      "  LM-Head-Bias-Norm: 1.949944257736206\n",
      "  index_no_updates-LM-Head-Bias-Norm: 200.17538452148438\n",
      "Epoch 337\n"
     ]
    },
    {
     "name": "stderr",
     "output_type": "stream",
     "text": [
      "100%|██████████| 48/48 [00:20<00:00,  2.29it/s]\n"
     ]
    },
    {
     "name": "stdout",
     "output_type": "stream",
     "text": [
      "Epoch 337 loss: 0.9207286535141369, loss_t2i: 1.1258226023055613, loss_mmu: 0.10035284360249837\n",
      "  Token-Norm: 112.51630401611328\n",
      "  index_no_updates-Token-Norm: 475.90191650390625\n",
      "  LM-Head-Weight-Norm: 22.536869049072266\n",
      "  index_no_updates-LM-Head-Weight-Norm: 636.0464477539062\n",
      "  LM-Head-Bias-Norm: 1.979142427444458\n",
      "  index_no_updates-LM-Head-Bias-Norm: 200.17538452148438\n",
      "Epoch 338\n"
     ]
    },
    {
     "name": "stderr",
     "output_type": "stream",
     "text": [
      "100%|██████████| 48/48 [00:20<00:00,  2.29it/s]\n"
     ]
    },
    {
     "name": "stdout",
     "output_type": "stream",
     "text": [
      "Epoch 338 loss: 0.6511134831234813, loss_t2i: 0.7866245983168483, loss_mmu: 0.10906903356468926\n",
      "  Token-Norm: 112.19738006591797\n",
      "  index_no_updates-Token-Norm: 475.90191650390625\n",
      "  LM-Head-Weight-Norm: 22.450111389160156\n",
      "  index_no_updates-LM-Head-Weight-Norm: 636.0464477539062\n",
      "  LM-Head-Bias-Norm: 1.9740997552871704\n",
      "  index_no_updates-LM-Head-Bias-Norm: 200.17538452148438\n",
      "Epoch 339\n"
     ]
    },
    {
     "name": "stderr",
     "output_type": "stream",
     "text": [
      "100%|██████████| 48/48 [00:20<00:00,  2.29it/s]\n"
     ]
    },
    {
     "name": "stdout",
     "output_type": "stream",
     "text": [
      "Epoch 339 loss: 0.8497451501122365, loss_t2i: 0.9933632738733044, loss_mmu: 0.2752725613148262\n",
      "  Token-Norm: 112.20647430419922\n",
      "  index_no_updates-Token-Norm: 475.90191650390625\n",
      "  LM-Head-Weight-Norm: 22.344545364379883\n",
      "  index_no_updates-LM-Head-Weight-Norm: 636.0464477539062\n",
      "  LM-Head-Bias-Norm: 1.9649146795272827\n",
      "  index_no_updates-LM-Head-Bias-Norm: 200.17538452148438\n",
      "Epoch 340\n"
     ]
    },
    {
     "name": "stderr",
     "output_type": "stream",
     "text": [
      "100%|██████████| 48/48 [00:21<00:00,  2.28it/s]\n"
     ]
    },
    {
     "name": "stdout",
     "output_type": "stream",
     "text": [
      "Epoch 340 loss: 0.8070351574569941, loss_t2i: 0.9339186061794559, loss_mmu: 0.2995012985387196\n",
      "  Token-Norm: 112.91281127929688\n",
      "  index_no_updates-Token-Norm: 475.90191650390625\n",
      "  LM-Head-Weight-Norm: 22.239559173583984\n",
      "  index_no_updates-LM-Head-Weight-Norm: 636.0464477539062\n",
      "  LM-Head-Bias-Norm: 1.9557729959487915\n",
      "  index_no_updates-LM-Head-Bias-Norm: 200.17538452148438\n",
      "Epoch 341\n"
     ]
    },
    {
     "name": "stderr",
     "output_type": "stream",
     "text": [
      "100%|██████████| 48/48 [00:20<00:00,  2.29it/s]\n"
     ]
    },
    {
     "name": "stdout",
     "output_type": "stream",
     "text": [
      "Epoch 341 loss: 0.5364563902063916, loss_t2i: 0.6400324949063361, loss_mmu: 0.12215192278381437\n",
      "  Token-Norm: 112.70135498046875\n",
      "  index_no_updates-Token-Norm: 475.90191650390625\n",
      "  LM-Head-Weight-Norm: 22.134735107421875\n",
      "  index_no_updates-LM-Head-Weight-Norm: 636.0464477539062\n",
      "  LM-Head-Bias-Norm: 1.9466139078140259\n",
      "  index_no_updates-LM-Head-Bias-Norm: 200.17538452148438\n",
      "Epoch 342\n"
     ]
    },
    {
     "name": "stderr",
     "output_type": "stream",
     "text": [
      "100%|██████████| 48/48 [00:20<00:00,  2.29it/s]\n"
     ]
    },
    {
     "name": "stdout",
     "output_type": "stream",
     "text": [
      "Epoch 342 loss: 0.5348083710608383, loss_t2i: 0.6486040067781383, loss_mmu: 0.07962578566124041\n",
      "  Token-Norm: 112.25798034667969\n",
      "  index_no_updates-Token-Norm: 475.90191650390625\n",
      "  LM-Head-Weight-Norm: 22.03044319152832\n",
      "  index_no_updates-LM-Head-Weight-Norm: 636.0464477539062\n",
      "  LM-Head-Bias-Norm: 1.9375019073486328\n",
      "  index_no_updates-LM-Head-Bias-Norm: 200.17538452148438\n",
      "Epoch 343\n"
     ]
    },
    {
     "name": "stderr",
     "output_type": "stream",
     "text": [
      "100%|██████████| 48/48 [00:21<00:00,  2.25it/s]\n"
     ]
    },
    {
     "name": "stdout",
     "output_type": "stream",
     "text": [
      "Epoch 343 loss: 0.5531009690991292, loss_t2i: 0.6762481663608924, loss_mmu: 0.060512136396331094\n",
      "  Token-Norm: 111.82869720458984\n",
      "  index_no_updates-Token-Norm: 475.90191650390625\n",
      "  LM-Head-Weight-Norm: 21.926559448242188\n",
      "  index_no_updates-LM-Head-Weight-Norm: 636.0464477539062\n",
      "  LM-Head-Bias-Norm: 1.9285281896591187\n",
      "  index_no_updates-LM-Head-Bias-Norm: 200.17538452148438\n",
      "Epoch 344\n"
     ]
    },
    {
     "name": "stderr",
     "output_type": "stream",
     "text": [
      "100%|██████████| 48/48 [00:21<00:00,  2.28it/s]\n"
     ]
    },
    {
     "name": "stdout",
     "output_type": "stream",
     "text": [
      "Epoch 344 loss: 0.5390507820993662, loss_t2i: 0.6524820289729784, loss_mmu: 0.08532574148072551\n",
      "  Token-Norm: 111.50460052490234\n",
      "  index_no_updates-Token-Norm: 475.90191650390625\n",
      "  LM-Head-Weight-Norm: 21.822874069213867\n",
      "  index_no_updates-LM-Head-Weight-Norm: 636.0464477539062\n",
      "  LM-Head-Bias-Norm: 1.9194656610488892\n",
      "  index_no_updates-LM-Head-Bias-Norm: 200.17538452148438\n",
      "Epoch 345\n"
     ]
    },
    {
     "name": "stderr",
     "output_type": "stream",
     "text": [
      "100%|██████████| 48/48 [00:21<00:00,  2.28it/s]\n"
     ]
    },
    {
     "name": "stdout",
     "output_type": "stream",
     "text": [
      "Epoch 345 loss: 0.5559622459113598, loss_t2i: 0.6757232025265694, loss_mmu: 0.07691839054071654\n",
      "  Token-Norm: 111.17080688476562\n",
      "  index_no_updates-Token-Norm: 475.90191650390625\n",
      "  LM-Head-Weight-Norm: 21.72015380859375\n",
      "  index_no_updates-LM-Head-Weight-Norm: 636.0464477539062\n",
      "  LM-Head-Bias-Norm: 1.9104995727539062\n",
      "  index_no_updates-LM-Head-Bias-Norm: 200.17538452148438\n",
      "Epoch 346\n"
     ]
    },
    {
     "name": "stderr",
     "output_type": "stream",
     "text": [
      "100%|██████████| 48/48 [00:21<00:00,  2.28it/s]\n"
     ]
    },
    {
     "name": "stdout",
     "output_type": "stream",
     "text": [
      "Epoch 346 loss: 0.7053687457228079, loss_t2i: 0.8657220138702542, loss_mmu: 0.06395565318719794\n",
      "  Token-Norm: 110.76358795166016\n",
      "  index_no_updates-Token-Norm: 475.90191650390625\n",
      "  LM-Head-Weight-Norm: 21.617782592773438\n",
      "  index_no_updates-LM-Head-Weight-Norm: 636.0464477539062\n",
      "  LM-Head-Bias-Norm: 1.9015544652938843\n",
      "  index_no_updates-LM-Head-Bias-Norm: 200.17538452148438\n",
      "Epoch 347\n"
     ]
    },
    {
     "name": "stderr",
     "output_type": "stream",
     "text": [
      "100%|██████████| 48/48 [00:20<00:00,  2.29it/s]\n"
     ]
    },
    {
     "name": "stdout",
     "output_type": "stream",
     "text": [
      "Epoch 347 loss: 0.5443701229135817, loss_t2i: 0.6614023677927131, loss_mmu: 0.07624113010630633\n",
      "  Token-Norm: 110.3974380493164\n",
      "  index_no_updates-Token-Norm: 475.90191650390625\n",
      "  LM-Head-Weight-Norm: 21.515756607055664\n",
      "  index_no_updates-LM-Head-Weight-Norm: 636.0464477539062\n",
      "  LM-Head-Bias-Norm: 1.8926374912261963\n",
      "  index_no_updates-LM-Head-Bias-Norm: 200.17538452148438\n",
      "Epoch 348\n"
     ]
    },
    {
     "name": "stderr",
     "output_type": "stream",
     "text": [
      "100%|██████████| 48/48 [00:21<00:00,  2.28it/s]\n"
     ]
    },
    {
     "name": "stdout",
     "output_type": "stream",
     "text": [
      "Epoch 348 loss: 0.3621297630403812, loss_t2i: 0.4370828850660473, loss_mmu: 0.062317258290325604\n",
      "  Token-Norm: 110.00641632080078\n",
      "  index_no_updates-Token-Norm: 475.90191650390625\n",
      "  LM-Head-Weight-Norm: 21.414457321166992\n",
      "  index_no_updates-LM-Head-Weight-Norm: 636.0464477539062\n",
      "  LM-Head-Bias-Norm: 1.8841744661331177\n",
      "  index_no_updates-LM-Head-Bias-Norm: 200.17538452148438\n",
      "Epoch 349\n"
     ]
    },
    {
     "name": "stderr",
     "output_type": "stream",
     "text": [
      "100%|██████████| 48/48 [00:20<00:00,  2.29it/s]\n"
     ]
    },
    {
     "name": "stdout",
     "output_type": "stream",
     "text": [
      "Epoch 349 loss: 0.7230786983467018, loss_t2i: 0.8922443736810237, loss_mmu: 0.046415890411784254\n",
      "  Token-Norm: 109.5789566040039\n",
      "  index_no_updates-Token-Norm: 475.90191650390625\n",
      "  LM-Head-Weight-Norm: 21.313631057739258\n",
      "  index_no_updates-LM-Head-Weight-Norm: 636.0464477539062\n",
      "  LM-Head-Bias-Norm: 1.8754332065582275\n",
      "  index_no_updates-LM-Head-Bias-Norm: 200.17538452148438\n",
      "Epoch 350\n"
     ]
    },
    {
     "name": "stderr",
     "output_type": "stream",
     "text": [
      "100%|██████████| 48/48 [00:21<00:00,  2.28it/s]\n"
     ]
    },
    {
     "name": "stdout",
     "output_type": "stream",
     "text": [
      "Epoch 350 loss: 0.6297505281787986, loss_t2i: 0.773997922311537, loss_mmu: 0.05276091204723343\n",
      "  Token-Norm: 109.14568328857422\n",
      "  index_no_updates-Token-Norm: 475.90191650390625\n",
      "  LM-Head-Weight-Norm: 21.212919235229492\n",
      "  index_no_updates-LM-Head-Weight-Norm: 636.0464477539062\n",
      "  LM-Head-Bias-Norm: 1.86661696434021\n",
      "  index_no_updates-LM-Head-Bias-Norm: 200.17538452148438\n",
      "Epoch 351\n"
     ]
    },
    {
     "name": "stderr",
     "output_type": "stream",
     "text": [
      "100%|██████████| 48/48 [00:20<00:00,  2.29it/s]\n"
     ]
    },
    {
     "name": "stdout",
     "output_type": "stream",
     "text": [
      "Epoch 351 loss: 0.7451814788316066, loss_t2i: 0.9162166625416527, loss_mmu: 0.06104071814722071\n",
      "  Token-Norm: 108.83056640625\n",
      "  index_no_updates-Token-Norm: 475.90191650390625\n",
      "  LM-Head-Weight-Norm: 21.113954544067383\n",
      "  index_no_updates-LM-Head-Weight-Norm: 636.0464477539062\n",
      "  LM-Head-Bias-Norm: 1.8580187559127808\n",
      "  index_no_updates-LM-Head-Bias-Norm: 200.17538452148438\n",
      "Epoch 352\n"
     ]
    },
    {
     "name": "stderr",
     "output_type": "stream",
     "text": [
      "100%|██████████| 48/48 [00:21<00:00,  2.28it/s]\n"
     ]
    },
    {
     "name": "stdout",
     "output_type": "stream",
     "text": [
      "Epoch 352 loss: 0.6009381456145396, loss_t2i: 0.7280869464933252, loss_mmu: 0.0923428968526423\n",
      "  Token-Norm: 108.60824584960938\n",
      "  index_no_updates-Token-Norm: 475.90191650390625\n",
      "  LM-Head-Weight-Norm: 22.54181480407715\n",
      "  index_no_updates-LM-Head-Weight-Norm: 636.0464477539062\n",
      "  LM-Head-Bias-Norm: 2.0488579273223877\n",
      "  index_no_updates-LM-Head-Bias-Norm: 200.17538452148438\n",
      "Epoch 353\n"
     ]
    },
    {
     "name": "stderr",
     "output_type": "stream",
     "text": [
      "100%|██████████| 48/48 [00:21<00:00,  2.28it/s]\n"
     ]
    },
    {
     "name": "stdout",
     "output_type": "stream",
     "text": [
      "Epoch 353 loss: 0.8105664231504003, loss_t2i: 0.9799565323240435, loss_mmu: 0.13300593655245999\n",
      "  Token-Norm: 108.68587493896484\n",
      "  index_no_updates-Token-Norm: 475.90191650390625\n",
      "  LM-Head-Weight-Norm: 23.42718505859375\n",
      "  index_no_updates-LM-Head-Weight-Norm: 636.0464477539062\n",
      "  LM-Head-Bias-Norm: 2.211071014404297\n",
      "  index_no_updates-LM-Head-Bias-Norm: 200.17538452148438\n",
      "Epoch 354\n"
     ]
    },
    {
     "name": "stderr",
     "output_type": "stream",
     "text": [
      "100%|██████████| 48/48 [00:20<00:00,  2.29it/s]\n"
     ]
    },
    {
     "name": "stdout",
     "output_type": "stream",
     "text": [
      "Epoch 354 loss: 0.7901813982365032, loss_t2i: 0.9625829455132285, loss_mmu: 0.10057513571033876\n",
      "  Token-Norm: 108.57286834716797\n",
      "  index_no_updates-Token-Norm: 475.90191650390625\n",
      "  LM-Head-Weight-Norm: 24.243465423583984\n",
      "  index_no_updates-LM-Head-Weight-Norm: 636.0464477539062\n",
      "  LM-Head-Bias-Norm: 2.415520191192627\n",
      "  index_no_updates-LM-Head-Bias-Norm: 200.17538452148438\n",
      "Epoch 355\n"
     ]
    },
    {
     "name": "stderr",
     "output_type": "stream",
     "text": [
      "100%|██████████| 48/48 [00:21<00:00,  2.29it/s]\n"
     ]
    },
    {
     "name": "stdout",
     "output_type": "stream",
     "text": [
      "Epoch 355 loss: 0.5277157295495272, loss_t2i: 0.6435671239936104, loss_mmu: 0.06431009443864848\n",
      "  Token-Norm: 108.23479461669922\n",
      "  index_no_updates-Token-Norm: 475.90191650390625\n",
      "  LM-Head-Weight-Norm: 24.247509002685547\n",
      "  index_no_updates-LM-Head-Weight-Norm: 636.0464477539062\n",
      "  LM-Head-Bias-Norm: 2.4525136947631836\n",
      "  index_no_updates-LM-Head-Bias-Norm: 200.17538452148438\n",
      "Epoch 356\n"
     ]
    },
    {
     "name": "stderr",
     "output_type": "stream",
     "text": [
      "100%|██████████| 48/48 [00:21<00:00,  2.28it/s]\n"
     ]
    },
    {
     "name": "stdout",
     "output_type": "stream",
     "text": [
      "Epoch 356 loss: 0.45146568515338004, loss_t2i: 0.5508902547881007, loss_mmu: 0.05376733645486335\n",
      "  Token-Norm: 107.83242797851562\n",
      "  index_no_updates-Token-Norm: 475.90191650390625\n",
      "  LM-Head-Weight-Norm: 24.14042091369629\n",
      "  index_no_updates-LM-Head-Weight-Norm: 636.0464477539062\n",
      "  LM-Head-Bias-Norm: 2.4424431324005127\n",
      "  index_no_updates-LM-Head-Bias-Norm: 200.17538452148438\n",
      "Epoch 357\n"
     ]
    },
    {
     "name": "stderr",
     "output_type": "stream",
     "text": [
      "100%|██████████| 48/48 [00:20<00:00,  2.29it/s]\n"
     ]
    },
    {
     "name": "stdout",
     "output_type": "stream",
     "text": [
      "Epoch 357 loss: 0.6512726351308326, loss_t2i: 0.7997803215015059, loss_mmu: 0.057241846865508705\n",
      "  Token-Norm: 107.50648498535156\n",
      "  index_no_updates-Token-Norm: 475.90191650390625\n",
      "  LM-Head-Weight-Norm: 24.02619743347168\n",
      "  index_no_updates-LM-Head-Weight-Norm: 636.0464477539062\n",
      "  LM-Head-Bias-Norm: 2.430894136428833\n",
      "  index_no_updates-LM-Head-Bias-Norm: 200.17538452148438\n",
      "Epoch 358\n"
     ]
    },
    {
     "name": "stderr",
     "output_type": "stream",
     "text": [
      "100%|██████████| 48/48 [00:21<00:00,  2.28it/s]\n"
     ]
    },
    {
     "name": "stdout",
     "output_type": "stream",
     "text": [
      "Epoch 358 loss: 0.5775157214763263, loss_t2i: 0.7107192676048726, loss_mmu: 0.044701471633743495\n",
      "  Token-Norm: 107.11083221435547\n",
      "  index_no_updates-Token-Norm: 475.90191650390625\n",
      "  LM-Head-Weight-Norm: 23.912342071533203\n",
      "  index_no_updates-LM-Head-Weight-Norm: 636.0464477539062\n",
      "  LM-Head-Bias-Norm: 2.4193758964538574\n",
      "  index_no_updates-LM-Head-Bias-Norm: 200.17538452148438\n",
      "Epoch 359\n"
     ]
    },
    {
     "name": "stderr",
     "output_type": "stream",
     "text": [
      "100%|██████████| 48/48 [00:21<00:00,  2.28it/s]\n"
     ]
    },
    {
     "name": "stdout",
     "output_type": "stream",
     "text": [
      "Epoch 359 loss: 0.48036177273994934, loss_t2i: 0.5850187060811246, loss_mmu: 0.06173398667791238\n",
      "  Token-Norm: 106.76056671142578\n",
      "  index_no_updates-Token-Norm: 475.90191650390625\n",
      "  LM-Head-Weight-Norm: 23.79931640625\n",
      "  index_no_updates-LM-Head-Weight-Norm: 636.0464477539062\n",
      "  LM-Head-Bias-Norm: 2.4079415798187256\n",
      "  index_no_updates-LM-Head-Bias-Norm: 200.17538452148438\n",
      "Epoch 360\n"
     ]
    },
    {
     "name": "stderr",
     "output_type": "stream",
     "text": [
      "100%|██████████| 48/48 [00:20<00:00,  2.29it/s]\n"
     ]
    },
    {
     "name": "stdout",
     "output_type": "stream",
     "text": [
      "Epoch 360 loss: 0.9211535082819561, loss_t2i: 1.1271782208156462, loss_mmu: 0.09705463346714775\n",
      "  Token-Norm: 106.56974029541016\n",
      "  index_no_updates-Token-Norm: 475.90191650390625\n",
      "  LM-Head-Weight-Norm: 23.687379837036133\n",
      "  index_no_updates-LM-Head-Weight-Norm: 636.0464477539062\n",
      "  LM-Head-Bias-Norm: 2.3966264724731445\n",
      "  index_no_updates-LM-Head-Bias-Norm: 200.17538452148438\n",
      "Epoch 361\n"
     ]
    },
    {
     "name": "stderr",
     "output_type": "stream",
     "text": [
      "100%|██████████| 48/48 [00:21<00:00,  2.28it/s]\n"
     ]
    },
    {
     "name": "stdout",
     "output_type": "stream",
     "text": [
      "Epoch 361 loss: 0.6360870780578504, loss_t2i: 0.7731530392387261, loss_mmu: 0.08782316755969077\n",
      "  Token-Norm: 106.6534423828125\n",
      "  index_no_updates-Token-Norm: 475.90191650390625\n",
      "  LM-Head-Weight-Norm: 23.606611251831055\n",
      "  index_no_updates-LM-Head-Weight-Norm: 636.0464477539062\n",
      "  LM-Head-Bias-Norm: 2.4081332683563232\n",
      "  index_no_updates-LM-Head-Bias-Norm: 200.17538452148438\n",
      "Epoch 362\n"
     ]
    },
    {
     "name": "stderr",
     "output_type": "stream",
     "text": [
      "100%|██████████| 48/48 [00:21<00:00,  2.28it/s]\n"
     ]
    },
    {
     "name": "stdout",
     "output_type": "stream",
     "text": [
      "Epoch 362 loss: 0.4950918769463897, loss_t2i: 0.601647608137379, loss_mmu: 0.06886890286114067\n",
      "  Token-Norm: 106.42707061767578\n",
      "  index_no_updates-Token-Norm: 475.90191650390625\n",
      "  LM-Head-Weight-Norm: 23.496864318847656\n",
      "  index_no_updates-LM-Head-Weight-Norm: 636.0464477539062\n",
      "  LM-Head-Bias-Norm: 2.3973662853240967\n",
      "  index_no_updates-LM-Head-Bias-Norm: 200.17538452148438\n",
      "Epoch 363\n"
     ]
    },
    {
     "name": "stderr",
     "output_type": "stream",
     "text": [
      "100%|██████████| 48/48 [00:21<00:00,  2.28it/s]\n"
     ]
    },
    {
     "name": "stdout",
     "output_type": "stream",
     "text": [
      "Epoch 363 loss: 0.6117841186933219, loss_t2i: 0.7459861264020825, loss_mmu: 0.07497599946024518\n",
      "  Token-Norm: 106.68119049072266\n",
      "  index_no_updates-Token-Norm: 475.90191650390625\n",
      "  LM-Head-Weight-Norm: 23.386207580566406\n",
      "  index_no_updates-LM-Head-Weight-Norm: 636.0464477539062\n",
      "  LM-Head-Bias-Norm: 2.386087417602539\n",
      "  index_no_updates-LM-Head-Bias-Norm: 200.17538452148438\n",
      "Epoch 364\n"
     ]
    },
    {
     "name": "stderr",
     "output_type": "stream",
     "text": [
      "100%|██████████| 48/48 [00:21<00:00,  2.28it/s]\n"
     ]
    },
    {
     "name": "stdout",
     "output_type": "stream",
     "text": [
      "Epoch 364 loss: 0.4827976317998643, loss_t2i: 0.5853620873143276, loss_mmu: 0.07253977664125462\n",
      "  Token-Norm: 106.36456298828125\n",
      "  index_no_updates-Token-Norm: 475.90191650390625\n",
      "  LM-Head-Weight-Norm: 23.276226043701172\n",
      "  index_no_updates-LM-Head-Weight-Norm: 636.0464477539062\n",
      "  LM-Head-Bias-Norm: 2.3748836517333984\n",
      "  index_no_updates-LM-Head-Bias-Norm: 200.17538452148438\n",
      "Epoch 365\n"
     ]
    },
    {
     "name": "stderr",
     "output_type": "stream",
     "text": [
      "100%|██████████| 48/48 [00:21<00:00,  2.28it/s]\n"
     ]
    },
    {
     "name": "stdout",
     "output_type": "stream",
     "text": [
      "Epoch 365 loss: 0.5631703103426844, loss_t2i: 0.6718214203914007, loss_mmu: 0.12856582874276987\n",
      "  Token-Norm: 106.41033935546875\n",
      "  index_no_updates-Token-Norm: 475.90191650390625\n",
      "  LM-Head-Weight-Norm: 23.166419982910156\n",
      "  index_no_updates-LM-Head-Weight-Norm: 636.0464477539062\n",
      "  LM-Head-Bias-Norm: 2.3636951446533203\n",
      "  index_no_updates-LM-Head-Bias-Norm: 200.17538452148438\n",
      "Epoch 366\n"
     ]
    },
    {
     "name": "stderr",
     "output_type": "stream",
     "text": [
      "100%|██████████| 48/48 [00:20<00:00,  2.29it/s]\n"
     ]
    },
    {
     "name": "stdout",
     "output_type": "stream",
     "text": [
      "Epoch 366 loss: 0.5366422199488928, loss_t2i: 0.6338629516152045, loss_mmu: 0.14775921353915086\n",
      "  Token-Norm: 106.65108489990234\n",
      "  index_no_updates-Token-Norm: 475.90191650390625\n",
      "  LM-Head-Weight-Norm: 23.05959129333496\n",
      "  index_no_updates-LM-Head-Weight-Norm: 636.0464477539062\n",
      "  LM-Head-Bias-Norm: 2.3569672107696533\n",
      "  index_no_updates-LM-Head-Bias-Norm: 200.17538452148438\n",
      "Epoch 367\n"
     ]
    },
    {
     "name": "stderr",
     "output_type": "stream",
     "text": [
      "100%|██████████| 48/48 [00:20<00:00,  2.29it/s]\n"
     ]
    },
    {
     "name": "stdout",
     "output_type": "stream",
     "text": [
      "Epoch 367 loss: 0.9259689468890429, loss_t2i: 1.074710681879272, loss_mmu: 0.3310018948589762\n",
      "  Token-Norm: 108.17243194580078\n",
      "  index_no_updates-Token-Norm: 475.90191650390625\n",
      "  LM-Head-Weight-Norm: 23.190692901611328\n",
      "  index_no_updates-LM-Head-Weight-Norm: 636.0464477539062\n",
      "  LM-Head-Bias-Norm: 2.368460178375244\n",
      "  index_no_updates-LM-Head-Bias-Norm: 200.17538452148438\n",
      "Epoch 368\n"
     ]
    },
    {
     "name": "stderr",
     "output_type": "stream",
     "text": [
      "100%|██████████| 48/48 [00:20<00:00,  2.29it/s]\n"
     ]
    },
    {
     "name": "stdout",
     "output_type": "stream",
     "text": [
      "Epoch 368 loss: 0.8375581859921416, loss_t2i: 0.9233420618499318, loss_mmu: 0.49442260805517435\n",
      "  Token-Norm: 110.49040985107422\n",
      "  index_no_updates-Token-Norm: 475.90191650390625\n",
      "  LM-Head-Weight-Norm: 23.09375\n",
      "  index_no_updates-LM-Head-Weight-Norm: 636.0464477539062\n",
      "  LM-Head-Bias-Norm: 2.3599374294281006\n",
      "  index_no_updates-LM-Head-Bias-Norm: 200.17538452148438\n",
      "Epoch 369\n"
     ]
    },
    {
     "name": "stderr",
     "output_type": "stream",
     "text": [
      "100%|██████████| 48/48 [00:21<00:00,  2.29it/s]\n"
     ]
    },
    {
     "name": "stdout",
     "output_type": "stream",
     "text": [
      "Epoch 369 loss: 0.9168650999975702, loss_t2i: 1.0538140437565744, loss_mmu: 0.3690691921704759\n",
      "  Token-Norm: 111.72830963134766\n",
      "  index_no_updates-Token-Norm: 475.90191650390625\n",
      "  LM-Head-Weight-Norm: 22.984661102294922\n",
      "  index_no_updates-LM-Head-Weight-Norm: 636.0464477539062\n",
      "  LM-Head-Bias-Norm: 2.348828077316284\n",
      "  index_no_updates-LM-Head-Bias-Norm: 200.17538452148438\n",
      "Epoch 370\n"
     ]
    },
    {
     "name": "stderr",
     "output_type": "stream",
     "text": [
      "100%|██████████| 48/48 [00:20<00:00,  2.29it/s]\n"
     ]
    },
    {
     "name": "stdout",
     "output_type": "stream",
     "text": [
      "Epoch 370 loss: 0.7695521297864616, loss_t2i: 0.9115729813929647, loss_mmu: 0.2014686493203044\n",
      "  Token-Norm: 111.79056549072266\n",
      "  index_no_updates-Token-Norm: 475.90191650390625\n",
      "  LM-Head-Weight-Norm: 22.876991271972656\n",
      "  index_no_updates-LM-Head-Weight-Norm: 636.0464477539062\n",
      "  LM-Head-Bias-Norm: 2.337800979614258\n",
      "  index_no_updates-LM-Head-Bias-Norm: 200.17538452148438\n",
      "Epoch 371\n"
     ]
    },
    {
     "name": "stderr",
     "output_type": "stream",
     "text": [
      "100%|██████████| 48/48 [00:21<00:00,  2.29it/s]\n"
     ]
    },
    {
     "name": "stdout",
     "output_type": "stream",
     "text": [
      "Epoch 371 loss: 0.6225811696300904, loss_t2i: 0.7452163653215393, loss_mmu: 0.1320403286954388\n",
      "  Token-Norm: 111.55982208251953\n",
      "  index_no_updates-Token-Norm: 475.90191650390625\n",
      "  LM-Head-Weight-Norm: 22.770912170410156\n",
      "  index_no_updates-LM-Head-Weight-Norm: 636.0464477539062\n",
      "  LM-Head-Bias-Norm: 2.3262646198272705\n",
      "  index_no_updates-LM-Head-Bias-Norm: 200.17538452148438\n",
      "Epoch 372\n"
     ]
    },
    {
     "name": "stderr",
     "output_type": "stream",
     "text": [
      "100%|██████████| 48/48 [00:20<00:00,  2.29it/s]\n"
     ]
    },
    {
     "name": "stdout",
     "output_type": "stream",
     "text": [
      "Epoch 372 loss: 0.7346945330500603, loss_t2i: 0.8946543997929742, loss_mmu: 0.09485496790148318\n",
      "  Token-Norm: 111.2039794921875\n",
      "  index_no_updates-Token-Norm: 475.90191650390625\n",
      "  LM-Head-Weight-Norm: 22.66329574584961\n",
      "  index_no_updates-LM-Head-Weight-Norm: 636.0464477539062\n",
      "  LM-Head-Bias-Norm: 2.3152666091918945\n",
      "  index_no_updates-LM-Head-Bias-Norm: 200.17538452148438\n",
      "Epoch 373\n"
     ]
    },
    {
     "name": "stderr",
     "output_type": "stream",
     "text": [
      "100%|██████████| 48/48 [00:20<00:00,  2.29it/s]\n"
     ]
    },
    {
     "name": "stdout",
     "output_type": "stream",
     "text": [
      "Epoch 373 loss: 0.6059329276904464, loss_t2i: 0.7358478227785478, loss_mmu: 0.08627328051564594\n",
      "  Token-Norm: 110.89285278320312\n",
      "  index_no_updates-Token-Norm: 475.90191650390625\n",
      "  LM-Head-Weight-Norm: 22.556156158447266\n",
      "  index_no_updates-LM-Head-Weight-Norm: 636.0464477539062\n",
      "  LM-Head-Bias-Norm: 2.3043289184570312\n",
      "  index_no_updates-LM-Head-Bias-Norm: 200.17538452148438\n",
      "Epoch 374\n"
     ]
    },
    {
     "name": "stderr",
     "output_type": "stream",
     "text": [
      "100%|██████████| 48/48 [00:20<00:00,  2.29it/s]\n"
     ]
    },
    {
     "name": "stdout",
     "output_type": "stream",
     "text": [
      "Epoch 374 loss: 0.502466787196075, loss_t2i: 0.6140646095154807, loss_mmu: 0.05607544529872636\n",
      "  Token-Norm: 110.54452514648438\n",
      "  index_no_updates-Token-Norm: 475.90191650390625\n",
      "  LM-Head-Weight-Norm: 22.44938850402832\n",
      "  index_no_updates-LM-Head-Weight-Norm: 636.0464477539062\n",
      "  LM-Head-Bias-Norm: 2.293414354324341\n",
      "  index_no_updates-LM-Head-Bias-Norm: 200.17538452148438\n",
      "Epoch 375\n"
     ]
    },
    {
     "name": "stderr",
     "output_type": "stream",
     "text": [
      "100%|██████████| 48/48 [00:21<00:00,  2.27it/s]\n"
     ]
    },
    {
     "name": "stdout",
     "output_type": "stream",
     "text": [
      "Epoch 375 loss: 0.5323319438224038, loss_t2i: 0.6411651829257607, loss_mmu: 0.0969989401443551\n",
      "  Token-Norm: 110.41227722167969\n",
      "  index_no_updates-Token-Norm: 475.90191650390625\n",
      "  LM-Head-Weight-Norm: 22.34329605102539\n",
      "  index_no_updates-LM-Head-Weight-Norm: 636.0464477539062\n",
      "  LM-Head-Bias-Norm: 2.2826039791107178\n",
      "  index_no_updates-LM-Head-Bias-Norm: 200.17538452148438\n",
      "Epoch 376\n"
     ]
    },
    {
     "name": "stderr",
     "output_type": "stream",
     "text": [
      "100%|██████████| 48/48 [00:21<00:00,  2.28it/s]\n"
     ]
    },
    {
     "name": "stdout",
     "output_type": "stream",
     "text": [
      "Epoch 376 loss: 0.5980152968550101, loss_t2i: 0.7295554948116963, loss_mmu: 0.07185445174885292\n",
      "  Token-Norm: 110.08990478515625\n",
      "  index_no_updates-Token-Norm: 475.90191650390625\n",
      "  LM-Head-Weight-Norm: 22.242841720581055\n",
      "  index_no_updates-LM-Head-Weight-Norm: 636.0464477539062\n",
      "  LM-Head-Bias-Norm: 2.2705936431884766\n",
      "  index_no_updates-LM-Head-Bias-Norm: 200.17538452148438\n",
      "Epoch 377\n"
     ]
    },
    {
     "name": "stderr",
     "output_type": "stream",
     "text": [
      "100%|██████████| 48/48 [00:21<00:00,  2.29it/s]\n"
     ]
    },
    {
     "name": "stdout",
     "output_type": "stream",
     "text": [
      "Epoch 377 loss: 0.8684215375687927, loss_t2i: 1.0520121667068452, loss_mmu: 0.13405891372046122\n",
      "  Token-Norm: 110.02300262451172\n",
      "  index_no_updates-Token-Norm: 475.90191650390625\n",
      "  LM-Head-Weight-Norm: 22.138389587402344\n",
      "  index_no_updates-LM-Head-Weight-Norm: 636.0464477539062\n",
      "  LM-Head-Bias-Norm: 2.259883403778076\n",
      "  index_no_updates-LM-Head-Bias-Norm: 200.17538452148438\n",
      "Epoch 378\n"
     ]
    },
    {
     "name": "stderr",
     "output_type": "stream",
     "text": [
      "100%|██████████| 48/48 [00:20<00:00,  2.30it/s]\n"
     ]
    },
    {
     "name": "stdout",
     "output_type": "stream",
     "text": [
      "Epoch 378 loss: 0.4326389562726642, loss_t2i: 0.522078134235926, loss_mmu: 0.07488221232779324\n",
      "  Token-Norm: 109.88758850097656\n",
      "  index_no_updates-Token-Norm: 475.90191650390625\n",
      "  LM-Head-Weight-Norm: 22.033964157104492\n",
      "  index_no_updates-LM-Head-Weight-Norm: 636.0464477539062\n",
      "  LM-Head-Bias-Norm: 2.24922513961792\n",
      "  index_no_updates-LM-Head-Bias-Norm: 200.17538452148438\n",
      "Epoch 379\n"
     ]
    },
    {
     "name": "stderr",
     "output_type": "stream",
     "text": [
      "100%|██████████| 48/48 [00:21<00:00,  2.29it/s]\n"
     ]
    },
    {
     "name": "stdout",
     "output_type": "stream",
     "text": [
      "Epoch 379 loss: 0.5859394127813479, loss_t2i: 0.7107148211604605, loss_mmu: 0.08683773735538125\n",
      "  Token-Norm: 109.68292999267578\n",
      "  index_no_updates-Token-Norm: 475.90191650390625\n",
      "  LM-Head-Weight-Norm: 21.930091857910156\n",
      "  index_no_updates-LM-Head-Weight-Norm: 636.0464477539062\n",
      "  LM-Head-Bias-Norm: 2.2386691570281982\n",
      "  index_no_updates-LM-Head-Bias-Norm: 200.17538452148438\n",
      "Epoch 380\n"
     ]
    },
    {
     "name": "stderr",
     "output_type": "stream",
     "text": [
      "100%|██████████| 48/48 [00:20<00:00,  2.30it/s]"
     ]
    }
   ],
   "source": [
    "model.output_size = new_total_vocab\n",
    "save_path = os.path.join(\"saves\", concept, \"lora_merged_qvfc1fc2\")\n",
    "os.makedirs(save_path, exist_ok=True)\n",
    "for epoch in range(0, 500):\n",
    "    print(f\"Epoch {epoch+1}\")\n",
    "    loss_list = []\n",
    "    loss_t2i_list = []\n",
    "    loss_mmu_list = []\n",
    "    for batch, batch_idx, dataloader_idx in tqdm(list_combined_dataloader):\n",
    "        batch_size_mmu = batch[\"mmu_flow\"][\"images\"].shape[0]\n",
    "        batch_size_t2i = batch[\"t2i_flow\"][\"images\"].shape[0]\n",
    "        \n",
    "        # t2i format\n",
    "        pixel_values, texts = batch[\"t2i_flow\"][\"images\"], batch[\"t2i_flow\"][\"conditions\"]\n",
    "        pixel_values = pixel_values.to(device)\n",
    "        input_ids, labels, mask_prob, image_tokens_ori = prepare_inputs_and_labels(pixel_values, texts, is_train=True)\n",
    "        attention_mask = create_attention_mask_predict_next(input_ids,\n",
    "                                                                pad_id=int(uni_prompting.sptids_dict['<|pad|>']),\n",
    "                                                                soi_id=int(uni_prompting.sptids_dict['<|soi|>']),\n",
    "                                                                eoi_id=int(uni_prompting.sptids_dict['<|eoi|>']),\n",
    "                                                                rm_pad_in_image=True,\n",
    "                                                                return_inverse_mask=True)\n",
    "        attention_mask = attention_mask.to(mask_dtype)\n",
    "        # 美国队长的盾牌\n",
    "        \n",
    "        # mmu format\n",
    "        pixel_values_mmu, input_ids_mmu, labels_mmu = (batch[\"mmu_flow\"][\"images\"],\n",
    "                                                      batch[\"mmu_flow\"][\"input_ids\"],\n",
    "                                                      batch[\"mmu_flow\"][\"labels\"])\n",
    "        pixel_values_mmu = pixel_values_mmu.to(device, non_blocking=True)\n",
    "        input_ids_mmu = input_ids_mmu.to(device, non_blocking=True)\n",
    "        image_tokens_mmu = vq_model.get_code(pixel_values_mmu)\n",
    "        image_tokens_mmu = image_tokens_mmu + len(uni_prompting.text_tokenizer)\n",
    "        \n",
    "        input_ids_mmu = torch.cat([\n",
    "                    (torch.ones(input_ids_mmu.shape[0], 1) * uni_prompting.sptids_dict['<|mmu|>']).to(\n",
    "                        device),\n",
    "                    (torch.ones(input_ids_mmu.shape[0], 1) * uni_prompting.sptids_dict['<|soi|>']).to(\n",
    "                        device),\n",
    "                    image_tokens_mmu,\n",
    "                    (torch.ones(input_ids_mmu.shape[0], 1) * uni_prompting.sptids_dict['<|eoi|>']).to(\n",
    "                        device),\n",
    "                    input_ids_mmu,\n",
    "                ], dim=1).long()\n",
    "\n",
    "        labels_mmu = torch.cat([\n",
    "                    (torch.ones(input_ids_mmu.shape[0], 1) * uni_prompting.ignore_id).to(device),\n",
    "                    (torch.ones(input_ids_mmu.shape[0], 1) * uni_prompting.ignore_id).to(device),\n",
    "                    torch.ones_like(image_tokens_mmu) * uni_prompting.ignore_id,\n",
    "                    (torch.ones(input_ids_mmu.shape[0], 1) * uni_prompting.ignore_id).to(device),\n",
    "                    labels_mmu.to(device)\n",
    "                ], dim=1).long()\n",
    "        \n",
    "        \n",
    "        attention_mask_mmu = create_attention_mask_for_mmu(input_ids_mmu.to(input_ids.device),\n",
    "                                                               eoi_id=int(uni_prompting.sptids_dict['<|eoi|>']))\n",
    "        attention_mask_mmu = attention_mask_mmu.to(mask_dtype)\n",
    "        attention_mask = torch.cat([attention_mask, attention_mask_mmu], dim=0)\n",
    "        input_ids = torch.cat((input_ids, input_ids_mmu.to(input_ids.device)), dim=0)\n",
    "        labels = torch.cat((labels, labels_mmu.to(input_ids.device)), dim=0)\n",
    "        \n",
    "        optimizer.zero_grad()\n",
    "        \n",
    "        logits, loss_t2i, loss_lm, loss_mmu = model(\n",
    "                    input_ids=input_ids,\n",
    "                    input_embeddings=None,\n",
    "                    attention_mask=attention_mask,\n",
    "                    labels=labels,\n",
    "                    label_smoothing=0.0,\n",
    "                    batch_size_t2i=batch_size_t2i,\n",
    "                    batch_size_lm=0,\n",
    "                    batch_size_mmu=batch_size_mmu,\n",
    "                    max_seq_length=128,\n",
    "                )\n",
    "        loss = 0.8 * loss_t2i + 0.2 * loss_mmu\n",
    "        # loss = loss_t2i\n",
    "        loss.backward()\n",
    "        optimizer.step()\n",
    "        loss_list.append(loss.item())\n",
    "        loss_t2i_list.append(loss_t2i.item())\n",
    "        loss_mmu_list.append(loss_mmu.item())\n",
    "        # tqdm.set_postfix(loss=loss.item(), loss_t2i=loss_t2i.item(), loss_mmu=loss_mmu.item())\n",
    "        # tqdm.write(f\"loss: {loss.item()}, loss_t2i: {loss_t2i.item()}, loss_mmu: {loss_mmu.item()}\")\n",
    "        # 恢复原始权重\n",
    "        with torch.no_grad():\n",
    "            model.showo.get_input_embeddings().weight.data[index_no_updates] = orig_embeds[index_no_updates]\n",
    "            model.showo.lm_head.weight.data[index_no_updates] = orig_lm_head_weight[index_no_updates]\n",
    "            model.showo.lm_head.bias.data[index_no_updates] = orig_lm_head_bias[index_no_updates]\n",
    "    print(f\"Epoch {epoch+1} loss: {np.mean(loss_list)}, loss_t2i: {np.mean(loss_t2i_list)}, loss_mmu: {np.mean(loss_mmu_list)}\")\n",
    "    print(f\"  Token-Norm: {model.showo.get_input_embeddings().weight[new_token_ids].norm().item()}\")\n",
    "    print(f\"  index_no_updates-Token-Norm: {model.showo.get_input_embeddings().weight[index_no_updates].norm().item()}\")\n",
    "    print(f\"  LM-Head-Weight-Norm: {model.showo.lm_head.weight[new_token_ids].norm().item()}\")\n",
    "    print(f\"  index_no_updates-LM-Head-Weight-Norm: {model.showo.lm_head.weight[index_no_updates].norm().item()}\")\n",
    "    print(f\"  LM-Head-Bias-Norm: {model.showo.lm_head.bias[new_token_ids].norm().item()}\")\n",
    "    print(f\"  index_no_updates-LM-Head-Bias-Norm: {model.showo.lm_head.bias[index_no_updates].norm().item()}\")\n",
    "    \n",
    "    \n",
    "    # print(f\"Epoch {epoch} loss: {np.mean(loss_list)}, loss_t2i: {np.mean(loss_t2i_list)}\")\n",
    "    if (epoch+1) % 10 == 0:\n",
    "        save_path_embed = os.path.join(save_path, f\"epoch_{epoch+1}_embed.pt\")\n",
    "        save_path_lm_head_weight = os.path.join(save_path, f\"epoch_{epoch+1}_lm_head_weight.pt\")\n",
    "        save_path_lm_head_bias = os.path.join(save_path, f\"epoch_{epoch+1}_lm_head_bias.pt\")\n",
    "        \n",
    "        torch.save(model.showo.get_input_embeddings().weight.data[new_token_ids], save_path_embed)\n",
    "        torch.save(model.showo.lm_head.weight.data[new_token_ids], save_path_lm_head_weight)\n",
    "        torch.save(model.showo.lm_head.bias.data[new_token_ids], save_path_lm_head_bias)\n",
    "        model.showo.save_pretrained(os.path.join(save_path, f\"epoch_{epoch+1}_lora_model\"))\n",
    "        "
   ]
  },
  {
   "cell_type": "code",
   "execution_count": null,
   "metadata": {},
   "outputs": [],
   "source": []
  }
 ],
 "metadata": {
  "kernelspec": {
   "display_name": "showo",
   "language": "python",
   "name": "python3"
  },
  "language_info": {
   "codemirror_mode": {
    "name": "ipython",
    "version": 3
   },
   "file_extension": ".py",
   "mimetype": "text/x-python",
   "name": "python",
   "nbconvert_exporter": "python",
   "pygments_lexer": "ipython3",
   "version": "3.10.16"
  }
 },
 "nbformat": 4,
 "nbformat_minor": 2
}
